{
 "cells": [
  {
   "cell_type": "code",
   "execution_count": 3,
   "id": "67bf97ff",
   "metadata": {},
   "outputs": [],
   "source": [
    "import pandas as pd\n",
    "import numpy as np\n",
    "import subprocess\n",
    "import seaborn as sns\n",
    "import io\n",
    "import os\n",
    "import pandas as pd\n",
    "import glob\n",
    "\n",
    "def read_vcf(path):\n",
    "    with open(path, 'r') as f:\n",
    "        lines = [l for l in f if not l.startswith('##')]\n",
    "    return pd.read_csv(\n",
    "        io.StringIO(''.join(lines)),\n",
    "        dtype={'#CHROM': str, 'POS': int, 'ID': str, 'REF': str, 'ALT': str,\n",
    "               'QUAL': str, 'FILTER': str, 'INFO': str},\n",
    "        sep='\\t'\n",
    "    ).rename(columns={'#CHROM': 'CHROM'})"
   ]
  },
  {
   "cell_type": "code",
   "execution_count": 4,
   "id": "79d2e39f",
   "metadata": {},
   "outputs": [],
   "source": [
    "metadata = pd.read_csv(\"../hifi_metadata.csv\")"
   ]
  },
  {
   "cell_type": "code",
   "execution_count": 23,
   "id": "73bc9587",
   "metadata": {},
   "outputs": [
    {
     "name": "stdout",
     "output_type": "stream",
     "text": [
      "Submitted batch job 5178029\n",
      "Submitted batch job 5178030\n",
      "Submitted batch job 5178031\n",
      "Submitted batch job 5178032\n",
      "Submitted batch job 5178033\n",
      "Submitted batch job 5178034\n"
     ]
    }
   ],
   "source": [
    "for i in metadata[\"Baums_db_id\"].tolist():\n",
    "    task = \"longphase_modcall\"\n",
    "    mem = \"128\"\n",
    "    cpus = \"20\"\n",
    "    inpath = '/storage/home/nsl5160/scratch/darpa/mapped'\n",
    "    outpath = '../calls'\n",
    "    prefix = str(i)\n",
    "    subprocess.run([\"sbatch --mem=\" + mem + \"g --ntasks=\" + \n",
    "         cpus + \" ../\" + task + \".sh \" + \n",
    "         inpath + \" \" + outpath + \" \" + prefix], shell=True)"
   ]
  },
  {
   "cell_type": "code",
   "execution_count": 5,
   "id": "108c4363",
   "metadata": {},
   "outputs": [],
   "source": [
    "alphabet = [chr(x) for x in range(97, 123)]\n",
    "chunks = [letter1+letter2 for letter1 in alphabet for letter2 in alphabet][0:78]"
   ]
  },
  {
   "cell_type": "code",
   "execution_count": 8,
   "id": "c8c898d1",
   "metadata": {
    "scrolled": true
   },
   "outputs": [
    {
     "name": "stdout",
     "output_type": "stream",
     "text": [
      "Submitted batch job 5273824\n",
      "Submitted batch job 5273825\n",
      "Submitted batch job 5273826\n",
      "Submitted batch job 5273827\n",
      "Submitted batch job 5273828\n",
      "Submitted batch job 5273829\n",
      "Submitted batch job 5273830\n",
      "Submitted batch job 5273831\n",
      "Submitted batch job 5273832\n",
      "Submitted batch job 5273833\n",
      "Submitted batch job 5273834\n",
      "Submitted batch job 5273835\n",
      "Submitted batch job 5273836\n",
      "Submitted batch job 5273837\n",
      "Submitted batch job 5273838\n",
      "Submitted batch job 5273839\n",
      "Submitted batch job 5273840\n",
      "Submitted batch job 5273841\n",
      "Submitted batch job 5273842\n",
      "Submitted batch job 5273843\n",
      "Submitted batch job 5273844\n",
      "Submitted batch job 5273845\n",
      "Submitted batch job 5273846\n",
      "Submitted batch job 5273847\n",
      "Submitted batch job 5273848\n",
      "Submitted batch job 5273849\n",
      "Submitted batch job 5273850\n",
      "Submitted batch job 5273851\n",
      "Submitted batch job 5273852\n",
      "Submitted batch job 5273853\n",
      "Submitted batch job 5273854\n",
      "Submitted batch job 5273855\n",
      "Submitted batch job 5273856\n",
      "Submitted batch job 5273857\n",
      "Submitted batch job 5273858\n",
      "Submitted batch job 5273859\n",
      "Submitted batch job 5273860\n",
      "Submitted batch job 5273861\n",
      "Submitted batch job 5273863\n",
      "Submitted batch job 5273865\n",
      "Submitted batch job 5273867\n",
      "Submitted batch job 5273869\n",
      "Submitted batch job 5273871\n",
      "Submitted batch job 5273873\n",
      "Submitted batch job 5273875\n",
      "Submitted batch job 5273877\n",
      "Submitted batch job 5273879\n",
      "Submitted batch job 5273881\n",
      "Submitted batch job 5273883\n",
      "Submitted batch job 5273885\n",
      "Submitted batch job 5273887\n",
      "Submitted batch job 5273889\n",
      "Submitted batch job 5273891\n",
      "Submitted batch job 5273893\n",
      "Submitted batch job 5273895\n",
      "Submitted batch job 5273897\n",
      "Submitted batch job 5273899\n",
      "Submitted batch job 5273901\n",
      "Submitted batch job 5273903\n",
      "Submitted batch job 5273905\n",
      "Submitted batch job 5273907\n",
      "Submitted batch job 5273909\n",
      "Submitted batch job 5273911\n",
      "Submitted batch job 5273912\n",
      "Submitted batch job 5273913\n",
      "Submitted batch job 5273914\n",
      "Submitted batch job 5273915\n",
      "Submitted batch job 5273916\n",
      "Submitted batch job 5273917\n",
      "Submitted batch job 5273918\n",
      "Submitted batch job 5273919\n",
      "Submitted batch job 5273920\n",
      "Submitted batch job 5273921\n",
      "Submitted batch job 5273922\n",
      "Submitted batch job 5273923\n",
      "Submitted batch job 5273924\n",
      "Submitted batch job 5273925\n",
      "Submitted batch job 5273926\n"
     ]
    }
   ],
   "source": [
    "for i in chunks:\n",
    "    task = \"bcftools_call_var_ccs\"\n",
    "    mem = \"32\"\n",
    "    cpus = \"4\"\n",
    "    chunk = i\n",
    "    bampath = '../apal_imputation_bam_hifi.list'\n",
    "    outpath = \"/storage/group/ibb3/default/darpa/calls/\"\n",
    "    subprocess.run([\"sbatch --mem=\" + mem + \"g --ntasks=\" + \n",
    "         cpus + \" ../\" + task + \".sh \" + \n",
    "         outpath + \" \" + bampath + \" \" + chunk], shell=True)"
   ]
  },
  {
   "cell_type": "code",
   "execution_count": 9,
   "id": "9a05e03a",
   "metadata": {},
   "outputs": [
    {
     "name": "stdout",
     "output_type": "stream",
     "text": [
      "ERROR: This cross-compiler package contains no program /storage/group/ibb3/default/.conda/envs/ipyrad/bin/x86_64-conda_cos6-linux-gnu-cc\n",
      "ERROR: activate-gcc_linux-64.sh failed, see above for details\n"
     ]
    }
   ],
   "source": [
    "%%bash\n",
    "source ~/.bashrc\n",
    "conda activate ipyrad\n",
    "bcftools concat ../calls/apal_imputation_panel_hifi_part_??.vcf \\\n",
    "    -O z > ../calls/apal_imputation_panel_hifi.vcf.gz"
   ]
  },
  {
   "cell_type": "code",
   "execution_count": 37,
   "id": "982bd0dc",
   "metadata": {},
   "outputs": [],
   "source": [
    "%%bash\n",
    "for i in 20148 20151 20153 20154 20155 20156; do\n",
    "    echo -e \"/storage/home/nsl5160/scratch/darpa/mapped/${i}.bam\\t${i}\" >> ../hifi_header.txt\n",
    "done"
   ]
  },
  {
   "cell_type": "code",
   "execution_count": 10,
   "id": "a8348955",
   "metadata": {},
   "outputs": [
    {
     "name": "stdout",
     "output_type": "stream",
     "text": [
      "ERROR: This cross-compiler package contains no program /storage/group/ibb3/default/.conda/envs/ipyrad/bin/x86_64-conda_cos6-linux-gnu-cc\n",
      "ERROR: activate-gcc_linux-64.sh failed, see above for details\n"
     ]
    }
   ],
   "source": [
    "%%bash\n",
    "source ~/.bashrc\n",
    "conda activate ipyrad\n",
    "bcftools reheader --threads 8 --samples ../hifi_header.txt \\\n",
    "    ../calls/apal_imputation_panel_hifi.vcf.gz \\\n",
    "    > ../calls/apal_imputation_panel_hifi_reheader.vcf.gz"
   ]
  },
  {
   "cell_type": "code",
   "execution_count": 11,
   "id": "01f8db50",
   "metadata": {},
   "outputs": [
    {
     "name": "stdout",
     "output_type": "stream",
     "text": [
      "ERROR: This cross-compiler package contains no program /storage/group/ibb3/default/.conda/envs/ipyrad/bin/x86_64-conda_cos6-linux-gnu-cc\n",
      "ERROR: activate-gcc_linux-64.sh failed, see above for details\n"
     ]
    }
   ],
   "source": [
    "%%bash\n",
    "source ~/.bashrc\n",
    "conda activate ipyrad\n",
    "bcftools index ../calls/apal_imputation_panel_hifi_reheader.vcf.gz"
   ]
  },
  {
   "cell_type": "code",
   "execution_count": 45,
   "id": "f919817e",
   "metadata": {
    "scrolled": true
   },
   "outputs": [
    {
     "name": "stdout",
     "output_type": "stream",
     "text": [
      "ERROR: This cross-compiler package contains no program /storage/group/ibb3/default/.conda/envs/ipyrad/bin/x86_64-conda_cos6-linux-gnu-cc\n",
      "ERROR: activate-gcc_linux-64.sh failed, see above for details\n"
     ]
    },
    {
     "name": "stderr",
     "output_type": "stream",
     "text": [
      "\n",
      "VCFtools - 0.1.16\n",
      "(C) Adam Auton and Anthony Marcketta 2009\n",
      "\n",
      "Parameters as interpreted:\n",
      "\t--gzvcf ../calls/apal_imputation_panel_hifi_reheader.vcf.gz\n",
      "\t--recode-INFO-all\n",
      "\t--minGQ 20\n",
      "\t--minQ 20\n",
      "\t--out ../calls/20148\n",
      "\t--recode\n",
      "\t--indv 20148\n",
      "\n",
      "Using zlib version: 1.2.11\n",
      "Warning: Expected at least 2 parts in INFO entry: ID=SGB,Number=1,Type=Float,Description=\"Segregation based metric, http://samtools.github.io/bcftools/rd-SegBias.pdf\">\n",
      "Warning: Expected at least 2 parts in INFO entry: ID=AC,Number=A,Type=Integer,Description=\"Allele count in genotypes for each ALT allele, in the same order as listed\">\n",
      "Warning: Expected at least 2 parts in INFO entry: ID=DP4,Number=4,Type=Integer,Description=\"Number of high-quality ref-forward , ref-reverse, alt-forward and alt-reverse bases\">\n",
      "Warning: Expected at least 2 parts in INFO entry: ID=DP4,Number=4,Type=Integer,Description=\"Number of high-quality ref-forward , ref-reverse, alt-forward and alt-reverse bases\">\n",
      "Keeping individuals in 'keep' list\n",
      "After filtering, kept 1 out of 6 Individuals\n",
      "Outputting VCF file...\n",
      "After filtering, kept 4531120 out of a possible 4784593 Sites\n",
      "Run Time = 61.00 seconds\n",
      "\n",
      "VCFtools - 0.1.16\n",
      "(C) Adam Auton and Anthony Marcketta 2009\n",
      "\n",
      "Parameters as interpreted:\n",
      "\t--gzvcf ../calls/apal_imputation_panel_hifi_reheader.vcf.gz\n",
      "\t--recode-INFO-all\n",
      "\t--minGQ 20\n",
      "\t--minQ 20\n",
      "\t--out ../calls/20151\n",
      "\t--recode\n",
      "\t--indv 20151\n",
      "\n",
      "Using zlib version: 1.2.11\n",
      "Warning: Expected at least 2 parts in INFO entry: ID=SGB,Number=1,Type=Float,Description=\"Segregation based metric, http://samtools.github.io/bcftools/rd-SegBias.pdf\">\n",
      "Warning: Expected at least 2 parts in INFO entry: ID=AC,Number=A,Type=Integer,Description=\"Allele count in genotypes for each ALT allele, in the same order as listed\">\n",
      "Warning: Expected at least 2 parts in INFO entry: ID=DP4,Number=4,Type=Integer,Description=\"Number of high-quality ref-forward , ref-reverse, alt-forward and alt-reverse bases\">\n",
      "Warning: Expected at least 2 parts in INFO entry: ID=DP4,Number=4,Type=Integer,Description=\"Number of high-quality ref-forward , ref-reverse, alt-forward and alt-reverse bases\">\n",
      "Keeping individuals in 'keep' list\n",
      "After filtering, kept 1 out of 6 Individuals\n",
      "Outputting VCF file...\n",
      "After filtering, kept 4531120 out of a possible 4784593 Sites\n",
      "Run Time = 61.00 seconds\n",
      "\n",
      "VCFtools - 0.1.16\n",
      "(C) Adam Auton and Anthony Marcketta 2009\n",
      "\n",
      "Parameters as interpreted:\n",
      "\t--gzvcf ../calls/apal_imputation_panel_hifi_reheader.vcf.gz\n",
      "\t--recode-INFO-all\n",
      "\t--minGQ 20\n",
      "\t--minQ 20\n",
      "\t--out ../calls/20153\n",
      "\t--recode\n",
      "\t--indv 20153\n",
      "\n",
      "Using zlib version: 1.2.11\n",
      "Warning: Expected at least 2 parts in INFO entry: ID=SGB,Number=1,Type=Float,Description=\"Segregation based metric, http://samtools.github.io/bcftools/rd-SegBias.pdf\">\n",
      "Warning: Expected at least 2 parts in INFO entry: ID=AC,Number=A,Type=Integer,Description=\"Allele count in genotypes for each ALT allele, in the same order as listed\">\n",
      "Warning: Expected at least 2 parts in INFO entry: ID=DP4,Number=4,Type=Integer,Description=\"Number of high-quality ref-forward , ref-reverse, alt-forward and alt-reverse bases\">\n",
      "Warning: Expected at least 2 parts in INFO entry: ID=DP4,Number=4,Type=Integer,Description=\"Number of high-quality ref-forward , ref-reverse, alt-forward and alt-reverse bases\">\n",
      "Keeping individuals in 'keep' list\n",
      "After filtering, kept 1 out of 6 Individuals\n",
      "Outputting VCF file...\n",
      "After filtering, kept 4531120 out of a possible 4784593 Sites\n",
      "Run Time = 60.00 seconds\n",
      "\n",
      "VCFtools - 0.1.16\n",
      "(C) Adam Auton and Anthony Marcketta 2009\n",
      "\n",
      "Parameters as interpreted:\n",
      "\t--gzvcf ../calls/apal_imputation_panel_hifi_reheader.vcf.gz\n",
      "\t--recode-INFO-all\n",
      "\t--minGQ 20\n",
      "\t--minQ 20\n",
      "\t--out ../calls/20154\n",
      "\t--recode\n",
      "\t--indv 20154\n",
      "\n",
      "Using zlib version: 1.2.11\n",
      "Warning: Expected at least 2 parts in INFO entry: ID=SGB,Number=1,Type=Float,Description=\"Segregation based metric, http://samtools.github.io/bcftools/rd-SegBias.pdf\">\n",
      "Warning: Expected at least 2 parts in INFO entry: ID=AC,Number=A,Type=Integer,Description=\"Allele count in genotypes for each ALT allele, in the same order as listed\">\n",
      "Warning: Expected at least 2 parts in INFO entry: ID=DP4,Number=4,Type=Integer,Description=\"Number of high-quality ref-forward , ref-reverse, alt-forward and alt-reverse bases\">\n",
      "Warning: Expected at least 2 parts in INFO entry: ID=DP4,Number=4,Type=Integer,Description=\"Number of high-quality ref-forward , ref-reverse, alt-forward and alt-reverse bases\">\n",
      "Keeping individuals in 'keep' list\n",
      "After filtering, kept 1 out of 6 Individuals\n",
      "Outputting VCF file...\n",
      "After filtering, kept 4531120 out of a possible 4784593 Sites\n",
      "Run Time = 62.00 seconds\n",
      "\n",
      "VCFtools - 0.1.16\n",
      "(C) Adam Auton and Anthony Marcketta 2009\n",
      "\n",
      "Parameters as interpreted:\n",
      "\t--gzvcf ../calls/apal_imputation_panel_hifi_reheader.vcf.gz\n",
      "\t--recode-INFO-all\n",
      "\t--minGQ 20\n",
      "\t--minQ 20\n",
      "\t--out ../calls/20155\n",
      "\t--recode\n",
      "\t--indv 20155\n",
      "\n",
      "Using zlib version: 1.2.11\n",
      "Warning: Expected at least 2 parts in INFO entry: ID=SGB,Number=1,Type=Float,Description=\"Segregation based metric, http://samtools.github.io/bcftools/rd-SegBias.pdf\">\n",
      "Warning: Expected at least 2 parts in INFO entry: ID=AC,Number=A,Type=Integer,Description=\"Allele count in genotypes for each ALT allele, in the same order as listed\">\n",
      "Warning: Expected at least 2 parts in INFO entry: ID=DP4,Number=4,Type=Integer,Description=\"Number of high-quality ref-forward , ref-reverse, alt-forward and alt-reverse bases\">\n",
      "Warning: Expected at least 2 parts in INFO entry: ID=DP4,Number=4,Type=Integer,Description=\"Number of high-quality ref-forward , ref-reverse, alt-forward and alt-reverse bases\">\n",
      "Keeping individuals in 'keep' list\n",
      "After filtering, kept 1 out of 6 Individuals\n",
      "Outputting VCF file...\n",
      "After filtering, kept 4531120 out of a possible 4784593 Sites\n",
      "Run Time = 61.00 seconds\n",
      "\n",
      "VCFtools - 0.1.16\n",
      "(C) Adam Auton and Anthony Marcketta 2009\n",
      "\n",
      "Parameters as interpreted:\n",
      "\t--gzvcf ../calls/apal_imputation_panel_hifi_reheader.vcf.gz\n",
      "\t--recode-INFO-all\n",
      "\t--minGQ 20\n",
      "\t--minQ 20\n",
      "\t--out ../calls/20156\n",
      "\t--recode\n",
      "\t--indv 20156\n",
      "\n",
      "Using zlib version: 1.2.11\n",
      "Warning: Expected at least 2 parts in INFO entry: ID=SGB,Number=1,Type=Float,Description=\"Segregation based metric, http://samtools.github.io/bcftools/rd-SegBias.pdf\">\n",
      "Warning: Expected at least 2 parts in INFO entry: ID=AC,Number=A,Type=Integer,Description=\"Allele count in genotypes for each ALT allele, in the same order as listed\">\n",
      "Warning: Expected at least 2 parts in INFO entry: ID=DP4,Number=4,Type=Integer,Description=\"Number of high-quality ref-forward , ref-reverse, alt-forward and alt-reverse bases\">\n",
      "Warning: Expected at least 2 parts in INFO entry: ID=DP4,Number=4,Type=Integer,Description=\"Number of high-quality ref-forward , ref-reverse, alt-forward and alt-reverse bases\">\n",
      "Keeping individuals in 'keep' list\n",
      "After filtering, kept 1 out of 6 Individuals\n",
      "Outputting VCF file...\n",
      "After filtering, kept 4531120 out of a possible 4784593 Sites\n",
      "Run Time = 61.00 seconds\n"
     ]
    }
   ],
   "source": [
    "%%bash\n",
    "source ~/.bashrc\n",
    "conda activate ipyrad\n",
    "for i in 20148 20151 20153 20154 20155 20156; do\n",
    "    vcftools --gzvcf ../calls/apal_imputation_panel_hifi_reheader.vcf.gz \\\n",
    "        --minGQ 20 --minQ 20 --recode-INFO-all \\\n",
    "        --indv ${i} \\\n",
    "        --recode --out ../calls/${i}\n",
    "done"
   ]
  },
  {
   "cell_type": "code",
   "execution_count": 46,
   "id": "15145f4e",
   "metadata": {},
   "outputs": [
    {
     "name": "stdout",
     "output_type": "stream",
     "text": [
      "Submitted batch job 5182946\n",
      "Submitted batch job 5182947\n",
      "Submitted batch job 5182948\n",
      "Submitted batch job 5182949\n",
      "Submitted batch job 5182950\n",
      "Submitted batch job 5182951\n"
     ]
    }
   ],
   "source": [
    "for i in metadata[\"Baums_db_id\"].tolist():\n",
    "    task = \"longphase_phase\"\n",
    "    mem = \"128\"\n",
    "    cpus = \"20\"\n",
    "    bampath = '/storage/home/nsl5160/scratch/darpa/mapped'\n",
    "    inpath = '../calls'\n",
    "    prefix = str(i)\n",
    "    subprocess.run([\"sbatch --mem=\" + mem + \"g --ntasks=\" + \n",
    "         cpus + \" ../\" + task + \".sh \" + \n",
    "         bampath + \" \" + inpath + \" \" + prefix], shell=True)"
   ]
  },
  {
   "cell_type": "code",
   "execution_count": 47,
   "id": "c0271ecf",
   "metadata": {},
   "outputs": [
    {
     "name": "stdout",
     "output_type": "stream",
     "text": [
      "ERROR: This cross-compiler package contains no program /storage/group/ibb3/default/.conda/envs/ipyrad/bin/x86_64-conda_cos6-linux-gnu-cc\n",
      "ERROR: activate-gcc_linux-64.sh failed, see above for details\n"
     ]
    }
   ],
   "source": [
    "%%bash\n",
    "source ~/.bashrc\n",
    "conda activate ipyrad\n",
    "for i in 20148 20151 20153 20154 20155 20156; do\n",
    "    bgzip ../calls/${i}_phased.vcf\n",
    "    tabix ../calls/${i}_phased.vcf.gz\n",
    "done"
   ]
  },
  {
   "cell_type": "markdown",
   "id": "455ad82b",
   "metadata": {},
   "source": [
    "Lastly, we need to call CNVs so they can be removed from the panel. Could mess up imputation and phasing if we don't remove them:"
   ]
  },
  {
   "cell_type": "code",
   "execution_count": 55,
   "id": "d06ab4b8",
   "metadata": {},
   "outputs": [],
   "source": [
    "%%bash\n",
    "cut -f1-3 \\\n",
    "    /storage/group/ibb3/default/AP_AC_genome_seqs/dovetail_Apalm/HiC_improvement/Apalm_assembly_v3.0_200415.repeats.bed \\\n",
    "    > ../apal_rust_compatible_repeats.bed\n",
    "sed -i \"s/^/Apal_/g\" ../apal_rust_compatible_repeats.bed\n",
    "grep \"^sym\" ../references/apal_and_sym.bed >> ../apal_rust_compatible_repeats.bed"
   ]
  },
  {
   "cell_type": "code",
   "execution_count": 5,
   "id": "d664a000",
   "metadata": {},
   "outputs": [
    {
     "name": "stdout",
     "output_type": "stream",
     "text": [
      "Submitted batch job 5218769\n",
      "Submitted batch job 5218770\n",
      "Submitted batch job 5218771\n",
      "Submitted batch job 5218772\n",
      "Submitted batch job 5218773\n",
      "Submitted batch job 5218774\n"
     ]
    }
   ],
   "source": [
    "for i in metadata[\"Baums_db_id\"].tolist():\n",
    "    task = \"hificnv\"\n",
    "    mem = \"128\"\n",
    "    cpus = \"20\"\n",
    "    bampath = '/storage/home/nsl5160/scratch/darpa/mapped'\n",
    "    outpath = '../calls' \n",
    "    prefix = str(i) \n",
    "    subprocess.run([\"sbatch --mem=\" + mem + \"g --ntasks=\" + \n",
    "         cpus + \" ../\" + task + \".sh \" + \n",
    "         bampath + \" \" + outpath + \" \" + prefix], shell=True)"
   ]
  },
  {
   "cell_type": "code",
   "execution_count": 6,
   "id": "e03f6204",
   "metadata": {},
   "outputs": [
    {
     "name": "stdout",
     "output_type": "stream",
     "text": [
      "ERROR: This cross-compiler package contains no program /storage/group/ibb3/default/.conda/envs/ipyrad/bin/x86_64-conda_cos6-linux-gnu-cc\n",
      "ERROR: activate-gcc_linux-64.sh failed, see above for details\n"
     ]
    }
   ],
   "source": [
    "%%bash\n",
    "source ~/.bashrc\n",
    "conda activate ipyrad\n",
    "cd ../references/\n",
    "bioawk -c fastx '{print $name\"\\t0\\t\"length($seq)}' apal2_and_sym.fa > apal2_and_sym.bed"
   ]
  },
  {
   "cell_type": "code",
   "execution_count": 7,
   "id": "e0d82652",
   "metadata": {},
   "outputs": [],
   "source": [
    "%%bash\n",
    "grep \"^sym\" ../references/apal2_and_sym.bed >> ../apal2_exclude.bed"
   ]
  },
  {
   "cell_type": "code",
   "execution_count": 8,
   "id": "ec2dc0d2",
   "metadata": {},
   "outputs": [
    {
     "name": "stdout",
     "output_type": "stream",
     "text": [
      "Submitted batch job 5218897\n",
      "Submitted batch job 5218898\n",
      "Submitted batch job 5218899\n",
      "Submitted batch job 5218900\n",
      "Submitted batch job 5218901\n",
      "Submitted batch job 5218902\n"
     ]
    }
   ],
   "source": [
    "for i in metadata[\"Baums_db_id\"].tolist():\n",
    "    task = \"hificnv_2\"\n",
    "    mem = \"128\"\n",
    "    cpus = \"20\"\n",
    "    bampath = '/storage/home/nsl5160/scratch/darpa/mapped2'\n",
    "    outpath = '../calls/test' \n",
    "    prefix = str(i)\n",
    "    subprocess.run([\"sbatch --mem=\" + mem + \"g --ntasks=\" + \n",
    "         cpus + \" ../\" + task + \".sh \" + \n",
    "         bampath + \" \" + outpath + \" \" + prefix], shell=True)"
   ]
  },
  {
   "cell_type": "code",
   "execution_count": 90,
   "id": "23456ad7",
   "metadata": {},
   "outputs": [],
   "source": [
    "for i in metadata[\"Baums_db_id\"].tolist():\n",
    "    path = glob.glob(\"../calls/\" + str(i) + \"_hificnv.*.vcf.gz\")\n",
    "    vcf = pd.read_csv(path[0], \n",
    "            compression = \"gzip\", comment = \"#\", header = None, sep = \"\\t\")\n",
    "    vcf = vcf[vcf[5] > 20].reset_index(drop=True)\n",
    "    vcf[\"SVLEN\"] = vcf[7].str.split(\";\", n = 4, expand = True)[3].str.replace(\"SVLEN=\", \"\").astype(int)\n",
    "    vcf[\"END\"] = vcf[1] + vcf[\"SVLEN\"]\n",
    "    vcf = vcf[[0, 1, \"END\"]]\n",
    "    vcf[1] = vcf[1] - 1\n",
    "    vcf[\"END\"] = vcf[\"END\"] - 1\n",
    "    vcf.set_index(0).to_csv(\"../calls/\" + str(i) + \"_hificnv.bed\", sep = \"\\t\", header = None)"
   ]
  },
  {
   "cell_type": "code",
   "execution_count": 111,
   "id": "16ead752",
   "metadata": {},
   "outputs": [
    {
     "data": {
      "text/plain": [
       "CompletedProcess(args=['sort -k1,1 -k2,2n ../references/repeats_and_cnv.bed > ../references/repeats_and_cnv_sorted.bed'], returncode=0)"
      ]
     },
     "execution_count": 111,
     "metadata": {},
     "output_type": "execute_result"
    }
   ],
   "source": [
    "for i in metadata[\"Baums_db_id\"].tolist():\n",
    "    subprocess.run([\"cat ../calls/\" + str(i) \n",
    "          + \"_hificnv.bed >> ../references/repeats_and_cnv.bed\"], shell=True)\n",
    "for i in [\"repeats\"]:\n",
    "    subprocess.run([\"cut -f1-3 ../references/\" + str(i) \n",
    "          + \".bed >> ../references/repeats_and_cnv.bed\"], shell=True)\n",
    "subprocess.run([\"sort -k1,1 -k2,2n ../references/repeats_and_cnv.bed > ../references/repeats_and_cnv_sorted.bed\"], shell=True)"
   ]
  },
  {
   "cell_type": "code",
   "execution_count": 113,
   "id": "045e70c1",
   "metadata": {},
   "outputs": [
    {
     "name": "stdout",
     "output_type": "stream",
     "text": [
      "ERROR: This cross-compiler package contains no program /storage/group/ibb3/default/.conda/envs/ipyrad/bin/x86_64-conda_cos6-linux-gnu-cc\n",
      "ERROR: activate-gcc_linux-64.sh failed, see above for details\n"
     ]
    }
   ],
   "source": [
    "%%bash\n",
    "source ~/.bashrc\n",
    "conda activate ipyrad\n",
    "bedtools merge -i ../references/repeats_and_cnv_sorted.bed \\\n",
    "    > ../references/repeats_and_cnv_sorted_merged.bed"
   ]
  }
 ],
 "metadata": {
  "kernelspec": {
   "display_name": "Masters Env",
   "language": "python",
   "name": "masters"
  },
  "language_info": {
   "codemirror_mode": {
    "name": "ipython",
    "version": 3
   },
   "file_extension": ".py",
   "mimetype": "text/x-python",
   "name": "python",
   "nbconvert_exporter": "python",
   "pygments_lexer": "ipython3",
   "version": "3.10.8"
  }
 },
 "nbformat": 4,
 "nbformat_minor": 5
}
