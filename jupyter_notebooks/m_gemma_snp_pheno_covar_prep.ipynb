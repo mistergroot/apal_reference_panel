{
 "cells": [
  {
   "cell_type": "code",
   "execution_count": 2,
   "id": "68cd0d02",
   "metadata": {},
   "outputs": [],
   "source": [
    "import numpy as np\n",
    "import pandas as pd\n",
    "import subprocess\n",
    "import re\n",
    "import seaborn as sns"
   ]
  },
  {
   "cell_type": "code",
   "execution_count": 1,
   "id": "f0a3eabf",
   "metadata": {},
   "outputs": [
    {
     "name": "stderr",
     "output_type": "stream",
     "text": [
      "rm: cannot remove '../calls/wgs_samples.vcf.gz.tbi': No such file or directory\n"
     ]
    }
   ],
   "source": [
    "%%bash\n",
    "source ~/.bashrc\n",
    "conda activate beagle\n",
    "rm  ../calls/wgs_samples.vcf.gz.tbi\n",
    "bcftools view -m2 -M2 -v snps -T ../calls/panel_positions.tsv \\\n",
    "    --samples ^A131 ../calls/apal_imputation_panel_filtered.bcf \\\n",
    "    | bcftools annotate --remove \"INFO\" \\\n",
    "    | bcftools +fill-tags -- -t all \\\n",
    "    | bcftools view -O z > ../calls/wgs_samples.vcf.gz\n",
    "tabix ../calls/wgs_samples.vcf.gz"
   ]
  },
  {
   "cell_type": "code",
   "execution_count": 82,
   "id": "688ad4d9",
   "metadata": {},
   "outputs": [],
   "source": [
    "%%bash\n",
    "source ~/.bashrc\n",
    "conda activate beagle\n",
    "bcftools query -l ../calls/wgs_samples.vcf.gz \\\n",
    "    > ../ref_panel_sample_list.txt"
   ]
  },
  {
   "cell_type": "code",
   "execution_count": 109,
   "id": "45552ebc",
   "metadata": {},
   "outputs": [],
   "source": [
    "metadata = pd.read_csv(\"../2024_01_12_PsuData_fixed.csv\")\n",
    "metadata = metadata.reset_index(drop=False)\n",
    "metadata.columns = ['GWAS_name', 'genetNumber', 'FixedTubeID', 'cbassRun', 'species', 'Notes',\n",
    "       'Novogene_ID', 'geno', 'Best Galaxy Match Reef Name',\n",
    "       'Best Galaxy Match Clonal ID', 'Fixed Best Galaxy Match Clonal ID',\n",
    "       'Best Galaxy Match KING Coefficient', 'Questionable?', 'presumed_geno',\n",
    "       'name', 'year', 'nursery', 'region', 'fixed_ed50', 'ed50', 'stdError',\n",
    "       'nurseRes', 'ed50Adj', 'temperature', 'fixed_logSh', 'logSh', 'dom',\n",
    "       'Best Galaxy Match', 'Best Galaxy Match User ID']\n",
    "metadata[\"GWAS_name\"] = \"sample\" + metadata[\"GWAS_name\"].astype(str) \n",
    "metadata[\"wgs_data\"] = metadata[\"Novogene_ID\"].fillna(0)"
   ]
  },
  {
   "cell_type": "code",
   "execution_count": 110,
   "id": "7b545b66",
   "metadata": {},
   "outputs": [],
   "source": [
    "pacbiosamples = [\"A20148\",\n",
    "                    \"A20151\",\n",
    "                    \"A20153\",\n",
    "                    \"A20154\",\n",
    "                    \"A20155\",\n",
    "                    \"A20156\"]"
   ]
  },
  {
   "cell_type": "code",
   "execution_count": 111,
   "id": "f607788c",
   "metadata": {},
   "outputs": [
    {
     "name": "stderr",
     "output_type": "stream",
     "text": [
      "/tmp/ipykernel_1413764/2051846829.py:4: SettingWithCopyWarning: \n",
      "A value is trying to be set on a copy of a slice from a DataFrame\n",
      "\n",
      "See the caveats in the documentation: https://pandas.pydata.org/pandas-docs/stable/user_guide/indexing.html#returning-a-view-versus-a-copy\n",
      "  metadata[\"wgs_data\"][i] = (metadata[\"Novogene_ID\"]\n"
     ]
    }
   ],
   "source": [
    "for i in range(len(metadata)):\n",
    "    if metadata[\"wgs_data\"][i] == 0 :\n",
    "        try:\n",
    "            metadata[\"wgs_data\"][i] = (metadata[\"Novogene_ID\"]\n",
    "                 [metadata[\"Fixed Best Galaxy Match Clonal ID\"] == \n",
    "                  metadata[\"Fixed Best Galaxy Match Clonal ID\"][i]]\n",
    "                 [metadata[\"Novogene_ID\"].notna()]\n",
    "                [~metadata[\"Novogene_ID\"].isin(pacbiosamples)].sample(1, \n",
    "                    random_state = i)).reset_index(drop=True)[0]\n",
    "        except:\n",
    "            pass\n",
    "metadata.loc[metadata[\"wgs_data\"] == 0, \"wgs_data\"] = np.nan"
   ]
  },
  {
   "cell_type": "code",
   "execution_count": 112,
   "id": "15a00a1c",
   "metadata": {},
   "outputs": [
    {
     "name": "stderr",
     "output_type": "stream",
     "text": [
      "/tmp/ipykernel_1413764/1597219241.py:1: UserWarning: Boolean Series key will be reindexed to match DataFrame index.\n",
      "  wgssamples = metadata[metadata[\"wgs_data\"].notna()][metadata[\"region\"] == \"Florida\"].reset_index(drop=True)\n"
     ]
    }
   ],
   "source": [
    "wgssamples = metadata[metadata[\"wgs_data\"].notna()][metadata[\"region\"] == \"Florida\"].reset_index(drop=True)"
   ]
  },
  {
   "cell_type": "code",
   "execution_count": 124,
   "id": "a32736c0",
   "metadata": {
    "scrolled": true
   },
   "outputs": [
    {
     "name": "stdout",
     "output_type": "stream",
     "text": [
      "Submitted batch job 9032708\n",
      "Submitted batch job 9032709\n",
      "Submitted batch job 9032711\n",
      "Submitted batch job 9032712\n",
      "Submitted batch job 9032713\n",
      "Submitted batch job 9032714\n",
      "Submitted batch job 9032715\n",
      "Submitted batch job 9032716\n",
      "Submitted batch job 9032717\n",
      "Submitted batch job 9032718\n",
      "Submitted batch job 9032719\n",
      "Submitted batch job 9032720\n",
      "Submitted batch job 9032721\n",
      "Submitted batch job 9032722\n",
      "Submitted batch job 9032723\n",
      "Submitted batch job 9032724\n",
      "Submitted batch job 9032725\n",
      "Submitted batch job 9032726\n",
      "Submitted batch job 9032727\n",
      "Submitted batch job 9032728\n",
      "Submitted batch job 9032729\n",
      "Submitted batch job 9032730\n",
      "Submitted batch job 9032731\n",
      "Submitted batch job 9032732\n",
      "Submitted batch job 9032733\n",
      "Submitted batch job 9032734\n",
      "Submitted batch job 9032735\n",
      "Submitted batch job 9032736\n",
      "Submitted batch job 9032737\n",
      "Submitted batch job 9032738\n",
      "Submitted batch job 9032739\n",
      "Submitted batch job 9032740\n",
      "Submitted batch job 9032741\n",
      "Submitted batch job 9032743\n",
      "Submitted batch job 9032744\n",
      "Submitted batch job 9032746\n",
      "Submitted batch job 9032748\n",
      "Submitted batch job 9032750\n",
      "Submitted batch job 9032751\n",
      "Submitted batch job 9032752\n",
      "Submitted batch job 9032754\n",
      "Submitted batch job 9032755\n",
      "Submitted batch job 9032756\n",
      "Submitted batch job 9032758\n",
      "Submitted batch job 9032759\n",
      "Submitted batch job 9032760\n",
      "Submitted batch job 9032761\n",
      "Submitted batch job 9032762\n",
      "Submitted batch job 9032764\n",
      "Submitted batch job 9032765\n",
      "Submitted batch job 9032766\n",
      "Submitted batch job 9032767\n",
      "Submitted batch job 9032769\n",
      "Submitted batch job 9032770\n",
      "Submitted batch job 9032771\n",
      "Submitted batch job 9032772\n",
      "Submitted batch job 9032774\n",
      "Submitted batch job 9032775\n",
      "Submitted batch job 9032776\n",
      "Submitted batch job 9032777\n",
      "Submitted batch job 9032778\n",
      "Submitted batch job 9032779\n",
      "Submitted batch job 9032781\n",
      "Submitted batch job 9032782\n",
      "Submitted batch job 9032783\n",
      "Submitted batch job 9032784\n",
      "Submitted batch job 9032786\n",
      "Submitted batch job 9032787\n",
      "Submitted batch job 9032788\n",
      "Submitted batch job 9032789\n",
      "Submitted batch job 9032791\n",
      "Submitted batch job 9032792\n",
      "Submitted batch job 9032794\n",
      "Submitted batch job 9032795\n",
      "Submitted batch job 9032797\n",
      "Submitted batch job 9032798\n",
      "Submitted batch job 9032799\n",
      "Submitted batch job 9032802\n",
      "Submitted batch job 9032803\n",
      "Submitted batch job 9032804\n",
      "Submitted batch job 9032806\n",
      "Submitted batch job 9032807\n",
      "Submitted batch job 9032808\n",
      "Submitted batch job 9032809\n",
      "Submitted batch job 9032811\n",
      "Submitted batch job 9032812\n",
      "Submitted batch job 9032813\n",
      "Submitted batch job 9032814\n",
      "Submitted batch job 9032816\n",
      "Submitted batch job 9032817\n",
      "Submitted batch job 9032818\n",
      "Submitted batch job 9032819\n",
      "Submitted batch job 9032821\n",
      "Submitted batch job 9032822\n",
      "Submitted batch job 9032823\n",
      "Submitted batch job 9032824\n",
      "Submitted batch job 9032826\n",
      "Submitted batch job 9032827\n",
      "Submitted batch job 9032828\n",
      "Submitted batch job 9032830\n"
     ]
    }
   ],
   "source": [
    "for i in list(range(0,100)):\n",
    "    task = \"subset_vcf\"\n",
    "    mem = \"16\"\n",
    "    cpus = \"1\"\n",
    "    infile = \"../calls/wgs_samples.vcf.gz\"\n",
    "    outpath = \"~/scratch\"\n",
    "    samp = wgssamples[\"wgs_data\"][i]\n",
    "    gwas_id = str(wgssamples[\"GWAS_name\"][i])\n",
    "    subprocess.run([\"sbatch --mem=\" + mem + \"g --ntasks=\" + \n",
    "         cpus + \" ../\" + task + \".sh \" + \n",
    "         infile + \" \" + outpath + \" \" + samp + \" \" + gwas_id], shell=True)"
   ]
  },
  {
   "cell_type": "code",
   "execution_count": 127,
   "id": "0d36ca2e",
   "metadata": {
    "scrolled": true
   },
   "outputs": [
    {
     "name": "stdout",
     "output_type": "stream",
     "text": [
      "Submitted batch job 9033065\n",
      "Submitted batch job 9033066\n",
      "Submitted batch job 9033067\n",
      "Submitted batch job 9033068\n",
      "Submitted batch job 9033069\n",
      "Submitted batch job 9033070\n",
      "Submitted batch job 9033071\n",
      "Submitted batch job 9033072\n",
      "Submitted batch job 9033073\n",
      "Submitted batch job 9033074\n",
      "Submitted batch job 9033075\n",
      "Submitted batch job 9033076\n",
      "Submitted batch job 9033077\n",
      "Submitted batch job 9033078\n",
      "Submitted batch job 9033079\n",
      "Submitted batch job 9033080\n",
      "Submitted batch job 9033081\n",
      "Submitted batch job 9033082\n",
      "Submitted batch job 9033083\n",
      "Submitted batch job 9033084\n",
      "Submitted batch job 9033085\n",
      "Submitted batch job 9033086\n",
      "Submitted batch job 9033087\n",
      "Submitted batch job 9033088\n",
      "Submitted batch job 9033089\n",
      "Submitted batch job 9033090\n",
      "Submitted batch job 9033091\n",
      "Submitted batch job 9033092\n",
      "Submitted batch job 9033093\n",
      "Submitted batch job 9033094\n",
      "Submitted batch job 9033095\n",
      "Submitted batch job 9033096\n",
      "Submitted batch job 9033097\n",
      "Submitted batch job 9033098\n",
      "Submitted batch job 9033100\n",
      "Submitted batch job 9033101\n",
      "Submitted batch job 9033102\n",
      "Submitted batch job 9033103\n",
      "Submitted batch job 9033104\n",
      "Submitted batch job 9033105\n",
      "Submitted batch job 9033106\n",
      "Submitted batch job 9033107\n",
      "Submitted batch job 9033108\n",
      "Submitted batch job 9033109\n",
      "Submitted batch job 9033110\n",
      "Submitted batch job 9033111\n",
      "Submitted batch job 9033112\n",
      "Submitted batch job 9033113\n",
      "Submitted batch job 9033114\n",
      "Submitted batch job 9033115\n",
      "Submitted batch job 9033116\n",
      "Submitted batch job 9033117\n",
      "Submitted batch job 9033118\n",
      "Submitted batch job 9033119\n",
      "Submitted batch job 9033120\n",
      "Submitted batch job 9033121\n",
      "Submitted batch job 9033122\n",
      "Submitted batch job 9033123\n",
      "Submitted batch job 9033124\n",
      "Submitted batch job 9033125\n",
      "Submitted batch job 9033126\n",
      "Submitted batch job 9033127\n",
      "Submitted batch job 9033128\n",
      "Submitted batch job 9033129\n",
      "Submitted batch job 9033130\n",
      "Submitted batch job 9033131\n",
      "Submitted batch job 9033132\n",
      "Submitted batch job 9033133\n",
      "Submitted batch job 9033134\n",
      "Submitted batch job 9033135\n",
      "Submitted batch job 9033136\n",
      "Submitted batch job 9033137\n",
      "Submitted batch job 9033138\n",
      "Submitted batch job 9033139\n",
      "Submitted batch job 9033140\n",
      "Submitted batch job 9033141\n",
      "Submitted batch job 9033142\n",
      "Submitted batch job 9033143\n",
      "Submitted batch job 9033144\n",
      "Submitted batch job 9033145\n",
      "Submitted batch job 9033146\n",
      "Submitted batch job 9033147\n",
      "Submitted batch job 9033148\n",
      "Submitted batch job 9033149\n",
      "Submitted batch job 9033150\n",
      "Submitted batch job 9033151\n",
      "Submitted batch job 9033152\n",
      "Submitted batch job 9033153\n",
      "Submitted batch job 9033154\n",
      "Submitted batch job 9033155\n",
      "Submitted batch job 9033156\n",
      "Submitted batch job 9033157\n",
      "Submitted batch job 9033158\n",
      "Submitted batch job 9033159\n",
      "Submitted batch job 9033160\n",
      "Submitted batch job 9033161\n",
      "Submitted batch job 9033162\n",
      "Submitted batch job 9033163\n",
      "Submitted batch job 9033164\n",
      "Submitted batch job 9033165\n"
     ]
    }
   ],
   "source": [
    "for i in list(range(100,200)):\n",
    "    task = \"subset_vcf\"\n",
    "    mem = \"16\"\n",
    "    cpus = \"1\"\n",
    "    infile = \"../calls/wgs_samples.vcf.gz\"\n",
    "    outpath = \"~/scratch\"\n",
    "    samp = wgssamples[\"wgs_data\"][i]\n",
    "    gwas_id = str(wgssamples[\"GWAS_name\"][i])\n",
    "    subprocess.run([\"sbatch --mem=\" + mem + \"g --ntasks=\" + \n",
    "         cpus + \" ../\" + task + \".sh \" + \n",
    "         infile + \" \" + outpath + \" \" + samp + \" \" + gwas_id], shell=True)"
   ]
  },
  {
   "cell_type": "code",
   "execution_count": 129,
   "id": "602e2255",
   "metadata": {},
   "outputs": [
    {
     "data": {
      "text/plain": [
       "[100,\n",
       " 101,\n",
       " 102,\n",
       " 103,\n",
       " 104,\n",
       " 105,\n",
       " 106,\n",
       " 107,\n",
       " 108,\n",
       " 109,\n",
       " 110,\n",
       " 111,\n",
       " 112,\n",
       " 113,\n",
       " 114,\n",
       " 115,\n",
       " 116,\n",
       " 117,\n",
       " 118,\n",
       " 119,\n",
       " 120,\n",
       " 121,\n",
       " 122,\n",
       " 123,\n",
       " 124,\n",
       " 125,\n",
       " 126,\n",
       " 127,\n",
       " 128,\n",
       " 129,\n",
       " 130,\n",
       " 131,\n",
       " 132,\n",
       " 133,\n",
       " 134,\n",
       " 135,\n",
       " 136,\n",
       " 137,\n",
       " 138,\n",
       " 139,\n",
       " 140,\n",
       " 141,\n",
       " 142,\n",
       " 143,\n",
       " 144,\n",
       " 145,\n",
       " 146,\n",
       " 147,\n",
       " 148,\n",
       " 149,\n",
       " 150,\n",
       " 151,\n",
       " 152,\n",
       " 153,\n",
       " 154,\n",
       " 155,\n",
       " 156,\n",
       " 157,\n",
       " 158,\n",
       " 159,\n",
       " 160,\n",
       " 161,\n",
       " 162,\n",
       " 163,\n",
       " 164,\n",
       " 165,\n",
       " 166,\n",
       " 167,\n",
       " 168,\n",
       " 169,\n",
       " 170,\n",
       " 171,\n",
       " 172,\n",
       " 173,\n",
       " 174,\n",
       " 175,\n",
       " 176,\n",
       " 177,\n",
       " 178,\n",
       " 179,\n",
       " 180,\n",
       " 181,\n",
       " 182,\n",
       " 183,\n",
       " 184,\n",
       " 185,\n",
       " 186,\n",
       " 187,\n",
       " 188,\n",
       " 189,\n",
       " 190,\n",
       " 191,\n",
       " 192,\n",
       " 193,\n",
       " 194,\n",
       " 195,\n",
       " 196,\n",
       " 197,\n",
       " 198,\n",
       " 199]"
      ]
     },
     "execution_count": 129,
     "metadata": {},
     "output_type": "execute_result"
    }
   ],
   "source": [
    "list(range(100,200))"
   ]
  },
  {
   "cell_type": "code",
   "execution_count": 128,
   "id": "9584f5f9",
   "metadata": {},
   "outputs": [
    {
     "data": {
      "text/html": [
       "<div>\n",
       "<style scoped>\n",
       "    .dataframe tbody tr th:only-of-type {\n",
       "        vertical-align: middle;\n",
       "    }\n",
       "\n",
       "    .dataframe tbody tr th {\n",
       "        vertical-align: top;\n",
       "    }\n",
       "\n",
       "    .dataframe thead th {\n",
       "        text-align: right;\n",
       "    }\n",
       "</style>\n",
       "<table border=\"1\" class=\"dataframe\">\n",
       "  <thead>\n",
       "    <tr style=\"text-align: right;\">\n",
       "      <th></th>\n",
       "      <th>GWAS_name</th>\n",
       "      <th>genetNumber</th>\n",
       "      <th>FixedTubeID</th>\n",
       "      <th>cbassRun</th>\n",
       "      <th>species</th>\n",
       "      <th>Notes</th>\n",
       "      <th>Novogene_ID</th>\n",
       "      <th>geno</th>\n",
       "      <th>Best Galaxy Match Reef Name</th>\n",
       "      <th>Best Galaxy Match Clonal ID</th>\n",
       "      <th>...</th>\n",
       "      <th>stdError</th>\n",
       "      <th>nurseRes</th>\n",
       "      <th>ed50Adj</th>\n",
       "      <th>temperature</th>\n",
       "      <th>fixed_logSh</th>\n",
       "      <th>logSh</th>\n",
       "      <th>dom</th>\n",
       "      <th>Best Galaxy Match</th>\n",
       "      <th>Best Galaxy Match User ID</th>\n",
       "      <th>wgs_data</th>\n",
       "    </tr>\n",
       "  </thead>\n",
       "  <tbody>\n",
       "    <tr>\n",
       "      <th>0</th>\n",
       "      <td>sample0</td>\n",
       "      <td>1</td>\n",
       "      <td>1</td>\n",
       "      <td>1.0</td>\n",
       "      <td>Apal</td>\n",
       "      <td>NaN</td>\n",
       "      <td>A21999</td>\n",
       "      <td>Brewster-Y94</td>\n",
       "      <td>Brew</td>\n",
       "      <td>HG1459</td>\n",
       "      <td>...</td>\n",
       "      <td>0.055473</td>\n",
       "      <td>0.374353</td>\n",
       "      <td>36.709556</td>\n",
       "      <td>30C</td>\n",
       "      <td>-2.109252</td>\n",
       "      <td>-2.109252</td>\n",
       "      <td>A</td>\n",
       "      <td>121178064_(Axiom_AcropSNP)_M09.CEL</td>\n",
       "      <td>3365</td>\n",
       "      <td>A21999</td>\n",
       "    </tr>\n",
       "    <tr>\n",
       "      <th>1</th>\n",
       "      <td>sample1</td>\n",
       "      <td>2</td>\n",
       "      <td>2</td>\n",
       "      <td>1.0</td>\n",
       "      <td>Apal</td>\n",
       "      <td>NaN</td>\n",
       "      <td>NaN</td>\n",
       "      <td>Apal-032</td>\n",
       "      <td>NaN</td>\n",
       "      <td>NaN</td>\n",
       "      <td>...</td>\n",
       "      <td>0.145863</td>\n",
       "      <td>-0.584565</td>\n",
       "      <td>35.750639</td>\n",
       "      <td>30C</td>\n",
       "      <td>-1.120739</td>\n",
       "      <td>-1.120739</td>\n",
       "      <td>A</td>\n",
       "      <td>NaN</td>\n",
       "      <td>NaN</td>\n",
       "      <td>A22231</td>\n",
       "    </tr>\n",
       "    <tr>\n",
       "      <th>2</th>\n",
       "      <td>sample2</td>\n",
       "      <td>3</td>\n",
       "      <td>3</td>\n",
       "      <td>1.0</td>\n",
       "      <td>Apal</td>\n",
       "      <td>NaN</td>\n",
       "      <td>A22001</td>\n",
       "      <td>Key Largo-G28</td>\n",
       "      <td>Horseshoe</td>\n",
       "      <td>HG0004</td>\n",
       "      <td>...</td>\n",
       "      <td>0.111373</td>\n",
       "      <td>-0.015990</td>\n",
       "      <td>36.319214</td>\n",
       "      <td>30C</td>\n",
       "      <td>-1.804099</td>\n",
       "      <td>-1.804099</td>\n",
       "      <td>A</td>\n",
       "      <td>a100000-4368120-060520-256_A01.CEL</td>\n",
       "      <td>1012</td>\n",
       "      <td>A22001</td>\n",
       "    </tr>\n",
       "    <tr>\n",
       "      <th>3</th>\n",
       "      <td>sample3</td>\n",
       "      <td>4</td>\n",
       "      <td>4</td>\n",
       "      <td>1.0</td>\n",
       "      <td>Apal</td>\n",
       "      <td>NaN</td>\n",
       "      <td>A22002</td>\n",
       "      <td>Brewster-Y99</td>\n",
       "      <td>Brew</td>\n",
       "      <td>HG1459</td>\n",
       "      <td>...</td>\n",
       "      <td>0.059475</td>\n",
       "      <td>0.164460</td>\n",
       "      <td>36.499663</td>\n",
       "      <td>30C</td>\n",
       "      <td>-2.313155</td>\n",
       "      <td>-2.313155</td>\n",
       "      <td>A</td>\n",
       "      <td>121178064_(Axiom_AcropSNP)_M09.CEL</td>\n",
       "      <td>3365</td>\n",
       "      <td>A22002</td>\n",
       "    </tr>\n",
       "    <tr>\n",
       "      <th>4</th>\n",
       "      <td>sample4</td>\n",
       "      <td>5</td>\n",
       "      <td>5</td>\n",
       "      <td>1.0</td>\n",
       "      <td>Apal</td>\n",
       "      <td>NaN</td>\n",
       "      <td>A22003</td>\n",
       "      <td>Brewster-Y92</td>\n",
       "      <td>Brew</td>\n",
       "      <td>HG1459</td>\n",
       "      <td>...</td>\n",
       "      <td>0.090066</td>\n",
       "      <td>0.014127</td>\n",
       "      <td>36.349331</td>\n",
       "      <td>30C</td>\n",
       "      <td>-1.512002</td>\n",
       "      <td>-1.512002</td>\n",
       "      <td>A</td>\n",
       "      <td>121178064_(Axiom_AcropSNP)_M09.CEL</td>\n",
       "      <td>3365</td>\n",
       "      <td>A22003</td>\n",
       "    </tr>\n",
       "    <tr>\n",
       "      <th>...</th>\n",
       "      <td>...</td>\n",
       "      <td>...</td>\n",
       "      <td>...</td>\n",
       "      <td>...</td>\n",
       "      <td>...</td>\n",
       "      <td>...</td>\n",
       "      <td>...</td>\n",
       "      <td>...</td>\n",
       "      <td>...</td>\n",
       "      <td>...</td>\n",
       "      <td>...</td>\n",
       "      <td>...</td>\n",
       "      <td>...</td>\n",
       "      <td>...</td>\n",
       "      <td>...</td>\n",
       "      <td>...</td>\n",
       "      <td>...</td>\n",
       "      <td>...</td>\n",
       "      <td>...</td>\n",
       "      <td>...</td>\n",
       "      <td>...</td>\n",
       "    </tr>\n",
       "    <tr>\n",
       "      <th>225</th>\n",
       "      <td>sample262</td>\n",
       "      <td>1037</td>\n",
       "      <td>1037</td>\n",
       "      <td>NaN</td>\n",
       "      <td>NaN</td>\n",
       "      <td>NaN</td>\n",
       "      <td>SRR7235980</td>\n",
       "      <td>NaN</td>\n",
       "      <td>LittleGrecian</td>\n",
       "      <td>HG0104</td>\n",
       "      <td>...</td>\n",
       "      <td>NaN</td>\n",
       "      <td>NaN</td>\n",
       "      <td>NaN</td>\n",
       "      <td>NaN</td>\n",
       "      <td>NaN</td>\n",
       "      <td>NaN</td>\n",
       "      <td>NaN</td>\n",
       "      <td>a100000-4368120-060520-256_C01.CEL</td>\n",
       "      <td>1037</td>\n",
       "      <td>SRR7235980</td>\n",
       "    </tr>\n",
       "    <tr>\n",
       "      <th>226</th>\n",
       "      <td>sample265</td>\n",
       "      <td>1012</td>\n",
       "      <td>1012</td>\n",
       "      <td>NaN</td>\n",
       "      <td>NaN</td>\n",
       "      <td>NaN</td>\n",
       "      <td>SRR7235983</td>\n",
       "      <td>NaN</td>\n",
       "      <td>Horseshoe</td>\n",
       "      <td>HG0004</td>\n",
       "      <td>...</td>\n",
       "      <td>NaN</td>\n",
       "      <td>NaN</td>\n",
       "      <td>NaN</td>\n",
       "      <td>NaN</td>\n",
       "      <td>NaN</td>\n",
       "      <td>NaN</td>\n",
       "      <td>NaN</td>\n",
       "      <td>a100000-4368120-060520-256_A01.CEL</td>\n",
       "      <td>1012</td>\n",
       "      <td>SRR7235983</td>\n",
       "    </tr>\n",
       "    <tr>\n",
       "      <th>227</th>\n",
       "      <td>sample271</td>\n",
       "      <td>6895</td>\n",
       "      <td>6895</td>\n",
       "      <td>NaN</td>\n",
       "      <td>NaN</td>\n",
       "      <td>NaN</td>\n",
       "      <td>SRR7236001</td>\n",
       "      <td>NaN</td>\n",
       "      <td>SI3</td>\n",
       "      <td>HG0106</td>\n",
       "      <td>...</td>\n",
       "      <td>NaN</td>\n",
       "      <td>NaN</td>\n",
       "      <td>NaN</td>\n",
       "      <td>NaN</td>\n",
       "      <td>NaN</td>\n",
       "      <td>NaN</td>\n",
       "      <td>NaN</td>\n",
       "      <td>a100000-4368120-060520-256_O05.CEL</td>\n",
       "      <td>6895</td>\n",
       "      <td>SRR7236001</td>\n",
       "    </tr>\n",
       "    <tr>\n",
       "      <th>228</th>\n",
       "      <td>sample278</td>\n",
       "      <td>2699</td>\n",
       "      <td>2699</td>\n",
       "      <td>NaN</td>\n",
       "      <td>NaN</td>\n",
       "      <td>NaN</td>\n",
       "      <td>SRR7236011</td>\n",
       "      <td>NaN</td>\n",
       "      <td>FR2</td>\n",
       "      <td>HG0112</td>\n",
       "      <td>...</td>\n",
       "      <td>NaN</td>\n",
       "      <td>NaN</td>\n",
       "      <td>NaN</td>\n",
       "      <td>NaN</td>\n",
       "      <td>NaN</td>\n",
       "      <td>NaN</td>\n",
       "      <td>NaN</td>\n",
       "      <td>a100000-4368120-060520-256_E03.CEL</td>\n",
       "      <td>2699</td>\n",
       "      <td>SRR7236011</td>\n",
       "    </tr>\n",
       "    <tr>\n",
       "      <th>229</th>\n",
       "      <td>sample279</td>\n",
       "      <td>5524</td>\n",
       "      <td>5524</td>\n",
       "      <td>NaN</td>\n",
       "      <td>NaN</td>\n",
       "      <td>NaN</td>\n",
       "      <td>SRR7236012</td>\n",
       "      <td>NaN</td>\n",
       "      <td>CF2</td>\n",
       "      <td>HG0116</td>\n",
       "      <td>...</td>\n",
       "      <td>NaN</td>\n",
       "      <td>NaN</td>\n",
       "      <td>NaN</td>\n",
       "      <td>NaN</td>\n",
       "      <td>NaN</td>\n",
       "      <td>NaN</td>\n",
       "      <td>NaN</td>\n",
       "      <td>a100000-4368120-060520-256_G05.CEL</td>\n",
       "      <td>5524</td>\n",
       "      <td>SRR7236012</td>\n",
       "    </tr>\n",
       "  </tbody>\n",
       "</table>\n",
       "<p>230 rows × 30 columns</p>\n",
       "</div>"
      ],
      "text/plain": [
       "     GWAS_name genetNumber FixedTubeID  cbassRun species Notes Novogene_ID  \\\n",
       "0      sample0           1           1       1.0    Apal   NaN      A21999   \n",
       "1      sample1           2           2       1.0    Apal   NaN         NaN   \n",
       "2      sample2           3           3       1.0    Apal   NaN      A22001   \n",
       "3      sample3           4           4       1.0    Apal   NaN      A22002   \n",
       "4      sample4           5           5       1.0    Apal   NaN      A22003   \n",
       "..         ...         ...         ...       ...     ...   ...         ...   \n",
       "225  sample262        1037        1037       NaN     NaN   NaN  SRR7235980   \n",
       "226  sample265        1012        1012       NaN     NaN   NaN  SRR7235983   \n",
       "227  sample271        6895        6895       NaN     NaN   NaN  SRR7236001   \n",
       "228  sample278        2699        2699       NaN     NaN   NaN  SRR7236011   \n",
       "229  sample279        5524        5524       NaN     NaN   NaN  SRR7236012   \n",
       "\n",
       "              geno Best Galaxy Match Reef Name Best Galaxy Match Clonal ID  \\\n",
       "0     Brewster-Y94                        Brew                      HG1459   \n",
       "1         Apal-032                         NaN                         NaN   \n",
       "2    Key Largo-G28                   Horseshoe                      HG0004   \n",
       "3     Brewster-Y99                        Brew                      HG1459   \n",
       "4     Brewster-Y92                        Brew                      HG1459   \n",
       "..             ...                         ...                         ...   \n",
       "225            NaN               LittleGrecian                      HG0104   \n",
       "226            NaN                   Horseshoe                      HG0004   \n",
       "227            NaN                         SI3                      HG0106   \n",
       "228            NaN                         FR2                      HG0112   \n",
       "229            NaN                         CF2                      HG0116   \n",
       "\n",
       "     ...  stdError  nurseRes    ed50Adj temperature fixed_logSh     logSh  \\\n",
       "0    ...  0.055473  0.374353  36.709556         30C   -2.109252 -2.109252   \n",
       "1    ...  0.145863 -0.584565  35.750639         30C   -1.120739 -1.120739   \n",
       "2    ...  0.111373 -0.015990  36.319214         30C   -1.804099 -1.804099   \n",
       "3    ...  0.059475  0.164460  36.499663         30C   -2.313155 -2.313155   \n",
       "4    ...  0.090066  0.014127  36.349331         30C   -1.512002 -1.512002   \n",
       "..   ...       ...       ...        ...         ...         ...       ...   \n",
       "225  ...       NaN       NaN        NaN         NaN         NaN       NaN   \n",
       "226  ...       NaN       NaN        NaN         NaN         NaN       NaN   \n",
       "227  ...       NaN       NaN        NaN         NaN         NaN       NaN   \n",
       "228  ...       NaN       NaN        NaN         NaN         NaN       NaN   \n",
       "229  ...       NaN       NaN        NaN         NaN         NaN       NaN   \n",
       "\n",
       "     dom                   Best Galaxy Match  Best Galaxy Match User ID  \\\n",
       "0      A  121178064_(Axiom_AcropSNP)_M09.CEL                       3365   \n",
       "1      A                                 NaN                        NaN   \n",
       "2      A  a100000-4368120-060520-256_A01.CEL                       1012   \n",
       "3      A  121178064_(Axiom_AcropSNP)_M09.CEL                       3365   \n",
       "4      A  121178064_(Axiom_AcropSNP)_M09.CEL                       3365   \n",
       "..   ...                                 ...                        ...   \n",
       "225  NaN  a100000-4368120-060520-256_C01.CEL                       1037   \n",
       "226  NaN  a100000-4368120-060520-256_A01.CEL                       1012   \n",
       "227  NaN  a100000-4368120-060520-256_O05.CEL                       6895   \n",
       "228  NaN  a100000-4368120-060520-256_E03.CEL                       2699   \n",
       "229  NaN  a100000-4368120-060520-256_G05.CEL                       5524   \n",
       "\n",
       "       wgs_data  \n",
       "0        A21999  \n",
       "1        A22231  \n",
       "2        A22001  \n",
       "3        A22002  \n",
       "4        A22003  \n",
       "..          ...  \n",
       "225  SRR7235980  \n",
       "226  SRR7235983  \n",
       "227  SRR7236001  \n",
       "228  SRR7236011  \n",
       "229  SRR7236012  \n",
       "\n",
       "[230 rows x 30 columns]"
      ]
     },
     "execution_count": 128,
     "metadata": {},
     "output_type": "execute_result"
    }
   ],
   "source": [
    "wgssamples"
   ]
  },
  {
   "cell_type": "code",
   "execution_count": 122,
   "id": "669b88e7",
   "metadata": {
    "scrolled": true
   },
   "outputs": [
    {
     "name": "stdout",
     "output_type": "stream",
     "text": [
      "Submitted batch job 9032554\n",
      "Submitted batch job 9032555\n",
      "Submitted batch job 9032556\n",
      "Submitted batch job 9032557\n",
      "Submitted batch job 9032558\n",
      "Submitted batch job 9032559\n",
      "Submitted batch job 9032560\n",
      "Submitted batch job 9032561\n",
      "Submitted batch job 9032562\n",
      "Submitted batch job 9032563\n",
      "Submitted batch job 9032564\n",
      "Submitted batch job 9032565\n",
      "Submitted batch job 9032566\n",
      "Submitted batch job 9032567\n",
      "Submitted batch job 9032568\n",
      "Submitted batch job 9032569\n",
      "Submitted batch job 9032570\n",
      "Submitted batch job 9032571\n",
      "Submitted batch job 9032572\n",
      "Submitted batch job 9032573\n",
      "Submitted batch job 9032574\n",
      "Submitted batch job 9032575\n",
      "Submitted batch job 9032576\n",
      "Submitted batch job 9032577\n",
      "Submitted batch job 9032578\n",
      "Submitted batch job 9032579\n",
      "Submitted batch job 9032580\n",
      "Submitted batch job 9032581\n",
      "Submitted batch job 9032582\n",
      "Submitted batch job 9032583\n"
     ]
    }
   ],
   "source": [
    "for i in range(len(wgssamples.tail(30))):\n",
    "    task = \"subset_vcf\"\n",
    "    mem = \"16\"\n",
    "    cpus = \"1\"\n",
    "    infile = \"../calls/wgs_samples.vcf.gz\"\n",
    "    outpath = \"~/scratch\"\n",
    "    samp = wgssamples[\"wgs_data\"][i]\n",
    "    gwas_id = str(wgssamples[\"GWAS_name\"][i])\n",
    "    subprocess.run([\"sbatch --mem=\" + mem + \"g --ntasks=\" + \n",
    "         cpus + \" ../\" + task + \".sh \" + \n",
    "         infile + \" \" + outpath + \" \" + samp + \" \" + gwas_id], shell=True)"
   ]
  },
  {
   "cell_type": "code",
   "execution_count": 84,
   "id": "447b5ae1",
   "metadata": {},
   "outputs": [],
   "source": [
    "panelsamples = pd.read_csv(\"../ref_panel_sample_list.txt\", header = None, names = [\"Novogene_ID\"])"
   ]
  },
  {
   "cell_type": "code",
   "execution_count": 351,
   "id": "2dd6e56a",
   "metadata": {},
   "outputs": [],
   "source": [
    "reheader = panelsamples.merge(metadata[[\"Novogene_ID\", \"GWAS_name\"]], how = \"left\", on = \"Novogene_ID\")"
   ]
  },
  {
   "cell_type": "code",
   "execution_count": 9,
   "id": "e37bee64",
   "metadata": {},
   "outputs": [],
   "source": [
    "reheader.set_index(\"Novogene_ID\").to_csv(\"../refpanel_reheader.txt\", sep = \"\\t\", header = None)"
   ]
  },
  {
   "cell_type": "code",
   "execution_count": 10,
   "id": "a360a5d1",
   "metadata": {},
   "outputs": [],
   "source": [
    "%%bash\n",
    "source ~/.bashrc\n",
    "conda activate beagle\n",
    "rm ../calls/wgs_samples_rehead.vcf.gz.tbi\n",
    "bcftools reheader ../calls/wgs_samples.vcf.gz \\\n",
    "    --samples ../refpanel_reheader.txt \\\n",
    "    > ../calls/wgs_samples_rehead.vcf.gz\n",
    "tabix ../calls/wgs_samples_rehead.vcf.gz"
   ]
  },
  {
   "cell_type": "code",
   "execution_count": 11,
   "id": "c9c4af27",
   "metadata": {},
   "outputs": [],
   "source": [
    "%%bash\n",
    "source ~/.bashrc\n",
    "conda activate beagle\n",
    "bcftools query -l ../calls/wgs_samples.vcf.gz \\\n",
    "    > ../ref_panel_sample_list.txt"
   ]
  },
  {
   "cell_type": "code",
   "execution_count": 356,
   "id": "fd9798d6",
   "metadata": {},
   "outputs": [
    {
     "name": "stderr",
     "output_type": "stream",
     "text": [
      "rm: cannot remove '../calls/final_gwas_dataset.vcf.gz.tbi': No such file or directory\n",
      "Exception ignored in: <function BaseSubprocessTransport.__del__ at 0x148b1a182ef0>\n",
      "Traceback (most recent call last):\n",
      "  File \"/storage/group/ibb3/default/.conda/envs/masters/lib/python3.10/asyncio/base_subprocess.py\", line 123, in __del__\n",
      "    def __del__(self, _warn=warnings.warn):\n",
      "KeyboardInterrupt: \n"
     ]
    },
    {
     "ename": "KeyboardInterrupt",
     "evalue": "",
     "output_type": "error",
     "traceback": [
      "\u001b[0;31m---------------------------------------------------------------------------\u001b[0m",
      "\u001b[0;31mKeyboardInterrupt\u001b[0m                         Traceback (most recent call last)",
      "File \u001b[0;32m/storage/group/ibb3/default/.conda/envs/masters/lib/python3.10/site-packages/IPython/core/magics/script.py:279\u001b[0m, in \u001b[0;36mScriptMagics.shebang\u001b[0;34m(self, line, cell)\u001b[0m\n\u001b[1;32m    278\u001b[0m \u001b[38;5;28;01mtry\u001b[39;00m:\n\u001b[0;32m--> 279\u001b[0m     \u001b[43min_thread\u001b[49m\u001b[43m(\u001b[49m\u001b[43m_stream_communicate\u001b[49m\u001b[43m(\u001b[49m\u001b[43mp\u001b[49m\u001b[43m,\u001b[49m\u001b[43m \u001b[49m\u001b[43mcell\u001b[49m\u001b[43m)\u001b[49m\u001b[43m)\u001b[49m\n\u001b[1;32m    280\u001b[0m \u001b[38;5;28;01mexcept\u001b[39;00m \u001b[38;5;167;01mKeyboardInterrupt\u001b[39;00m:\n",
      "File \u001b[0;32m/storage/group/ibb3/default/.conda/envs/masters/lib/python3.10/site-packages/IPython/core/magics/script.py:209\u001b[0m, in \u001b[0;36mScriptMagics.shebang.<locals>.in_thread\u001b[0;34m(coro)\u001b[0m\n\u001b[1;32m    208\u001b[0m \u001b[38;5;250m\u001b[39m\u001b[38;5;124;03m\"\"\"Call a coroutine on the asyncio thread\"\"\"\u001b[39;00m\n\u001b[0;32m--> 209\u001b[0m \u001b[38;5;28;01mreturn\u001b[39;00m \u001b[43masyncio\u001b[49m\u001b[38;5;241;43m.\u001b[39;49m\u001b[43mrun_coroutine_threadsafe\u001b[49m\u001b[43m(\u001b[49m\u001b[43mcoro\u001b[49m\u001b[43m,\u001b[49m\u001b[43m \u001b[49m\u001b[43mevent_loop\u001b[49m\u001b[43m)\u001b[49m\u001b[38;5;241;43m.\u001b[39;49m\u001b[43mresult\u001b[49m\u001b[43m(\u001b[49m\u001b[43m)\u001b[49m\n",
      "File \u001b[0;32m/storage/group/ibb3/default/.conda/envs/masters/lib/python3.10/concurrent/futures/_base.py:453\u001b[0m, in \u001b[0;36mFuture.result\u001b[0;34m(self, timeout)\u001b[0m\n\u001b[1;32m    451\u001b[0m     \u001b[38;5;28;01mreturn\u001b[39;00m \u001b[38;5;28mself\u001b[39m\u001b[38;5;241m.\u001b[39m__get_result()\n\u001b[0;32m--> 453\u001b[0m \u001b[38;5;28;43mself\u001b[39;49m\u001b[38;5;241;43m.\u001b[39;49m\u001b[43m_condition\u001b[49m\u001b[38;5;241;43m.\u001b[39;49m\u001b[43mwait\u001b[49m\u001b[43m(\u001b[49m\u001b[43mtimeout\u001b[49m\u001b[43m)\u001b[49m\n\u001b[1;32m    455\u001b[0m \u001b[38;5;28;01mif\u001b[39;00m \u001b[38;5;28mself\u001b[39m\u001b[38;5;241m.\u001b[39m_state \u001b[38;5;129;01min\u001b[39;00m [CANCELLED, CANCELLED_AND_NOTIFIED]:\n",
      "File \u001b[0;32m/storage/group/ibb3/default/.conda/envs/masters/lib/python3.10/threading.py:320\u001b[0m, in \u001b[0;36mCondition.wait\u001b[0;34m(self, timeout)\u001b[0m\n\u001b[1;32m    319\u001b[0m \u001b[38;5;28;01mif\u001b[39;00m timeout \u001b[38;5;129;01mis\u001b[39;00m \u001b[38;5;28;01mNone\u001b[39;00m:\n\u001b[0;32m--> 320\u001b[0m     \u001b[43mwaiter\u001b[49m\u001b[38;5;241;43m.\u001b[39;49m\u001b[43macquire\u001b[49m\u001b[43m(\u001b[49m\u001b[43m)\u001b[49m\n\u001b[1;32m    321\u001b[0m     gotit \u001b[38;5;241m=\u001b[39m \u001b[38;5;28;01mTrue\u001b[39;00m\n",
      "\u001b[0;31mKeyboardInterrupt\u001b[0m: ",
      "\nDuring handling of the above exception, another exception occurred:\n",
      "\u001b[0;31mKeyboardInterrupt\u001b[0m                         Traceback (most recent call last)",
      "Cell \u001b[0;32mIn[356], line 1\u001b[0m\n\u001b[0;32m----> 1\u001b[0m \u001b[43mget_ipython\u001b[49m\u001b[43m(\u001b[49m\u001b[43m)\u001b[49m\u001b[38;5;241;43m.\u001b[39;49m\u001b[43mrun_cell_magic\u001b[49m\u001b[43m(\u001b[49m\u001b[38;5;124;43m'\u001b[39;49m\u001b[38;5;124;43mbash\u001b[39;49m\u001b[38;5;124;43m'\u001b[39;49m\u001b[43m,\u001b[49m\u001b[43m \u001b[49m\u001b[38;5;124;43m'\u001b[39;49m\u001b[38;5;124;43m'\u001b[39;49m\u001b[43m,\u001b[49m\u001b[43m \u001b[49m\u001b[38;5;124;43m'\u001b[39;49m\u001b[38;5;124;43msource ~/.bashrc\u001b[39;49m\u001b[38;5;130;43;01m\\n\u001b[39;49;00m\u001b[38;5;124;43mconda activate beagle\u001b[39;49m\u001b[38;5;130;43;01m\\n\u001b[39;49;00m\u001b[38;5;124;43mrm ../calls/final_gwas_dataset.vcf.gz.tbi\u001b[39;49m\u001b[38;5;130;43;01m\\n\u001b[39;49;00m\u001b[38;5;124;43mbcftools merge ../calls/wgs_samples_rehead.vcf.gz \u001b[39;49m\u001b[38;5;130;43;01m\\\\\u001b[39;49;00m\u001b[38;5;130;43;01m\\n\u001b[39;49;00m\u001b[38;5;124;43m    ../calls/phenotyped_microarray_imputed_filteredDR2.vcf.gz \u001b[39;49m\u001b[38;5;130;43;01m\\\\\u001b[39;49;00m\u001b[38;5;130;43;01m\\n\u001b[39;49;00m\u001b[38;5;124;43m    -O z > ../calls/final_gwas_dataset.vcf.gz\u001b[39;49m\u001b[38;5;130;43;01m\\n\u001b[39;49;00m\u001b[38;5;124;43mtabix ../calls/final_gwas_dataset.vcf.gz\u001b[39;49m\u001b[38;5;130;43;01m\\n\u001b[39;49;00m\u001b[38;5;124;43m'\u001b[39;49m\u001b[43m)\u001b[49m\n",
      "File \u001b[0;32m/storage/group/ibb3/default/.conda/envs/masters/lib/python3.10/site-packages/IPython/core/interactiveshell.py:2430\u001b[0m, in \u001b[0;36mInteractiveShell.run_cell_magic\u001b[0;34m(self, magic_name, line, cell)\u001b[0m\n\u001b[1;32m   2428\u001b[0m \u001b[38;5;28;01mwith\u001b[39;00m \u001b[38;5;28mself\u001b[39m\u001b[38;5;241m.\u001b[39mbuiltin_trap:\n\u001b[1;32m   2429\u001b[0m     args \u001b[38;5;241m=\u001b[39m (magic_arg_s, cell)\n\u001b[0;32m-> 2430\u001b[0m     result \u001b[38;5;241m=\u001b[39m \u001b[43mfn\u001b[49m\u001b[43m(\u001b[49m\u001b[38;5;241;43m*\u001b[39;49m\u001b[43margs\u001b[49m\u001b[43m,\u001b[49m\u001b[43m \u001b[49m\u001b[38;5;241;43m*\u001b[39;49m\u001b[38;5;241;43m*\u001b[39;49m\u001b[43mkwargs\u001b[49m\u001b[43m)\u001b[49m\n\u001b[1;32m   2432\u001b[0m \u001b[38;5;66;03m# The code below prevents the output from being displayed\u001b[39;00m\n\u001b[1;32m   2433\u001b[0m \u001b[38;5;66;03m# when using magics with decodator @output_can_be_silenced\u001b[39;00m\n\u001b[1;32m   2434\u001b[0m \u001b[38;5;66;03m# when the last Python token in the expression is a ';'.\u001b[39;00m\n\u001b[1;32m   2435\u001b[0m \u001b[38;5;28;01mif\u001b[39;00m \u001b[38;5;28mgetattr\u001b[39m(fn, magic\u001b[38;5;241m.\u001b[39mMAGIC_OUTPUT_CAN_BE_SILENCED, \u001b[38;5;28;01mFalse\u001b[39;00m):\n",
      "File \u001b[0;32m/storage/group/ibb3/default/.conda/envs/masters/lib/python3.10/site-packages/IPython/core/magics/script.py:153\u001b[0m, in \u001b[0;36mScriptMagics._make_script_magic.<locals>.named_script_magic\u001b[0;34m(line, cell)\u001b[0m\n\u001b[1;32m    151\u001b[0m \u001b[38;5;28;01melse\u001b[39;00m:\n\u001b[1;32m    152\u001b[0m     line \u001b[38;5;241m=\u001b[39m script\n\u001b[0;32m--> 153\u001b[0m \u001b[38;5;28;01mreturn\u001b[39;00m \u001b[38;5;28;43mself\u001b[39;49m\u001b[38;5;241;43m.\u001b[39;49m\u001b[43mshebang\u001b[49m\u001b[43m(\u001b[49m\u001b[43mline\u001b[49m\u001b[43m,\u001b[49m\u001b[43m \u001b[49m\u001b[43mcell\u001b[49m\u001b[43m)\u001b[49m\n",
      "File \u001b[0;32m/storage/group/ibb3/default/.conda/envs/masters/lib/python3.10/site-packages/IPython/core/magics/script.py:283\u001b[0m, in \u001b[0;36mScriptMagics.shebang\u001b[0;34m(self, line, cell)\u001b[0m\n\u001b[1;32m    281\u001b[0m \u001b[38;5;28;01mtry\u001b[39;00m:\n\u001b[1;32m    282\u001b[0m     p\u001b[38;5;241m.\u001b[39msend_signal(signal\u001b[38;5;241m.\u001b[39mSIGINT)\n\u001b[0;32m--> 283\u001b[0m     \u001b[43min_thread\u001b[49m\u001b[43m(\u001b[49m\u001b[43masyncio\u001b[49m\u001b[38;5;241;43m.\u001b[39;49m\u001b[43mwait_for\u001b[49m\u001b[43m(\u001b[49m\u001b[43mp\u001b[49m\u001b[38;5;241;43m.\u001b[39;49m\u001b[43mwait\u001b[49m\u001b[43m(\u001b[49m\u001b[43m)\u001b[49m\u001b[43m,\u001b[49m\u001b[43m \u001b[49m\u001b[43mtimeout\u001b[49m\u001b[38;5;241;43m=\u001b[39;49m\u001b[38;5;241;43m0.1\u001b[39;49m\u001b[43m)\u001b[49m\u001b[43m)\u001b[49m\n\u001b[1;32m    284\u001b[0m     \u001b[38;5;28;01mif\u001b[39;00m p\u001b[38;5;241m.\u001b[39mreturncode \u001b[38;5;129;01mis\u001b[39;00m \u001b[38;5;129;01mnot\u001b[39;00m \u001b[38;5;28;01mNone\u001b[39;00m:\n\u001b[1;32m    285\u001b[0m         \u001b[38;5;28mprint\u001b[39m(\u001b[38;5;124m\"\u001b[39m\u001b[38;5;124mProcess is interrupted.\u001b[39m\u001b[38;5;124m\"\u001b[39m)\n",
      "File \u001b[0;32m/storage/group/ibb3/default/.conda/envs/masters/lib/python3.10/site-packages/IPython/core/magics/script.py:209\u001b[0m, in \u001b[0;36mScriptMagics.shebang.<locals>.in_thread\u001b[0;34m(coro)\u001b[0m\n\u001b[1;32m    207\u001b[0m \u001b[38;5;28;01mdef\u001b[39;00m \u001b[38;5;21min_thread\u001b[39m(coro):\n\u001b[1;32m    208\u001b[0m \u001b[38;5;250m    \u001b[39m\u001b[38;5;124;03m\"\"\"Call a coroutine on the asyncio thread\"\"\"\u001b[39;00m\n\u001b[0;32m--> 209\u001b[0m     \u001b[38;5;28;01mreturn\u001b[39;00m \u001b[43masyncio\u001b[49m\u001b[38;5;241;43m.\u001b[39;49m\u001b[43mrun_coroutine_threadsafe\u001b[49m\u001b[43m(\u001b[49m\u001b[43mcoro\u001b[49m\u001b[43m,\u001b[49m\u001b[43m \u001b[49m\u001b[43mevent_loop\u001b[49m\u001b[43m)\u001b[49m\u001b[38;5;241;43m.\u001b[39;49m\u001b[43mresult\u001b[49m\u001b[43m(\u001b[49m\u001b[43m)\u001b[49m\n",
      "File \u001b[0;32m/storage/group/ibb3/default/.conda/envs/masters/lib/python3.10/concurrent/futures/_base.py:453\u001b[0m, in \u001b[0;36mFuture.result\u001b[0;34m(self, timeout)\u001b[0m\n\u001b[1;32m    450\u001b[0m \u001b[38;5;28;01melif\u001b[39;00m \u001b[38;5;28mself\u001b[39m\u001b[38;5;241m.\u001b[39m_state \u001b[38;5;241m==\u001b[39m FINISHED:\n\u001b[1;32m    451\u001b[0m     \u001b[38;5;28;01mreturn\u001b[39;00m \u001b[38;5;28mself\u001b[39m\u001b[38;5;241m.\u001b[39m__get_result()\n\u001b[0;32m--> 453\u001b[0m \u001b[38;5;28;43mself\u001b[39;49m\u001b[38;5;241;43m.\u001b[39;49m\u001b[43m_condition\u001b[49m\u001b[38;5;241;43m.\u001b[39;49m\u001b[43mwait\u001b[49m\u001b[43m(\u001b[49m\u001b[43mtimeout\u001b[49m\u001b[43m)\u001b[49m\n\u001b[1;32m    455\u001b[0m \u001b[38;5;28;01mif\u001b[39;00m \u001b[38;5;28mself\u001b[39m\u001b[38;5;241m.\u001b[39m_state \u001b[38;5;129;01min\u001b[39;00m [CANCELLED, CANCELLED_AND_NOTIFIED]:\n\u001b[1;32m    456\u001b[0m     \u001b[38;5;28;01mraise\u001b[39;00m CancelledError()\n",
      "File \u001b[0;32m/storage/group/ibb3/default/.conda/envs/masters/lib/python3.10/threading.py:320\u001b[0m, in \u001b[0;36mCondition.wait\u001b[0;34m(self, timeout)\u001b[0m\n\u001b[1;32m    318\u001b[0m \u001b[38;5;28;01mtry\u001b[39;00m:    \u001b[38;5;66;03m# restore state no matter what (e.g., KeyboardInterrupt)\u001b[39;00m\n\u001b[1;32m    319\u001b[0m     \u001b[38;5;28;01mif\u001b[39;00m timeout \u001b[38;5;129;01mis\u001b[39;00m \u001b[38;5;28;01mNone\u001b[39;00m:\n\u001b[0;32m--> 320\u001b[0m         \u001b[43mwaiter\u001b[49m\u001b[38;5;241;43m.\u001b[39;49m\u001b[43macquire\u001b[49m\u001b[43m(\u001b[49m\u001b[43m)\u001b[49m\n\u001b[1;32m    321\u001b[0m         gotit \u001b[38;5;241m=\u001b[39m \u001b[38;5;28;01mTrue\u001b[39;00m\n\u001b[1;32m    322\u001b[0m     \u001b[38;5;28;01melse\u001b[39;00m:\n",
      "\u001b[0;31mKeyboardInterrupt\u001b[0m: "
     ]
    }
   ],
   "source": [
    "%%bash\n",
    "source ~/.bashrc\n",
    "conda activate beagle\n",
    "rm ../calls/final_gwas_dataset.vcf.gz.tbi\n",
    "bcftools merge ../calls/wgs_samples_rehead.vcf.gz \\\n",
    "    ../calls/phenotyped_microarray_imputed_filteredDR2.vcf.gz \\\n",
    "    -O z > ../calls/final_gwas_dataset.vcf.gz\n",
    "tabix ../calls/final_gwas_dataset.vcf.gz"
   ]
  },
  {
   "cell_type": "code",
   "execution_count": null,
   "id": "1bfda75b",
   "metadata": {},
   "outputs": [],
   "source": [
    "metadata = pd.read_csv(\"../2024_01_12_PsuData_fixed.csv\")\n",
    "metadata = metadata.reset_index(drop=False)\n",
    "metadata[\"Notes\"] = metadata[\"Notes\"].fillna(\"\")\n",
    "metadata.columns = ['GWAS_name', 'genetNumber', 'FixedTubeID', 'cbassRun', 'species', 'Notes',\n",
    "       'Novogene_ID', 'geno', 'Best Galaxy Match Reef Name',\n",
    "       'Best Galaxy Match Clonal ID', 'Fixed Best Galaxy Match Clonal ID',\n",
    "       'Best Galaxy Match KING Coefficient', 'Questionable?', 'presumed_geno',\n",
    "       'name', 'year', 'nursery', 'region', 'fixed_ed50', 'ed50', 'stdError',\n",
    "       'nurseRes', 'ed50Adj', 'temperature', 'fixed_logSh', 'logSh', 'dom',\n",
    "       'Best Galaxy Match', 'Best Galaxy Match User ID']\n",
    "metadata[\"GWAS_name\"] = \"sample\" + metadata[\"GWAS_name\"].astype(str) "
   ]
  },
  {
   "cell_type": "code",
   "execution_count": null,
   "id": "8c3159d5",
   "metadata": {},
   "outputs": [],
   "source": [
    "metadata = (metadata[~metadata[\"Notes\"].str.contains(\"Abnormally\")]\n",
    " [metadata[\"fixed_ed50\"].notna()]\n",
    " [metadata[\"fixed_logSh\"].notna()])"
   ]
  },
  {
   "cell_type": "code",
   "execution_count": null,
   "id": "db0f6f3c",
   "metadata": {},
   "outputs": [],
   "source": [
    "metadata[[\"GWAS_name\", \"GWAS_name\"]].to_csv(\"../calls/GEMMA_no_missing.txt\", \n",
    "                                                                   header = None, \n",
    "                                                                   sep = \"\\t\", index = False)"
   ]
  },
  {
   "cell_type": "code",
   "execution_count": null,
   "id": "7853b5a6",
   "metadata": {},
   "outputs": [],
   "source": [
    "%%bash\n",
    "source ~/.bashrc\n",
    "conda activate ipyrad\n",
    "plink --vcf ../calls/final_gwas_dataset.vcf.gz \\\n",
    "    --allow-extra-chr --keep ../calls/GEMMA_no_missing.txt \\\n",
    "    --make-bed --out ../calls/final_gwas_dataset"
   ]
  },
  {
   "cell_type": "code",
   "execution_count": 283,
   "id": "0a7b2283",
   "metadata": {},
   "outputs": [],
   "source": [
    "!cut -d\" \" -f1 ../calls/final_gwas_dataset.fam > ../calls/final_gwas_dataset_sample_order.txt"
   ]
  },
  {
   "cell_type": "code",
   "execution_count": 285,
   "id": "2db093b4",
   "metadata": {},
   "outputs": [],
   "source": [
    "%%bash\n",
    "source ~/.bashrc\n",
    "conda activate beagle\n",
    "bcftools view --targets-file ../microarray_positions.tsv \\\n",
    "    ../calls/final_gwas_dataset.vcf.gz \\\n",
    "    | bcftools annotate --set-id +'%CHROM\\_%POS\\_%REF\\_%FIRST_ALT' \\\n",
    "    -O z > ~/scratch/gemma_pca.vcf.gz"
   ]
  },
  {
   "cell_type": "code",
   "execution_count": 310,
   "id": "cc39cc8a",
   "metadata": {},
   "outputs": [
    {
     "name": "stdout",
     "output_type": "stream",
     "text": [
      "ERROR: This cross-compiler package contains no program /storage/group/ibb3/default/.conda/envs/ipyrad/bin/x86_64-conda_cos6-linux-gnu-cc\n",
      "ERROR: activate-gcc_linux-64.sh failed, see above for details\n"
     ]
    },
    {
     "name": "stderr",
     "output_type": "stream",
     "text": [
      "\n",
      "VCFtools - 0.1.16\n",
      "(C) Adam Auton and Anthony Marcketta 2009\n",
      "\n",
      "Parameters as interpreted:\n",
      "\t--gzvcf /storage/home/nsl5160/scratch/gemma_pca.vcf.gz\n",
      "\t--maf 0.05\n",
      "\t--thin 20000\n",
      "\t--out ../calls/gemma_pca\n",
      "\t--recode\n",
      "\n",
      "Using zlib version: 1.2.11\n",
      "After filtering, kept 294 out of 294 Individuals\n",
      "Outputting VCF file...\n",
      "After filtering, kept 2826 out of a possible 5677 Sites\n",
      "Run Time = 4.00 seconds\n"
     ]
    }
   ],
   "source": [
    "%%bash\n",
    "source ~/.bashrc\n",
    "conda activate ipyrad\n",
    "vcftools --gzvcf ~/scratch/gemma_pca.vcf.gz \\\n",
    "    --thin 20000 --maf 0.05 \\\n",
    "    --recode --out ../calls/gemma_pca"
   ]
  },
  {
   "cell_type": "code",
   "execution_count": 313,
   "id": "72fd748a",
   "metadata": {},
   "outputs": [
    {
     "name": "stdout",
     "output_type": "stream",
     "text": [
      "ERROR: This cross-compiler package contains no program /storage/group/ibb3/default/.conda/envs/ipyrad/bin/x86_64-conda_cos6-linux-gnu-cc\n",
      "ERROR: activate-gcc_linux-64.sh failed, see above for details\n",
      "PLINK v2.00a2.3LM 64-bit Intel (24 Jan 2020)   www.cog-genomics.org/plink/2.0/\n",
      "(C) 2005-2020 Shaun Purcell, Christopher Chang   GNU General Public License v3\n",
      "Logging to ../calls/gemma_pca.log.\n",
      "Options in effect:\n",
      "  --allow-extra-chr\n",
      "  --make-king-table\n",
      "  --out ../calls/gemma_pca\n",
      "  --vcf ../calls/gemma_pca.recode.vcf\n",
      "\n",
      "Start time: Thu Feb  8 11:47:03 2024\n",
      "128802 MiB RAM detected; reserving 64401 MiB for main workspace.\n",
      "Using up to 24 threads (change this with --threads).\n",
      "--vcf: 2826 variants scanned.\n",
      "--vcf: ../calls/gemma_pca-temporary.pgen + ../calls/gemma_pca-temporary.pvar +\n",
      "../calls/gemma_pca-temporary.psam written.\n",
      "294 samples (0 females, 0 males, 294 ambiguous; 294 founders) loaded from\n",
      "../calls/gemma_pca-temporary.psam.\n",
      "2826 variants loaded from ../calls/gemma_pca-temporary.pvar.\n",
      "Note: No phenotype data present.\n",
      "--make-king-table pass 1/1: Scanning for rare variants... done.\n",
      "0 variants handled by initial scan (2826 remaining).\n",
      "--make-king-table pass 1/1: Writing...                   done.\n",
      "--make-king-table: 2826 variants processed.\n",
      "Results written to ../calls/gemma_pca.kin0 .\n",
      "End time: Thu Feb  8 11:47:03 2024\n"
     ]
    }
   ],
   "source": [
    "%%bash\n",
    "source ~/.bashrc\n",
    "conda activate ipyrad\n",
    "plink2 --vcf ../calls/gemma_pca.recode.vcf \\\n",
    "    --allow-extra-chr \\\n",
    "    --make-king-table \\\n",
    "    --out ../calls/gemma_pca"
   ]
  },
  {
   "cell_type": "code",
   "execution_count": 314,
   "id": "d2de7fa9",
   "metadata": {
    "scrolled": true
   },
   "outputs": [
    {
     "name": "stdout",
     "output_type": "stream",
     "text": [
      "ERROR: This cross-compiler package contains no program /storage/group/ibb3/default/.conda/envs/ipyrad/bin/x86_64-conda_cos6-linux-gnu-cc\n",
      "ERROR: activate-gcc_linux-64.sh failed, see above for details\n",
      "PLINK v2.00a2.3LM 64-bit Intel (24 Jan 2020)   www.cog-genomics.org/plink/2.0/\n",
      "(C) 2005-2020 Shaun Purcell, Christopher Chang   GNU General Public License v3\n",
      "Logging to ../calls/gemma_pca.log.\n",
      "Options in effect:\n",
      "  --allow-extra-chr\n",
      "  --king-cutoff 0.25\n",
      "  --out ../calls/gemma_pca\n",
      "  --vcf ../calls/gemma_pca.recode.vcf\n",
      "\n",
      "Start time: Thu Feb  8 11:47:11 2024\n",
      "128802 MiB RAM detected; reserving 64401 MiB for main workspace.\n",
      "Using up to 24 threads (change this with --threads).\n",
      "--vcf: 2826 variants scanned.\n",
      "--vcf: ../calls/gemma_pca-temporary.pgen + ../calls/gemma_pca-temporary.pvar +\n",
      "../calls/gemma_pca-temporary.psam written.\n",
      "294 samples (0 females, 0 males, 294 ambiguous; 294 founders) loaded from\n",
      "../calls/gemma_pca-temporary.psam.\n",
      "2826 variants loaded from ../calls/gemma_pca-temporary.pvar.\n",
      "Note: No phenotype data present.\n",
      "--king-cutoff pass 1/1: Scanning for rare variants... done.\n",
      "0 variants handled by initial scan (2826 remaining).\n",
      "--king-cutoff pass 1/1: Condensing...               done.\n",
      "--king-cutoff: 2826 variants processed.\n",
      "--king-cutoff: Excluded sample IDs written to\n",
      "../calls/gemma_pca.king.cutoff.out.id , and 168 remaining sample IDs written to\n",
      "../calls/gemma_pca.king.cutoff.in.id .\n",
      "End time: Thu Feb  8 11:47:11 2024\n"
     ]
    }
   ],
   "source": [
    "%%bash\n",
    "source ~/.bashrc\n",
    "conda activate ipyrad\n",
    "plink2 --vcf ../calls/gemma_pca.recode.vcf \\\n",
    "    --allow-extra-chr \\\n",
    "    --king-cutoff 0.25 \\\n",
    "    --out ../calls/gemma_pca"
   ]
  },
  {
   "cell_type": "code",
   "execution_count": 320,
   "id": "1cec3a7c",
   "metadata": {},
   "outputs": [
    {
     "name": "stdout",
     "output_type": "stream",
     "text": [
      "ERROR: This cross-compiler package contains no program /storage/group/ibb3/default/.conda/envs/ipyrad/bin/x86_64-conda_cos6-linux-gnu-cc\n",
      "ERROR: activate-gcc_linux-64.sh failed, see above for details\n"
     ]
    },
    {
     "name": "stderr",
     "output_type": "stream",
     "text": [
      "\n",
      "VCFtools - 0.1.16\n",
      "(C) Adam Auton and Anthony Marcketta 2009\n",
      "\n",
      "Parameters as interpreted:\n",
      "\t--gzvcf ../calls/final_gwas_dataset.vcf.gz\n",
      "\t--keep ../calls/gemma_pca.king.cutoff.in.id\n",
      "\t--thin 20000\n",
      "\t--out ../calls/gemma_pca_thinned\n",
      "\t--recode\n",
      "\n",
      "Using zlib version: 1.2.11\n",
      "Keeping individuals in 'keep' list\n",
      "After filtering, kept 168 out of 294 Individuals\n",
      "Outputting VCF file...\n",
      "After filtering, kept 14010 out of a possible 2343144 Sites\n",
      "Run Time = 140.00 seconds\n"
     ]
    }
   ],
   "source": [
    "%%bash\n",
    "source ~/.bashrc\n",
    "conda activate ipyrad\n",
    "vcftools --gzvcf ../calls/final_gwas_dataset.vcf.gz \\\n",
    "    --thin 20000 --keep ../calls/gemma_pca.king.cutoff.in.id \\\n",
    "    --recode --out ../calls/gemma_pca_thinned"
   ]
  },
  {
   "cell_type": "code",
   "execution_count": 321,
   "id": "671fa2ac",
   "metadata": {
    "scrolled": true
   },
   "outputs": [
    {
     "name": "stdout",
     "output_type": "stream",
     "text": [
      "ERROR: This cross-compiler package contains no program /storage/group/ibb3/default/.conda/envs/ipyrad/bin/x86_64-conda_cos6-linux-gnu-cc\n",
      "ERROR: activate-gcc_linux-64.sh failed, see above for details\n",
      "PLINK v2.00a2.3LM 64-bit Intel (24 Jan 2020)   www.cog-genomics.org/plink/2.0/\n",
      "(C) 2005-2020 Shaun Purcell, Christopher Chang   GNU General Public License v3\n",
      "Logging to ../calls/gemma_pca.log.\n",
      "Options in effect:\n",
      "  --allow-extra-chr\n",
      "  --mac 3\n",
      "  --out ../calls/gemma_pca\n",
      "  --pca\n",
      "  --vcf ../calls/gemma_pca_thinned.recode.vcf\n",
      "\n",
      "Start time: Thu Feb  8 11:50:30 2024\n",
      "128802 MiB RAM detected; reserving 64401 MiB for main workspace.\n",
      "Using up to 24 threads (change this with --threads).\n",
      "--vcf: 14010 variants scanned.\n",
      "--vcf: ../calls/gemma_pca-temporary.pgen + ../calls/gemma_pca-temporary.pvar +\n",
      "../calls/gemma_pca-temporary.psam written.\n",
      "168 samples (0 females, 0 males, 168 ambiguous; 168 founders) loaded from\n",
      "../calls/gemma_pca-temporary.psam.\n",
      "14010 variants loaded from ../calls/gemma_pca-temporary.pvar.\n",
      "Note: No phenotype data present.\n",
      "Calculating allele frequencies... done.\n",
      "501 variants removed due to allele frequency threshold(s)\n",
      "(--maf/--max-maf/--mac/--max-mac).\n",
      "13509 variants remaining after main filters.\n",
      "Constructing GRM: 101112131415171819202122232425262728293031333435363738394041424344454647495051525354555657585960616263656667686970717273747576777879818283848586878889909192939495979899done.\n",
      "Correcting for missingness... 101113141516171920212223252627282930323334353638394041424445464748505152535456575859606163646566676970717273757677787981828384858688899091929495969798done.\n",
      "Extracting eigenvalues and eigenvectors... done.\n",
      "--pca: Eigenvectors written to ../calls/gemma_pca.eigenvec , and eigenvalues\n",
      "written to ../calls/gemma_pca.eigenval .\n",
      "End time: Thu Feb  8 11:50:31 2024\n"
     ]
    }
   ],
   "source": [
    "%%bash\n",
    "source ~/.bashrc\n",
    "conda activate ipyrad\n",
    "plink2 --vcf ../calls/gemma_pca_thinned.recode.vcf \\\n",
    "    --allow-extra-chr --mac 3 \\\n",
    "    --pca \\\n",
    "    --out ../calls/gemma_pca"
   ]
  },
  {
   "cell_type": "code",
   "execution_count": 322,
   "id": "ef40d0a2",
   "metadata": {},
   "outputs": [],
   "source": [
    "metadata = pd.read_csv(\"../2024_01_12_PsuData_fixed.csv\")\n",
    "metadata = metadata.reset_index(drop=False)\n",
    "metadata[\"Notes\"] = metadata[\"Notes\"].fillna(\"\")\n",
    "metadata.columns = ['GWAS_name', 'genetNumber', 'FixedTubeID', 'cbassRun', 'species', 'Notes',\n",
    "       'Novogene_ID', 'geno', 'Best Galaxy Match Reef Name',\n",
    "       'Best Galaxy Match Clonal ID', 'Fixed Best Galaxy Match Clonal ID',\n",
    "       'Best Galaxy Match KING Coefficient', 'Questionable?', 'presumed_geno',\n",
    "       'name', 'year', 'nursery', 'region', 'fixed_ed50', 'ed50', 'stdError',\n",
    "       'nurseRes', 'ed50Adj', 'temperature', 'fixed_logSh', 'logSh', 'dom',\n",
    "       'Best Galaxy Match', 'Best Galaxy Match User ID']\n",
    "metadata[\"GWAS_name\"] = \"sample\" + metadata[\"GWAS_name\"].astype(str) "
   ]
  },
  {
   "cell_type": "code",
   "execution_count": 323,
   "id": "fbe76c1a",
   "metadata": {},
   "outputs": [],
   "source": [
    "tmp = pd.read_csv(\"../calls/gemma_pca.eigenvec\", sep = \"\\t\")"
   ]
  },
  {
   "cell_type": "code",
   "execution_count": 324,
   "id": "15b0f5f7",
   "metadata": {},
   "outputs": [],
   "source": [
    "tmp.columns = ['GWAS_name', 'PC1', 'PC2', 'PC3', 'PC4', 'PC5', 'PC6', 'PC7', 'PC8', 'PC9',\n",
    "       'PC10']"
   ]
  },
  {
   "cell_type": "code",
   "execution_count": 325,
   "id": "af62d879",
   "metadata": {},
   "outputs": [],
   "source": [
    "metadata = metadata.merge(tmp, how = \"left\", on = \"GWAS_name\").reset_index(drop=True)"
   ]
  },
  {
   "cell_type": "code",
   "execution_count": 326,
   "id": "eaa90c2c",
   "metadata": {},
   "outputs": [
    {
     "data": {
      "text/plain": [
       "<Axes: xlabel='PC1', ylabel='PC2'>"
      ]
     },
     "execution_count": 326,
     "metadata": {},
     "output_type": "execute_result"
    },
    {
     "data": {
      "image/png": "[encoded data removed]",
      "text/plain": [
       "<Figure size 640x480 with 1 Axes>"
      ]
     },
     "metadata": {},
     "output_type": "display_data"
    }
   ],
   "source": [
    "sns.scatterplot(data = metadata, x = \"PC1\", y = \"PC2\", hue = \"region\")"
   ]
  },
  {
   "cell_type": "markdown",
   "id": "97f82211",
   "metadata": {
    "scrolled": true
   },
   "source": [
    "for i in range(len(metadata)):\n",
    "    if metadata[\"Best Galaxy Match Clonal ID\"][i] is np.nan:\n",
    "        metadata[\"Best Galaxy Match Clonal ID\"][i] = metadata[\"presumed_geno\"][i]"
   ]
  },
  {
   "cell_type": "markdown",
   "id": "b58b509e",
   "metadata": {},
   "source": [
    "Since we excluded related individuals in the PCA, we have to add them back in here (by re-using coordinates from clonemates):"
   ]
  },
  {
   "cell_type": "code",
   "execution_count": 327,
   "id": "cc4c4417",
   "metadata": {
    "scrolled": true
   },
   "outputs": [
    {
     "name": "stderr",
     "output_type": "stream",
     "text": [
      "/tmp/ipykernel_2404017/1786308099.py:4: SettingWithCopyWarning: \n",
      "A value is trying to be set on a copy of a slice from a DataFrame\n",
      "\n",
      "See the caveats in the documentation: https://pandas.pydata.org/pandas-docs/stable/user_guide/indexing.html#returning-a-view-versus-a-copy\n",
      "  metadata[\"PC1\"][i] = (metadata[\"PC1\"][metadata[\"Fixed Best Galaxy Match Clonal ID\"]\n",
      "/tmp/ipykernel_2404017/1786308099.py:7: SettingWithCopyWarning: \n",
      "A value is trying to be set on a copy of a slice from a DataFrame\n",
      "\n",
      "See the caveats in the documentation: https://pandas.pydata.org/pandas-docs/stable/user_guide/indexing.html#returning-a-view-versus-a-copy\n",
      "  metadata[\"PC2\"][i] = (metadata[\"PC2\"][metadata[\"Fixed Best Galaxy Match Clonal ID\"]\n",
      "/tmp/ipykernel_2404017/1786308099.py:10: SettingWithCopyWarning: \n",
      "A value is trying to be set on a copy of a slice from a DataFrame\n",
      "\n",
      "See the caveats in the documentation: https://pandas.pydata.org/pandas-docs/stable/user_guide/indexing.html#returning-a-view-versus-a-copy\n",
      "  metadata[\"PC3\"][i] = (metadata[\"PC3\"][metadata[\"Fixed Best Galaxy Match Clonal ID\"]\n",
      "/tmp/ipykernel_2404017/1786308099.py:13: SettingWithCopyWarning: \n",
      "A value is trying to be set on a copy of a slice from a DataFrame\n",
      "\n",
      "See the caveats in the documentation: https://pandas.pydata.org/pandas-docs/stable/user_guide/indexing.html#returning-a-view-versus-a-copy\n",
      "  metadata[\"PC4\"][i] = (metadata[\"PC4\"][metadata[\"Fixed Best Galaxy Match Clonal ID\"]\n",
      "/tmp/ipykernel_2404017/1786308099.py:16: SettingWithCopyWarning: \n",
      "A value is trying to be set on a copy of a slice from a DataFrame\n",
      "\n",
      "See the caveats in the documentation: https://pandas.pydata.org/pandas-docs/stable/user_guide/indexing.html#returning-a-view-versus-a-copy\n",
      "  metadata[\"PC5\"][i] = (metadata[\"PC5\"][metadata[\"Fixed Best Galaxy Match Clonal ID\"]\n"
     ]
    }
   ],
   "source": [
    "for i in range(len(metadata)):\n",
    "    if np.isnan(metadata[\"PC1\"][i]):\n",
    "        try:\n",
    "            metadata[\"PC1\"][i] = (metadata[\"PC1\"][metadata[\"Fixed Best Galaxy Match Clonal ID\"] \n",
    "                                                  == metadata[\"Fixed Best Galaxy Match Clonal ID\"][i]]\n",
    "                              [metadata[\"PC1\"].notna()].reset_index(drop=True))[0]\n",
    "            metadata[\"PC2\"][i] = (metadata[\"PC2\"][metadata[\"Fixed Best Galaxy Match Clonal ID\"] \n",
    "                                                  == metadata[\"Fixed Best Galaxy Match Clonal ID\"][i]]\n",
    "                              [metadata[\"PC2\"].notna()].reset_index(drop=True))[0]\n",
    "            metadata[\"PC3\"][i] = (metadata[\"PC3\"][metadata[\"Fixed Best Galaxy Match Clonal ID\"] \n",
    "                                                  == metadata[\"Fixed Best Galaxy Match Clonal ID\"][i]]\n",
    "                              [metadata[\"PC3\"].notna()].reset_index(drop=True))[0]\n",
    "            metadata[\"PC4\"][i] = (metadata[\"PC4\"][metadata[\"Fixed Best Galaxy Match Clonal ID\"] \n",
    "                                                  == metadata[\"Fixed Best Galaxy Match Clonal ID\"][i]]\n",
    "                              [metadata[\"PC4\"].notna()].reset_index(drop=True))[0]\n",
    "            metadata[\"PC5\"][i] = (metadata[\"PC5\"][metadata[\"Fixed Best Galaxy Match Clonal ID\"] \n",
    "                                                  == metadata[\"Fixed Best Galaxy Match Clonal ID\"][i]]\n",
    "                              [metadata[\"PC5\"].notna()].reset_index(drop=True))[0]\n",
    "        except:\n",
    "            pass"
   ]
  },
  {
   "cell_type": "code",
   "execution_count": 331,
   "id": "2652c199",
   "metadata": {},
   "outputs": [],
   "source": [
    "sampleorder = pd.read_csv(\"../calls/final_gwas_dataset_sample_order.txt\", header = None, names = [\"GWAS_name\"])"
   ]
  },
  {
   "cell_type": "code",
   "execution_count": 332,
   "id": "ef3587c3",
   "metadata": {},
   "outputs": [],
   "source": [
    "metadata = metadata[metadata[\"GWAS_name\"].isin(sampleorder[\"GWAS_name\"].tolist())].reset_index(drop=True)"
   ]
  },
  {
   "cell_type": "code",
   "execution_count": 336,
   "id": "5e5e32f2",
   "metadata": {},
   "outputs": [],
   "source": [
    "phenodata = metadata[[\"GWAS_name\", 'genetNumber', \"nursery\", \"year\", \"fixed_ed50\", \"fixed_logSh\", \"PC1\", \"PC2\", \"PC3\", \"PC4\", \"PC5\"]]"
   ]
  },
  {
   "cell_type": "code",
   "execution_count": 337,
   "id": "16debf14",
   "metadata": {},
   "outputs": [],
   "source": [
    "phenodata = pd.concat([phenodata, pd.get_dummies(phenodata[[\"nursery\"]])], axis = 1)"
   ]
  },
  {
   "cell_type": "code",
   "execution_count": 338,
   "id": "33b7f183",
   "metadata": {},
   "outputs": [],
   "source": [
    "phenodata.loc[phenodata[\"year\"] == 2022, \"year\"] = \"twentytwo\"\n",
    "phenodata.loc[phenodata[\"year\"] == 2023, \"year\"] = \"twentythree\""
   ]
  },
  {
   "cell_type": "code",
   "execution_count": 339,
   "id": "c7d44353",
   "metadata": {},
   "outputs": [],
   "source": [
    "phenodata = pd.concat([phenodata, pd.get_dummies(phenodata[[\"year\"]])], axis = 1)"
   ]
  },
  {
   "cell_type": "markdown",
   "id": "a6d600fc",
   "metadata": {},
   "source": [
    "phenodata[\"ed50\"] = phenodata[\"ed50\"].fillna(\"NA\")\n",
    "phenodata[\"logSh\"] = phenodata[\"logSh\"].fillna(\"\")"
   ]
  },
  {
   "cell_type": "code",
   "execution_count": 340,
   "id": "732b7d3d",
   "metadata": {},
   "outputs": [],
   "source": [
    "sampleorder = phenodata.copy()"
   ]
  },
  {
   "cell_type": "code",
   "execution_count": 341,
   "id": "678a4efa",
   "metadata": {},
   "outputs": [],
   "source": [
    "sampleorder[\"intercept\"] = 1"
   ]
  },
  {
   "cell_type": "code",
   "execution_count": 342,
   "id": "ff48e280",
   "metadata": {},
   "outputs": [],
   "source": [
    "sampleorder[\"nursery_latitude\"] = np.nan\n",
    "sampleorder.loc[sampleorder[\"nursery_CRF\"] == 1, \"nursery_latitude\"] = 24.982212\n",
    "sampleorder.loc[sampleorder[\"nursery_RR\"] == 1, \"nursery_latitude\"] = 24.980650\n",
    "sampleorder.loc[sampleorder[\"nursery_UM\"] == 1, \"nursery_latitude\"] = 25.362550"
   ]
  },
  {
   "cell_type": "code",
   "execution_count": 343,
   "id": "5b7cc80a",
   "metadata": {},
   "outputs": [],
   "source": [
    "(sampleorder[[\"intercept\", \"nursery_latitude\", \"PC1\", \"PC2\", \"PC3\"]]#, \"nursery_CRF\", \"nursery_RR\", \"nursery_UM\"]]\n",
    " .set_index(\"intercept\")\n",
    " .to_csv(\"../calls/gemma_covar.cov\", sep = \"\\t\", header = None))"
   ]
  },
  {
   "cell_type": "code",
   "execution_count": 344,
   "id": "d900e800",
   "metadata": {},
   "outputs": [],
   "source": [
    "(sampleorder[[\"fixed_ed50\", \"fixed_logSh\"]].set_index(\"fixed_ed50\")\n",
    " .to_csv(\"../calls/gemma_pheno.pheno\", sep = \"\\t\", header = None))"
   ]
  },
  {
   "cell_type": "code",
   "execution_count": 345,
   "id": "3293bd23",
   "metadata": {},
   "outputs": [],
   "source": [
    "%%bash\n",
    "cd ../calls\n",
    "cut -d' ' -f1,2,3,4,5 final_gwas_dataset.fam > final_gwas_dataset_modified.fam\n",
    "paste -d ' ' final_gwas_dataset_modified.fam gemma_pheno.pheno > final_gwas_dataset.fam"
   ]
  },
  {
   "cell_type": "code",
   "execution_count": 346,
   "id": "53d55408",
   "metadata": {},
   "outputs": [],
   "source": [
    "locoannotation = pd.read_csv(\"../calls/final_gwas_dataset.bim\", sep = \"\\t\", header = None)"
   ]
  },
  {
   "cell_type": "code",
   "execution_count": 347,
   "id": "c4817f81",
   "metadata": {},
   "outputs": [],
   "source": [
    "locoannotation[\"ID\"] = locoannotation[0] + locoannotation[3].astype(str)"
   ]
  },
  {
   "cell_type": "code",
   "execution_count": 348,
   "id": "3a50e4b1",
   "metadata": {},
   "outputs": [],
   "source": [
    "locoannotation[[\"ID\", 3, 0]].set_index(\"ID\").to_csv(\"../calls/annotation.csv\", sep = \",\", header = None)"
   ]
  }
 ],
 "metadata": {
  "kernelspec": {
   "display_name": "Masters Env",
   "language": "python",
   "name": "masters"
  },
  "language_info": {
   "codemirror_mode": {
    "name": "ipython",
    "version": 3
   },
   "file_extension": ".py",
   "mimetype": "text/x-python",
   "name": "python",
   "nbconvert_exporter": "python",
   "pygments_lexer": "ipython3",
   "version": "3.10.8"
  }
 },
 "nbformat": 4,
 "nbformat_minor": 5
}
