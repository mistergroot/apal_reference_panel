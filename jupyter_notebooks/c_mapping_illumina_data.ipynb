{
 "cells": [
  {
   "cell_type": "code",
   "execution_count": 1,
   "id": "0b5fab80",
   "metadata": {},
   "outputs": [],
   "source": [
    "import pandas as pd\n",
    "import numpy as np\n",
    "import subprocess\n",
    "import glob"
   ]
  },
  {
   "cell_type": "markdown",
   "id": "ebdbeaab",
   "metadata": {},
   "source": [
    "Now for mapping we bwa-mem using a concatenated reference containing the host (Apal) and symbionts (Symbiodinium, Breviolum, Cladocopium, and Durusdinium). For sorting and marking duplicates, we use Sambamba:"
   ]
  },
  {
   "cell_type": "code",
   "execution_count": 4,
   "id": "4ce20c43",
   "metadata": {},
   "outputs": [],
   "source": [
    "metadata = pd.read_csv(\"../filtered_DARPA_metadata.csv\")\n",
    "platemap = pd.read_csv(\"../huck_sub_id.csv\")\n",
    "metadata = platemap.merge(metadata, how = \"left\", on = \"Huck_Sub_ID\")\n",
    "metadata[\"Novogene_ID\"] = \"A\" + metadata[\"Database ID\"].astype(str)"
   ]
  },
  {
   "cell_type": "code",
   "execution_count": 11,
   "id": "fb68ec05",
   "metadata": {
    "scrolled": true
   },
   "outputs": [
    {
     "name": "stderr",
     "output_type": "stream",
     "text": [
      "sbatch: slurm_job_submit: No account set, using default acct: open\n"
     ]
    },
    {
     "name": "stdout",
     "output_type": "stream",
     "text": [
      "Submitted batch job 5202734\n"
     ]
    },
    {
     "name": "stderr",
     "output_type": "stream",
     "text": [
      "sbatch: slurm_job_submit: No account set, using default acct: open\n"
     ]
    },
    {
     "name": "stdout",
     "output_type": "stream",
     "text": [
      "Submitted batch job 5202735\n"
     ]
    },
    {
     "name": "stderr",
     "output_type": "stream",
     "text": [
      "sbatch: slurm_job_submit: No account set, using default acct: open\n"
     ]
    },
    {
     "name": "stdout",
     "output_type": "stream",
     "text": [
      "Submitted batch job 5202736\n",
      "Submitted batch job 5202737\n"
     ]
    },
    {
     "name": "stderr",
     "output_type": "stream",
     "text": [
      "sbatch: slurm_job_submit: No account set, using default acct: open\n"
     ]
    },
    {
     "name": "stdout",
     "output_type": "stream",
     "text": [
      "Submitted batch job 5202738\n"
     ]
    },
    {
     "name": "stderr",
     "output_type": "stream",
     "text": [
      "sbatch: slurm_job_submit: No account set, using default acct: open\n"
     ]
    },
    {
     "name": "stdout",
     "output_type": "stream",
     "text": [
      "Submitted batch job 5202739\n"
     ]
    },
    {
     "name": "stderr",
     "output_type": "stream",
     "text": [
      "sbatch: slurm_job_submit: No account set, using default acct: open\n",
      "sbatch: slurm_job_submit: No account set, using default acct: open\n"
     ]
    },
    {
     "name": "stdout",
     "output_type": "stream",
     "text": [
      "Submitted batch job 5202740\n",
      "Submitted batch job 5202741\n",
      "Submitted batch job 5202742\n"
     ]
    },
    {
     "name": "stderr",
     "output_type": "stream",
     "text": [
      "sbatch: slurm_job_submit: No account set, using default acct: open\n",
      "sbatch: slurm_job_submit: No account set, using default acct: open\n"
     ]
    },
    {
     "name": "stdout",
     "output_type": "stream",
     "text": [
      "Submitted batch job 5202743\n",
      "Submitted batch job 5202744\n"
     ]
    },
    {
     "name": "stderr",
     "output_type": "stream",
     "text": [
      "sbatch: slurm_job_submit: No account set, using default acct: open\n",
      "sbatch: slurm_job_submit: No account set, using default acct: open\n",
      "sbatch: slurm_job_submit: No account set, using default acct: open\n",
      "sbatch: slurm_job_submit: No account set, using default acct: open\n"
     ]
    },
    {
     "name": "stdout",
     "output_type": "stream",
     "text": [
      "Submitted batch job 5202745\n",
      "Submitted batch job 5202746\n"
     ]
    },
    {
     "name": "stderr",
     "output_type": "stream",
     "text": [
      "sbatch: slurm_job_submit: No account set, using default acct: open\n",
      "sbatch: slurm_job_submit: No account set, using default acct: open\n"
     ]
    },
    {
     "name": "stdout",
     "output_type": "stream",
     "text": [
      "Submitted batch job 5202747\n",
      "Submitted batch job 5202748\n",
      "Submitted batch job 5202749\n",
      "Submitted batch job 5202750\n"
     ]
    },
    {
     "name": "stderr",
     "output_type": "stream",
     "text": [
      "sbatch: slurm_job_submit: No account set, using default acct: open\n",
      "sbatch: slurm_job_submit: No account set, using default acct: open\n",
      "sbatch: slurm_job_submit: No account set, using default acct: open\n",
      "sbatch: slurm_job_submit: No account set, using default acct: open\n"
     ]
    },
    {
     "name": "stdout",
     "output_type": "stream",
     "text": [
      "Submitted batch job 5202751\n",
      "Submitted batch job 5202752\n",
      "Submitted batch job 5202753\n",
      "Submitted batch job 5202754\n"
     ]
    },
    {
     "name": "stderr",
     "output_type": "stream",
     "text": [
      "sbatch: slurm_job_submit: No account set, using default acct: open\n",
      "sbatch: slurm_job_submit: No account set, using default acct: open\n"
     ]
    },
    {
     "name": "stdout",
     "output_type": "stream",
     "text": [
      "Submitted batch job 5202755\n",
      "Submitted batch job 5202756\n"
     ]
    },
    {
     "name": "stderr",
     "output_type": "stream",
     "text": [
      "sbatch: slurm_job_submit: No account set, using default acct: open\n",
      "sbatch: slurm_job_submit: No account set, using default acct: open\n"
     ]
    },
    {
     "name": "stdout",
     "output_type": "stream",
     "text": [
      "Submitted batch job 5202757\n",
      "Submitted batch job 5202758\n"
     ]
    },
    {
     "name": "stderr",
     "output_type": "stream",
     "text": [
      "sbatch: slurm_job_submit: No account set, using default acct: open\n",
      "sbatch: slurm_job_submit: No account set, using default acct: open\n",
      "sbatch: slurm_job_submit: No account set, using default acct: open\n",
      "sbatch: slurm_job_submit: No account set, using default acct: open\n"
     ]
    },
    {
     "name": "stdout",
     "output_type": "stream",
     "text": [
      "Submitted batch job 5202759\n",
      "Submitted batch job 5202760\n"
     ]
    },
    {
     "name": "stderr",
     "output_type": "stream",
     "text": [
      "sbatch: slurm_job_submit: No account set, using default acct: open\n"
     ]
    },
    {
     "name": "stdout",
     "output_type": "stream",
     "text": [
      "Submitted batch job 5202761\n",
      "Submitted batch job 5202762\n"
     ]
    },
    {
     "name": "stderr",
     "output_type": "stream",
     "text": [
      "sbatch: slurm_job_submit: No account set, using default acct: open\n",
      "sbatch: slurm_job_submit: No account set, using default acct: open\n",
      "sbatch: slurm_job_submit: No account set, using default acct: open\n"
     ]
    },
    {
     "name": "stdout",
     "output_type": "stream",
     "text": [
      "Submitted batch job 5202763\n",
      "Submitted batch job 5202764\n"
     ]
    },
    {
     "name": "stderr",
     "output_type": "stream",
     "text": [
      "sbatch: slurm_job_submit: No account set, using default acct: open\n",
      "sbatch: slurm_job_submit: No account set, using default acct: open\n"
     ]
    },
    {
     "name": "stdout",
     "output_type": "stream",
     "text": [
      "Submitted batch job 5202765\n",
      "Submitted batch job 5202766\n",
      "Submitted batch job 5202767\n",
      "Submitted batch job 5202768\n"
     ]
    },
    {
     "name": "stderr",
     "output_type": "stream",
     "text": [
      "sbatch: slurm_job_submit: No account set, using default acct: open\n",
      "sbatch: slurm_job_submit: No account set, using default acct: open\n",
      "sbatch: slurm_job_submit: No account set, using default acct: open\n",
      "sbatch: slurm_job_submit: No account set, using default acct: open\n"
     ]
    },
    {
     "name": "stdout",
     "output_type": "stream",
     "text": [
      "Submitted batch job 5202769\n",
      "Submitted batch job 5202770\n"
     ]
    },
    {
     "name": "stderr",
     "output_type": "stream",
     "text": [
      "sbatch: slurm_job_submit: No account set, using default acct: open\n",
      "sbatch: slurm_job_submit: No account set, using default acct: open\n"
     ]
    },
    {
     "name": "stdout",
     "output_type": "stream",
     "text": [
      "Submitted batch job 5202771\n",
      "Submitted batch job 5202772\n"
     ]
    },
    {
     "name": "stderr",
     "output_type": "stream",
     "text": [
      "sbatch: slurm_job_submit: No account set, using default acct: open\n",
      "sbatch: slurm_job_submit: No account set, using default acct: open\n"
     ]
    },
    {
     "name": "stdout",
     "output_type": "stream",
     "text": [
      "Submitted batch job 5202773\n",
      "Submitted batch job 5202774\n",
      "Submitted batch job 5202775\n"
     ]
    },
    {
     "name": "stderr",
     "output_type": "stream",
     "text": [
      "sbatch: slurm_job_submit: No account set, using default acct: open\n",
      "sbatch: slurm_job_submit: No account set, using default acct: open\n",
      "sbatch: slurm_job_submit: No account set, using default acct: open\n"
     ]
    },
    {
     "name": "stdout",
     "output_type": "stream",
     "text": [
      "Submitted batch job 5202776\n",
      "Submitted batch job 5202777\n",
      "Submitted batch job 5202778\n",
      "Submitted batch job 5202779\n"
     ]
    },
    {
     "name": "stderr",
     "output_type": "stream",
     "text": [
      "sbatch: slurm_job_submit: No account set, using default acct: open\n",
      "sbatch: slurm_job_submit: No account set, using default acct: open\n"
     ]
    },
    {
     "name": "stdout",
     "output_type": "stream",
     "text": [
      "Submitted batch job 5202780\n",
      "Submitted batch job 5202781\n"
     ]
    },
    {
     "name": "stderr",
     "output_type": "stream",
     "text": [
      "sbatch: slurm_job_submit: No account set, using default acct: open\n",
      "sbatch: slurm_job_submit: No account set, using default acct: open\n",
      "sbatch: slurm_job_submit: No account set, using default acct: open\n",
      "sbatch: slurm_job_submit: No account set, using default acct: open\n"
     ]
    },
    {
     "name": "stdout",
     "output_type": "stream",
     "text": [
      "Submitted batch job 5202782\n",
      "Submitted batch job 5202783\n",
      "Submitted batch job 5202784\n",
      "Submitted batch job 5202785\n"
     ]
    },
    {
     "name": "stderr",
     "output_type": "stream",
     "text": [
      "sbatch: slurm_job_submit: No account set, using default acct: open\n",
      "sbatch: slurm_job_submit: No account set, using default acct: open\n"
     ]
    },
    {
     "name": "stdout",
     "output_type": "stream",
     "text": [
      "Submitted batch job 5202786\n",
      "Submitted batch job 5202787\n"
     ]
    },
    {
     "name": "stderr",
     "output_type": "stream",
     "text": [
      "sbatch: slurm_job_submit: No account set, using default acct: open\n",
      "sbatch: slurm_job_submit: No account set, using default acct: open\n"
     ]
    },
    {
     "name": "stdout",
     "output_type": "stream",
     "text": [
      "Submitted batch job 5202788\n",
      "Submitted batch job 5202789\n"
     ]
    },
    {
     "name": "stderr",
     "output_type": "stream",
     "text": [
      "sbatch: slurm_job_submit: No account set, using default acct: open\n",
      "sbatch: slurm_job_submit: No account set, using default acct: open\n"
     ]
    },
    {
     "name": "stdout",
     "output_type": "stream",
     "text": [
      "Submitted batch job 5202790\n",
      "Submitted batch job 5202791\n"
     ]
    },
    {
     "name": "stderr",
     "output_type": "stream",
     "text": [
      "sbatch: slurm_job_submit: No account set, using default acct: open\n",
      "sbatch: slurm_job_submit: No account set, using default acct: open\n",
      "sbatch: slurm_job_submit: No account set, using default acct: open\n",
      "sbatch: slurm_job_submit: No account set, using default acct: open\n"
     ]
    },
    {
     "name": "stdout",
     "output_type": "stream",
     "text": [
      "Submitted batch job 5202792\n",
      "Submitted batch job 5202793\n",
      "Submitted batch job 5202794\n",
      "Submitted batch job 5202795\n"
     ]
    },
    {
     "name": "stderr",
     "output_type": "stream",
     "text": [
      "sbatch: slurm_job_submit: No account set, using default acct: open\n",
      "sbatch: slurm_job_submit: No account set, using default acct: open\n"
     ]
    },
    {
     "name": "stdout",
     "output_type": "stream",
     "text": [
      "Submitted batch job 5202796\n",
      "Submitted batch job 5202797\n"
     ]
    },
    {
     "name": "stderr",
     "output_type": "stream",
     "text": [
      "sbatch: slurm_job_submit: No account set, using default acct: open\n",
      "sbatch: slurm_job_submit: No account set, using default acct: open\n",
      "sbatch: slurm_job_submit: No account set, using default acct: open\n",
      "sbatch: slurm_job_submit: No account set, using default acct: open\n"
     ]
    },
    {
     "name": "stdout",
     "output_type": "stream",
     "text": [
      "Submitted batch job 5202798\n",
      "Submitted batch job 5202799\n",
      "Submitted batch job 5202800\n",
      "Submitted batch job 5202801\n"
     ]
    },
    {
     "name": "stderr",
     "output_type": "stream",
     "text": [
      "sbatch: slurm_job_submit: No account set, using default acct: open\n",
      "sbatch: slurm_job_submit: No account set, using default acct: open\n",
      "sbatch: slurm_job_submit: No account set, using default acct: open\n",
      "sbatch: slurm_job_submit: No account set, using default acct: open\n"
     ]
    },
    {
     "name": "stdout",
     "output_type": "stream",
     "text": [
      "Submitted batch job 5202802\n",
      "Submitted batch job 5202803\n",
      "Submitted batch job 5202804\n",
      "Submitted batch job 5202805\n"
     ]
    },
    {
     "name": "stderr",
     "output_type": "stream",
     "text": [
      "sbatch: slurm_job_submit: No account set, using default acct: open\n",
      "sbatch: slurm_job_submit: No account set, using default acct: open\n"
     ]
    },
    {
     "name": "stdout",
     "output_type": "stream",
     "text": [
      "Submitted batch job 5202806\n"
     ]
    },
    {
     "name": "stderr",
     "output_type": "stream",
     "text": [
      "sbatch: slurm_job_submit: No account set, using default acct: open\n"
     ]
    },
    {
     "name": "stdout",
     "output_type": "stream",
     "text": [
      "Submitted batch job 5202807\n",
      "Submitted batch job 5202808\n"
     ]
    },
    {
     "name": "stderr",
     "output_type": "stream",
     "text": [
      "sbatch: slurm_job_submit: No account set, using default acct: open\n",
      "sbatch: slurm_job_submit: No account set, using default acct: open\n",
      "sbatch: slurm_job_submit: No account set, using default acct: open\n",
      "sbatch: slurm_job_submit: No account set, using default acct: open\n"
     ]
    },
    {
     "name": "stdout",
     "output_type": "stream",
     "text": [
      "Submitted batch job 5202809\n",
      "Submitted batch job 5202810\n",
      "Submitted batch job 5202811\n"
     ]
    },
    {
     "name": "stderr",
     "output_type": "stream",
     "text": [
      "sbatch: slurm_job_submit: No account set, using default acct: open\n",
      "sbatch: slurm_job_submit: No account set, using default acct: open\n",
      "sbatch: slurm_job_submit: No account set, using default acct: open\n"
     ]
    },
    {
     "name": "stdout",
     "output_type": "stream",
     "text": [
      "Submitted batch job 5202812\n",
      "Submitted batch job 5202813\n"
     ]
    },
    {
     "name": "stderr",
     "output_type": "stream",
     "text": [
      "sbatch: slurm_job_submit: No account set, using default acct: open\n",
      "sbatch: slurm_job_submit: No account set, using default acct: open\n"
     ]
    },
    {
     "name": "stdout",
     "output_type": "stream",
     "text": [
      "Submitted batch job 5202814\n",
      "Submitted batch job 5202815\n",
      "Submitted batch job 5202816\n",
      "Submitted batch job 5202817\n"
     ]
    },
    {
     "name": "stderr",
     "output_type": "stream",
     "text": [
      "sbatch: slurm_job_submit: No account set, using default acct: open\n",
      "sbatch: slurm_job_submit: No account set, using default acct: open\n"
     ]
    },
    {
     "name": "stdout",
     "output_type": "stream",
     "text": [
      "Submitted batch job 5202818\n",
      "Submitted batch job 5202820\n"
     ]
    },
    {
     "name": "stderr",
     "output_type": "stream",
     "text": [
      "sbatch: slurm_job_submit: No account set, using default acct: open\n",
      "sbatch: slurm_job_submit: No account set, using default acct: open\n",
      "sbatch: slurm_job_submit: No account set, using default acct: open\n"
     ]
    },
    {
     "name": "stdout",
     "output_type": "stream",
     "text": [
      "Submitted batch job 5202821\n",
      "Submitted batch job 5202822\n",
      "Submitted batch job 5202823\n"
     ]
    },
    {
     "name": "stderr",
     "output_type": "stream",
     "text": [
      "sbatch: slurm_job_submit: No account set, using default acct: open\n",
      "sbatch: slurm_job_submit: No account set, using default acct: open\n",
      "sbatch: slurm_job_submit: No account set, using default acct: open\n"
     ]
    },
    {
     "name": "stdout",
     "output_type": "stream",
     "text": [
      "Submitted batch job 5202824\n"
     ]
    },
    {
     "name": "stderr",
     "output_type": "stream",
     "text": [
      "sbatch: slurm_job_submit: No account set, using default acct: open\n",
      "sbatch: slurm_job_submit: No account set, using default acct: open\n"
     ]
    },
    {
     "name": "stdout",
     "output_type": "stream",
     "text": [
      "Submitted batch job 5202825\n",
      "Submitted batch job 5202826\n",
      "Submitted batch job 5202827\n",
      "Submitted batch job 5202828\n"
     ]
    },
    {
     "name": "stderr",
     "output_type": "stream",
     "text": [
      "sbatch: slurm_job_submit: No account set, using default acct: open\n",
      "sbatch: slurm_job_submit: No account set, using default acct: open\n"
     ]
    }
   ],
   "source": [
    "for i in metadata[\"Novogene_ID\"].tolist():\n",
    "    task = \"bwa_sambamba_sort_markdup\"\n",
    "    mem = \"128\"\n",
    "    cpus = \"20\"\n",
    "    inpath = \"/storage/home/nsl5160/scratch/darpa/trimmed/\"\n",
    "    outpath = \"/storage/home/nsl5160/scratch/darpa/mapped2/\"\n",
    "    prefix = i\n",
    "    subprocess.run([\"sbatch --mem=\" + mem + \"g --ntasks=\" + \n",
    "         cpus + \" ../\" + task + \".sh \" + \n",
    "         inpath + \" \" + outpath + \" \" + prefix], shell=True)"
   ]
  },
  {
   "cell_type": "code",
   "execution_count": 5,
   "id": "fc1809f2",
   "metadata": {},
   "outputs": [],
   "source": [
    "sra = pd.read_csv(\"../DARPASraRunTable.txt\")\n",
    "sra = sra[~sra[\"Sample Name\"].str.contains(\"Aprol\")]"
   ]
  },
  {
   "cell_type": "code",
   "execution_count": 10,
   "id": "62303921",
   "metadata": {
    "scrolled": true
   },
   "outputs": [
    {
     "name": "stdout",
     "output_type": "stream",
     "text": [
      "Submitted batch job 6796225\n"
     ]
    },
    {
     "name": "stderr",
     "output_type": "stream",
     "text": [
      "sbatch: slurm_job_submit: No account set, using default acct: open\n"
     ]
    },
    {
     "name": "stdout",
     "output_type": "stream",
     "text": [
      "Submitted batch job 6796226\n"
     ]
    },
    {
     "name": "stderr",
     "output_type": "stream",
     "text": [
      "sbatch: slurm_job_submit: No account set, using default acct: open\n",
      "sbatch: slurm_job_submit: No account set, using default acct: open\n"
     ]
    },
    {
     "name": "stdout",
     "output_type": "stream",
     "text": [
      "Submitted batch job 6796227\n"
     ]
    },
    {
     "name": "stderr",
     "output_type": "stream",
     "text": [
      "sbatch: slurm_job_submit: No account set, using default acct: open\n"
     ]
    },
    {
     "name": "stdout",
     "output_type": "stream",
     "text": [
      "Submitted batch job 6796228\n",
      "Submitted batch job 6796229\n"
     ]
    },
    {
     "name": "stderr",
     "output_type": "stream",
     "text": [
      "sbatch: slurm_job_submit: No account set, using default acct: open\n",
      "sbatch: slurm_job_submit: No account set, using default acct: open\n"
     ]
    },
    {
     "name": "stdout",
     "output_type": "stream",
     "text": [
      "Submitted batch job 6796230\n",
      "Submitted batch job 6796231\n"
     ]
    },
    {
     "name": "stderr",
     "output_type": "stream",
     "text": [
      "sbatch: slurm_job_submit: No account set, using default acct: open\n",
      "sbatch: slurm_job_submit: No account set, using default acct: open\n",
      "sbatch: slurm_job_submit: No account set, using default acct: open\n"
     ]
    },
    {
     "name": "stdout",
     "output_type": "stream",
     "text": [
      "Submitted batch job 6796232\n",
      "Submitted batch job 6796233\n",
      "Submitted batch job 6796234\n",
      "Submitted batch job 6796235\n"
     ]
    },
    {
     "name": "stderr",
     "output_type": "stream",
     "text": [
      "sbatch: slurm_job_submit: No account set, using default acct: open\n",
      "sbatch: slurm_job_submit: No account set, using default acct: open\n"
     ]
    },
    {
     "name": "stdout",
     "output_type": "stream",
     "text": [
      "Submitted batch job 6796236\n",
      "Submitted batch job 6796237\n"
     ]
    },
    {
     "name": "stderr",
     "output_type": "stream",
     "text": [
      "sbatch: slurm_job_submit: No account set, using default acct: open\n",
      "sbatch: slurm_job_submit: No account set, using default acct: open\n",
      "sbatch: slurm_job_submit: No account set, using default acct: open\n"
     ]
    },
    {
     "name": "stdout",
     "output_type": "stream",
     "text": [
      "Submitted batch job 6796238\n",
      "Submitted batch job 6796239\n"
     ]
    },
    {
     "name": "stderr",
     "output_type": "stream",
     "text": [
      "sbatch: slurm_job_submit: No account set, using default acct: open\n",
      "sbatch: slurm_job_submit: No account set, using default acct: open\n"
     ]
    },
    {
     "name": "stdout",
     "output_type": "stream",
     "text": [
      "Submitted batch job 6796240\n",
      "Submitted batch job 6796241\n"
     ]
    },
    {
     "name": "stderr",
     "output_type": "stream",
     "text": [
      "sbatch: slurm_job_submit: No account set, using default acct: open\n",
      "sbatch: slurm_job_submit: No account set, using default acct: open\n"
     ]
    },
    {
     "name": "stdout",
     "output_type": "stream",
     "text": [
      "Submitted batch job 6796242\n",
      "Submitted batch job 6796243\n"
     ]
    },
    {
     "name": "stderr",
     "output_type": "stream",
     "text": [
      "sbatch: slurm_job_submit: No account set, using default acct: open\n",
      "sbatch: slurm_job_submit: No account set, using default acct: open\n"
     ]
    },
    {
     "name": "stdout",
     "output_type": "stream",
     "text": [
      "Submitted batch job 6796244\n",
      "Submitted batch job 6796245\n"
     ]
    },
    {
     "name": "stderr",
     "output_type": "stream",
     "text": [
      "sbatch: slurm_job_submit: No account set, using default acct: open\n",
      "sbatch: slurm_job_submit: No account set, using default acct: open\n"
     ]
    },
    {
     "name": "stdout",
     "output_type": "stream",
     "text": [
      "Submitted batch job 6796246\n",
      "Submitted batch job 6796247\n"
     ]
    },
    {
     "name": "stderr",
     "output_type": "stream",
     "text": [
      "sbatch: slurm_job_submit: No account set, using default acct: open\n"
     ]
    },
    {
     "name": "stdout",
     "output_type": "stream",
     "text": [
      "Submitted batch job 6796248\n",
      "Submitted batch job 6796249\n"
     ]
    },
    {
     "name": "stderr",
     "output_type": "stream",
     "text": [
      "sbatch: slurm_job_submit: No account set, using default acct: open\n",
      "sbatch: slurm_job_submit: No account set, using default acct: open\n",
      "sbatch: slurm_job_submit: No account set, using default acct: open\n"
     ]
    },
    {
     "name": "stdout",
     "output_type": "stream",
     "text": [
      "Submitted batch job 6796250\n"
     ]
    },
    {
     "name": "stderr",
     "output_type": "stream",
     "text": [
      "sbatch: slurm_job_submit: No account set, using default acct: open\n"
     ]
    },
    {
     "name": "stdout",
     "output_type": "stream",
     "text": [
      "Submitted batch job 6796251\n",
      "Submitted batch job 6796252\n"
     ]
    },
    {
     "name": "stderr",
     "output_type": "stream",
     "text": [
      "sbatch: slurm_job_submit: No account set, using default acct: open\n"
     ]
    }
   ],
   "source": [
    "for i in sra[\"Run\"].tolist():\n",
    "    task = \"bwa_sambamba_sort_markdup\"\n",
    "    mem = \"128\"\n",
    "    cpus = \"20\"\n",
    "    inpath = \"/storage/home/nsl5160/scratch/darpa/trimmed/\"\n",
    "    outpath = \"/storage/home/nsl5160/scratch/darpa/mapped/\"\n",
    "    prefix = i\n",
    "    subprocess.run([\"sbatch --mem=\" + mem + \"g --ntasks=\" + \n",
    "         cpus + \" ../\" + task + \".sh \" + \n",
    "         inpath + \" \" + outpath + \" \" + prefix], shell=True)"
   ]
  },
  {
   "cell_type": "code",
   "execution_count": 6,
   "id": "7ddd2ec7",
   "metadata": {},
   "outputs": [],
   "source": [
    "kenkel = pd.read_csv(\"../KenkelSequencingSampleKeyHaplotypeReferences.csv\")"
   ]
  },
  {
   "cell_type": "code",
   "execution_count": 6,
   "id": "8c79b966",
   "metadata": {
    "scrolled": true
   },
   "outputs": [
    {
     "name": "stderr",
     "output_type": "stream",
     "text": [
      "sbatch: slurm_job_submit: No account set, using default acct: open\n"
     ]
    },
    {
     "name": "stdout",
     "output_type": "stream",
     "text": [
      "Submitted batch job 6796496\n"
     ]
    },
    {
     "name": "stderr",
     "output_type": "stream",
     "text": [
      "sbatch: slurm_job_submit: No account set, using default acct: open\n"
     ]
    },
    {
     "name": "stdout",
     "output_type": "stream",
     "text": [
      "Submitted batch job 6796497\n"
     ]
    },
    {
     "name": "stderr",
     "output_type": "stream",
     "text": [
      "sbatch: slurm_job_submit: No account set, using default acct: open\n"
     ]
    },
    {
     "name": "stdout",
     "output_type": "stream",
     "text": [
      "Submitted batch job 6796498\n",
      "Submitted batch job 6796499\n"
     ]
    },
    {
     "name": "stderr",
     "output_type": "stream",
     "text": [
      "sbatch: slurm_job_submit: No account set, using default acct: open\n",
      "sbatch: slurm_job_submit: No account set, using default acct: open\n"
     ]
    },
    {
     "name": "stdout",
     "output_type": "stream",
     "text": [
      "Submitted batch job 6796500\n",
      "Submitted batch job 6796501\n"
     ]
    },
    {
     "name": "stderr",
     "output_type": "stream",
     "text": [
      "sbatch: slurm_job_submit: No account set, using default acct: open\n",
      "sbatch: slurm_job_submit: No account set, using default acct: open\n"
     ]
    },
    {
     "name": "stdout",
     "output_type": "stream",
     "text": [
      "Submitted batch job 6796502\n"
     ]
    },
    {
     "name": "stderr",
     "output_type": "stream",
     "text": [
      "sbatch: slurm_job_submit: No account set, using default acct: open\n",
      "sbatch: slurm_job_submit: No account set, using default acct: open\n"
     ]
    },
    {
     "name": "stdout",
     "output_type": "stream",
     "text": [
      "Submitted batch job 6796503\n",
      "Submitted batch job 6796504\n",
      "Submitted batch job 6796505\n",
      "Submitted batch job 6796506\n"
     ]
    },
    {
     "name": "stderr",
     "output_type": "stream",
     "text": [
      "sbatch: slurm_job_submit: No account set, using default acct: open\n",
      "sbatch: slurm_job_submit: No account set, using default acct: open\n",
      "sbatch: slurm_job_submit: No account set, using default acct: open\n",
      "sbatch: slurm_job_submit: No account set, using default acct: open\n"
     ]
    },
    {
     "name": "stdout",
     "output_type": "stream",
     "text": [
      "Submitted batch job 6796507\n",
      "Submitted batch job 6796508\n"
     ]
    },
    {
     "name": "stderr",
     "output_type": "stream",
     "text": [
      "sbatch: slurm_job_submit: No account set, using default acct: open\n",
      "sbatch: slurm_job_submit: No account set, using default acct: open\n"
     ]
    },
    {
     "name": "stdout",
     "output_type": "stream",
     "text": [
      "Submitted batch job 6796509\n",
      "Submitted batch job 6796510\n"
     ]
    },
    {
     "name": "stderr",
     "output_type": "stream",
     "text": [
      "sbatch: slurm_job_submit: No account set, using default acct: open\n",
      "sbatch: slurm_job_submit: No account set, using default acct: open\n"
     ]
    },
    {
     "name": "stdout",
     "output_type": "stream",
     "text": [
      "Submitted batch job 6796511\n",
      "Submitted batch job 6796512\n"
     ]
    },
    {
     "name": "stderr",
     "output_type": "stream",
     "text": [
      "sbatch: slurm_job_submit: No account set, using default acct: open\n",
      "sbatch: slurm_job_submit: No account set, using default acct: open\n"
     ]
    },
    {
     "name": "stdout",
     "output_type": "stream",
     "text": [
      "Submitted batch job 6796513\n",
      "Submitted batch job 6796514\n"
     ]
    },
    {
     "name": "stderr",
     "output_type": "stream",
     "text": [
      "sbatch: slurm_job_submit: No account set, using default acct: open\n",
      "sbatch: slurm_job_submit: No account set, using default acct: open\n"
     ]
    },
    {
     "name": "stdout",
     "output_type": "stream",
     "text": [
      "Submitted batch job 6796515\n",
      "Submitted batch job 6796516\n"
     ]
    },
    {
     "name": "stderr",
     "output_type": "stream",
     "text": [
      "sbatch: slurm_job_submit: No account set, using default acct: open\n"
     ]
    },
    {
     "name": "stdout",
     "output_type": "stream",
     "text": [
      "Submitted batch job 6796517\n"
     ]
    },
    {
     "name": "stderr",
     "output_type": "stream",
     "text": [
      "sbatch: slurm_job_submit: No account set, using default acct: open\n",
      "sbatch: slurm_job_submit: No account set, using default acct: open\n"
     ]
    },
    {
     "name": "stdout",
     "output_type": "stream",
     "text": [
      "Submitted batch job 6796518\n",
      "Submitted batch job 6796519\n"
     ]
    },
    {
     "name": "stderr",
     "output_type": "stream",
     "text": [
      "sbatch: slurm_job_submit: No account set, using default acct: open\n",
      "sbatch: slurm_job_submit: No account set, using default acct: open\n"
     ]
    },
    {
     "name": "stdout",
     "output_type": "stream",
     "text": [
      "Submitted batch job 6796520\n",
      "Submitted batch job 6796521\n"
     ]
    },
    {
     "name": "stderr",
     "output_type": "stream",
     "text": [
      "sbatch: slurm_job_submit: No account set, using default acct: open\n",
      "sbatch: slurm_job_submit: No account set, using default acct: open\n"
     ]
    },
    {
     "name": "stdout",
     "output_type": "stream",
     "text": [
      "Submitted batch job 6796522\n",
      "Submitted batch job 6796523\n"
     ]
    },
    {
     "name": "stderr",
     "output_type": "stream",
     "text": [
      "sbatch: slurm_job_submit: No account set, using default acct: open\n",
      "sbatch: slurm_job_submit: No account set, using default acct: open\n"
     ]
    },
    {
     "name": "stdout",
     "output_type": "stream",
     "text": [
      "Submitted batch job 6796524\n",
      "Submitted batch job 6796525\n"
     ]
    },
    {
     "name": "stderr",
     "output_type": "stream",
     "text": [
      "sbatch: slurm_job_submit: No account set, using default acct: open\n"
     ]
    },
    {
     "name": "stdout",
     "output_type": "stream",
     "text": [
      "Submitted batch job 6796526\n"
     ]
    },
    {
     "name": "stderr",
     "output_type": "stream",
     "text": [
      "sbatch: slurm_job_submit: No account set, using default acct: open\n"
     ]
    },
    {
     "name": "stdout",
     "output_type": "stream",
     "text": [
      "Submitted batch job 6796527\n"
     ]
    },
    {
     "name": "stderr",
     "output_type": "stream",
     "text": [
      "sbatch: slurm_job_submit: No account set, using default acct: open\n",
      "sbatch: slurm_job_submit: No account set, using default acct: open\n"
     ]
    },
    {
     "name": "stdout",
     "output_type": "stream",
     "text": [
      "Submitted batch job 6796528\n",
      "Submitted batch job 6796529\n"
     ]
    },
    {
     "name": "stderr",
     "output_type": "stream",
     "text": [
      "sbatch: slurm_job_submit: No account set, using default acct: open\n"
     ]
    },
    {
     "name": "stdout",
     "output_type": "stream",
     "text": [
      "Submitted batch job 6796530\n"
     ]
    },
    {
     "name": "stderr",
     "output_type": "stream",
     "text": [
      "sbatch: slurm_job_submit: No account set, using default acct: open\n",
      "sbatch: slurm_job_submit: No account set, using default acct: open\n"
     ]
    },
    {
     "name": "stdout",
     "output_type": "stream",
     "text": [
      "Submitted batch job 6796531\n",
      "Submitted batch job 6796532\n"
     ]
    },
    {
     "name": "stderr",
     "output_type": "stream",
     "text": [
      "sbatch: slurm_job_submit: No account set, using default acct: open\n",
      "sbatch: slurm_job_submit: No account set, using default acct: open\n"
     ]
    },
    {
     "name": "stdout",
     "output_type": "stream",
     "text": [
      "Submitted batch job 6796533\n",
      "Submitted batch job 6796534\n",
      "Submitted batch job 6796535\n"
     ]
    },
    {
     "name": "stderr",
     "output_type": "stream",
     "text": [
      "sbatch: slurm_job_submit: No account set, using default acct: open\n"
     ]
    }
   ],
   "source": [
    "for i in range(len(kenkel)):\n",
    "    task = \"bwa_sambamba_sort_markdup\"\n",
    "    mem = \"128\"\n",
    "    cpus = \"20\"\n",
    "    inpath = \"/storage/home/nsl5160/scratch/darpa/trimmed/\"\n",
    "    outpath = \"/storage/home/nsl5160/scratch/darpa/mapped/\"\n",
    "    prefix = kenkel[\"BaumsName\"][i]\n",
    "    subprocess.run([\"sbatch --mem=\" + mem + \"g --ntasks=\" + \n",
    "         cpus + \" ../\" + task + \".sh \" + \n",
    "         inpath + \" \" + outpath + \" \" + prefix], shell=True)"
   ]
  },
  {
   "cell_type": "code",
   "execution_count": 7,
   "id": "e133d9c8",
   "metadata": {},
   "outputs": [],
   "source": [
    "unpublished = glob.glob(\"/storage/home/nsl5160/scratch/darpa/unpublished_raw/*_1.fq.gz\")"
   ]
  },
  {
   "cell_type": "code",
   "execution_count": 8,
   "id": "7e1d4566",
   "metadata": {},
   "outputs": [],
   "source": [
    "unpublished = [i.split(\"/\")[7].split(\"_\")[0] for i in unpublished]"
   ]
  },
  {
   "cell_type": "code",
   "execution_count": 11,
   "id": "39322b24",
   "metadata": {
    "scrolled": true
   },
   "outputs": [
    {
     "name": "stderr",
     "output_type": "stream",
     "text": [
      "sbatch: slurm_job_submit: No account set, using default acct: open\n"
     ]
    },
    {
     "name": "stdout",
     "output_type": "stream",
     "text": [
      "Submitted batch job 6796540\n"
     ]
    },
    {
     "name": "stderr",
     "output_type": "stream",
     "text": [
      "sbatch: slurm_job_submit: No account set, using default acct: open\n"
     ]
    },
    {
     "name": "stdout",
     "output_type": "stream",
     "text": [
      "Submitted batch job 6796541\n"
     ]
    },
    {
     "name": "stderr",
     "output_type": "stream",
     "text": [
      "sbatch: slurm_job_submit: No account set, using default acct: open\n",
      "sbatch: slurm_job_submit: No account set, using default acct: open\n"
     ]
    },
    {
     "name": "stdout",
     "output_type": "stream",
     "text": [
      "Submitted batch job 6796542\n",
      "Submitted batch job 6796543\n",
      "Submitted batch job 6796544\n",
      "Submitted batch job 6796545\n"
     ]
    },
    {
     "name": "stderr",
     "output_type": "stream",
     "text": [
      "sbatch: slurm_job_submit: No account set, using default acct: open\n",
      "sbatch: slurm_job_submit: No account set, using default acct: open\n",
      "sbatch: slurm_job_submit: No account set, using default acct: open\n",
      "sbatch: slurm_job_submit: No account set, using default acct: open\n"
     ]
    },
    {
     "name": "stdout",
     "output_type": "stream",
     "text": [
      "Submitted batch job 6796546\n",
      "Submitted batch job 6796547\n"
     ]
    },
    {
     "name": "stderr",
     "output_type": "stream",
     "text": [
      "sbatch: slurm_job_submit: No account set, using default acct: open\n",
      "sbatch: slurm_job_submit: No account set, using default acct: open\n"
     ]
    },
    {
     "name": "stdout",
     "output_type": "stream",
     "text": [
      "Submitted batch job 6796548\n",
      "Submitted batch job 6796549\n",
      "Submitted batch job 6796550\n",
      "Submitted batch job 6796551\n"
     ]
    },
    {
     "name": "stderr",
     "output_type": "stream",
     "text": [
      "sbatch: slurm_job_submit: No account set, using default acct: open\n",
      "sbatch: slurm_job_submit: No account set, using default acct: open\n",
      "sbatch: slurm_job_submit: No account set, using default acct: open\n",
      "sbatch: slurm_job_submit: No account set, using default acct: open\n"
     ]
    },
    {
     "name": "stdout",
     "output_type": "stream",
     "text": [
      "Submitted batch job 6796552\n",
      "Submitted batch job 6796553\n"
     ]
    }
   ],
   "source": [
    "for i in unpublished:\n",
    "    task = \"bwa_sambamba_sort_markdup\"\n",
    "    mem = \"128\"\n",
    "    cpus = \"20\"\n",
    "    inpath = \"/storage/home/nsl5160/scratch/darpa/trimmed/\"\n",
    "    outpath = \"/storage/home/nsl5160/scratch/darpa/mapped/\"\n",
    "    prefix = i\n",
    "    subprocess.run([\"sbatch --mem=\" + mem + \"g --ntasks=\" + \n",
    "         cpus + \" ../\" + task + \".sh \" + \n",
    "         inpath + \" \" + outpath + \" \" + prefix], shell=True)"
   ]
  },
  {
   "cell_type": "code",
   "execution_count": 1,
   "id": "0a4ab408",
   "metadata": {},
   "outputs": [],
   "source": [
    "!rm ../apal_imputation_bam.list"
   ]
  },
  {
   "cell_type": "code",
   "execution_count": 48,
   "id": "1b9cc94a",
   "metadata": {},
   "outputs": [],
   "source": [
    "apal_imputation = (metadata[\"Novogene_ID\"].tolist() + \n",
    "                   sra[\"Run\"].tolist() + kenkel[\"BaumsName\"].tolist() + unpublished)\n",
    "with open('../apal_imputation_bam.list', 'w') as f:\n",
    "    for line in apal_imputation:\n",
    "        f.write(f\"{line}\\n\")"
   ]
  },
  {
   "cell_type": "code",
   "execution_count": 20,
   "id": "b1dad660",
   "metadata": {},
   "outputs": [],
   "source": [
    "kenkel[\"Locale\"] = np.nan\n",
    "kenkel.loc[kenkel[\"Location\"] == \"Ex-Situ Nursery\", \"Locale\"] = \"FL\"\n",
    "kenkel.loc[kenkel[\"Location\"] == \"Florida\", \"Locale\"] = \"FL\"\n",
    "kenkel.loc[kenkel[\"Location\"] == \"Bayahibe, Dominican Republic\", \"Locale\"] = \"DR\"\n",
    "kenkel.loc[kenkel[\"Location\"] == \"Playa Paraiso, Mexico\", \"Locale\"] = \"MX\"\n",
    "kenkel.loc[kenkel[\"Location\"] == \"Jamaica\", \"Locale\"] = \"JM\""
   ]
  },
  {
   "cell_type": "code",
   "execution_count": 28,
   "id": "3ab049a9",
   "metadata": {},
   "outputs": [],
   "source": [
    "metadata[\"Locale\"] = \"FL\"\n",
    "metadata[\"BaumsName\"] = metadata[\"Novogene_ID\"]"
   ]
  },
  {
   "cell_type": "code",
   "execution_count": 41,
   "id": "8dd9d2e2",
   "metadata": {},
   "outputs": [],
   "source": [
    "unpublished_seqs = pd.DataFrame(unpublished, columns = [\"BaumsName\"])\n",
    "unpublished_seqs[\"Locale\"] = \"CU\""
   ]
  },
  {
   "cell_type": "code",
   "execution_count": 34,
   "id": "e5a07ce3",
   "metadata": {},
   "outputs": [],
   "source": [
    "sra[\"BaumsName\"] = sra[\"Run\"]\n",
    "sra[\"Locale\"] = np.nan\n",
    "sra.loc[sra[\"geo_loc_name\"] == \"USA: Florida\", \"Locale\"] = \"FL\"\n",
    "sra.loc[sra[\"geo_loc_name\"] == \"Curacao\", \"Locale\"] = \"CU\"\n",
    "sra.loc[sra[\"geo_loc_name\"] == \"Virgin Islands\", \"Locale\"] = \"VI\"\n",
    "sra.loc[sra[\"geo_loc_name\"] == \"Belize\", \"Locale\"] = \"BE\""
   ]
  },
  {
   "cell_type": "code",
   "execution_count": 51,
   "id": "8aa3be21",
   "metadata": {},
   "outputs": [],
   "source": [
    "popmap = pd.concat([metadata[[\"BaumsName\", \"Locale\"]], \n",
    "           sra[[\"BaumsName\", \"Locale\"]], \n",
    "           kenkel[[\"BaumsName\", \"Locale\"]], \n",
    "           unpublished_seqs[[\"BaumsName\", \"Locale\"]]])"
   ]
  },
  {
   "cell_type": "code",
   "execution_count": 53,
   "id": "c3492879",
   "metadata": {},
   "outputs": [],
   "source": [
    "popmap.set_index(\"BaumsName\").to_csv(\"../popmap.txt\", sep = \"\\t\", header = None)"
   ]
  },
  {
   "cell_type": "code",
   "execution_count": 49,
   "id": "ad8c5b17",
   "metadata": {},
   "outputs": [],
   "source": [
    "%%bash\n",
    "sed -i \"s:^:/storage/home/nsl5160/scratch/darpa/mapped/:g\" ../apal_imputation_bam.list\n",
    "sed -i \"s:$:.markdup.bam:g\" ../apal_imputation_bam.list"
   ]
  }
 ],
 "metadata": {
  "kernelspec": {
   "display_name": "NetworkX",
   "language": "python",
   "name": "networkx"
  },
  "language_info": {
   "codemirror_mode": {
    "name": "ipython",
    "version": 3
   },
   "file_extension": ".py",
   "mimetype": "text/x-python",
   "name": "python",
   "nbconvert_exporter": "python",
   "pygments_lexer": "ipython3",
   "version": "3.11.0"
  }
 },
 "nbformat": 4,
 "nbformat_minor": 5
}
