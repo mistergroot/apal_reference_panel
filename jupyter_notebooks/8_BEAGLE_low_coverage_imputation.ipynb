{
 "cells": [
  {
   "cell_type": "code",
   "execution_count": 3,
   "id": "68cd0d02",
   "metadata": {},
   "outputs": [],
   "source": [
    "import numpy as np\n",
    "import pandas as pd\n",
    "import subprocess\n",
    "import re"
   ]
  },
  {
   "cell_type": "markdown",
   "id": "df477615",
   "metadata": {},
   "source": [
    "For BEAGLE to work with low coverage data, we'll need to get genotype likelihoods for each site for each site and we can do so using ANGSD, using doVCF:"
   ]
  },
  {
   "cell_type": "code",
   "execution_count": null,
   "id": "14f903ff",
   "metadata": {},
   "outputs": [],
   "source": [
    "angsd -b list.list -dovcf 1 -gl 2 -dopost 1 -domajorminor 1 -domaf 1 -snp_pval 1e-6"
   ]
  }
 ],
 "metadata": {
  "kernelspec": {
   "display_name": "Masters Env",
   "language": "python",
   "name": "masters"
  },
  "language_info": {
   "codemirror_mode": {
    "name": "ipython",
    "version": 3
   },
   "file_extension": ".py",
   "mimetype": "text/x-python",
   "name": "python",
   "nbconvert_exporter": "python",
   "pygments_lexer": "ipython3",
   "version": "3.10.8"
  }
 },
 "nbformat": 4,
 "nbformat_minor": 5
}
