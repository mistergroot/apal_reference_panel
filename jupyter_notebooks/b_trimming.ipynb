{
 "cells": [
  {
   "cell_type": "code",
   "execution_count": 1,
   "id": "0b5fab80",
   "metadata": {},
   "outputs": [],
   "source": [
    "import pandas as pd\n",
    "import numpy as np\n",
    "import subprocess\n",
    "import glob"
   ]
  },
  {
   "cell_type": "code",
   "execution_count": 2,
   "id": "7ed2a5cb",
   "metadata": {},
   "outputs": [],
   "source": [
    "metadata = pd.read_csv(\"../filtered_DARPA_metadata.csv\")\n",
    "platemap = pd.read_csv(\"../huck_sub_id.csv\")\n",
    "metadata = platemap.merge(metadata, how = \"left\", on = \"Huck_Sub_ID\")\n",
    "metadata[\"Novogene_ID\"] = \"A\" + metadata[\"Database ID\"].astype(str)"
   ]
  },
  {
   "cell_type": "code",
   "execution_count": null,
   "id": "a537d688",
   "metadata": {},
   "outputs": [],
   "source": [
    "for i in metadata[\"Novogene_ID\"].tolist():\n",
    "    task = \"trimgalore\"\n",
    "    mem = \"24\"\n",
    "    cpus = \"8\"\n",
    "    lane = \"3\"\n",
    "    rawpath = \"../raw/usftp21.novogene.com/01.RawData/*/\"\n",
    "    r1suffix = \"_*_L\" + lane + \"_1.fq.gz\"\n",
    "    r2suffix = \"_*_L\" + lane + \"_2.fq.gz\"\n",
    "    outpath = \"/storage/home/nsl5160/scratch/darpa/trimmed/\"\n",
    "    outprefix = \"_L\" + lane\n",
    "    subprocess.run([\"sbatch --mem=\" + mem + \"g --ntasks=\" + \n",
    "         cpus + \" ../\" + task + \".sh \" + \n",
    "         rawpath + i + r1suffix + \" \" + \n",
    "         rawpath + i + r2suffix + \" \" + \n",
    "         outpath + \" \" + i + outprefix], shell=True)"
   ]
  },
  {
   "cell_type": "code",
   "execution_count": 61,
   "id": "06225831",
   "metadata": {},
   "outputs": [
    {
     "name": "stderr",
     "output_type": "stream",
     "text": [
      "sbatch: slurm_job_submit: Retrieving default account: open\n",
      "sbatch: slurm_job_submit: No account set, using default acct: open\n"
     ]
    },
    {
     "name": "stdout",
     "output_type": "stream",
     "text": [
      "Submitted batch job 4843949\n"
     ]
    },
    {
     "name": "stderr",
     "output_type": "stream",
     "text": [
      "sbatch: slurm_job_submit: Retrieving default account: open\n",
      "sbatch: slurm_job_submit: No account set, using default acct: open\n"
     ]
    },
    {
     "name": "stdout",
     "output_type": "stream",
     "text": [
      "Submitted batch job 4843952\n"
     ]
    },
    {
     "name": "stderr",
     "output_type": "stream",
     "text": [
      "sbatch: slurm_job_submit: Retrieving default account: open\n",
      "sbatch: slurm_job_submit: No account set, using default acct: open\n"
     ]
    },
    {
     "name": "stdout",
     "output_type": "stream",
     "text": [
      "Submitted batch job 4843954\n"
     ]
    },
    {
     "name": "stderr",
     "output_type": "stream",
     "text": [
      "sbatch: slurm_job_submit: Retrieving default account: open\n",
      "sbatch: slurm_job_submit: No account set, using default acct: open\n"
     ]
    },
    {
     "name": "stdout",
     "output_type": "stream",
     "text": [
      "Submitted batch job 4843956\n"
     ]
    },
    {
     "name": "stderr",
     "output_type": "stream",
     "text": [
      "sbatch: slurm_job_submit: Retrieving default account: open\n",
      "sbatch: slurm_job_submit: No account set, using default acct: open\n"
     ]
    },
    {
     "name": "stdout",
     "output_type": "stream",
     "text": [
      "Submitted batch job 4843958\n"
     ]
    },
    {
     "name": "stderr",
     "output_type": "stream",
     "text": [
      "sbatch: slurm_job_submit: Retrieving default account: open\n",
      "sbatch: slurm_job_submit: No account set, using default acct: open\n"
     ]
    },
    {
     "name": "stdout",
     "output_type": "stream",
     "text": [
      "Submitted batch job 4843960\n"
     ]
    },
    {
     "name": "stderr",
     "output_type": "stream",
     "text": [
      "sbatch: slurm_job_submit: Retrieving default account: open\n",
      "sbatch: slurm_job_submit: No account set, using default acct: open\n"
     ]
    },
    {
     "name": "stdout",
     "output_type": "stream",
     "text": [
      "Submitted batch job 4843962\n"
     ]
    },
    {
     "name": "stderr",
     "output_type": "stream",
     "text": [
      "sbatch: slurm_job_submit: Retrieving default account: open\n",
      "sbatch: slurm_job_submit: No account set, using default acct: open\n"
     ]
    },
    {
     "name": "stdout",
     "output_type": "stream",
     "text": [
      "Submitted batch job 4843964\n"
     ]
    },
    {
     "name": "stderr",
     "output_type": "stream",
     "text": [
      "sbatch: slurm_job_submit: Retrieving default account: open\n",
      "sbatch: slurm_job_submit: No account set, using default acct: open\n"
     ]
    },
    {
     "name": "stdout",
     "output_type": "stream",
     "text": [
      "Submitted batch job 4843966\n"
     ]
    },
    {
     "name": "stderr",
     "output_type": "stream",
     "text": [
      "sbatch: slurm_job_submit: Retrieving default account: open\n",
      "sbatch: slurm_job_submit: No account set, using default acct: open\n"
     ]
    },
    {
     "name": "stdout",
     "output_type": "stream",
     "text": [
      "Submitted batch job 4843968\n"
     ]
    },
    {
     "name": "stderr",
     "output_type": "stream",
     "text": [
      "sbatch: slurm_job_submit: Retrieving default account: open\n",
      "sbatch: slurm_job_submit: No account set, using default acct: open\n"
     ]
    },
    {
     "name": "stdout",
     "output_type": "stream",
     "text": [
      "Submitted batch job 4843970\n"
     ]
    },
    {
     "name": "stderr",
     "output_type": "stream",
     "text": [
      "sbatch: slurm_job_submit: Retrieving default account: open\n",
      "sbatch: slurm_job_submit: No account set, using default acct: open\n"
     ]
    },
    {
     "name": "stdout",
     "output_type": "stream",
     "text": [
      "Submitted batch job 4843972\n"
     ]
    },
    {
     "name": "stderr",
     "output_type": "stream",
     "text": [
      "sbatch: slurm_job_submit: Retrieving default account: open\n",
      "sbatch: slurm_job_submit: No account set, using default acct: open\n"
     ]
    },
    {
     "name": "stdout",
     "output_type": "stream",
     "text": [
      "Submitted batch job 4843974\n"
     ]
    },
    {
     "name": "stderr",
     "output_type": "stream",
     "text": [
      "sbatch: slurm_job_submit: Retrieving default account: open\n",
      "sbatch: slurm_job_submit: No account set, using default acct: open\n"
     ]
    },
    {
     "name": "stdout",
     "output_type": "stream",
     "text": [
      "Submitted batch job 4843976\n"
     ]
    },
    {
     "name": "stderr",
     "output_type": "stream",
     "text": [
      "sbatch: slurm_job_submit: Retrieving default account: open\n",
      "sbatch: slurm_job_submit: No account set, using default acct: open\n"
     ]
    },
    {
     "name": "stdout",
     "output_type": "stream",
     "text": [
      "Submitted batch job 4843979\n"
     ]
    },
    {
     "name": "stderr",
     "output_type": "stream",
     "text": [
      "sbatch: slurm_job_submit: Retrieving default account: open\n",
      "sbatch: slurm_job_submit: No account set, using default acct: open\n"
     ]
    },
    {
     "name": "stdout",
     "output_type": "stream",
     "text": [
      "Submitted batch job 4843981\n"
     ]
    },
    {
     "name": "stderr",
     "output_type": "stream",
     "text": [
      "sbatch: slurm_job_submit: Retrieving default account: open\n",
      "sbatch: slurm_job_submit: No account set, using default acct: open\n"
     ]
    },
    {
     "name": "stdout",
     "output_type": "stream",
     "text": [
      "Submitted batch job 4843983\n"
     ]
    },
    {
     "name": "stderr",
     "output_type": "stream",
     "text": [
      "sbatch: slurm_job_submit: Retrieving default account: open\n",
      "sbatch: slurm_job_submit: No account set, using default acct: open\n"
     ]
    },
    {
     "name": "stdout",
     "output_type": "stream",
     "text": [
      "Submitted batch job 4843985\n"
     ]
    },
    {
     "name": "stderr",
     "output_type": "stream",
     "text": [
      "sbatch: slurm_job_submit: Retrieving default account: open\n",
      "sbatch: slurm_job_submit: No account set, using default acct: open\n"
     ]
    },
    {
     "name": "stdout",
     "output_type": "stream",
     "text": [
      "Submitted batch job 4843987\n"
     ]
    },
    {
     "name": "stderr",
     "output_type": "stream",
     "text": [
      "sbatch: slurm_job_submit: Retrieving default account: open\n",
      "sbatch: slurm_job_submit: No account set, using default acct: open\n"
     ]
    },
    {
     "name": "stdout",
     "output_type": "stream",
     "text": [
      "Submitted batch job 4843989\n"
     ]
    },
    {
     "name": "stderr",
     "output_type": "stream",
     "text": [
      "sbatch: slurm_job_submit: Retrieving default account: open\n",
      "sbatch: slurm_job_submit: No account set, using default acct: open\n"
     ]
    },
    {
     "name": "stdout",
     "output_type": "stream",
     "text": [
      "Submitted batch job 4843991\n"
     ]
    },
    {
     "name": "stderr",
     "output_type": "stream",
     "text": [
      "sbatch: slurm_job_submit: Retrieving default account: open\n",
      "sbatch: slurm_job_submit: No account set, using default acct: open\n"
     ]
    },
    {
     "name": "stdout",
     "output_type": "stream",
     "text": [
      "Submitted batch job 4843993\n"
     ]
    },
    {
     "name": "stderr",
     "output_type": "stream",
     "text": [
      "sbatch: slurm_job_submit: Retrieving default account: open\n",
      "sbatch: slurm_job_submit: No account set, using default acct: open\n"
     ]
    },
    {
     "name": "stdout",
     "output_type": "stream",
     "text": [
      "Submitted batch job 4843995\n"
     ]
    },
    {
     "name": "stderr",
     "output_type": "stream",
     "text": [
      "sbatch: slurm_job_submit: Retrieving default account: open\n",
      "sbatch: slurm_job_submit: No account set, using default acct: open\n"
     ]
    },
    {
     "name": "stdout",
     "output_type": "stream",
     "text": [
      "Submitted batch job 4843998\n"
     ]
    },
    {
     "name": "stderr",
     "output_type": "stream",
     "text": [
      "sbatch: slurm_job_submit: Retrieving default account: open\n",
      "sbatch: slurm_job_submit: No account set, using default acct: open\n"
     ]
    },
    {
     "name": "stdout",
     "output_type": "stream",
     "text": [
      "Submitted batch job 4844000\n"
     ]
    }
   ],
   "source": [
    "for i in metadata[\"Novogene_ID\"].tolist():\n",
    "    task = \"trimgalore\"\n",
    "    mem = \"24\"\n",
    "    cpus = \"8\"\n",
    "    lane = \"4\"\n",
    "    rawpath = \"../raw/usftp21.novogene.com/01.RawData/*/\"\n",
    "    r1suffix = \"_*_L\" + lane + \"_1.fq.gz\"\n",
    "    r2suffix = \"_*_L\" + lane + \"_2.fq.gz\"\n",
    "    outpath = \"/storage/home/nsl5160/scratch/darpa/trimmed/\"\n",
    "    outprefix = \"_L\" + lane\n",
    "    subprocess.run([\"sbatch --mem=\" + mem + \"g --ntasks=\" + \n",
    "         cpus + \" ../\" + task + \".sh \" + \n",
    "         rawpath + i + r1suffix + \" \" + \n",
    "         rawpath + i + r2suffix + \" \" + \n",
    "         outpath + \" \" + i + outprefix], shell=True)"
   ]
  },
  {
   "cell_type": "markdown",
   "id": "b431686c",
   "metadata": {},
   "source": [
    "Trimming the Kenkel lab's data:"
   ]
  },
  {
   "cell_type": "code",
   "execution_count": 8,
   "id": "ee53c6cf",
   "metadata": {},
   "outputs": [],
   "source": [
    "kenkel = pd.read_csv(\"../KenkelSequencingSampleKeyHaplotypeReferences.csv\")"
   ]
  },
  {
   "cell_type": "code",
   "execution_count": 7,
   "id": "554f70fe",
   "metadata": {},
   "outputs": [
    {
     "name": "stdout",
     "output_type": "stream",
     "text": [
      "#!/bin/bash\r\n",
      "#SBATCH --nodes=1\r\n",
      "#SBATCH --time=48:00:00\r\n",
      "#SBATCH --job-name=trimgalore\r\n",
      "\r\n",
      "source ~/.bashrc\r\n",
      "conda activate deseq2\r\n",
      "\r\n",
      "cd $SLURM_SUBMIT_DIR\r\n",
      "R1=$1\r\n",
      "R2=$2\r\n",
      "OUTPATH=$3\r\n",
      "OUTPREFIX=$4\r\n",
      "mkdir -p ${OUTPATH}\r\n",
      "\r\n",
      "trim_galore \\\r\n",
      "\t--paired ${R1} ${R2} \\\r\n",
      "\t--gzip -j $SLURM_NTASKS \\\r\n",
      "\t-o ${OUTPATH} \\\r\n",
      "\t--basename ${OUTPREFIX}\r\n"
     ]
    }
   ],
   "source": [
    "!cat ../trimgalore.sh"
   ]
  },
  {
   "cell_type": "code",
   "execution_count": 9,
   "id": "5b2ada7f",
   "metadata": {},
   "outputs": [
    {
     "data": {
      "text/html": [
       "<div>\n",
       "<style scoped>\n",
       "    .dataframe tbody tr th:only-of-type {\n",
       "        vertical-align: middle;\n",
       "    }\n",
       "\n",
       "    .dataframe tbody tr th {\n",
       "        vertical-align: top;\n",
       "    }\n",
       "\n",
       "    .dataframe thead th {\n",
       "        text-align: right;\n",
       "    }\n",
       "</style>\n",
       "<table border=\"1\" class=\"dataframe\">\n",
       "  <thead>\n",
       "    <tr style=\"text-align: right;\">\n",
       "      <th></th>\n",
       "      <th>AdmeraHealthID</th>\n",
       "      <th>NameOnTubeCap</th>\n",
       "      <th>Sample</th>\n",
       "      <th>OrgName</th>\n",
       "      <th>BaumsName</th>\n",
       "      <th>Org</th>\n",
       "      <th>clonal_id_correct</th>\n",
       "      <th>ED50</th>\n",
       "      <th>Location</th>\n",
       "      <th>Preservation</th>\n",
       "      <th>Extraction Type</th>\n",
       "      <th>Extraction Done</th>\n",
       "      <th>Clean Up Done</th>\n",
       "      <th>Conc. ng/uL</th>\n",
       "      <th>Vol. uL</th>\n",
       "      <th>ConcentrationAfterScalingUpto20uL</th>\n",
       "      <th>Notes</th>\n",
       "    </tr>\n",
       "  </thead>\n",
       "  <tbody>\n",
       "    <tr>\n",
       "      <th>0</th>\n",
       "      <td>21073D-02-40</td>\n",
       "      <td>8.5</td>\n",
       "      <td>8.5</td>\n",
       "      <td>AP8</td>\n",
       "      <td>AP8_kenkel</td>\n",
       "      <td>Mote</td>\n",
       "      <td>HG0611</td>\n",
       "      <td>NaN</td>\n",
       "      <td>Ex-Situ Nursery</td>\n",
       "      <td>snap frozen</td>\n",
       "      <td>CTAB/Ampure Bead Clean Up</td>\n",
       "      <td>y</td>\n",
       "      <td>y</td>\n",
       "      <td>212.607</td>\n",
       "      <td>8</td>\n",
       "      <td>85.0428</td>\n",
       "      <td>NaN</td>\n",
       "    </tr>\n",
       "    <tr>\n",
       "      <th>1</th>\n",
       "      <td>21073D-02-39</td>\n",
       "      <td>14.2</td>\n",
       "      <td>14.2</td>\n",
       "      <td>AP14</td>\n",
       "      <td>AP14_kenkel</td>\n",
       "      <td>Mote</td>\n",
       "      <td>NaN</td>\n",
       "      <td>NaN</td>\n",
       "      <td>Ex-Situ Nursery</td>\n",
       "      <td>snap frozen</td>\n",
       "      <td>CTAB/Ampure Bead Clean Up</td>\n",
       "      <td>y</td>\n",
       "      <td>y</td>\n",
       "      <td>103.368</td>\n",
       "      <td>8</td>\n",
       "      <td>41.3472</td>\n",
       "      <td>NaN</td>\n",
       "    </tr>\n",
       "    <tr>\n",
       "      <th>2</th>\n",
       "      <td>21073D-02-38</td>\n",
       "      <td>29.5</td>\n",
       "      <td>29.5</td>\n",
       "      <td>AP29</td>\n",
       "      <td>AP29_kenkel</td>\n",
       "      <td>Mote</td>\n",
       "      <td>NaN</td>\n",
       "      <td>NaN</td>\n",
       "      <td>Ex-Situ Nursery</td>\n",
       "      <td>snap frozen</td>\n",
       "      <td>CTAB/Ampure Bead Clean Up</td>\n",
       "      <td>y</td>\n",
       "      <td>y</td>\n",
       "      <td>19.037</td>\n",
       "      <td>8</td>\n",
       "      <td>7.6148</td>\n",
       "      <td>NaN</td>\n",
       "    </tr>\n",
       "    <tr>\n",
       "      <th>3</th>\n",
       "      <td>21073D-02-37</td>\n",
       "      <td>30.4</td>\n",
       "      <td>30.4</td>\n",
       "      <td>AP30</td>\n",
       "      <td>AP30_kenkel</td>\n",
       "      <td>Mote</td>\n",
       "      <td>NaN</td>\n",
       "      <td>NaN</td>\n",
       "      <td>Ex-Situ Nursery</td>\n",
       "      <td>snap frozen</td>\n",
       "      <td>CTAB/Ampure Bead Clean Up</td>\n",
       "      <td>y</td>\n",
       "      <td>y</td>\n",
       "      <td>126.473</td>\n",
       "      <td>8</td>\n",
       "      <td>50.5892</td>\n",
       "      <td>NaN</td>\n",
       "    </tr>\n",
       "    <tr>\n",
       "      <th>4</th>\n",
       "      <td>21073D-02-25</td>\n",
       "      <td>54.1</td>\n",
       "      <td>54.1</td>\n",
       "      <td>AP54</td>\n",
       "      <td>AP54_kenkel</td>\n",
       "      <td>Mote</td>\n",
       "      <td>NaN</td>\n",
       "      <td>NaN</td>\n",
       "      <td>Ex-Situ Nursery</td>\n",
       "      <td>snap frozen</td>\n",
       "      <td>CTAB/Ampure Bead Clean Up</td>\n",
       "      <td>y</td>\n",
       "      <td>y</td>\n",
       "      <td>131.817</td>\n",
       "      <td>8</td>\n",
       "      <td>52.7268</td>\n",
       "      <td>NaN</td>\n",
       "    </tr>\n",
       "    <tr>\n",
       "      <th>5</th>\n",
       "      <td>21073D-02-26</td>\n",
       "      <td>55.2</td>\n",
       "      <td>55.2</td>\n",
       "      <td>AP55</td>\n",
       "      <td>AP55_kenkel</td>\n",
       "      <td>Mote</td>\n",
       "      <td>NaN</td>\n",
       "      <td>NaN</td>\n",
       "      <td>Ex-Situ Nursery</td>\n",
       "      <td>snap frozen</td>\n",
       "      <td>CTAB/Ampure Bead Clean Up</td>\n",
       "      <td>y</td>\n",
       "      <td>y</td>\n",
       "      <td>251.391</td>\n",
       "      <td>8</td>\n",
       "      <td>100.5564</td>\n",
       "      <td>NaN</td>\n",
       "    </tr>\n",
       "    <tr>\n",
       "      <th>6</th>\n",
       "      <td>21073D-02-27</td>\n",
       "      <td>56.1</td>\n",
       "      <td>56.1</td>\n",
       "      <td>AP56</td>\n",
       "      <td>AP56_kenkel</td>\n",
       "      <td>Mote</td>\n",
       "      <td>NaN</td>\n",
       "      <td>NaN</td>\n",
       "      <td>Ex-Situ Nursery</td>\n",
       "      <td>snap frozen</td>\n",
       "      <td>CTAB/Ampure Bead Clean Up</td>\n",
       "      <td>y</td>\n",
       "      <td>y</td>\n",
       "      <td>331.894</td>\n",
       "      <td>8</td>\n",
       "      <td>132.7576</td>\n",
       "      <td>NaN</td>\n",
       "    </tr>\n",
       "    <tr>\n",
       "      <th>7</th>\n",
       "      <td>21073D-02-28</td>\n",
       "      <td>63.1</td>\n",
       "      <td>63.1</td>\n",
       "      <td>AP63</td>\n",
       "      <td>AP63_kenkel</td>\n",
       "      <td>Mote</td>\n",
       "      <td>NaN</td>\n",
       "      <td>NaN</td>\n",
       "      <td>Ex-Situ Nursery</td>\n",
       "      <td>snap frozen</td>\n",
       "      <td>CTAB/Ampure Bead Clean Up</td>\n",
       "      <td>y</td>\n",
       "      <td>y</td>\n",
       "      <td>256.596</td>\n",
       "      <td>9</td>\n",
       "      <td>115.4682</td>\n",
       "      <td>NaN</td>\n",
       "    </tr>\n",
       "    <tr>\n",
       "      <th>8</th>\n",
       "      <td>21073D-02-29</td>\n",
       "      <td>66.1</td>\n",
       "      <td>66.1</td>\n",
       "      <td>AP66</td>\n",
       "      <td>AP66_kenkel</td>\n",
       "      <td>Mote</td>\n",
       "      <td>NaN</td>\n",
       "      <td>NaN</td>\n",
       "      <td>Ex-Situ Nursery</td>\n",
       "      <td>snap frozen</td>\n",
       "      <td>CTAB/Ampure Bead Clean Up</td>\n",
       "      <td>y</td>\n",
       "      <td>y</td>\n",
       "      <td>184.686</td>\n",
       "      <td>9</td>\n",
       "      <td>83.1087</td>\n",
       "      <td>NaN</td>\n",
       "    </tr>\n",
       "    <tr>\n",
       "      <th>9</th>\n",
       "      <td>21073D-02-31</td>\n",
       "      <td>75.5</td>\n",
       "      <td>75.5</td>\n",
       "      <td>AP75</td>\n",
       "      <td>AP75_kenkel</td>\n",
       "      <td>Mote</td>\n",
       "      <td>NaN</td>\n",
       "      <td>NaN</td>\n",
       "      <td>Ex-Situ Nursery</td>\n",
       "      <td>snap frozen</td>\n",
       "      <td>CTAB/Ampure Bead Clean Up</td>\n",
       "      <td>y</td>\n",
       "      <td>y</td>\n",
       "      <td>80.789</td>\n",
       "      <td>8</td>\n",
       "      <td>32.3156</td>\n",
       "      <td>NaN</td>\n",
       "    </tr>\n",
       "    <tr>\n",
       "      <th>10</th>\n",
       "      <td>21073D-02-33</td>\n",
       "      <td>79.1</td>\n",
       "      <td>79.1</td>\n",
       "      <td>AP79</td>\n",
       "      <td>AP79_kenkel</td>\n",
       "      <td>Mote</td>\n",
       "      <td>NaN</td>\n",
       "      <td>NaN</td>\n",
       "      <td>Ex-Situ Nursery</td>\n",
       "      <td>snap frozen</td>\n",
       "      <td>CTAB/Ampure Bead Clean Up</td>\n",
       "      <td>y</td>\n",
       "      <td>y</td>\n",
       "      <td>237.793</td>\n",
       "      <td>8</td>\n",
       "      <td>95.1172</td>\n",
       "      <td>NaN</td>\n",
       "    </tr>\n",
       "    <tr>\n",
       "      <th>11</th>\n",
       "      <td>21073D-02-34</td>\n",
       "      <td>86.1</td>\n",
       "      <td>86.1</td>\n",
       "      <td>AP86</td>\n",
       "      <td>AP86_kenkel</td>\n",
       "      <td>Mote</td>\n",
       "      <td>NaN</td>\n",
       "      <td>NaN</td>\n",
       "      <td>Ex-Situ Nursery</td>\n",
       "      <td>snap frozen</td>\n",
       "      <td>CTAB/Ampure Bead Clean Up</td>\n",
       "      <td>y</td>\n",
       "      <td>y</td>\n",
       "      <td>104.688</td>\n",
       "      <td>8</td>\n",
       "      <td>41.8752</td>\n",
       "      <td>NaN</td>\n",
       "    </tr>\n",
       "    <tr>\n",
       "      <th>12</th>\n",
       "      <td>21073D-02-35</td>\n",
       "      <td>89.5</td>\n",
       "      <td>89.5</td>\n",
       "      <td>AP89</td>\n",
       "      <td>AP89_kenkel</td>\n",
       "      <td>Mote</td>\n",
       "      <td>NaN</td>\n",
       "      <td>NaN</td>\n",
       "      <td>Ex-Situ Nursery</td>\n",
       "      <td>snap frozen</td>\n",
       "      <td>CTAB/Ampure Bead Clean Up</td>\n",
       "      <td>y</td>\n",
       "      <td>y</td>\n",
       "      <td>115.677</td>\n",
       "      <td>8</td>\n",
       "      <td>46.2708</td>\n",
       "      <td>NaN</td>\n",
       "    </tr>\n",
       "    <tr>\n",
       "      <th>13</th>\n",
       "      <td>21073D-02-36</td>\n",
       "      <td>91.5</td>\n",
       "      <td>91.5</td>\n",
       "      <td>AP91</td>\n",
       "      <td>AP91_kenkel</td>\n",
       "      <td>Mote</td>\n",
       "      <td>NaN</td>\n",
       "      <td>NaN</td>\n",
       "      <td>Ex-Situ Nursery</td>\n",
       "      <td>snap frozen</td>\n",
       "      <td>CTAB/Ampure Bead Clean Up</td>\n",
       "      <td>y</td>\n",
       "      <td>y</td>\n",
       "      <td>243.928</td>\n",
       "      <td>8</td>\n",
       "      <td>97.5712</td>\n",
       "      <td>NaN</td>\n",
       "    </tr>\n",
       "    <tr>\n",
       "      <th>14</th>\n",
       "      <td>21073D-02-30</td>\n",
       "      <td>327.4</td>\n",
       "      <td>327.4</td>\n",
       "      <td>AP327</td>\n",
       "      <td>AP327_kenkel</td>\n",
       "      <td>Mote</td>\n",
       "      <td>NaN</td>\n",
       "      <td>NaN</td>\n",
       "      <td>Ex-Situ Nursery</td>\n",
       "      <td>snap frozen</td>\n",
       "      <td>CTAB/Ampure Bead Clean Up</td>\n",
       "      <td>y</td>\n",
       "      <td>y</td>\n",
       "      <td>93.750</td>\n",
       "      <td>9</td>\n",
       "      <td>42.1875</td>\n",
       "      <td>NaN</td>\n",
       "    </tr>\n",
       "    <tr>\n",
       "      <th>15</th>\n",
       "      <td>21073D-02-06</td>\n",
       "      <td>AP005</td>\n",
       "      <td>Apal-005</td>\n",
       "      <td>Apal-005</td>\n",
       "      <td>Apal-005_kenkel</td>\n",
       "      <td>CRF</td>\n",
       "      <td>HG0799</td>\n",
       "      <td>36.162596</td>\n",
       "      <td>Florida</td>\n",
       "      <td>ethanol</td>\n",
       "      <td>Bio-Rad Kit/Ampure Bead Clean Up</td>\n",
       "      <td>y</td>\n",
       "      <td>y</td>\n",
       "      <td>1620.705</td>\n",
       "      <td>16</td>\n",
       "      <td>1296.5640</td>\n",
       "      <td>NaN</td>\n",
       "    </tr>\n",
       "    <tr>\n",
       "      <th>16</th>\n",
       "      <td>21073D-02-07</td>\n",
       "      <td>AP016</td>\n",
       "      <td>Apal-016</td>\n",
       "      <td>Apal-016</td>\n",
       "      <td>Apal-016_kenkel</td>\n",
       "      <td>CRF</td>\n",
       "      <td>HG1714</td>\n",
       "      <td>36.885231</td>\n",
       "      <td>Florida</td>\n",
       "      <td>ethanol</td>\n",
       "      <td>Bio-Rad Kit/Ampure Bead Clean Up</td>\n",
       "      <td>y</td>\n",
       "      <td>y</td>\n",
       "      <td>751.472</td>\n",
       "      <td>16</td>\n",
       "      <td>601.1776</td>\n",
       "      <td>NaN</td>\n",
       "    </tr>\n",
       "    <tr>\n",
       "      <th>17</th>\n",
       "      <td>21073D-02-20</td>\n",
       "      <td>AP01DR</td>\n",
       "      <td>AP-01-DR</td>\n",
       "      <td>AP-01-DR</td>\n",
       "      <td>DR1_kenkel</td>\n",
       "      <td>Iberostar</td>\n",
       "      <td>NaN</td>\n",
       "      <td>NaN</td>\n",
       "      <td>Bayahibe, Dominican Republic</td>\n",
       "      <td>ethanol</td>\n",
       "      <td>Wayne's Method/Ampure Bead Clean Up</td>\n",
       "      <td>y</td>\n",
       "      <td>y</td>\n",
       "      <td>318.115</td>\n",
       "      <td>6</td>\n",
       "      <td>95.4345</td>\n",
       "      <td>NaN</td>\n",
       "    </tr>\n",
       "    <tr>\n",
       "      <th>18</th>\n",
       "      <td>21073D-02-12</td>\n",
       "      <td>AP03J</td>\n",
       "      <td>AP-03-JAM</td>\n",
       "      <td>AP-03-JAM</td>\n",
       "      <td>J1_kenkel</td>\n",
       "      <td>Iberostar</td>\n",
       "      <td>NaN</td>\n",
       "      <td>NaN</td>\n",
       "      <td>Jamaica</td>\n",
       "      <td>ethanol</td>\n",
       "      <td>Wayne's Method/Ampure Bead Clean Up</td>\n",
       "      <td>y</td>\n",
       "      <td>y</td>\n",
       "      <td>233.560</td>\n",
       "      <td>16</td>\n",
       "      <td>186.8480</td>\n",
       "      <td>NaN</td>\n",
       "    </tr>\n",
       "    <tr>\n",
       "      <th>19</th>\n",
       "      <td>21073D-02-10</td>\n",
       "      <td>AP044</td>\n",
       "      <td>Apal-044</td>\n",
       "      <td>Apal-044</td>\n",
       "      <td>Apal-044_kenkel</td>\n",
       "      <td>CRF</td>\n",
       "      <td>NaN</td>\n",
       "      <td>NaN</td>\n",
       "      <td>Florida</td>\n",
       "      <td>ethanol</td>\n",
       "      <td>Bio-Rad Kit/Ampure Bead Clean Up</td>\n",
       "      <td>y</td>\n",
       "      <td>y</td>\n",
       "      <td>679.263</td>\n",
       "      <td>16</td>\n",
       "      <td>543.4104</td>\n",
       "      <td>NaN</td>\n",
       "    </tr>\n",
       "    <tr>\n",
       "      <th>20</th>\n",
       "      <td>21073D-02-08</td>\n",
       "      <td>AP047</td>\n",
       "      <td>Apal-047</td>\n",
       "      <td>Apal-047</td>\n",
       "      <td>Apal-047_kenkel</td>\n",
       "      <td>CRF</td>\n",
       "      <td>HG1738</td>\n",
       "      <td>37.174640</td>\n",
       "      <td>Florida</td>\n",
       "      <td>ethanol</td>\n",
       "      <td>Bio-Rad Kit/Ampure Bead Clean Up</td>\n",
       "      <td>y</td>\n",
       "      <td>y</td>\n",
       "      <td>549.072</td>\n",
       "      <td>16</td>\n",
       "      <td>439.2576</td>\n",
       "      <td>NaN</td>\n",
       "    </tr>\n",
       "    <tr>\n",
       "      <th>21</th>\n",
       "      <td>21073D-02-11</td>\n",
       "      <td>AP074</td>\n",
       "      <td>Apal-074</td>\n",
       "      <td>Apal-074</td>\n",
       "      <td>Apal-074_kenkel</td>\n",
       "      <td>CRF</td>\n",
       "      <td>HG0822</td>\n",
       "      <td>36.557781</td>\n",
       "      <td>Florida</td>\n",
       "      <td>ethanol</td>\n",
       "      <td>Bio-Rad Kit/Ampure Bead Clean Up</td>\n",
       "      <td>y</td>\n",
       "      <td>y</td>\n",
       "      <td>1067.659</td>\n",
       "      <td>16</td>\n",
       "      <td>854.1272</td>\n",
       "      <td>NaN</td>\n",
       "    </tr>\n",
       "    <tr>\n",
       "      <th>22</th>\n",
       "      <td>21073D-02-21</td>\n",
       "      <td>AP07DR</td>\n",
       "      <td>AP-07-DR</td>\n",
       "      <td>AP-07-DR</td>\n",
       "      <td>DR2_kenkel</td>\n",
       "      <td>Iberostar</td>\n",
       "      <td>NaN</td>\n",
       "      <td>NaN</td>\n",
       "      <td>Bayahibe, Dominican Republic</td>\n",
       "      <td>ethanol</td>\n",
       "      <td>Wayne's Method/Ampure Bead Clean Up</td>\n",
       "      <td>y</td>\n",
       "      <td>y</td>\n",
       "      <td>264.691</td>\n",
       "      <td>6</td>\n",
       "      <td>79.4073</td>\n",
       "      <td>NaN</td>\n",
       "    </tr>\n",
       "    <tr>\n",
       "      <th>23</th>\n",
       "      <td>21073D-02-09</td>\n",
       "      <td>AP090</td>\n",
       "      <td>Apal-090</td>\n",
       "      <td>Apal-090</td>\n",
       "      <td>Apal-090_kenkel</td>\n",
       "      <td>CRF</td>\n",
       "      <td>NaN</td>\n",
       "      <td>NaN</td>\n",
       "      <td>Florida</td>\n",
       "      <td>ethanol</td>\n",
       "      <td>Bio-Rad Kit/Ampure Bead Clean Up</td>\n",
       "      <td>y</td>\n",
       "      <td>y</td>\n",
       "      <td>23.747</td>\n",
       "      <td>16</td>\n",
       "      <td>18.9976</td>\n",
       "      <td>NaN</td>\n",
       "    </tr>\n",
       "    <tr>\n",
       "      <th>24</th>\n",
       "      <td>21073D-02-22</td>\n",
       "      <td>AP10DR</td>\n",
       "      <td>AP-10-DR</td>\n",
       "      <td>AP-10-DR</td>\n",
       "      <td>DR3_kenkel</td>\n",
       "      <td>Iberostar</td>\n",
       "      <td>NaN</td>\n",
       "      <td>NaN</td>\n",
       "      <td>Bayahibe, Dominican Republic</td>\n",
       "      <td>ethanol</td>\n",
       "      <td>Wayne's Method/Ampure Bead Clean Up</td>\n",
       "      <td>y</td>\n",
       "      <td>y</td>\n",
       "      <td>182.132</td>\n",
       "      <td>6</td>\n",
       "      <td>54.6396</td>\n",
       "      <td>NaN</td>\n",
       "    </tr>\n",
       "    <tr>\n",
       "      <th>25</th>\n",
       "      <td>21073D-02-13</td>\n",
       "      <td>AP12J</td>\n",
       "      <td>AP-12-JAM</td>\n",
       "      <td>AP-12-JAM</td>\n",
       "      <td>J2_kenkel</td>\n",
       "      <td>Iberostar</td>\n",
       "      <td>NaN</td>\n",
       "      <td>NaN</td>\n",
       "      <td>Jamaica</td>\n",
       "      <td>ethanol</td>\n",
       "      <td>Wayne's Method/Ampure Bead Clean Up</td>\n",
       "      <td>y</td>\n",
       "      <td>y</td>\n",
       "      <td>737.498</td>\n",
       "      <td>6</td>\n",
       "      <td>221.2494</td>\n",
       "      <td>NaN</td>\n",
       "    </tr>\n",
       "    <tr>\n",
       "      <th>26</th>\n",
       "      <td>21073D-02-14</td>\n",
       "      <td>AP13J</td>\n",
       "      <td>AP-13-JAM</td>\n",
       "      <td>AP-13-JAM</td>\n",
       "      <td>J3_kenkel</td>\n",
       "      <td>Iberostar</td>\n",
       "      <td>NaN</td>\n",
       "      <td>NaN</td>\n",
       "      <td>Jamaica</td>\n",
       "      <td>ethanol</td>\n",
       "      <td>Wayne's Method/Ampure Bead Clean Up</td>\n",
       "      <td>y</td>\n",
       "      <td>y</td>\n",
       "      <td>174.615</td>\n",
       "      <td>6</td>\n",
       "      <td>52.3845</td>\n",
       "      <td>NaN</td>\n",
       "    </tr>\n",
       "    <tr>\n",
       "      <th>27</th>\n",
       "      <td>21073D-02-15</td>\n",
       "      <td>AP14J</td>\n",
       "      <td>AP-14-JAM</td>\n",
       "      <td>AP-14-JAM</td>\n",
       "      <td>J4_kenkel</td>\n",
       "      <td>Iberostar</td>\n",
       "      <td>NaN</td>\n",
       "      <td>NaN</td>\n",
       "      <td>Jamaica</td>\n",
       "      <td>ethanol</td>\n",
       "      <td>Wayne's Method/Ampure Bead Clean Up</td>\n",
       "      <td>y</td>\n",
       "      <td>y</td>\n",
       "      <td>172.473</td>\n",
       "      <td>6</td>\n",
       "      <td>51.7419</td>\n",
       "      <td>NaN</td>\n",
       "    </tr>\n",
       "    <tr>\n",
       "      <th>28</th>\n",
       "      <td>21073D-02-17</td>\n",
       "      <td>AP14M</td>\n",
       "      <td>AP-14-MEX</td>\n",
       "      <td>AP-14-MEX</td>\n",
       "      <td>M1_kenkel</td>\n",
       "      <td>Iberostar</td>\n",
       "      <td>NaN</td>\n",
       "      <td>NaN</td>\n",
       "      <td>Playa Paraiso, Mexico</td>\n",
       "      <td>ethanol</td>\n",
       "      <td>Wayne's Method/Ampure Bead Clean Up</td>\n",
       "      <td>y</td>\n",
       "      <td>y</td>\n",
       "      <td>250.435</td>\n",
       "      <td>6</td>\n",
       "      <td>75.1305</td>\n",
       "      <td>NaN</td>\n",
       "    </tr>\n",
       "    <tr>\n",
       "      <th>29</th>\n",
       "      <td>21073D-02-23</td>\n",
       "      <td>AP15DR</td>\n",
       "      <td>AP-15-DR</td>\n",
       "      <td>AP-15-DR</td>\n",
       "      <td>DR4_kenkel</td>\n",
       "      <td>Iberostar</td>\n",
       "      <td>NaN</td>\n",
       "      <td>NaN</td>\n",
       "      <td>Bayahibe, Dominican Republic</td>\n",
       "      <td>ethanol</td>\n",
       "      <td>Wayne's Method/Ampure Bead Clean Up</td>\n",
       "      <td>y</td>\n",
       "      <td>y</td>\n",
       "      <td>159.696</td>\n",
       "      <td>6</td>\n",
       "      <td>47.9088</td>\n",
       "      <td>NaN</td>\n",
       "    </tr>\n",
       "    <tr>\n",
       "      <th>30</th>\n",
       "      <td>21073D-02-16</td>\n",
       "      <td>AP15J</td>\n",
       "      <td>AP-15-JAM</td>\n",
       "      <td>AP-15-JAM</td>\n",
       "      <td>J5_kenkel</td>\n",
       "      <td>Iberostar</td>\n",
       "      <td>NaN</td>\n",
       "      <td>NaN</td>\n",
       "      <td>Jamaica</td>\n",
       "      <td>ethanol</td>\n",
       "      <td>Wayne's Method/Ampure Bead Clean Up</td>\n",
       "      <td>y</td>\n",
       "      <td>y</td>\n",
       "      <td>370.233</td>\n",
       "      <td>6</td>\n",
       "      <td>111.0699</td>\n",
       "      <td>NaN</td>\n",
       "    </tr>\n",
       "    <tr>\n",
       "      <th>31</th>\n",
       "      <td>21073D-02-18</td>\n",
       "      <td>AP15M</td>\n",
       "      <td>AP-15-MEX</td>\n",
       "      <td>AP-15-MEX</td>\n",
       "      <td>M2_kenkel</td>\n",
       "      <td>Iberostar</td>\n",
       "      <td>NaN</td>\n",
       "      <td>NaN</td>\n",
       "      <td>Playa Paraiso, Mexico</td>\n",
       "      <td>ethanol</td>\n",
       "      <td>Wayne's Method/Ampure Bead Clean Up</td>\n",
       "      <td>y</td>\n",
       "      <td>y</td>\n",
       "      <td>380.918</td>\n",
       "      <td>6</td>\n",
       "      <td>114.2754</td>\n",
       "      <td>NaN</td>\n",
       "    </tr>\n",
       "    <tr>\n",
       "      <th>32</th>\n",
       "      <td>21073D-02-19</td>\n",
       "      <td>AP16M</td>\n",
       "      <td>AP-16-MEX</td>\n",
       "      <td>AP-16-MEX</td>\n",
       "      <td>M3_kenkel</td>\n",
       "      <td>Iberostar</td>\n",
       "      <td>NaN</td>\n",
       "      <td>NaN</td>\n",
       "      <td>Playa Paraiso, Mexico</td>\n",
       "      <td>ethanol</td>\n",
       "      <td>Wayne's Method/Ampure Bead Clean Up</td>\n",
       "      <td>y</td>\n",
       "      <td>y</td>\n",
       "      <td>256.138</td>\n",
       "      <td>6</td>\n",
       "      <td>76.8414</td>\n",
       "      <td>NaN</td>\n",
       "    </tr>\n",
       "    <tr>\n",
       "      <th>33</th>\n",
       "      <td>21073D-02-24</td>\n",
       "      <td>AP23DR</td>\n",
       "      <td>AP-23-DR</td>\n",
       "      <td>AP-23-DR</td>\n",
       "      <td>DR5_kenkel</td>\n",
       "      <td>Iberostar</td>\n",
       "      <td>NaN</td>\n",
       "      <td>NaN</td>\n",
       "      <td>Bayahibe, Dominican Republic</td>\n",
       "      <td>ethanol</td>\n",
       "      <td>Wayne's Method/Ampure Bead Clean Up</td>\n",
       "      <td>y</td>\n",
       "      <td>y</td>\n",
       "      <td>371.569</td>\n",
       "      <td>6</td>\n",
       "      <td>111.4707</td>\n",
       "      <td>NaN</td>\n",
       "    </tr>\n",
       "    <tr>\n",
       "      <th>34</th>\n",
       "      <td>21073D-02-04</td>\n",
       "      <td>AP365</td>\n",
       "      <td>AP365</td>\n",
       "      <td>ML-LK10</td>\n",
       "      <td>ML-LK11_kenkel</td>\n",
       "      <td>Mote</td>\n",
       "      <td>NaN</td>\n",
       "      <td>NaN</td>\n",
       "      <td>Florida</td>\n",
       "      <td>snap frozen</td>\n",
       "      <td>Bio-Rad Kit/Ampure Bead Clean Up</td>\n",
       "      <td>y</td>\n",
       "      <td>y</td>\n",
       "      <td>202.696</td>\n",
       "      <td>16</td>\n",
       "      <td>162.1568</td>\n",
       "      <td>NaN</td>\n",
       "    </tr>\n",
       "    <tr>\n",
       "      <th>35</th>\n",
       "      <td>21073D-02-03</td>\n",
       "      <td>AP366</td>\n",
       "      <td>AP366</td>\n",
       "      <td>ML-WDR1</td>\n",
       "      <td>ML-WDR2_kenkel</td>\n",
       "      <td>Mote</td>\n",
       "      <td>NaN</td>\n",
       "      <td>NaN</td>\n",
       "      <td>Florida</td>\n",
       "      <td>snap frozen</td>\n",
       "      <td>Bio-Rad Kit/Ampure Bead Clean Up</td>\n",
       "      <td>y</td>\n",
       "      <td>y</td>\n",
       "      <td>1552.029</td>\n",
       "      <td>16</td>\n",
       "      <td>1241.6232</td>\n",
       "      <td>NaN</td>\n",
       "    </tr>\n",
       "    <tr>\n",
       "      <th>36</th>\n",
       "      <td>21073D-02-01</td>\n",
       "      <td>AP46</td>\n",
       "      <td>AP46</td>\n",
       "      <td>ML-SK2</td>\n",
       "      <td>ML-SK3_kenkel</td>\n",
       "      <td>Mote</td>\n",
       "      <td>NaN</td>\n",
       "      <td>NaN</td>\n",
       "      <td>Florida</td>\n",
       "      <td>snap frozen</td>\n",
       "      <td>Bio-Rad Kit/Ampure Bead Clean Up</td>\n",
       "      <td>y</td>\n",
       "      <td>y</td>\n",
       "      <td>1726.339</td>\n",
       "      <td>16</td>\n",
       "      <td>1381.0712</td>\n",
       "      <td>NaN</td>\n",
       "    </tr>\n",
       "    <tr>\n",
       "      <th>37</th>\n",
       "      <td>21073D-02-02</td>\n",
       "      <td>AP47</td>\n",
       "      <td>AP47</td>\n",
       "      <td>ML-WDR3</td>\n",
       "      <td>ML-WDR4_kenkel</td>\n",
       "      <td>Mote</td>\n",
       "      <td>NaN</td>\n",
       "      <td>NaN</td>\n",
       "      <td>Florida</td>\n",
       "      <td>snap frozen</td>\n",
       "      <td>Bio-Rad Kit/Ampure Bead Clean Up</td>\n",
       "      <td>y</td>\n",
       "      <td>y</td>\n",
       "      <td>461.459</td>\n",
       "      <td>16</td>\n",
       "      <td>369.1672</td>\n",
       "      <td>NaN</td>\n",
       "    </tr>\n",
       "    <tr>\n",
       "      <th>38</th>\n",
       "      <td>21073D-02-05</td>\n",
       "      <td>AP48</td>\n",
       "      <td>AP48</td>\n",
       "      <td>ML-LK5</td>\n",
       "      <td>ML-LK6_kenkel</td>\n",
       "      <td>Mote</td>\n",
       "      <td>NaN</td>\n",
       "      <td>NaN</td>\n",
       "      <td>Florida</td>\n",
       "      <td>snap frozen</td>\n",
       "      <td>Bio-Rad Kit/Ampure Bead Clean Up</td>\n",
       "      <td>y</td>\n",
       "      <td>y</td>\n",
       "      <td>1381.847</td>\n",
       "      <td>16</td>\n",
       "      <td>1105.4776</td>\n",
       "      <td>NaN</td>\n",
       "    </tr>\n",
       "    <tr>\n",
       "      <th>39</th>\n",
       "      <td>21073D-02-32</td>\n",
       "      <td>AP76</td>\n",
       "      <td>AP76</td>\n",
       "      <td>AP76</td>\n",
       "      <td>AP77_kenkel</td>\n",
       "      <td>Mote</td>\n",
       "      <td>NaN</td>\n",
       "      <td>NaN</td>\n",
       "      <td>Ex-Situ Nursery</td>\n",
       "      <td>snap frozen</td>\n",
       "      <td>Bio-Rad Kit/Ampure Bead Clean Up</td>\n",
       "      <td>y</td>\n",
       "      <td>y</td>\n",
       "      <td>638.554</td>\n",
       "      <td>16</td>\n",
       "      <td>510.8432</td>\n",
       "      <td>NaN</td>\n",
       "    </tr>\n",
       "  </tbody>\n",
       "</table>\n",
       "</div>"
      ],
      "text/plain": [
       "   AdmeraHealthID NameOnTubeCap     Sample    OrgName        BaumsName  \\\n",
       "0    21073D-02-40           8.5        8.5        AP8       AP8_kenkel   \n",
       "1    21073D-02-39          14.2       14.2       AP14      AP14_kenkel   \n",
       "2    21073D-02-38          29.5       29.5       AP29      AP29_kenkel   \n",
       "3    21073D-02-37          30.4       30.4       AP30      AP30_kenkel   \n",
       "4    21073D-02-25          54.1       54.1       AP54      AP54_kenkel   \n",
       "5    21073D-02-26          55.2       55.2       AP55      AP55_kenkel   \n",
       "6    21073D-02-27          56.1       56.1       AP56      AP56_kenkel   \n",
       "7    21073D-02-28          63.1       63.1       AP63      AP63_kenkel   \n",
       "8    21073D-02-29          66.1       66.1       AP66      AP66_kenkel   \n",
       "9    21073D-02-31          75.5       75.5       AP75      AP75_kenkel   \n",
       "10   21073D-02-33          79.1       79.1       AP79      AP79_kenkel   \n",
       "11   21073D-02-34          86.1       86.1       AP86      AP86_kenkel   \n",
       "12   21073D-02-35          89.5       89.5       AP89      AP89_kenkel   \n",
       "13   21073D-02-36          91.5       91.5       AP91      AP91_kenkel   \n",
       "14   21073D-02-30         327.4      327.4      AP327     AP327_kenkel   \n",
       "15   21073D-02-06         AP005   Apal-005   Apal-005  Apal-005_kenkel   \n",
       "16   21073D-02-07         AP016   Apal-016   Apal-016  Apal-016_kenkel   \n",
       "17   21073D-02-20        AP01DR   AP-01-DR   AP-01-DR       DR1_kenkel   \n",
       "18   21073D-02-12         AP03J  AP-03-JAM  AP-03-JAM        J1_kenkel   \n",
       "19   21073D-02-10         AP044   Apal-044   Apal-044  Apal-044_kenkel   \n",
       "20   21073D-02-08         AP047   Apal-047   Apal-047  Apal-047_kenkel   \n",
       "21   21073D-02-11         AP074   Apal-074   Apal-074  Apal-074_kenkel   \n",
       "22   21073D-02-21        AP07DR   AP-07-DR   AP-07-DR       DR2_kenkel   \n",
       "23   21073D-02-09         AP090   Apal-090   Apal-090  Apal-090_kenkel   \n",
       "24   21073D-02-22        AP10DR   AP-10-DR   AP-10-DR       DR3_kenkel   \n",
       "25   21073D-02-13         AP12J  AP-12-JAM  AP-12-JAM        J2_kenkel   \n",
       "26   21073D-02-14         AP13J  AP-13-JAM  AP-13-JAM        J3_kenkel   \n",
       "27   21073D-02-15         AP14J  AP-14-JAM  AP-14-JAM        J4_kenkel   \n",
       "28   21073D-02-17         AP14M  AP-14-MEX  AP-14-MEX        M1_kenkel   \n",
       "29   21073D-02-23        AP15DR   AP-15-DR   AP-15-DR       DR4_kenkel   \n",
       "30   21073D-02-16         AP15J  AP-15-JAM  AP-15-JAM        J5_kenkel   \n",
       "31   21073D-02-18         AP15M  AP-15-MEX  AP-15-MEX        M2_kenkel   \n",
       "32   21073D-02-19         AP16M  AP-16-MEX  AP-16-MEX        M3_kenkel   \n",
       "33   21073D-02-24        AP23DR   AP-23-DR   AP-23-DR       DR5_kenkel   \n",
       "34   21073D-02-04         AP365      AP365    ML-LK10   ML-LK11_kenkel   \n",
       "35   21073D-02-03         AP366      AP366    ML-WDR1   ML-WDR2_kenkel   \n",
       "36   21073D-02-01          AP46       AP46     ML-SK2    ML-SK3_kenkel   \n",
       "37   21073D-02-02          AP47       AP47    ML-WDR3   ML-WDR4_kenkel   \n",
       "38   21073D-02-05          AP48       AP48     ML-LK5    ML-LK6_kenkel   \n",
       "39   21073D-02-32          AP76       AP76       AP76      AP77_kenkel   \n",
       "\n",
       "          Org clonal_id_correct       ED50                      Location  \\\n",
       "0        Mote            HG0611        NaN               Ex-Situ Nursery   \n",
       "1        Mote               NaN        NaN               Ex-Situ Nursery   \n",
       "2        Mote               NaN        NaN               Ex-Situ Nursery   \n",
       "3        Mote               NaN        NaN               Ex-Situ Nursery   \n",
       "4        Mote               NaN        NaN               Ex-Situ Nursery   \n",
       "5        Mote               NaN        NaN               Ex-Situ Nursery   \n",
       "6        Mote               NaN        NaN               Ex-Situ Nursery   \n",
       "7        Mote               NaN        NaN               Ex-Situ Nursery   \n",
       "8        Mote               NaN        NaN               Ex-Situ Nursery   \n",
       "9        Mote               NaN        NaN               Ex-Situ Nursery   \n",
       "10       Mote               NaN        NaN               Ex-Situ Nursery   \n",
       "11       Mote               NaN        NaN               Ex-Situ Nursery   \n",
       "12       Mote               NaN        NaN               Ex-Situ Nursery   \n",
       "13       Mote               NaN        NaN               Ex-Situ Nursery   \n",
       "14       Mote               NaN        NaN               Ex-Situ Nursery   \n",
       "15        CRF            HG0799  36.162596                       Florida   \n",
       "16        CRF            HG1714  36.885231                       Florida   \n",
       "17  Iberostar               NaN        NaN  Bayahibe, Dominican Republic   \n",
       "18  Iberostar               NaN        NaN                       Jamaica   \n",
       "19        CRF               NaN        NaN                       Florida   \n",
       "20        CRF            HG1738  37.174640                       Florida   \n",
       "21        CRF            HG0822  36.557781                       Florida   \n",
       "22  Iberostar               NaN        NaN  Bayahibe, Dominican Republic   \n",
       "23        CRF               NaN        NaN                       Florida   \n",
       "24  Iberostar               NaN        NaN  Bayahibe, Dominican Republic   \n",
       "25  Iberostar               NaN        NaN                       Jamaica   \n",
       "26  Iberostar               NaN        NaN                       Jamaica   \n",
       "27  Iberostar               NaN        NaN                       Jamaica   \n",
       "28  Iberostar               NaN        NaN         Playa Paraiso, Mexico   \n",
       "29  Iberostar               NaN        NaN  Bayahibe, Dominican Republic   \n",
       "30  Iberostar               NaN        NaN                       Jamaica   \n",
       "31  Iberostar               NaN        NaN         Playa Paraiso, Mexico   \n",
       "32  Iberostar               NaN        NaN         Playa Paraiso, Mexico   \n",
       "33  Iberostar               NaN        NaN  Bayahibe, Dominican Republic   \n",
       "34       Mote               NaN        NaN                       Florida   \n",
       "35       Mote               NaN        NaN                       Florida   \n",
       "36       Mote               NaN        NaN                       Florida   \n",
       "37       Mote               NaN        NaN                       Florida   \n",
       "38       Mote               NaN        NaN                       Florida   \n",
       "39       Mote               NaN        NaN               Ex-Situ Nursery   \n",
       "\n",
       "   Preservation                      Extraction Type Extraction Done  \\\n",
       "0   snap frozen            CTAB/Ampure Bead Clean Up               y   \n",
       "1   snap frozen            CTAB/Ampure Bead Clean Up               y   \n",
       "2   snap frozen            CTAB/Ampure Bead Clean Up               y   \n",
       "3   snap frozen            CTAB/Ampure Bead Clean Up               y   \n",
       "4   snap frozen            CTAB/Ampure Bead Clean Up               y   \n",
       "5   snap frozen            CTAB/Ampure Bead Clean Up               y   \n",
       "6   snap frozen            CTAB/Ampure Bead Clean Up               y   \n",
       "7   snap frozen            CTAB/Ampure Bead Clean Up               y   \n",
       "8   snap frozen            CTAB/Ampure Bead Clean Up               y   \n",
       "9   snap frozen            CTAB/Ampure Bead Clean Up               y   \n",
       "10  snap frozen            CTAB/Ampure Bead Clean Up               y   \n",
       "11  snap frozen            CTAB/Ampure Bead Clean Up               y   \n",
       "12  snap frozen            CTAB/Ampure Bead Clean Up               y   \n",
       "13  snap frozen            CTAB/Ampure Bead Clean Up               y   \n",
       "14  snap frozen            CTAB/Ampure Bead Clean Up               y   \n",
       "15      ethanol     Bio-Rad Kit/Ampure Bead Clean Up               y   \n",
       "16      ethanol     Bio-Rad Kit/Ampure Bead Clean Up               y   \n",
       "17      ethanol  Wayne's Method/Ampure Bead Clean Up               y   \n",
       "18      ethanol  Wayne's Method/Ampure Bead Clean Up               y   \n",
       "19      ethanol     Bio-Rad Kit/Ampure Bead Clean Up               y   \n",
       "20      ethanol     Bio-Rad Kit/Ampure Bead Clean Up               y   \n",
       "21      ethanol     Bio-Rad Kit/Ampure Bead Clean Up               y   \n",
       "22      ethanol  Wayne's Method/Ampure Bead Clean Up               y   \n",
       "23      ethanol     Bio-Rad Kit/Ampure Bead Clean Up               y   \n",
       "24      ethanol  Wayne's Method/Ampure Bead Clean Up               y   \n",
       "25      ethanol  Wayne's Method/Ampure Bead Clean Up               y   \n",
       "26      ethanol  Wayne's Method/Ampure Bead Clean Up               y   \n",
       "27      ethanol  Wayne's Method/Ampure Bead Clean Up               y   \n",
       "28      ethanol  Wayne's Method/Ampure Bead Clean Up               y   \n",
       "29      ethanol  Wayne's Method/Ampure Bead Clean Up               y   \n",
       "30      ethanol  Wayne's Method/Ampure Bead Clean Up               y   \n",
       "31      ethanol  Wayne's Method/Ampure Bead Clean Up               y   \n",
       "32      ethanol  Wayne's Method/Ampure Bead Clean Up               y   \n",
       "33      ethanol  Wayne's Method/Ampure Bead Clean Up               y   \n",
       "34  snap frozen     Bio-Rad Kit/Ampure Bead Clean Up               y   \n",
       "35  snap frozen     Bio-Rad Kit/Ampure Bead Clean Up               y   \n",
       "36  snap frozen     Bio-Rad Kit/Ampure Bead Clean Up               y   \n",
       "37  snap frozen     Bio-Rad Kit/Ampure Bead Clean Up               y   \n",
       "38  snap frozen     Bio-Rad Kit/Ampure Bead Clean Up               y   \n",
       "39  snap frozen     Bio-Rad Kit/Ampure Bead Clean Up               y   \n",
       "\n",
       "   Clean Up Done  Conc. ng/uL  Vol. uL  ConcentrationAfterScalingUpto20uL  \\\n",
       "0              y      212.607        8                            85.0428   \n",
       "1              y      103.368        8                            41.3472   \n",
       "2              y       19.037        8                             7.6148   \n",
       "3              y      126.473        8                            50.5892   \n",
       "4              y      131.817        8                            52.7268   \n",
       "5              y      251.391        8                           100.5564   \n",
       "6              y      331.894        8                           132.7576   \n",
       "7              y      256.596        9                           115.4682   \n",
       "8              y      184.686        9                            83.1087   \n",
       "9              y       80.789        8                            32.3156   \n",
       "10             y      237.793        8                            95.1172   \n",
       "11             y      104.688        8                            41.8752   \n",
       "12             y      115.677        8                            46.2708   \n",
       "13             y      243.928        8                            97.5712   \n",
       "14             y       93.750        9                            42.1875   \n",
       "15             y     1620.705       16                          1296.5640   \n",
       "16             y      751.472       16                           601.1776   \n",
       "17             y      318.115        6                            95.4345   \n",
       "18             y      233.560       16                           186.8480   \n",
       "19             y      679.263       16                           543.4104   \n",
       "20             y      549.072       16                           439.2576   \n",
       "21             y     1067.659       16                           854.1272   \n",
       "22             y      264.691        6                            79.4073   \n",
       "23             y       23.747       16                            18.9976   \n",
       "24             y      182.132        6                            54.6396   \n",
       "25             y      737.498        6                           221.2494   \n",
       "26             y      174.615        6                            52.3845   \n",
       "27             y      172.473        6                            51.7419   \n",
       "28             y      250.435        6                            75.1305   \n",
       "29             y      159.696        6                            47.9088   \n",
       "30             y      370.233        6                           111.0699   \n",
       "31             y      380.918        6                           114.2754   \n",
       "32             y      256.138        6                            76.8414   \n",
       "33             y      371.569        6                           111.4707   \n",
       "34             y      202.696       16                           162.1568   \n",
       "35             y     1552.029       16                          1241.6232   \n",
       "36             y     1726.339       16                          1381.0712   \n",
       "37             y      461.459       16                           369.1672   \n",
       "38             y     1381.847       16                          1105.4776   \n",
       "39             y      638.554       16                           510.8432   \n",
       "\n",
       "    Notes  \n",
       "0     NaN  \n",
       "1     NaN  \n",
       "2     NaN  \n",
       "3     NaN  \n",
       "4     NaN  \n",
       "5     NaN  \n",
       "6     NaN  \n",
       "7     NaN  \n",
       "8     NaN  \n",
       "9     NaN  \n",
       "10    NaN  \n",
       "11    NaN  \n",
       "12    NaN  \n",
       "13    NaN  \n",
       "14    NaN  \n",
       "15    NaN  \n",
       "16    NaN  \n",
       "17    NaN  \n",
       "18    NaN  \n",
       "19    NaN  \n",
       "20    NaN  \n",
       "21    NaN  \n",
       "22    NaN  \n",
       "23    NaN  \n",
       "24    NaN  \n",
       "25    NaN  \n",
       "26    NaN  \n",
       "27    NaN  \n",
       "28    NaN  \n",
       "29    NaN  \n",
       "30    NaN  \n",
       "31    NaN  \n",
       "32    NaN  \n",
       "33    NaN  \n",
       "34    NaN  \n",
       "35    NaN  \n",
       "36    NaN  \n",
       "37    NaN  \n",
       "38    NaN  \n",
       "39    NaN  "
      ]
     },
     "execution_count": 9,
     "metadata": {},
     "output_type": "execute_result"
    }
   ],
   "source": [
    "kenkel"
   ]
  },
  {
   "cell_type": "code",
   "execution_count": 13,
   "id": "f4270f3e",
   "metadata": {
    "scrolled": true
   },
   "outputs": [
    {
     "name": "stderr",
     "output_type": "stream",
     "text": [
      "sbatch: slurm_job_submit: No account set, using default acct: open\n"
     ]
    },
    {
     "name": "stdout",
     "output_type": "stream",
     "text": [
      "Submitted batch job 6777805\n"
     ]
    },
    {
     "name": "stderr",
     "output_type": "stream",
     "text": [
      "sbatch: slurm_job_submit: No account set, using default acct: open\n"
     ]
    },
    {
     "name": "stdout",
     "output_type": "stream",
     "text": [
      "Submitted batch job 6777808\n"
     ]
    },
    {
     "name": "stderr",
     "output_type": "stream",
     "text": [
      "sbatch: slurm_job_submit: No account set, using default acct: open\n"
     ]
    },
    {
     "name": "stdout",
     "output_type": "stream",
     "text": [
      "Submitted batch job 6777812\n"
     ]
    },
    {
     "name": "stderr",
     "output_type": "stream",
     "text": [
      "sbatch: slurm_job_submit: No account set, using default acct: open\n"
     ]
    },
    {
     "name": "stdout",
     "output_type": "stream",
     "text": [
      "Submitted batch job 6777815\n"
     ]
    },
    {
     "name": "stderr",
     "output_type": "stream",
     "text": [
      "sbatch: slurm_job_submit: No account set, using default acct: open\n"
     ]
    },
    {
     "name": "stdout",
     "output_type": "stream",
     "text": [
      "Submitted batch job 6777817\n"
     ]
    },
    {
     "name": "stderr",
     "output_type": "stream",
     "text": [
      "sbatch: slurm_job_submit: No account set, using default acct: open\n"
     ]
    },
    {
     "name": "stdout",
     "output_type": "stream",
     "text": [
      "Submitted batch job 6777821\n"
     ]
    },
    {
     "name": "stderr",
     "output_type": "stream",
     "text": [
      "sbatch: slurm_job_submit: No account set, using default acct: open\n"
     ]
    },
    {
     "name": "stdout",
     "output_type": "stream",
     "text": [
      "Submitted batch job 6777825\n"
     ]
    },
    {
     "name": "stderr",
     "output_type": "stream",
     "text": [
      "sbatch: slurm_job_submit: No account set, using default acct: open\n"
     ]
    },
    {
     "name": "stdout",
     "output_type": "stream",
     "text": [
      "Submitted batch job 6777827\n"
     ]
    },
    {
     "name": "stderr",
     "output_type": "stream",
     "text": [
      "sbatch: slurm_job_submit: No account set, using default acct: open\n"
     ]
    },
    {
     "name": "stdout",
     "output_type": "stream",
     "text": [
      "Submitted batch job 6777833\n",
      "Submitted batch job 6777836\n"
     ]
    },
    {
     "name": "stderr",
     "output_type": "stream",
     "text": [
      "sbatch: slurm_job_submit: No account set, using default acct: open\n",
      "sbatch: slurm_job_submit: No account set, using default acct: open\n"
     ]
    },
    {
     "name": "stdout",
     "output_type": "stream",
     "text": [
      "Submitted batch job 6777839\n"
     ]
    },
    {
     "name": "stderr",
     "output_type": "stream",
     "text": [
      "sbatch: slurm_job_submit: No account set, using default acct: open\n"
     ]
    },
    {
     "name": "stdout",
     "output_type": "stream",
     "text": [
      "Submitted batch job 6777841\n"
     ]
    },
    {
     "name": "stderr",
     "output_type": "stream",
     "text": [
      "sbatch: slurm_job_submit: No account set, using default acct: open\n"
     ]
    },
    {
     "name": "stdout",
     "output_type": "stream",
     "text": [
      "Submitted batch job 6777846\n"
     ]
    },
    {
     "name": "stderr",
     "output_type": "stream",
     "text": [
      "sbatch: slurm_job_submit: No account set, using default acct: open\n"
     ]
    },
    {
     "name": "stdout",
     "output_type": "stream",
     "text": [
      "Submitted batch job 6777849\n"
     ]
    },
    {
     "name": "stderr",
     "output_type": "stream",
     "text": [
      "sbatch: slurm_job_submit: No account set, using default acct: open\n"
     ]
    },
    {
     "name": "stdout",
     "output_type": "stream",
     "text": [
      "Submitted batch job 6777853\n"
     ]
    },
    {
     "name": "stderr",
     "output_type": "stream",
     "text": [
      "sbatch: slurm_job_submit: No account set, using default acct: open\n"
     ]
    },
    {
     "name": "stdout",
     "output_type": "stream",
     "text": [
      "Submitted batch job 6777855\n"
     ]
    },
    {
     "name": "stderr",
     "output_type": "stream",
     "text": [
      "sbatch: slurm_job_submit: No account set, using default acct: open\n"
     ]
    },
    {
     "name": "stdout",
     "output_type": "stream",
     "text": [
      "Submitted batch job 6777859\n",
      "Submitted batch job 6777862\n"
     ]
    },
    {
     "name": "stderr",
     "output_type": "stream",
     "text": [
      "sbatch: slurm_job_submit: No account set, using default acct: open\n",
      "sbatch: slurm_job_submit: No account set, using default acct: open\n"
     ]
    },
    {
     "name": "stdout",
     "output_type": "stream",
     "text": [
      "Submitted batch job 6777866\n"
     ]
    },
    {
     "name": "stderr",
     "output_type": "stream",
     "text": [
      "sbatch: slurm_job_submit: No account set, using default acct: open\n"
     ]
    },
    {
     "name": "stdout",
     "output_type": "stream",
     "text": [
      "Submitted batch job 6777868\n",
      "Submitted batch job 6777873\n"
     ]
    },
    {
     "name": "stderr",
     "output_type": "stream",
     "text": [
      "sbatch: slurm_job_submit: No account set, using default acct: open\n",
      "sbatch: slurm_job_submit: No account set, using default acct: open\n"
     ]
    },
    {
     "name": "stdout",
     "output_type": "stream",
     "text": [
      "Submitted batch job 6777876\n"
     ]
    },
    {
     "name": "stderr",
     "output_type": "stream",
     "text": [
      "sbatch: slurm_job_submit: No account set, using default acct: open\n"
     ]
    },
    {
     "name": "stdout",
     "output_type": "stream",
     "text": [
      "Submitted batch job 6777878\n"
     ]
    },
    {
     "name": "stderr",
     "output_type": "stream",
     "text": [
      "sbatch: slurm_job_submit: No account set, using default acct: open\n"
     ]
    },
    {
     "name": "stdout",
     "output_type": "stream",
     "text": [
      "Submitted batch job 6777882\n"
     ]
    },
    {
     "name": "stderr",
     "output_type": "stream",
     "text": [
      "sbatch: slurm_job_submit: No account set, using default acct: open\n"
     ]
    },
    {
     "name": "stdout",
     "output_type": "stream",
     "text": [
      "Submitted batch job 6777884\n"
     ]
    },
    {
     "name": "stderr",
     "output_type": "stream",
     "text": [
      "sbatch: slurm_job_submit: No account set, using default acct: open\n"
     ]
    },
    {
     "name": "stdout",
     "output_type": "stream",
     "text": [
      "Submitted batch job 6777887\n",
      "Submitted batch job 6777893\n"
     ]
    },
    {
     "name": "stderr",
     "output_type": "stream",
     "text": [
      "sbatch: slurm_job_submit: No account set, using default acct: open\n",
      "sbatch: slurm_job_submit: No account set, using default acct: open\n"
     ]
    },
    {
     "name": "stdout",
     "output_type": "stream",
     "text": [
      "Submitted batch job 6777896\n"
     ]
    },
    {
     "name": "stderr",
     "output_type": "stream",
     "text": [
      "sbatch: slurm_job_submit: No account set, using default acct: open\n"
     ]
    },
    {
     "name": "stdout",
     "output_type": "stream",
     "text": [
      "Submitted batch job 6777899\n"
     ]
    },
    {
     "name": "stderr",
     "output_type": "stream",
     "text": [
      "sbatch: slurm_job_submit: No account set, using default acct: open\n"
     ]
    },
    {
     "name": "stdout",
     "output_type": "stream",
     "text": [
      "Submitted batch job 6777902\n"
     ]
    },
    {
     "name": "stderr",
     "output_type": "stream",
     "text": [
      "sbatch: slurm_job_submit: No account set, using default acct: open\n"
     ]
    },
    {
     "name": "stdout",
     "output_type": "stream",
     "text": [
      "Submitted batch job 6777904\n"
     ]
    },
    {
     "name": "stderr",
     "output_type": "stream",
     "text": [
      "sbatch: slurm_job_submit: No account set, using default acct: open\n"
     ]
    },
    {
     "name": "stdout",
     "output_type": "stream",
     "text": [
      "Submitted batch job 6777908\n"
     ]
    },
    {
     "name": "stderr",
     "output_type": "stream",
     "text": [
      "sbatch: slurm_job_submit: No account set, using default acct: open\n"
     ]
    },
    {
     "name": "stdout",
     "output_type": "stream",
     "text": [
      "Submitted batch job 6777910\n"
     ]
    },
    {
     "name": "stderr",
     "output_type": "stream",
     "text": [
      "sbatch: slurm_job_submit: No account set, using default acct: open\n"
     ]
    },
    {
     "name": "stdout",
     "output_type": "stream",
     "text": [
      "Submitted batch job 6777913\n"
     ]
    },
    {
     "name": "stderr",
     "output_type": "stream",
     "text": [
      "sbatch: slurm_job_submit: No account set, using default acct: open\n"
     ]
    },
    {
     "name": "stdout",
     "output_type": "stream",
     "text": [
      "Submitted batch job 6777917\n"
     ]
    },
    {
     "name": "stderr",
     "output_type": "stream",
     "text": [
      "sbatch: slurm_job_submit: No account set, using default acct: open\n"
     ]
    },
    {
     "name": "stdout",
     "output_type": "stream",
     "text": [
      "Submitted batch job 6777919\n"
     ]
    },
    {
     "name": "stderr",
     "output_type": "stream",
     "text": [
      "sbatch: slurm_job_submit: No account set, using default acct: open\n"
     ]
    },
    {
     "name": "stdout",
     "output_type": "stream",
     "text": [
      "Submitted batch job 6777923\n"
     ]
    },
    {
     "name": "stderr",
     "output_type": "stream",
     "text": [
      "sbatch: slurm_job_submit: No account set, using default acct: open\n"
     ]
    },
    {
     "name": "stdout",
     "output_type": "stream",
     "text": [
      "Submitted batch job 6777925\n"
     ]
    },
    {
     "name": "stderr",
     "output_type": "stream",
     "text": [
      "sbatch: slurm_job_submit: No account set, using default acct: open\n"
     ]
    },
    {
     "name": "stdout",
     "output_type": "stream",
     "text": [
      "Submitted batch job 6777927\n",
      "Submitted batch job 6777931\n"
     ]
    },
    {
     "name": "stderr",
     "output_type": "stream",
     "text": [
      "sbatch: slurm_job_submit: No account set, using default acct: open\n"
     ]
    }
   ],
   "source": [
    "for i in range(len(kenkel)):\n",
    "    task = \"trimgalore\"\n",
    "    mem = \"24\"\n",
    "    cpus = \"8\"\n",
    "    rawpath = \"~/scratch/darpa/holland_raw_seqs/\"\n",
    "    r1suffix = \"_*_R1_*.fastq*.gz\"\n",
    "    r2suffix = \"_*_R2_*.fastq*.gz\"\n",
    "    outpath = \"/storage/home/nsl5160/scratch/darpa/trimmed/\"\n",
    "    outprefix = kenkel[\"BaumsName\"][i]\n",
    "    subprocess.run([\"sbatch --mem=\" + mem + \"g --ntasks=\" + \n",
    "         cpus + \" ../\" + task + \".sh \" + \n",
    "         rawpath + kenkel[\"AdmeraHealthID\"][i] + r1suffix + \" \" + \n",
    "         rawpath + kenkel[\"AdmeraHealthID\"][i] + r2suffix + \" \" + \n",
    "         outpath + \" \" + outprefix], shell=True)"
   ]
  },
  {
   "cell_type": "markdown",
   "id": "192f1c20",
   "metadata": {},
   "source": [
    "We also have other data from other unpublished projects that we can use here. We'll symlink these to another directory:"
   ]
  },
  {
   "cell_type": "code",
   "execution_count": 12,
   "id": "a2c218c0",
   "metadata": {},
   "outputs": [],
   "source": [
    "!mkdir -p ~/scratch/darpa/unpublished_raw"
   ]
  },
  {
   "cell_type": "code",
   "execution_count": 20,
   "id": "4600ae9e",
   "metadata": {},
   "outputs": [],
   "source": [
    "%%bash\n",
    "cd ~/scratch/darpa/unpublished_raw\n",
    "cp /storage/group/ibb3/default/HSFP_DeepSeq/rawdata/Novogene/usftp21.novogene.com/01.RawData/M132_2/*_1.fq.gz M132_1.fq.gz\n",
    "cp /storage/group/ibb3/default/HSFP_DeepSeq/rawdata/Novogene/usftp21.novogene.com/01.RawData/M132_2/*_2.fq.gz M132_2.fq.gz\n",
    "cp /storage/group/ibb3/default/HSFP_DeepSeq/rawdata/Novogene/usftp21.novogene.com/01.RawData/M145_1/*_1.fq.gz M145_1.fq.gz\n",
    "cp /storage/group/ibb3/default/HSFP_DeepSeq/rawdata/Novogene/usftp21.novogene.com/01.RawData/M145_1/*_2.fq.gz M145_2.fq.gz\n",
    "cp /storage/group/ibb3/default/HSFP_DeepSeq/rawdata/Novogene/usftp21.novogene.com/01.RawData/M150_2/*_1.fq.gz M150_1.fq.gz\n",
    "cp /storage/group/ibb3/default/HSFP_DeepSeq/rawdata/Novogene/usftp21.novogene.com/01.RawData/M150_2/*_2.fq.gz M150_2.fq.gz\n",
    "cp /storage/group/ibb3/default/HSFP_DeepSeq/rawdata/Novogene/usftp21.novogene.com/01.RawData/S15_1/S15_1_CKDN220051217-1A_HCWY7DSX5_L2_1.fq.gz S15_1.fq.gz\n",
    "cp /storage/group/ibb3/default/HSFP_DeepSeq/rawdata/Novogene/usftp21.novogene.com/01.RawData/S15_1/S15_1_CKDN220051217-1A_HCWY7DSX5_L2_2.fq.gz S15_2.fq.gz\n",
    "cp /storage/group/ibb3/default/HSFP_DeepSeq/rawdata/Novogene/usftp21.novogene.com/01.RawData/S18_1/*_1.fq.gz S18_1.fq.gz\n",
    "cp /storage/group/ibb3/default/HSFP_DeepSeq/rawdata/Novogene/usftp21.novogene.com/01.RawData/S18_1/*_2.fq.gz S18_2.fq.gz\n",
    "cp /storage/group/ibb3/default/HSFP_DeepSeq/rawdata/Novogene/usftp21.novogene.com/01.RawData/S37_1/*_1.fq.gz S37_1.fq.gz\n",
    "cp /storage/group/ibb3/default/HSFP_DeepSeq/rawdata/Novogene/usftp21.novogene.com/01.RawData/S37_1/*_2.fq.gz S37_2.fq.gz"
   ]
  },
  {
   "cell_type": "code",
   "execution_count": 16,
   "id": "bb74f7e6",
   "metadata": {},
   "outputs": [],
   "source": [
    "%%bash\n",
    "cd ~/scratch/darpa/unpublished_raw\n",
    "cp /storage/group/ibb3/default/genetic_bottleneck/raw/2022_parents/usftp21.novogene.com/01.RawData/A11/A11_*_1.fq.gz A11_1.fq.gz\n",
    "cp /storage/group/ibb3/default/genetic_bottleneck/raw/2022_parents/usftp21.novogene.com/01.RawData/A11/A11_*_2.fq.gz A11_2.fq.gz\n",
    "cp /storage/group/ibb3/default/genetic_bottleneck/raw/2022_parents/usftp21.novogene.com/01.RawData/A131/A131_*_1.fq.gz A131_1.fq.gz\n",
    "cp /storage/group/ibb3/default/genetic_bottleneck/raw/2022_parents/usftp21.novogene.com/01.RawData/A131/A131_*_2.fq.gz A131_2.fq.gz\n",
    "cp /storage/group/ibb3/default/genetic_bottleneck/raw/2022_parents/usftp21.novogene.com/01.RawData/A148/A148_1.fq.gz A148_1.fq.gz\n",
    "cp /storage/group/ibb3/default/genetic_bottleneck/raw/2022_parents/usftp21.novogene.com/01.RawData/A148/A148_2.fq.gz A148_2.fq.gz\n",
    "cp /storage/group/ibb3/default/genetic_bottleneck/raw/2022_parents/usftp21.novogene.com/01.RawData/A201/A201_1.fq.gz A201_1.fq.gz\n",
    "cp /storage/group/ibb3/default/genetic_bottleneck/raw/2022_parents/usftp21.novogene.com/01.RawData/A201/A201_2.fq.gz A201_2.fq.gz\n",
    "cp /storage/group/ibb3/default/genetic_bottleneck/raw/2022_parents/usftp21.novogene.com/01.RawData/A204/A204_1.fq.gz A204_1.fq.gz\n",
    "cp /storage/group/ibb3/default/genetic_bottleneck/raw/2022_parents/usftp21.novogene.com/01.RawData/A204/A204_2.fq.gz A204_2.fq.gz\n",
    "cp /storage/group/ibb3/default/genetic_bottleneck/raw/2022_parents/usftp21.novogene.com/01.RawData/A207/A207_1.fq.gz A207_1.fq.gz\n",
    "cp /storage/group/ibb3/default/genetic_bottleneck/raw/2022_parents/usftp21.novogene.com/01.RawData/A207/A207_2.fq.gz A207_2.fq.gz\n",
    "cp /storage/group/ibb3/default/genetic_bottleneck/raw/2022_parents/usftp21.novogene.com/01.RawData/A32/A32_*_1.fq.gz A32_1.fq.gz\n",
    "cp /storage/group/ibb3/default/genetic_bottleneck/raw/2022_parents/usftp21.novogene.com/01.RawData/A32/A32_*_2.fq.gz A32_2.fq.gz\n",
    "cp /storage/group/ibb3/default/genetic_bottleneck/raw/2022_parents/usftp21.novogene.com/01.RawData/A93/A93_*_1.fq.gz A93_1.fq.gz\n",
    "cp /storage/group/ibb3/default/genetic_bottleneck/raw/2022_parents/usftp21.novogene.com/01.RawData/A93/A93_*_2.fq.gz A93_2.fq.gz"
   ]
  },
  {
   "cell_type": "code",
   "execution_count": 33,
   "id": "8c08bd17",
   "metadata": {},
   "outputs": [],
   "source": [
    "unpublished = glob.glob(\"/storage/home/nsl5160/scratch/darpa/unpublished_raw/*_1.fq.gz\")"
   ]
  },
  {
   "cell_type": "code",
   "execution_count": 37,
   "id": "a334a422",
   "metadata": {},
   "outputs": [],
   "source": [
    "unpublished = [i.split(\"/\")[7].split(\"_\")[0] for i in unpublished]"
   ]
  },
  {
   "cell_type": "code",
   "execution_count": 40,
   "id": "e41b5a4f",
   "metadata": {
    "scrolled": true
   },
   "outputs": [
    {
     "name": "stderr",
     "output_type": "stream",
     "text": [
      "sbatch: slurm_job_submit: No account set, using default acct: open\n"
     ]
    },
    {
     "name": "stdout",
     "output_type": "stream",
     "text": [
      "Submitted batch job 6793509\n"
     ]
    },
    {
     "name": "stderr",
     "output_type": "stream",
     "text": [
      "sbatch: slurm_job_submit: No account set, using default acct: open\n"
     ]
    },
    {
     "name": "stdout",
     "output_type": "stream",
     "text": [
      "Submitted batch job 6793510\n"
     ]
    },
    {
     "name": "stderr",
     "output_type": "stream",
     "text": [
      "sbatch: slurm_job_submit: No account set, using default acct: open\n"
     ]
    },
    {
     "name": "stdout",
     "output_type": "stream",
     "text": [
      "Submitted batch job 6793511\n"
     ]
    },
    {
     "name": "stderr",
     "output_type": "stream",
     "text": [
      "sbatch: slurm_job_submit: No account set, using default acct: open\n"
     ]
    },
    {
     "name": "stdout",
     "output_type": "stream",
     "text": [
      "Submitted batch job 6793512\n"
     ]
    },
    {
     "name": "stderr",
     "output_type": "stream",
     "text": [
      "sbatch: slurm_job_submit: No account set, using default acct: open\n"
     ]
    },
    {
     "name": "stdout",
     "output_type": "stream",
     "text": [
      "Submitted batch job 6793513\n"
     ]
    },
    {
     "name": "stderr",
     "output_type": "stream",
     "text": [
      "sbatch: slurm_job_submit: No account set, using default acct: open\n"
     ]
    },
    {
     "name": "stdout",
     "output_type": "stream",
     "text": [
      "Submitted batch job 6793514\n",
      "Submitted batch job 6793515\n"
     ]
    },
    {
     "name": "stderr",
     "output_type": "stream",
     "text": [
      "sbatch: slurm_job_submit: No account set, using default acct: open\n",
      "sbatch: slurm_job_submit: No account set, using default acct: open\n",
      "sbatch: slurm_job_submit: No account set, using default acct: open\n"
     ]
    },
    {
     "name": "stdout",
     "output_type": "stream",
     "text": [
      "Submitted batch job 6793516\n",
      "Submitted batch job 6793517\n"
     ]
    },
    {
     "name": "stderr",
     "output_type": "stream",
     "text": [
      "sbatch: slurm_job_submit: No account set, using default acct: open\n"
     ]
    },
    {
     "name": "stdout",
     "output_type": "stream",
     "text": [
      "Submitted batch job 6793518\n"
     ]
    },
    {
     "name": "stderr",
     "output_type": "stream",
     "text": [
      "sbatch: slurm_job_submit: No account set, using default acct: open\n"
     ]
    },
    {
     "name": "stdout",
     "output_type": "stream",
     "text": [
      "Submitted batch job 6793519\n"
     ]
    },
    {
     "name": "stderr",
     "output_type": "stream",
     "text": [
      "sbatch: slurm_job_submit: No account set, using default acct: open\n",
      "sbatch: slurm_job_submit: No account set, using default acct: open\n"
     ]
    },
    {
     "name": "stdout",
     "output_type": "stream",
     "text": [
      "Submitted batch job 6793520\n",
      "Submitted batch job 6793521\n",
      "Submitted batch job 6793522\n"
     ]
    },
    {
     "name": "stderr",
     "output_type": "stream",
     "text": [
      "sbatch: slurm_job_submit: No account set, using default acct: open\n"
     ]
    }
   ],
   "source": [
    "for i in unpublished:\n",
    "    task = \"trimgalore\"\n",
    "    mem = \"24\"\n",
    "    cpus = \"8\"\n",
    "    lane = \"3\"\n",
    "    rawpath = \"/storage/home/nsl5160/scratch/darpa/unpublished_raw/\"\n",
    "    r1suffix = \"_1.fq.gz\"\n",
    "    r2suffix = \"_2.fq.gz\"\n",
    "    outpath = \"/storage/home/nsl5160/scratch/darpa/trimmed/\"\n",
    "    subprocess.run([\"sbatch --mem=\" + mem + \"g --ntasks=\" + \n",
    "         cpus + \" ../\" + task + \".sh \" + \n",
    "         rawpath + i + r1suffix + \" \" + \n",
    "         rawpath + i + r2suffix + \" \" + \n",
    "         outpath + \" \" + i ], shell=True)"
   ]
  },
  {
   "cell_type": "code",
   "execution_count": 23,
   "id": "a1c0d398",
   "metadata": {},
   "outputs": [],
   "source": [
    "sra = pd.read_csv(\"../DARPASraRunTable.txt\")\n",
    "sra = sra[~sra[\"Sample Name\"].str.contains(\"Aprol\")]"
   ]
  },
  {
   "cell_type": "code",
   "execution_count": 28,
   "id": "2aafc12f",
   "metadata": {
    "scrolled": true
   },
   "outputs": [
    {
     "name": "stderr",
     "output_type": "stream",
     "text": [
      "sbatch: slurm_job_submit: No account set, using default acct: open\n"
     ]
    },
    {
     "name": "stdout",
     "output_type": "stream",
     "text": [
      "Submitted batch job 6793436\n"
     ]
    },
    {
     "name": "stderr",
     "output_type": "stream",
     "text": [
      "sbatch: slurm_job_submit: No account set, using default acct: open\n",
      "sbatch: slurm_job_submit: No account set, using default acct: open\n"
     ]
    },
    {
     "name": "stdout",
     "output_type": "stream",
     "text": [
      "Submitted batch job 6793437\n",
      "Submitted batch job 6793438\n",
      "Submitted batch job 6793439\n"
     ]
    },
    {
     "name": "stderr",
     "output_type": "stream",
     "text": [
      "sbatch: slurm_job_submit: No account set, using default acct: open\n",
      "sbatch: slurm_job_submit: No account set, using default acct: open\n"
     ]
    },
    {
     "name": "stdout",
     "output_type": "stream",
     "text": [
      "Submitted batch job 6793440\n",
      "Submitted batch job 6793441\n"
     ]
    },
    {
     "name": "stderr",
     "output_type": "stream",
     "text": [
      "sbatch: slurm_job_submit: No account set, using default acct: open\n",
      "sbatch: slurm_job_submit: No account set, using default acct: open\n"
     ]
    },
    {
     "name": "stdout",
     "output_type": "stream",
     "text": [
      "Submitted batch job 6793443\n",
      "Submitted batch job 6793444\n"
     ]
    },
    {
     "name": "stderr",
     "output_type": "stream",
     "text": [
      "sbatch: slurm_job_submit: No account set, using default acct: open\n",
      "sbatch: slurm_job_submit: No account set, using default acct: open\n"
     ]
    },
    {
     "name": "stdout",
     "output_type": "stream",
     "text": [
      "Submitted batch job 6793445\n"
     ]
    },
    {
     "name": "stderr",
     "output_type": "stream",
     "text": [
      "sbatch: slurm_job_submit: No account set, using default acct: open\n",
      "sbatch: slurm_job_submit: No account set, using default acct: open\n"
     ]
    },
    {
     "name": "stdout",
     "output_type": "stream",
     "text": [
      "Submitted batch job 6793446\n",
      "Submitted batch job 6793447\n"
     ]
    },
    {
     "name": "stderr",
     "output_type": "stream",
     "text": [
      "sbatch: slurm_job_submit: No account set, using default acct: open\n"
     ]
    },
    {
     "name": "stdout",
     "output_type": "stream",
     "text": [
      "Submitted batch job 6793448\n",
      "Submitted batch job 6793449\n",
      "Submitted batch job 6793450\n"
     ]
    },
    {
     "name": "stderr",
     "output_type": "stream",
     "text": [
      "sbatch: slurm_job_submit: No account set, using default acct: open\n",
      "sbatch: slurm_job_submit: No account set, using default acct: open\n",
      "sbatch: slurm_job_submit: No account set, using default acct: open\n",
      "sbatch: slurm_job_submit: No account set, using default acct: open\n"
     ]
    },
    {
     "name": "stdout",
     "output_type": "stream",
     "text": [
      "Submitted batch job 6793451\n",
      "Submitted batch job 6793452\n"
     ]
    },
    {
     "name": "stderr",
     "output_type": "stream",
     "text": [
      "sbatch: slurm_job_submit: No account set, using default acct: open\n"
     ]
    },
    {
     "name": "stdout",
     "output_type": "stream",
     "text": [
      "Submitted batch job 6793453\n"
     ]
    },
    {
     "name": "stderr",
     "output_type": "stream",
     "text": [
      "sbatch: slurm_job_submit: No account set, using default acct: open\n",
      "sbatch: slurm_job_submit: No account set, using default acct: open\n"
     ]
    },
    {
     "name": "stdout",
     "output_type": "stream",
     "text": [
      "Submitted batch job 6793454\n",
      "Submitted batch job 6793455\n"
     ]
    },
    {
     "name": "stderr",
     "output_type": "stream",
     "text": [
      "sbatch: slurm_job_submit: No account set, using default acct: open\n",
      "sbatch: slurm_job_submit: No account set, using default acct: open\n"
     ]
    },
    {
     "name": "stdout",
     "output_type": "stream",
     "text": [
      "Submitted batch job 6793456\n",
      "Submitted batch job 6793457\n"
     ]
    },
    {
     "name": "stderr",
     "output_type": "stream",
     "text": [
      "sbatch: slurm_job_submit: No account set, using default acct: open\n",
      "sbatch: slurm_job_submit: No account set, using default acct: open\n"
     ]
    },
    {
     "name": "stdout",
     "output_type": "stream",
     "text": [
      "Submitted batch job 6793458\n",
      "Submitted batch job 6793459\n",
      "Submitted batch job 6793460\n",
      "Submitted batch job 6793461\n"
     ]
    },
    {
     "name": "stderr",
     "output_type": "stream",
     "text": [
      "sbatch: slurm_job_submit: No account set, using default acct: open\n",
      "sbatch: slurm_job_submit: No account set, using default acct: open\n"
     ]
    }
   ],
   "source": [
    "for i in sra[\"Run\"].tolist():\n",
    "    task = \"trimgalore\"\n",
    "    mem = \"24\"\n",
    "    cpus = \"8\"\n",
    "    lane = \"3\"\n",
    "    rawpath = \"/storage/home/nsl5160/scratch/darpa/sra/\"\n",
    "    r1suffix = \"_1.fastq\"\n",
    "    r2suffix = \"_2.fastq\"\n",
    "    outpath = \"/storage/home/nsl5160/scratch/darpa/trimmed/\"\n",
    "    subprocess.run([\"sbatch --mem=\" + mem + \"g --ntasks=\" + \n",
    "         cpus + \" ../\" + task + \".sh \" + \n",
    "         rawpath + i + r1suffix + \" \" + \n",
    "         rawpath + i + r2suffix + \" \" + \n",
    "         outpath + \" \" + i ], shell=True)"
   ]
  }
 ],
 "metadata": {
  "kernelspec": {
   "display_name": "NetworkX",
   "language": "python",
   "name": "networkx"
  },
  "language_info": {
   "codemirror_mode": {
    "name": "ipython",
    "version": 3
   },
   "file_extension": ".py",
   "mimetype": "text/x-python",
   "name": "python",
   "nbconvert_exporter": "python",
   "pygments_lexer": "ipython3",
   "version": "3.11.0"
  }
 },
 "nbformat": 4,
 "nbformat_minor": 5
}
