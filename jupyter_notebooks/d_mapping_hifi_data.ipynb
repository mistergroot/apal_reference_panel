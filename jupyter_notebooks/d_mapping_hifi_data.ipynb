{
 "cells": [
  {
   "cell_type": "code",
   "execution_count": 1,
   "id": "b81b6350",
   "metadata": {},
   "outputs": [],
   "source": [
    "import pandas as pd\n",
    "import numpy as np\n",
    "import subprocess"
   ]
  },
  {
   "cell_type": "code",
   "execution_count": 2,
   "id": "d6942fe0",
   "metadata": {},
   "outputs": [],
   "source": [
    "metadata = pd.read_csv(\"../hifi_metadata.csv\")"
   ]
  },
  {
   "cell_type": "code",
   "execution_count": 5,
   "id": "4bc1e4df",
   "metadata": {},
   "outputs": [],
   "source": [
    "for i in range(len(metadata)):\n",
    "    barcode = metadata[\"hifi_barcodes\"][i]\n",
    "    fofn = str(metadata[\"Baums_db_id\"][i])\n",
    "    subprocess.run([\"ls ../raw/*/*/\" + barcode + \"/*.hifi_reads.\" + barcode + \n",
    "                    \".bam > ../raw/\" + fofn + \".fofn\"], shell=True)"
   ]
  },
  {
   "cell_type": "code",
   "execution_count": 5,
   "id": "f4df93ef",
   "metadata": {},
   "outputs": [
    {
     "name": "stdout",
     "output_type": "stream",
     "text": [
      "Submitted batch job 7289033\n",
      "Submitted batch job 7289034\n",
      "Submitted batch job 7289035\n",
      "Submitted batch job 7289036\n",
      "Submitted batch job 7289037\n",
      "Submitted batch job 7289038\n"
     ]
    }
   ],
   "source": [
    "for i in metadata[\"Baums_db_id\"].tolist():\n",
    "    task = \"pbmm2\"\n",
    "    mem = \"128\"\n",
    "    cpus = \"20\"\n",
    "    inpath = \"../raw\"\n",
    "    outpath = \"/storage/home/nsl5160/scratch/darpa/mapped\"\n",
    "    prefix = str(i)\n",
    "    subprocess.run([\"sbatch --mem=\" + mem + \"g --ntasks=\" + \n",
    "         cpus + \" ../\" + task + \".sh \" + \n",
    "         inpath + \" \" + \n",
    "         outpath + \" \" + \n",
    "                    prefix], shell=True)"
   ]
  },
  {
   "cell_type": "code",
   "execution_count": 6,
   "id": "5c62dc58",
   "metadata": {},
   "outputs": [],
   "source": [
    "metadata[\"bam_path\"] = \"/storage/home/nsl5160/scratch/darpa/mapped/\" + metadata[\"Baums_db_id\"].astype(str) + \".bam\""
   ]
  },
  {
   "cell_type": "code",
   "execution_count": 7,
   "id": "07f37f34",
   "metadata": {},
   "outputs": [],
   "source": [
    "metadata[[\"bam_path\"]].set_index(\"bam_path\").to_csv(\"../apal_imputation_bam_hifi.list\", header = None)"
   ]
  }
 ],
 "metadata": {
  "kernelspec": {
   "display_name": "Masters Env",
   "language": "python",
   "name": "masters"
  },
  "language_info": {
   "codemirror_mode": {
    "name": "ipython",
    "version": 3
   },
   "file_extension": ".py",
   "mimetype": "text/x-python",
   "name": "python",
   "nbconvert_exporter": "python",
   "pygments_lexer": "ipython3",
   "version": "3.10.8"
  }
 },
 "nbformat": 4,
 "nbformat_minor": 5
}
