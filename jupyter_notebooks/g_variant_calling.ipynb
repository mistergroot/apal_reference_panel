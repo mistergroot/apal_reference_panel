{
 "cells": [
  {
   "cell_type": "code",
   "execution_count": 3,
   "id": "67bf97ff",
   "metadata": {},
   "outputs": [],
   "source": [
    "import pandas as pd\n",
    "import numpy as np\n",
    "import subprocess\n",
    "import seaborn as sns"
   ]
  },
  {
   "cell_type": "code",
   "execution_count": 2,
   "id": "86ddb518",
   "metadata": {},
   "outputs": [
    {
     "name": "stdout",
     "output_type": "stream",
     "text": [
      "ERROR: This cross-compiler package contains no program /storage/group/ibb3/default/.conda/envs/ipyrad/bin/x86_64-conda_cos6-linux-gnu-cc\n",
      "ERROR: activate-gcc_linux-64.sh failed, see above for details\n"
     ]
    }
   ],
   "source": [
    "%%bash\n",
    "source ~/.bashrc\n",
    "conda activate ipyrad\n",
    "cd ../references/\n",
    "bioawk -c fastx '{print $name\"\\t0\\t\"length($seq)}' apal_and_sym.fa > apal_and_sym.bed\n",
    "bedtools makewindows -b apal_and_sym.bed -w 10000 > apal_and_sym_10kb_windowed.bed\n",
    "grep \"^Apal\" apal_and_sym_10kb_windowed.bed > apal_10kb_windowed.bed\n",
    "split --number=l/78 apal_10kb_windowed.bed apal_part_\n",
    "for i in $( ls apal_part_* ); do\n",
    "    mv ${i} ${i}.bed\n",
    "done"
   ]
  },
  {
   "cell_type": "code",
   "execution_count": 4,
   "id": "304d87b2",
   "metadata": {},
   "outputs": [],
   "source": [
    "alphabet = [chr(x) for x in range(97, 123)]\n",
    "chunks = [letter1+letter2 for letter1 in alphabet for letter2 in alphabet][0:78]"
   ]
  },
  {
   "cell_type": "code",
   "execution_count": 5,
   "id": "ac993800",
   "metadata": {
    "scrolled": true
   },
   "outputs": [
    {
     "name": "stdout",
     "output_type": "stream",
     "text": [
      "Submitted batch job 6810195\n",
      "Submitted batch job 6810196\n",
      "Submitted batch job 6810197\n",
      "Submitted batch job 6810198\n",
      "Submitted batch job 6810199\n",
      "Submitted batch job 6810200\n",
      "Submitted batch job 6810201\n",
      "Submitted batch job 6810202\n",
      "Submitted batch job 6810203\n",
      "Submitted batch job 6810204\n",
      "Submitted batch job 6810205\n",
      "Submitted batch job 6810206\n",
      "Submitted batch job 6810207\n",
      "Submitted batch job 6810208\n",
      "Submitted batch job 6810209\n",
      "Submitted batch job 6810210\n",
      "Submitted batch job 6810211\n",
      "Submitted batch job 6810212\n",
      "Submitted batch job 6810213\n",
      "Submitted batch job 6810214\n",
      "Submitted batch job 6810215\n",
      "Submitted batch job 6810216\n",
      "Submitted batch job 6810217\n",
      "Submitted batch job 6810218\n",
      "Submitted batch job 6810219\n",
      "Submitted batch job 6810220\n",
      "Submitted batch job 6810221\n",
      "Submitted batch job 6810222\n",
      "Submitted batch job 6810223\n",
      "Submitted batch job 6810224\n",
      "Submitted batch job 6810225\n",
      "Submitted batch job 6810226\n",
      "Submitted batch job 6810227\n",
      "Submitted batch job 6810228\n",
      "Submitted batch job 6810229\n",
      "Submitted batch job 6810230\n",
      "Submitted batch job 6810231\n",
      "Submitted batch job 6810232\n",
      "Submitted batch job 6810233\n",
      "Submitted batch job 6810234\n",
      "Submitted batch job 6810235\n",
      "Submitted batch job 6810236\n",
      "Submitted batch job 6810237\n",
      "Submitted batch job 6810238\n",
      "Submitted batch job 6810239\n",
      "Submitted batch job 6810240\n",
      "Submitted batch job 6810241\n",
      "Submitted batch job 6810242\n",
      "Submitted batch job 6810243\n",
      "Submitted batch job 6810244\n",
      "Submitted batch job 6810245\n",
      "Submitted batch job 6810246\n",
      "Submitted batch job 6810247\n",
      "Submitted batch job 6810248\n",
      "Submitted batch job 6810249\n",
      "Submitted batch job 6810250\n",
      "Submitted batch job 6810251\n",
      "Submitted batch job 6810252\n",
      "Submitted batch job 6810253\n",
      "Submitted batch job 6810254\n",
      "Submitted batch job 6810255\n",
      "Submitted batch job 6810256\n",
      "Submitted batch job 6810257\n",
      "Submitted batch job 6810258\n",
      "Submitted batch job 6810259\n",
      "Submitted batch job 6810260\n",
      "Submitted batch job 6810261\n",
      "Submitted batch job 6810262\n",
      "Submitted batch job 6810263\n",
      "Submitted batch job 6810264\n",
      "Submitted batch job 6810265\n",
      "Submitted batch job 6810266\n",
      "Submitted batch job 6810267\n",
      "Submitted batch job 6810268\n",
      "Submitted batch job 6810269\n",
      "Submitted batch job 6810270\n",
      "Submitted batch job 6810271\n",
      "Submitted batch job 6810272\n"
     ]
    }
   ],
   "source": [
    "for i in chunks:\n",
    "    task = \"bcftools_call_var\"\n",
    "    mem = \"32\"\n",
    "    cpus = \"4\"\n",
    "    chunk = i\n",
    "    bampath = '../apal_imputation_bam.list'\n",
    "    outpath = \"/storage/group/ibb3/default/darpa/calls/\"\n",
    "    groupfile = \"../popmap.txt\"\n",
    "    subprocess.run([\"sbatch --mem=\" + mem + \"g --ntasks=\" + \n",
    "         cpus + \" ../\" + task + \".sh \" + \n",
    "         outpath + \" \" + bampath + \" \" + chunk + \" \" + groupfile], shell=True)"
   ]
  },
  {
   "cell_type": "code",
   "execution_count": 2,
   "id": "9a05e03a",
   "metadata": {
    "scrolled": true
   },
   "outputs": [
    {
     "name": "stdout",
     "output_type": "stream",
     "text": [
      "ERROR: This cross-compiler package contains no program /storage/group/ibb3/default/.conda/envs/ipyrad/bin/x86_64-conda_cos6-linux-gnu-cc\n",
      "ERROR: activate-gcc_linux-64.sh failed, see above for details\n"
     ]
    }
   ],
   "source": [
    "%%bash\n",
    "source ~/.bashrc\n",
    "conda activate ipyrad\n",
    "bcftools concat ../calls/apal_imputation_panel_part_??.vcf \\\n",
    "    -O z > ../calls/apal_imputation_panel.vcf.gz\n",
    "tabix ../calls/apal_imputation_panel.vcf.gz"
   ]
  }
 ],
 "metadata": {
  "kernelspec": {
   "display_name": "Masters Env",
   "language": "python",
   "name": "masters"
  },
  "language_info": {
   "codemirror_mode": {
    "name": "ipython",
    "version": 3
   },
   "file_extension": ".py",
   "mimetype": "text/x-python",
   "name": "python",
   "nbconvert_exporter": "python",
   "pygments_lexer": "ipython3",
   "version": "3.10.8"
  }
 },
 "nbformat": 4,
 "nbformat_minor": 5
}
