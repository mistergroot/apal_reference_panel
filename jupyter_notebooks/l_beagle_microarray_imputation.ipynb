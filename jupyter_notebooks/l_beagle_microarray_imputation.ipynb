{
 "cells": [
  {
   "cell_type": "code",
   "execution_count": 37,
   "id": "68cd0d02",
   "metadata": {},
   "outputs": [],
   "source": [
    "import numpy as np\n",
    "import pandas as pd\n",
    "import subprocess\n",
    "import re"
   ]
  },
  {
   "cell_type": "code",
   "execution_count": 53,
   "id": "4e0d73dd",
   "metadata": {},
   "outputs": [
    {
     "name": "stdout",
     "output_type": "stream",
     "text": [
      "ERROR: This cross-compiler package contains no program /storage/group/ibb3/default/.conda/envs/ipyrad/bin/x86_64-conda_cos6-linux-gnu-cc\n",
      "ERROR: activate-gcc_linux-64.sh failed, see above for details\n"
     ]
    }
   ],
   "source": [
    "%%bash\n",
    "source ~/.bashrc\n",
    "conda activate ipyrad\n",
    "bcftools query -l ../apal_coords_snpchip_conserved_probes.recode.vcf.gz \\\n",
    "    > ../microarray_samples.txt"
   ]
  },
  {
   "cell_type": "code",
   "execution_count": 24,
   "id": "ec230ebb",
   "metadata": {},
   "outputs": [
    {
     "name": "stdout",
     "output_type": "stream",
     "text": [
      "ERROR: This cross-compiler package contains no program /storage/group/ibb3/default/.conda/envs/ipyrad/bin/x86_64-conda_cos6-linux-gnu-cc\n",
      "ERROR: activate-gcc_linux-64.sh failed, see above for details\n"
     ]
    }
   ],
   "source": [
    "%%bash\n",
    "source ~/.bashrc\n",
    "conda activate ipyrad\n",
    "bcftools query -l ../calls/all.phased.tagged.bcf > ../panelsample.txt"
   ]
  },
  {
   "cell_type": "markdown",
   "id": "2ad9dad3",
   "metadata": {},
   "source": [
    "To generate a list of genets to impute for the GWAS, we'll find unique genets that were phenotyped but don't have existing WGS data:"
   ]
  },
  {
   "cell_type": "code",
   "execution_count": 123,
   "id": "a5761acf",
   "metadata": {},
   "outputs": [],
   "source": [
    "galmet = pd.read_csv(\"../galaxy_metadata.txt\", sep = \"\\t\")"
   ]
  },
  {
   "cell_type": "code",
   "execution_count": 124,
   "id": "84cc14a1",
   "metadata": {},
   "outputs": [],
   "source": [
    "metadata = pd.read_csv(\"../2024_01_12_PsuData_fixed.csv\")\n",
    "metadata = metadata.reset_index(drop=False)\n",
    "metadata.columns = ['GWAS_name', 'genetNumber', 'FixedTubeID', 'cbassRun', 'species', 'Notes',\n",
    "       'Novogene_ID', 'geno', 'Best Galaxy Match Reef Name',\n",
    "       'Best Galaxy Match Clonal ID', 'Fixed Best Galaxy Match Clonal ID',\n",
    "       'Best Galaxy Match KING Coefficient', 'Questionable?', 'presumed_geno',\n",
    "       'name', 'year', 'nursery', 'region', 'fixed_ed50', 'ed50', 'stdError',\n",
    "       'nurseRes', 'ed50Adj', 'temperature', 'fixed_logSh', 'logSh', 'dom',\n",
    "       'Best Galaxy Match', 'Best Galaxy Match User ID']\n",
    "metadata[\"GWAS_name\"] = \"sample\" + metadata[\"GWAS_name\"].astype(str) "
   ]
  },
  {
   "cell_type": "code",
   "execution_count": 125,
   "id": "3e33d72e",
   "metadata": {},
   "outputs": [],
   "source": [
    "microarrayvcfsamples = pd.read_csv(\"../microarray_samples.txt\", header = None, names = [\"ID\"])"
   ]
  },
  {
   "cell_type": "code",
   "execution_count": 126,
   "id": "4ed23747",
   "metadata": {},
   "outputs": [],
   "source": [
    "galmet = galmet[galmet[\"Affymetrix ID\"].isin(microarrayvcfsamples[\"ID\"])]"
   ]
  },
  {
   "cell_type": "code",
   "execution_count": 127,
   "id": "61b6cea3",
   "metadata": {},
   "outputs": [],
   "source": [
    "impute = metadata[metadata[\"Novogene_ID\"].isna()]"
   ]
  },
  {
   "cell_type": "code",
   "execution_count": 128,
   "id": "e8b65384",
   "metadata": {},
   "outputs": [],
   "source": [
    "impute = impute[impute[\"Fixed Best Galaxy Match Clonal ID\"].notna()].reset_index(drop=True)"
   ]
  },
  {
   "cell_type": "code",
   "execution_count": 129,
   "id": "d6878a4e",
   "metadata": {},
   "outputs": [
    {
     "name": "stderr",
     "output_type": "stream",
     "text": [
      "/tmp/ipykernel_2402507/3397860949.py:6: SettingWithCopyWarning: \n",
      "A value is trying to be set on a copy of a slice from a DataFrame\n",
      "\n",
      "See the caveats in the documentation: https://pandas.pydata.org/pandas-docs/stable/user_guide/indexing.html#returning-a-view-versus-a-copy\n",
      "  impute[\"impute_samp\"][i] = tmp[\"Affymetrix ID\"].head(1)[0]\n"
     ]
    }
   ],
   "source": [
    "impute[\"impute_samp\"] = np.nan\n",
    "for i in range(len(impute)):\n",
    "    tmp = (galmet[galmet[\"Coral Mlg Clonal ID\"] == impute[\"Fixed Best Galaxy Match Clonal ID\"][i]]\n",
    "                 .sort_values(\"Percent Missing Data Coral\")\n",
    "                 .reset_index(drop=True))\n",
    "    impute[\"impute_samp\"][i] = tmp[\"Affymetrix ID\"].head(1)[0]"
   ]
  },
  {
   "cell_type": "code",
   "execution_count": 133,
   "id": "8cc638a9",
   "metadata": {
    "scrolled": true
   },
   "outputs": [
    {
     "name": "stdout",
     "output_type": "stream",
     "text": [
      "Submitted batch job 9028141\n",
      "Submitted batch job 9028142\n",
      "Submitted batch job 9028143\n",
      "Submitted batch job 9028144\n",
      "Submitted batch job 9028145\n",
      "Submitted batch job 9028146\n",
      "Submitted batch job 9028147\n",
      "Submitted batch job 9028148\n",
      "Submitted batch job 9028149\n",
      "Submitted batch job 9028150\n",
      "Submitted batch job 9028151\n",
      "Submitted batch job 9028152\n",
      "Submitted batch job 9028153\n",
      "Submitted batch job 9028154\n",
      "Submitted batch job 9028155\n",
      "Submitted batch job 9028156\n",
      "Submitted batch job 9028157\n",
      "Submitted batch job 9028158\n",
      "Submitted batch job 9028159\n",
      "Submitted batch job 9028160\n",
      "Submitted batch job 9028161\n",
      "Submitted batch job 9028162\n",
      "Submitted batch job 9028163\n",
      "Submitted batch job 9028164\n",
      "Submitted batch job 9028165\n",
      "Submitted batch job 9028166\n",
      "Submitted batch job 9028167\n",
      "Submitted batch job 9028168\n",
      "Submitted batch job 9028169\n",
      "Submitted batch job 9028170\n",
      "Submitted batch job 9028171\n",
      "Submitted batch job 9028172\n",
      "Submitted batch job 9028173\n",
      "Submitted batch job 9028174\n",
      "Submitted batch job 9028175\n",
      "Submitted batch job 9028176\n",
      "Submitted batch job 9028177\n",
      "Submitted batch job 9028178\n",
      "Submitted batch job 9028180\n",
      "Submitted batch job 9028181\n",
      "Submitted batch job 9028182\n",
      "Submitted batch job 9028183\n",
      "Submitted batch job 9028184\n",
      "Submitted batch job 9028185\n",
      "Submitted batch job 9028186\n",
      "Submitted batch job 9028187\n",
      "Submitted batch job 9028188\n",
      "Submitted batch job 9028189\n",
      "Submitted batch job 9028190\n",
      "Submitted batch job 9028191\n",
      "Submitted batch job 9028193\n",
      "Submitted batch job 9028194\n",
      "Submitted batch job 9028195\n",
      "Submitted batch job 9028196\n",
      "Submitted batch job 9028197\n",
      "Submitted batch job 9028198\n",
      "Submitted batch job 9028199\n",
      "Submitted batch job 9028200\n",
      "Submitted batch job 9028201\n",
      "Submitted batch job 9028202\n",
      "Submitted batch job 9028203\n",
      "Submitted batch job 9028204\n",
      "Submitted batch job 9028205\n",
      "Submitted batch job 9028206\n",
      "Submitted batch job 9028207\n",
      "Submitted batch job 9028208\n",
      "Submitted batch job 9028209\n",
      "Submitted batch job 9028210\n",
      "Submitted batch job 9028211\n",
      "Submitted batch job 9028212\n",
      "Submitted batch job 9028213\n",
      "Submitted batch job 9028214\n",
      "Submitted batch job 9028215\n",
      "Submitted batch job 9028216\n",
      "Submitted batch job 9028217\n",
      "Submitted batch job 9028218\n",
      "Submitted batch job 9028219\n",
      "Submitted batch job 9028220\n",
      "Submitted batch job 9028221\n",
      "Submitted batch job 9028222\n",
      "Submitted batch job 9028223\n",
      "Submitted batch job 9028224\n",
      "Submitted batch job 9028225\n",
      "Submitted batch job 9028226\n",
      "Submitted batch job 9028227\n",
      "Submitted batch job 9028228\n",
      "Submitted batch job 9028229\n",
      "Submitted batch job 9028230\n",
      "Submitted batch job 9028231\n",
      "Submitted batch job 9028232\n",
      "Submitted batch job 9028233\n",
      "Submitted batch job 9028234\n",
      "Submitted batch job 9028235\n",
      "Submitted batch job 9028236\n",
      "Submitted batch job 9028237\n",
      "Submitted batch job 9028238\n",
      "Submitted batch job 9028239\n",
      "Submitted batch job 9028240\n",
      "Submitted batch job 9028241\n",
      "Submitted batch job 9028242\n",
      "Submitted batch job 9028243\n",
      "Submitted batch job 9028244\n",
      "Submitted batch job 9028245\n",
      "Submitted batch job 9028246\n",
      "Submitted batch job 9028247\n",
      "Submitted batch job 9028248\n",
      "Submitted batch job 9028249\n",
      "Submitted batch job 9028250\n",
      "Submitted batch job 9028251\n",
      "Submitted batch job 9028252\n",
      "Submitted batch job 9028253\n",
      "Submitted batch job 9028254\n",
      "Submitted batch job 9028255\n",
      "Submitted batch job 9028256\n",
      "Submitted batch job 9028257\n",
      "Submitted batch job 9028259\n",
      "Submitted batch job 9028260\n",
      "Submitted batch job 9028261\n",
      "Submitted batch job 9028262\n"
     ]
    }
   ],
   "source": [
    "for i in range(len(impute)):\n",
    "    task = \"subset_vcf\"\n",
    "    mem = \"16\"\n",
    "    cpus = \"1\"\n",
    "    infile = \"../apal_coords_snpchip_conserved_probes.recode.vcf.gz\"\n",
    "    outpath = \"~/scratch\"\n",
    "    samp = impute[\"impute_samp\"][i].replace(\"(\", \"\\(\").replace(\")\", \"\\)\")\n",
    "    gwas_id = str(impute[\"GWAS_name\"][i])\n",
    "    subprocess.run([\"sbatch --mem=\" + mem + \"g --ntasks=\" + \n",
    "         cpus + \" ../\" + task + \".sh \" + \n",
    "         infile + \" \" + outpath + \" \" + samp + \" \" + gwas_id], shell=True)"
   ]
  },
  {
   "cell_type": "code",
   "execution_count": 134,
   "id": "50bbf69a",
   "metadata": {},
   "outputs": [],
   "source": [
    "for i in impute[\"GWAS_name\"].tolist():\n",
    "    (impute[[\"impute_samp\", \"GWAS_name\"]]\n",
    "     [impute[\"GWAS_name\"] == i].set_index(\"impute_samp\")\n",
    "     .to_csv(\"~/scratch/\" + str(i) + \"_rename.txt\", sep = \" \", header = None))"
   ]
  },
  {
   "cell_type": "code",
   "execution_count": 135,
   "id": "522b45f4",
   "metadata": {
    "scrolled": true
   },
   "outputs": [
    {
     "name": "stdout",
     "output_type": "stream",
     "text": [
      "Submitted batch job 9028269\n",
      "Submitted batch job 9028270\n",
      "Submitted batch job 9028271\n",
      "Submitted batch job 9028272\n",
      "Submitted batch job 9028273\n",
      "Submitted batch job 9028274\n",
      "Submitted batch job 9028275\n",
      "Submitted batch job 9028276\n",
      "Submitted batch job 9028277\n",
      "Submitted batch job 9028278\n",
      "Submitted batch job 9028279\n",
      "Submitted batch job 9028280\n",
      "Submitted batch job 9028281\n",
      "Submitted batch job 9028282\n",
      "Submitted batch job 9028283\n",
      "Submitted batch job 9028284\n",
      "Submitted batch job 9028285\n",
      "Submitted batch job 9028286\n",
      "Submitted batch job 9028287\n",
      "Submitted batch job 9028288\n",
      "Submitted batch job 9028289\n",
      "Submitted batch job 9028290\n",
      "Submitted batch job 9028291\n",
      "Submitted batch job 9028292\n",
      "Submitted batch job 9028293\n",
      "Submitted batch job 9028294\n",
      "Submitted batch job 9028295\n",
      "Submitted batch job 9028296\n",
      "Submitted batch job 9028297\n",
      "Submitted batch job 9028298\n",
      "Submitted batch job 9028299\n",
      "Submitted batch job 9028300\n",
      "Submitted batch job 9028301\n",
      "Submitted batch job 9028302\n",
      "Submitted batch job 9028303\n",
      "Submitted batch job 9028304\n",
      "Submitted batch job 9028306\n",
      "Submitted batch job 9028307\n",
      "Submitted batch job 9028308\n",
      "Submitted batch job 9028309\n",
      "Submitted batch job 9028310\n",
      "Submitted batch job 9028311\n",
      "Submitted batch job 9028312\n",
      "Submitted batch job 9028313\n",
      "Submitted batch job 9028314\n",
      "Submitted batch job 9028315\n",
      "Submitted batch job 9028316\n",
      "Submitted batch job 9028317\n",
      "Submitted batch job 9028318\n",
      "Submitted batch job 9028319\n",
      "Submitted batch job 9028321\n",
      "Submitted batch job 9028322\n",
      "Submitted batch job 9028323\n",
      "Submitted batch job 9028324\n",
      "Submitted batch job 9028325\n",
      "Submitted batch job 9028326\n",
      "Submitted batch job 9028327\n",
      "Submitted batch job 9028328\n",
      "Submitted batch job 9028329\n",
      "Submitted batch job 9028330\n",
      "Submitted batch job 9028331\n",
      "Submitted batch job 9028332\n",
      "Submitted batch job 9028333\n",
      "Submitted batch job 9028334\n",
      "Submitted batch job 9028335\n",
      "Submitted batch job 9028336\n",
      "Submitted batch job 9028337\n",
      "Submitted batch job 9028338\n",
      "Submitted batch job 9028339\n",
      "Submitted batch job 9028340\n",
      "Submitted batch job 9028342\n",
      "Submitted batch job 9028343\n",
      "Submitted batch job 9028344\n",
      "Submitted batch job 9028345\n",
      "Submitted batch job 9028346\n",
      "Submitted batch job 9028347\n",
      "Submitted batch job 9028348\n",
      "Submitted batch job 9028349\n",
      "Submitted batch job 9028350\n",
      "Submitted batch job 9028351\n",
      "Submitted batch job 9028352\n",
      "Submitted batch job 9028353\n",
      "Submitted batch job 9028354\n",
      "Submitted batch job 9028355\n",
      "Submitted batch job 9028356\n",
      "Submitted batch job 9028357\n",
      "Submitted batch job 9028358\n",
      "Submitted batch job 9028359\n",
      "Submitted batch job 9028360\n",
      "Submitted batch job 9028361\n",
      "Submitted batch job 9028362\n",
      "Submitted batch job 9028363\n",
      "Submitted batch job 9028364\n",
      "Submitted batch job 9028365\n",
      "Submitted batch job 9028366\n",
      "Submitted batch job 9028367\n",
      "Submitted batch job 9028368\n",
      "Submitted batch job 9028369\n",
      "Submitted batch job 9028370\n",
      "Submitted batch job 9028371\n",
      "Submitted batch job 9028372\n",
      "Submitted batch job 9028373\n",
      "Submitted batch job 9028374\n",
      "Submitted batch job 9028375\n",
      "Submitted batch job 9028376\n",
      "Submitted batch job 9028377\n",
      "Submitted batch job 9028378\n",
      "Submitted batch job 9028379\n",
      "Submitted batch job 9028380\n",
      "Submitted batch job 9028381\n",
      "Submitted batch job 9028382\n",
      "Submitted batch job 9028383\n",
      "Submitted batch job 9028384\n",
      "Submitted batch job 9028385\n",
      "Submitted batch job 9028386\n",
      "Submitted batch job 9028387\n",
      "Submitted batch job 9028388\n",
      "Submitted batch job 9028389\n",
      "Submitted batch job 9028390\n"
     ]
    }
   ],
   "source": [
    "for i in range(len(impute)):\n",
    "    task = \"reheader\"\n",
    "    mem = \"16\"\n",
    "    cpus = \"1\"\n",
    "    infile = \"/scratch/nsl5160/\" + str(impute[\"GWAS_name\"][i]) + \".vcf.gz\"\n",
    "    outfile = \"/scratch/nsl5160/\" + str(impute[\"GWAS_name\"][i]) + \"_reheaded.vcf.gz\"\n",
    "    renamefile = '/scratch/nsl5160/' + str(impute[\"GWAS_name\"][i]) + \"_rename.txt\"\n",
    "    subprocess.run([\"sbatch --mem=\" + mem + \"g --ntasks=\" + \n",
    "         cpus + \" ../\" + task + \".sh \" + \n",
    "         infile + \" \" + outfile + \" \" + renamefile], shell=True)"
   ]
  },
  {
   "cell_type": "code",
   "execution_count": 136,
   "id": "58954d1f",
   "metadata": {},
   "outputs": [],
   "source": [
    "%%bash\n",
    "source ~/.bashrc\n",
    "conda activate beagle\n",
    "bcftools merge /scratch/nsl5160/sample*_reheaded.vcf.gz -O z \\\n",
    "    > ../calls/phenotyped_microarray.vcf.gz"
   ]
  },
  {
   "cell_type": "code",
   "execution_count": 137,
   "id": "5708705c",
   "metadata": {},
   "outputs": [
    {
     "name": "stdout",
     "output_type": "stream",
     "text": [
      "ERROR: This cross-compiler package contains no program /storage/group/ibb3/default/.conda/envs/ipyrad/bin/x86_64-conda_cos6-linux-gnu-cc\n",
      "ERROR: activate-gcc_linux-64.sh failed, see above for details\n"
     ]
    }
   ],
   "source": [
    "%%bash\n",
    "source ~/.bashrc\n",
    "conda activate ipyrad\n",
    "rm ../calls/all.phased.tagged.vcf.gz.tbi\n",
    "bcftools view ../calls/all.phased.tagged.bcf -O z > ../calls/all.phased.tagged.vcf.gz\n",
    "tabix ../calls/all.phased.tagged.vcf.gz"
   ]
  },
  {
   "cell_type": "code",
   "execution_count": 138,
   "id": "45733f8d",
   "metadata": {},
   "outputs": [],
   "source": [
    "%%bash\n",
    "source ~/.bashrc\n",
    "conda activate beagle\n",
    "rm /scratch/nsl5160/phenotyped_microarray.vcf.gz.tbi\n",
    "zcat ../calls/phenotyped_microarray.vcf.gz | sed \"s/C,C/C/g\" \\\n",
    "    > /scratch/nsl5160/phenotyped_microarray.vcf\n",
    "rm /scratch/nsl5160/phenotyped_microarray.vcf.gz\n",
    "bgzip /scratch/nsl5160/phenotyped_microarray.vcf\n",
    "tabix /scratch/nsl5160/phenotyped_microarray.vcf.gz"
   ]
  },
  {
   "cell_type": "code",
   "execution_count": 141,
   "id": "ba6a1430",
   "metadata": {},
   "outputs": [
    {
     "name": "stdout",
     "output_type": "stream",
     "text": [
      "Submitted batch job 9028399\n",
      "Submitted batch job 9028400\n",
      "Submitted batch job 9028401\n",
      "Submitted batch job 9028402\n",
      "Submitted batch job 9028403\n",
      "Submitted batch job 9028404\n",
      "Submitted batch job 9028405\n",
      "Submitted batch job 9028406\n",
      "Submitted batch job 9028407\n",
      "Submitted batch job 9028408\n",
      "Submitted batch job 9028409\n",
      "Submitted batch job 9028410\n",
      "Submitted batch job 9028411\n",
      "Submitted batch job 9028412\n"
     ]
    }
   ],
   "source": [
    "for chrs in ['Apal_hic_scaffold_10',\n",
    " 'Apal_hic_scaffold_35',\n",
    " 'Apal_hic_scaffold_2',\n",
    " 'Apal_hic_scaffold_30',\n",
    " 'Apal_hic_scaffold_20',\n",
    " 'Apal_hic_scaffold_17',\n",
    " 'Apal_hic_scaffold_4',\n",
    " 'Apal_hic_scaffold_31',\n",
    " 'Apal_hic_scaffold_5',\n",
    " 'Apal_hic_scaffold_15',\n",
    " 'Apal_hic_scaffold_6',\n",
    " 'Apal_hic_scaffold_1',\n",
    " 'Apal_hic_scaffold_21',\n",
    " 'Apal_hic_scaffold_11']:\n",
    "    task = \"beagle_impute\"\n",
    "    mem = \"128\"\n",
    "    cpus = \"20\"\n",
    "    inpath = \"/scratch/nsl5160/\"\n",
    "    prefix = \"phenotyped_microarray\"\n",
    "    outpath = \"/scratch/nsl5160/\"\n",
    "    refpanel = \"../calls/all.phased.tagged.vcf.gz\"\n",
    "    ne = 10000\n",
    "    chrs = chrs\n",
    "    subprocess.run([\"sbatch --mem=\" + mem + \"g --ntasks=\" + \n",
    "         cpus + \" ../\" + task + \".sh \" + \n",
    "         inpath + \" \" + prefix + \" \" + outpath + \" \" + refpanel + \" \" + str(ne) + \" \" + chrs], shell=True)"
   ]
  },
  {
   "cell_type": "code",
   "execution_count": 142,
   "id": "1579836c",
   "metadata": {
    "scrolled": true
   },
   "outputs": [
    {
     "name": "stderr",
     "output_type": "stream",
     "text": [
      "Checking the headers and starting positions of 14 files\n",
      "Concatenating /scratch/nsl5160/phenotyped_microarray_Apal_hic_scaffold_10_imputed.vcf.gz\t9.352291 seconds\n",
      "Concatenating /scratch/nsl5160/phenotyped_microarray_Apal_hic_scaffold_11_imputed.vcf.gz\t6.242336 seconds\n",
      "Concatenating /scratch/nsl5160/phenotyped_microarray_Apal_hic_scaffold_15_imputed.vcf.gz\t7.356026 seconds\n",
      "Concatenating /scratch/nsl5160/phenotyped_microarray_Apal_hic_scaffold_17_imputed.vcf.gz\t8.446682 seconds\n",
      "Concatenating /scratch/nsl5160/phenotyped_microarray_Apal_hic_scaffold_1_imputed.vcf.gz\t6.947039 seconds\n",
      "Concatenating /scratch/nsl5160/phenotyped_microarray_Apal_hic_scaffold_20_imputed.vcf.gz\t8.277677 seconds\n",
      "Concatenating /scratch/nsl5160/phenotyped_microarray_Apal_hic_scaffold_21_imputed.vcf.gz\t6.861835 seconds\n",
      "Concatenating /scratch/nsl5160/phenotyped_microarray_Apal_hic_scaffold_2_imputed.vcf.gz\t8.598096 seconds\n",
      "Concatenating /scratch/nsl5160/phenotyped_microarray_Apal_hic_scaffold_30_imputed.vcf.gz\t5.874262 seconds\n",
      "Concatenating /scratch/nsl5160/phenotyped_microarray_Apal_hic_scaffold_31_imputed.vcf.gz\t7.213093 seconds\n",
      "Concatenating /scratch/nsl5160/phenotyped_microarray_Apal_hic_scaffold_35_imputed.vcf.gz\t6.629991 seconds\n",
      "Concatenating /scratch/nsl5160/phenotyped_microarray_Apal_hic_scaffold_4_imputed.vcf.gz\t11.556899 seconds\n",
      "Concatenating /scratch/nsl5160/phenotyped_microarray_Apal_hic_scaffold_5_imputed.vcf.gz\t7.430203 seconds\n",
      "Concatenating /scratch/nsl5160/phenotyped_microarray_Apal_hic_scaffold_6_imputed.vcf.gz\t8.092152 seconds\n"
     ]
    }
   ],
   "source": [
    "%%bash\n",
    "source ~/.bashrc\n",
    "conda activate beagle\n",
    "rm ../calls/phenotyped_microarray_imputed.vcf.gz.tbi\n",
    "for i in $( ls /scratch/nsl5160/phenotyped_microarray_*_imputed.vcf.gz ); do\n",
    "    tabix ${i}\n",
    "done\n",
    "bcftools concat /scratch/nsl5160/phenotyped_microarray_*_imputed.vcf.gz \\\n",
    "    -O z > ../calls/phenotyped_microarray_imputed.vcf.gz \n",
    "tabix ../calls/phenotyped_microarray_imputed.vcf.gz "
   ]
  },
  {
   "cell_type": "code",
   "execution_count": 145,
   "id": "4f8c16a9",
   "metadata": {},
   "outputs": [],
   "source": [
    "%%bash\n",
    "source ~/.bashrc\n",
    "conda activate beagle\n",
    "rm ../calls/phenotyped_microarray_imputed_filteredDR2.vcf.gz.tbi\n",
    "bcftools filter -e 'INFO/DR2<0.8' ../calls/phenotyped_microarray_imputed.vcf.gz \\\n",
    "    -O z > ../calls/phenotyped_microarray_imputed_filteredDR2.vcf.gz\n",
    "tabix ../calls/phenotyped_microarray_imputed_filteredDR2.vcf.gz"
   ]
  }
 ],
 "metadata": {
  "kernelspec": {
   "display_name": "Masters Env",
   "language": "python",
   "name": "masters"
  },
  "language_info": {
   "codemirror_mode": {
    "name": "ipython",
    "version": 3
   },
   "file_extension": ".py",
   "mimetype": "text/x-python",
   "name": "python",
   "nbconvert_exporter": "python",
   "pygments_lexer": "ipython3",
   "version": "3.10.8"
  }
 },
 "nbformat": 4,
 "nbformat_minor": 5
}
