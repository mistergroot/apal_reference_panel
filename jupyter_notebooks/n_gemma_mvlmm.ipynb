{
 "cells": [
  {
   "cell_type": "code",
   "execution_count": 1,
   "id": "68cd0d02",
   "metadata": {},
   "outputs": [],
   "source": [
    "import numpy as np\n",
    "import pandas as pd\n",
    "import subprocess\n",
    "import re"
   ]
  },
  {
   "cell_type": "code",
   "execution_count": 2,
   "id": "9f469a46",
   "metadata": {},
   "outputs": [
    {
     "name": "stdout",
     "output_type": "stream",
     "text": [
      "Submitted batch job 9028995\n"
     ]
    },
    {
     "data": {
      "text/plain": [
       "CompletedProcess(args=['sbatch --mem=64g --ntasks=1 ../gemma.sh ../calls/ gemma_covar.cov 0.05 final_gwas_dataset'], returncode=0)"
      ]
     },
     "execution_count": 2,
     "metadata": {},
     "output_type": "execute_result"
    }
   ],
   "source": [
    "task = \"gemma\"\n",
    "mem = \"64\"\n",
    "cpus = \"1\"\n",
    "inpath = \"../calls/\"\n",
    "covar = \"gemma_covar.cov\"\n",
    "maf = \"0.05\"\n",
    "prefix = \"final_gwas_dataset\"\n",
    "subprocess.run([\"sbatch --mem=\" + mem + \"g --ntasks=\" + \n",
    "     cpus + \" ../\" + task + \".sh \" + \n",
    "     inpath + \" \" + covar + \" \" + maf + \" \" + prefix ], shell=True)"
   ]
  },
  {
   "cell_type": "code",
   "execution_count": 3,
   "id": "2c0c1627",
   "metadata": {},
   "outputs": [],
   "source": [
    "import pandas as pd\n",
    "import numpy as np\n",
    "import matplotlib.pyplot as plt\n",
    "import seaborn as sns\n",
    "import scipy"
   ]
  },
  {
   "cell_type": "code",
   "execution_count": 10,
   "id": "c346d882",
   "metadata": {},
   "outputs": [],
   "source": [
    "df = pd.read_csv(\"../calls/output/final_gwas_dataset.assoc.txt\", sep = '\\t')\n",
    "df['minuslog10pvalue'] = -np.log10(df[\"p_lrt\"])\n",
    "df = df[~df[\"p_lrt\"].isna()].reset_index(drop=True)"
   ]
  },
  {
   "cell_type": "code",
   "execution_count": 5,
   "id": "80e575e2",
   "metadata": {},
   "outputs": [],
   "source": [
    "df[\"pval_cor\"] = scipy.stats.false_discovery_control(df[\"p_lrt\"].to_numpy())"
   ]
  },
  {
   "cell_type": "code",
   "execution_count": 6,
   "id": "4ba11db4",
   "metadata": {},
   "outputs": [],
   "source": [
    "df = df[[\"ps\", \"minuslog10pvalue\", \"chr\"]]"
   ]
  },
  {
   "cell_type": "code",
   "execution_count": null,
   "id": "5bca03a0",
   "metadata": {},
   "outputs": [],
   "source": [
    "df.chr = df.chr.astype('category')\n",
    "#df.chr = df.chr.cat.set_categories(['ch-%i' % i for i in range(12)], ordered=True)\n",
    "df = df.sort_values('chr')\n",
    "\n",
    "# How to plot gene vs. -log10(pvalue) and colour it by chromosome?\n",
    "df['ind'] = range(len(df))\n",
    "df_grouped = df.groupby(('chr'))\n",
    "\n",
    "# manhattan plot\n",
    "fig = plt.figure(figsize=(14, 8)) # Set the figure size\n",
    "ax = fig.add_subplot(111)\n",
    "colors = ['darkred','darkgreen','darkblue', 'gold']\n",
    "x_labels = []\n",
    "x_labels_pos = []\n",
    "for num, (name, group) in enumerate(df_grouped):\n",
    "    group.plot(kind='scatter', x='ind', y='minuslog10pvalue',color=colors[num % len(colors)], ax=ax)\n",
    "    x_labels.append(name)\n",
    "    x_labels_pos.append((group['ind'].iloc[-1] - (group['ind'].iloc[-1] - group['ind'].iloc[0])/2))\n",
    "ax.set_xticks(x_labels_pos)\n",
    "ax.set_xticklabels(x_labels)\n",
    "\n",
    "# set axis limits\n",
    "ax.set_xlim([0, len(df)])\n",
    "ax.set_ylim([0, 9])\n",
    "\n",
    "# x axis label\n",
    "ax.set_xlabel('Chromosome')\n",
    "plt.xticks(rotation=90)\n",
    "# show the graph\n",
    "plt.show()"
   ]
  }
 ],
 "metadata": {
  "kernelspec": {
   "display_name": "Masters Env",
   "language": "python",
   "name": "masters"
  },
  "language_info": {
   "codemirror_mode": {
    "name": "ipython",
    "version": 3
   },
   "file_extension": ".py",
   "mimetype": "text/x-python",
   "name": "python",
   "nbconvert_exporter": "python",
   "pygments_lexer": "ipython3",
   "version": "3.10.8"
  }
 },
 "nbformat": 4,
 "nbformat_minor": 5
}
