{
 "cells": [
  {
   "cell_type": "code",
   "execution_count": 1,
   "id": "eb4ced25",
   "metadata": {},
   "outputs": [],
   "source": [
    "import pandas as pd\n",
    "import numpy as np"
   ]
  },
  {
   "cell_type": "code",
   "execution_count": 119,
   "id": "71f53d51",
   "metadata": {},
   "outputs": [],
   "source": [
    "keri = pd.read_csv(\"/storage/group/ibb3/default/darpa/Keri_Metadata.csv\")"
   ]
  },
  {
   "cell_type": "code",
   "execution_count": 120,
   "id": "19967af5",
   "metadata": {},
   "outputs": [],
   "source": [
    "rich1 = pd.read_csv(\"/storage/group/ibb3/default/darpa/2023-03-21_psuMeta.csv\")"
   ]
  },
  {
   "cell_type": "code",
   "execution_count": 121,
   "id": "0814e7c3",
   "metadata": {},
   "outputs": [],
   "source": [
    "rich2 = pd.read_csv(\"/storage/group/ibb3/default/darpa/cruiseCbassMetadata.csv\")"
   ]
  },
  {
   "cell_type": "code",
   "execution_count": 122,
   "id": "9757a875",
   "metadata": {},
   "outputs": [],
   "source": [
    "rich2 = rich2[rich2[\"genetNumber\"].notna()]\n",
    "rich2[\"genetNumber\"] = rich2[\"genetNumber\"].astype(int)"
   ]
  },
  {
   "cell_type": "code",
   "execution_count": 123,
   "id": "7e55fd59",
   "metadata": {},
   "outputs": [],
   "source": [
    "rich1 = rich1.merge(rich2[[\"genetNumber\", \"registryNumber\", \"Region\", \"Collection Site\"]], \n",
    "            on = \"genetNumber\", how = \"left\")"
   ]
  },
  {
   "cell_type": "code",
   "execution_count": 124,
   "id": "6c609f99",
   "metadata": {},
   "outputs": [
    {
     "name": "stderr",
     "output_type": "stream",
     "text": [
      "/tmp/ipykernel_1151386/117862151.py:1: UserWarning: Boolean Series key will be reindexed to match DataFrame index.\n",
      "  keri = keri[keri[\"region\"] == \"Florida\"][keri[\"reef\"] != \"2017 Spawn\"][keri[\"reef\"] != \"2020 Spawn\"][keri[\"field_call\"] == \"palmata\"].reset_index(drop=True)\n"
     ]
    }
   ],
   "source": [
    "keri = keri[keri[\"region\"] == \"Florida\"][keri[\"reef\"] != \"2017 Spawn\"][keri[\"reef\"] != \"2020 Spawn\"][keri[\"field_call\"] == \"palmata\"].reset_index(drop=True)"
   ]
  },
  {
   "cell_type": "code",
   "execution_count": 125,
   "id": "d5418b66",
   "metadata": {},
   "outputs": [],
   "source": [
    "keri.columns = ['#user_specimen_id', 'field_call', 'bcoral_genet_id', 'bsym_genet_id',\n",
    "       'Coral Mlg Clonal ID', 'reef', 'region', 'latitude', 'longitude',\n",
    "       'geographic_origin', 'colony_location', 'depth', 'disease_resist',\n",
    "       'bleach_resist', 'mortality', 'tle', 'spawning', 'collector_last_name',\n",
    "       'collector_first_name', 'organization', 'collection_date', 'email',\n",
    "       'seq_facility', 'array_version', 'public', 'public_after_date',\n",
    "       'sperm_motility', 'healing_time', 'dna_extraction_method',\n",
    "       'dna_concentration', 'registry_id', 'result_folder_name',\n",
    "       'plate_barcode',\n",
    "       'notes']"
   ]
  },
  {
   "cell_type": "code",
   "execution_count": 126,
   "id": "ec5bdeb8",
   "metadata": {},
   "outputs": [],
   "source": [
    "keri = keri[['#user_specimen_id', 'Coral Mlg Clonal ID', 'reef', 'latitude', 'longitude', 'spawning', 'notes']]"
   ]
  },
  {
   "cell_type": "code",
   "execution_count": 127,
   "id": "eb797cc9",
   "metadata": {},
   "outputs": [],
   "source": [
    "keri.columns = [\"genetNumber\", \"clonal_id_correct\", \"Collection Site\", \"Latitude\", \"Longitude\", \"spawning\", \"notes\"]"
   ]
  },
  {
   "cell_type": "code",
   "execution_count": 128,
   "id": "59aa7f5b",
   "metadata": {},
   "outputs": [],
   "source": [
    "keri[\"Provider\"] = \"Keri\""
   ]
  },
  {
   "cell_type": "code",
   "execution_count": 129,
   "id": "6a5417e7",
   "metadata": {},
   "outputs": [],
   "source": [
    "rich1[\"Provider\"] = \"Rich\""
   ]
  },
  {
   "cell_type": "code",
   "execution_count": 145,
   "id": "3fee52d0",
   "metadata": {},
   "outputs": [],
   "source": [
    "combined = pd.concat([rich1, keri]).reset_index(drop=True)"
   ]
  },
  {
   "cell_type": "code",
   "execution_count": 146,
   "id": "594bc46b",
   "metadata": {},
   "outputs": [],
   "source": [
    "combined.loc[combined['Latitude'] > 24.95, \"Region\"] = \"Upper Keys\"\n",
    "combined.loc[(combined['Latitude'] < 24.95) & (combined['Latitude'] > 24.547), \"Region\"] = \"Middle Keys\"\n",
    "combined.loc[combined['Latitude'] < 24.547, \"Region\"] = \"Lower Keys\""
   ]
  },
  {
   "cell_type": "code",
   "execution_count": 147,
   "id": "9255f848",
   "metadata": {},
   "outputs": [],
   "source": [
    "combined.loc[combined['genetNumber'] == \"APAL 15\", \"galaxyCall\"] = \"Apal-009\"\n",
    "combined.loc[combined['genetNumber'] == \"APAL 10\", \"galaxyCall\"] = \"Apal-154\"\n",
    "combined.loc[combined['genetNumber'] == \"APAL 12\", \"galaxyCall\"] = \"Apal-161\"\n",
    "combined.loc[combined['genetNumber'] == \"APAL 16\", \"galaxyCall\"] = \"M3APBNP1\"\n",
    "combined.loc[combined['genetNumber'] == \"APAL 17\", \"galaxyCall\"] = \"AMAP5\"\n",
    "combined.loc[combined['genetNumber'] == \"APAL 18\", \"galaxyCall\"] = \"AMAP1\"\n",
    "combined.loc[combined['genetNumber'] == \"APAL 19\", \"galaxyCall\"] = \"BALLBUOY0\"\n",
    "combined.loc[combined['genetNumber'] == \"APAL 20\", \"galaxyCall\"] = \"FWCAP1\"\n",
    "combined.loc[combined['genetNumber'] == \"APAL 21\", \"galaxyCall\"] = \"BALL PAUL\"\n",
    "combined.loc[combined['genetNumber'] == \"APAL 22\", \"galaxyCall\"] = \"BREWAP\"\n",
    "combined.loc[combined['genetNumber'] == \"APAL 23\", \"galaxyCall\"] = \"BREWAPWEST\"\n",
    "combined.loc[combined['genetNumber'] == \"APAL 24\", \"galaxyCall\"] = \"Apal-018\""
   ]
  },
  {
   "cell_type": "markdown",
   "id": "51150bfc",
   "metadata": {},
   "source": [
    "Some of these samples were already run by other people (or will be run), so we need to exclude them:"
   ]
  },
  {
   "cell_type": "code",
   "execution_count": 148,
   "id": "584abc64",
   "metadata": {},
   "outputs": [
    {
     "name": "stderr",
     "output_type": "stream",
     "text": [
      "/tmp/ipykernel_1151386/3905822483.py:1: UserWarning: Boolean Series key will be reindexed to match DataFrame index.\n",
      "  combined = (combined\n"
     ]
    }
   ],
   "source": [
    "combined = (combined\n",
    " [~combined[\"galaxyCall\"].isin([\"Apal-005\", \"Apal-016\", \"Apal-044\", \"Apal-047\", \"Apal-074\", \"Apal-090\"])]\n",
    " [~combined[\"clonal_id_correct\"].isin(['HG1714', 'HG0799', 'HG1738', 'HG1734', 'HG0822', 'HG1714'])]).reset_index(drop=True)"
   ]
  },
  {
   "cell_type": "code",
   "execution_count": 149,
   "id": "60f81229",
   "metadata": {},
   "outputs": [],
   "source": [
    "combined = (combined\n",
    " [~combined[\"clonal_id_correct\"].isin(['HG0600', 'HG1092', 'HG1042', 'HG0544', 'HG0543', 'HG0548',\n",
    "                                       \"HG0611\", \"HG0616\", \"HG0606\", \"HG1093\", \"HG1118\", \"HG1045\",\n",
    "                                       \"HG1129\", \"HG1071\", \"HG1077\", \"HG1120\", \"HG1090\", \"HG1096\",\n",
    "                                       \"HG1068\", \"HG1106\"])]).reset_index(drop=True)"
   ]
  },
  {
   "cell_type": "code",
   "execution_count": 151,
   "id": "a5537d13",
   "metadata": {},
   "outputs": [],
   "source": [
    "combined = combined.sort_values([\"clonal_id_correct\", \"Provider\", \"Nursery\"]).reset_index(drop=True)"
   ]
  },
  {
   "cell_type": "code",
   "execution_count": 152,
   "id": "746c64bd",
   "metadata": {},
   "outputs": [],
   "source": [
    "combined = combined[(~combined[\"clonal_id_correct\"].duplicated()) | \n",
    "                    (combined[\"clonal_id_correct\"].isnull())].reset_index(drop=True)"
   ]
  },
  {
   "cell_type": "code",
   "execution_count": 153,
   "id": "3ee06811",
   "metadata": {},
   "outputs": [],
   "source": [
    "combined = combined[(~combined[\"galaxyCall\"].duplicated()) | \n",
    "                    (combined[\"galaxyCall\"].isnull())].reset_index(drop=True)"
   ]
  },
  {
   "cell_type": "code",
   "execution_count": 161,
   "id": "aed314db",
   "metadata": {},
   "outputs": [],
   "source": [
    "combined = combined[combined[\"Region\"].notna()].sort_values([\"Latitude\", \"Region\"]).reset_index(drop=True)"
   ]
  },
  {
   "cell_type": "code",
   "execution_count": 163,
   "id": "5b896ed2",
   "metadata": {},
   "outputs": [
    {
     "data": {
      "text/plain": [
       "Index(['genetNumber', 'Origin', 'cbassRun', 'Nursery', 'galaxyCall', 'Genet',\n",
       "       'ed50', 'std.error', 'n', 'standard', 'totSym', 'propD', 'dominant',\n",
       "       'Latitude', 'Longitude', 'top', 'Affy_ID', 'clonal_id_correct',\n",
       "       'Species_FieldCall', 'registryNumber', 'Region', 'Collection Site',\n",
       "       'Provider', 'spawning', 'notes'],\n",
       "      dtype='object')"
      ]
     },
     "execution_count": 163,
     "metadata": {},
     "output_type": "execute_result"
    }
   ],
   "source": [
    "combined.columns"
   ]
  },
  {
   "cell_type": "code",
   "execution_count": 187,
   "id": "7c8513ea",
   "metadata": {},
   "outputs": [],
   "source": [
    "output_metadata = combined[['genetNumber', 'galaxyCall', 'Genet',\n",
    "       'Collection Site', 'Latitude', 'Longitude', 'Region', 'Nursery', 'clonal_id_correct', \n",
    "       'Provider', 'spawning', 'notes']]"
   ]
  },
  {
   "cell_type": "code",
   "execution_count": 190,
   "id": "227cccf9",
   "metadata": {},
   "outputs": [],
   "source": [
    "output_metadata.columns = ['SampleProviderTubeID', \n",
    "                           'Galaxy Name', \n",
    "                           'Genet', \n",
    "                           'Original Collection Site', \n",
    "                           'Latitude', 'Longitude', \n",
    "                           'Region', \n",
    "                           'Nursery', \n",
    "                           'Coral Mlg Clonal ID', \n",
    "                           'SampleProvider',\n",
    "                           'Spawning', \"Notes\"]"
   ]
  },
  {
   "cell_type": "code",
   "execution_count": 191,
   "id": "2ada2bdc",
   "metadata": {},
   "outputs": [],
   "source": [
    "output_metadata.to_csv(\"/storage/group/ibb3/default/darpa/filtered_DARPA_metadata.csv\")"
   ]
  },
  {
   "cell_type": "code",
   "execution_count": 195,
   "id": "0f3aad32",
   "metadata": {},
   "outputs": [
    {
     "data": {
      "text/plain": [
       "NaN       28\n",
       "HG1185     1\n",
       "HG1736     1\n",
       "HG1653     1\n",
       "HG0837     1\n",
       "          ..\n",
       "HG1633     1\n",
       "HG0816     1\n",
       "HG0205     1\n",
       "HG0828     1\n",
       "HG1737     1\n",
       "Name: Coral Mlg Clonal ID, Length: 71, dtype: int64"
      ]
     },
     "execution_count": 195,
     "metadata": {},
     "output_type": "execute_result"
    }
   ],
   "source": [
    "output_metadata[\"Coral Mlg Clonal ID\"].value_counts(dropna=False)"
   ]
  },
  {
   "cell_type": "code",
   "execution_count": 3,
   "id": "44c2289f",
   "metadata": {},
   "outputs": [],
   "source": [
    "tmp = pd.read_csv(\"/storage/group/ibb3/default/darpa/db_upload.csv\")"
   ]
  },
  {
   "cell_type": "code",
   "execution_count": 4,
   "id": "ed90062f",
   "metadata": {},
   "outputs": [],
   "source": [
    "meta = pd.read_csv(\"/storage/group/ibb3/default/darpa/filtered_DARPA_metadata.csv\")"
   ]
  },
  {
   "cell_type": "code",
   "execution_count": 8,
   "id": "76aa2f07",
   "metadata": {},
   "outputs": [],
   "source": [
    "tmp = tmp[[\"Database ID\", \"Field ID\"]]\n",
    "tmp.columns = [\"Database ID\", \"SampleProviderTubeID\"]"
   ]
  },
  {
   "cell_type": "code",
   "execution_count": 10,
   "id": "fdc86284",
   "metadata": {},
   "outputs": [],
   "source": [
    "meta = meta.merge(tmp, how = \"left\", on = 'SampleProviderTubeID')"
   ]
  },
  {
   "cell_type": "code",
   "execution_count": 15,
   "id": "09b1b168",
   "metadata": {},
   "outputs": [
    {
     "name": "stderr",
     "output_type": "stream",
     "text": [
      "/tmp/ipykernel_207503/1611924406.py:1: SettingWithCopyWarning: \n",
      "A value is trying to be set on a copy of a slice from a DataFrame\n",
      "\n",
      "See the caveats in the documentation: https://pandas.pydata.org/pandas-docs/stable/user_guide/indexing.html#returning-a-view-versus-a-copy\n",
      "  meta[\"Database ID\"][93] = 13414\n"
     ]
    }
   ],
   "source": [
    "meta[\"Database ID\"][93] = 13414"
   ]
  },
  {
   "cell_type": "code",
   "execution_count": 17,
   "id": "e7b06dd5",
   "metadata": {},
   "outputs": [],
   "source": [
    "meta = meta[meta[\"Database ID\"].notna()].reset_index(drop=True)"
   ]
  },
  {
   "cell_type": "code",
   "execution_count": 18,
   "id": "94c876c5",
   "metadata": {},
   "outputs": [],
   "source": [
    "meta[\"Database ID\"] = meta[\"Database ID\"].astype(int)"
   ]
  },
  {
   "cell_type": "code",
   "execution_count": 21,
   "id": "a04140de",
   "metadata": {},
   "outputs": [],
   "source": [
    "meta[[\"Huck_Sub_ID\", \"Database ID\"]].set_index(\"Huck_Sub_ID\").to_csv(\"/storage/group/ibb3/default/darpa/huck_sub_id.csv\")"
   ]
  },
  {
   "cell_type": "code",
   "execution_count": null,
   "id": "cd74769f",
   "metadata": {},
   "outputs": [],
   "source": []
  }
 ],
 "metadata": {
  "kernelspec": {
   "display_name": "NetworkX",
   "language": "python",
   "name": "networkx"
  },
  "language_info": {
   "codemirror_mode": {
    "name": "ipython",
    "version": 3
   },
   "file_extension": ".py",
   "mimetype": "text/x-python",
   "name": "python",
   "nbconvert_exporter": "python",
   "pygments_lexer": "ipython3",
   "version": "3.11.0"
  }
 },
 "nbformat": 4,
 "nbformat_minor": 5
}
