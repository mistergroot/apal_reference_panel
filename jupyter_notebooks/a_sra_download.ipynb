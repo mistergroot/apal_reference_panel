{
 "cells": [
  {
   "cell_type": "markdown",
   "id": "c8da0342",
   "metadata": {},
   "source": [
    "There are a few samples from SRA that we can use for the reference panel. We'll download those here:"
   ]
  },
  {
   "cell_type": "code",
   "execution_count": 1,
   "id": "343e95ea",
   "metadata": {},
   "outputs": [],
   "source": [
    "import subprocess\n",
    "import pandas as pd\n",
    "import numpy as np"
   ]
  },
  {
   "cell_type": "code",
   "execution_count": 2,
   "id": "0e9f9046",
   "metadata": {},
   "outputs": [],
   "source": [
    "sra = pd.read_csv(\"../DARPASraRunTable.txt\")"
   ]
  },
  {
   "cell_type": "code",
   "execution_count": 3,
   "id": "33b2692b",
   "metadata": {},
   "outputs": [],
   "source": [
    "sra = sra[~sra[\"Sample Name\"].str.contains(\"Aprol\")]"
   ]
  },
  {
   "cell_type": "code",
   "execution_count": 5,
   "id": "b55e0eb6",
   "metadata": {},
   "outputs": [
    {
     "name": "stdout",
     "output_type": "stream",
     "text": [
      "Submitted batch job 7288783\n",
      "Submitted batch job 7288784\n",
      "Submitted batch job 7288785\n",
      "Submitted batch job 7288786\n",
      "Submitted batch job 7288787\n",
      "Submitted batch job 7288788\n",
      "Submitted batch job 7288789\n",
      "Submitted batch job 7288790\n",
      "Submitted batch job 7288791\n",
      "Submitted batch job 7288792\n",
      "Submitted batch job 7288793\n",
      "Submitted batch job 7288794\n",
      "Submitted batch job 7288795\n",
      "Submitted batch job 7288796\n",
      "Submitted batch job 7288797\n",
      "Submitted batch job 7288798\n",
      "Submitted batch job 7288799\n",
      "Submitted batch job 7288800\n",
      "Submitted batch job 7288801\n",
      "Submitted batch job 7288802\n",
      "Submitted batch job 7288803\n",
      "Submitted batch job 7288804\n",
      "Submitted batch job 7288805\n",
      "Submitted batch job 7288806\n",
      "Submitted batch job 7288807\n",
      "Submitted batch job 7288808\n",
      "Submitted batch job 7288809\n",
      "Submitted batch job 7288810\n"
     ]
    }
   ],
   "source": [
    "for i in sra[\"Run\"].tolist():\n",
    "    task = \"sra_download\"\n",
    "    mem = \"32\"\n",
    "    cpus = \"6\"\n",
    "    prefix = i\n",
    "    outpath = \"/storage/home/nsl5160/scratch/darpa/sra\"\n",
    "    subprocess.run([\"sbatch --mem=\" + mem + \"g --ntasks=\" + \n",
    "         cpus + \" ../\" + task + \".sh \" + \n",
    "         prefix + \" \" + outpath], shell=True)"
   ]
  }
 ],
 "metadata": {
  "kernelspec": {
   "display_name": "Masters Env",
   "language": "python",
   "name": "masters"
  },
  "language_info": {
   "codemirror_mode": {
    "name": "ipython",
    "version": 3
   },
   "file_extension": ".py",
   "mimetype": "text/x-python",
   "name": "python",
   "nbconvert_exporter": "python",
   "pygments_lexer": "ipython3",
   "version": "3.10.8"
  }
 },
 "nbformat": 4,
 "nbformat_minor": 5
}
