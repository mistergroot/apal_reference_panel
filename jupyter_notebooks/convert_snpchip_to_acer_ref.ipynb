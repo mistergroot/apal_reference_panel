{
 "cells": [
  {
   "cell_type": "code",
   "execution_count": 5,
   "id": "ffa68de4",
   "metadata": {},
   "outputs": [],
   "source": [
    "%%bash\n",
    "cd /storage/group/ibb3/default/darpa/linkage_scaff/\n",
    "cat 41598_2020_69101_MOESM1_ESM.csv | sed \"s/\\[\\([^]]*\\)\\]/N/g\" > 41598_2020_69101_MOESM1_ESM_replaceN.csv"
   ]
  },
  {
   "cell_type": "code",
   "execution_count": 21,
   "id": "2f8e77e2",
   "metadata": {},
   "outputs": [],
   "source": [
    "import pandas as pd\n",
    "import numpy as np\n",
    "import re"
   ]
  },
  {
   "cell_type": "code",
   "execution_count": 2,
   "id": "447f4a26",
   "metadata": {},
   "outputs": [],
   "source": [
    "probesets = pd.read_csv(\"/storage/group/ibb3/default/darpa/linkage_scaff/41598_2020_69101_MOESM1_ESM_replaceN.csv\", comment = \"#\")"
   ]
  },
  {
   "cell_type": "code",
   "execution_count": 86,
   "id": "038a1db8",
   "metadata": {},
   "outputs": [],
   "source": [
    "probesets[[\"Probe Set ID\", \"Flank\"]].set_index(\"Probe Set ID\").to_csv(\"/storage/group/ibb3/default/darpa/linkage_scaff/tmp_out.csv\", header = None, sep = \" \")"
   ]
  },
  {
   "cell_type": "code",
   "execution_count": 87,
   "id": "0c14ef1e",
   "metadata": {},
   "outputs": [],
   "source": [
    "%%bash\n",
    "cd /storage/group/ibb3/default/darpa/linkage_scaff/\n",
    "cat tmp_out.csv | sed \"s/AX/>AX/g\" | sed \"s/\\s/\\n/g\" > probes.fasta"
   ]
  },
  {
   "cell_type": "code",
   "execution_count": 5,
   "id": "73fb3b9b",
   "metadata": {},
   "outputs": [
    {
     "name": "stdout",
     "output_type": "stream",
     "text": [
      "441 contigs records loaded\n",
      "Sorting and renaming contig headers\n",
      "441 contigs saved to file\n"
     ]
    }
   ],
   "source": [
    "%%bash\n",
    "source ~/.bashrc\n",
    "conda activate funannotate\n",
    "cd /storage/group/ibb3/default/darpa/linkage_scaff/\n",
    "funannotate sort --input /storage/group/ibb3/default/genome_annotation/Apalm_dovetail_assemblies/Apalm_assembly_v2.0_180910.softmasked.fa \\\n",
    "  -o sorted.fa"
   ]
  },
  {
   "cell_type": "code",
   "execution_count": 6,
   "id": "8a121f55",
   "metadata": {},
   "outputs": [
    {
     "name": "stdout",
     "output_type": "stream",
     "text": [
      "ERROR: This cross-compiler package contains no program /storage/group/ibb3/default/.conda/envs/ipyrad/bin/x86_64-conda_cos6-linux-gnu-cc\n",
      "ERROR: activate-gcc_linux-64.sh failed, see above for details\n"
     ]
    },
    {
     "name": "stderr",
     "output_type": "stream",
     "text": [
      "[bwa_index] Pack FASTA... 1.62 sec\n",
      "[bwa_index] Construct BWT for the packed sequence...\n",
      "[BWTIncCreate] textLength=608504144, availableWord=54816184\n",
      "[BWTIncConstructFromPacked] 10 iterations done. 87465408 characters processed.\n",
      "[BWTIncConstructFromPacked] 20 iterations done. 164423936 characters processed.\n",
      "[BWTIncConstructFromPacked] 30 iterations done. 232820832 characters processed.\n",
      "[BWTIncConstructFromPacked] 40 iterations done. 293608160 characters processed.\n",
      "[BWTIncConstructFromPacked] 50 iterations done. 347632080 characters processed.\n",
      "[BWTIncConstructFromPacked] 60 iterations done. 395644672 characters processed.\n",
      "[BWTIncConstructFromPacked] 70 iterations done. 438314352 characters processed.\n",
      "[BWTIncConstructFromPacked] 80 iterations done. 476235216 characters processed.\n",
      "[BWTIncConstructFromPacked] 90 iterations done. 509935408 characters processed.\n",
      "[BWTIncConstructFromPacked] 100 iterations done. 539884176 characters processed.\n",
      "[BWTIncConstructFromPacked] 110 iterations done. 566498688 characters processed.\n",
      "[BWTIncConstructFromPacked] 120 iterations done. 590149696 characters processed.\n",
      "[bwt_gen] Finished constructing BWT in 129 iterations.\n",
      "[bwa_index] 142.82 seconds elapse.\n",
      "[bwa_index] Update BWT... 1.16 sec\n",
      "[bwa_index] Pack forward-only FASTA... 1.01 sec\n",
      "[bwa_index] Construct SA from BWT and Occ... 56.46 sec\n",
      "[main] Version: 0.7.17-r1188\n",
      "[main] CMD: bwa index sorted.fa\n",
      "[main] Real time: 205.564 sec; CPU: 203.076 sec\n"
     ]
    }
   ],
   "source": [
    "%%bash\n",
    "source ~/.bashrc\n",
    "conda activate ipyrad\n",
    "cd /storage/group/ibb3/default/darpa/linkage_scaff/\n",
    "bwa index sorted.fa"
   ]
  },
  {
   "cell_type": "code",
   "execution_count": 7,
   "id": "8bb08a99",
   "metadata": {},
   "outputs": [
    {
     "name": "stdout",
     "output_type": "stream",
     "text": [
      "ERROR: This cross-compiler package contains no program /storage/group/ibb3/default/.conda/envs/ipyrad/bin/x86_64-conda_cos6-linux-gnu-cc\n",
      "ERROR: activate-gcc_linux-64.sh failed, see above for details\n"
     ]
    },
    {
     "name": "stderr",
     "output_type": "stream",
     "text": [
      "[M::bwa_idx_load_from_disk] read 0 ALT contigs\n",
      "[M::process] read 53589 sequences (3803707 bp)...\n",
      "[M::mem_process_seqs] Processed 53589 reads in 3.437 CPU sec, 3.447 real sec\n",
      "[main] Version: 0.7.17-r1188\n",
      "[main] CMD: bwa mem sorted.fa /storage/group/ibb3/default/convert_snpchip_coords/probes.fasta\n",
      "[main] Real time: 4.073 sec; CPU: 3.635 sec\n"
     ]
    }
   ],
   "source": [
    "%%bash\n",
    "source ~/.bashrc\n",
    "conda activate ipyrad\n",
    "cd /storage/group/ibb3/default/darpa/linkage_scaff/\n",
    "bwa mem \\\n",
    "    sorted.fa \\\n",
    "    /storage/group/ibb3/default/darpa/linkage_scaff/probes.fasta \\\n",
    "    > probes_aln_acer.sam"
   ]
  },
  {
   "cell_type": "code",
   "execution_count": 10,
   "id": "2c0a9767",
   "metadata": {},
   "outputs": [
    {
     "name": "stdout",
     "output_type": "stream",
     "text": [
      "ERROR: This cross-compiler package contains no program /storage/group/ibb3/default/.conda/envs/ipyrad/bin/x86_64-conda_cos6-linux-gnu-cc\n",
      "ERROR: activate-gcc_linux-64.sh failed, see above for details\n"
     ]
    },
    {
     "name": "stderr",
     "output_type": "stream",
     "text": [
      "\n",
      "sambamba 0.7.1\n",
      " by Artem Tarasov and Pjotr Prins (C) 2012-2019\n",
      "    LDC 1.20.0 / DMD v2.090.1 / LLVM7.0.0 / bootstrap LDC - the LLVM D compiler (0.17.6)\n",
      "\n"
     ]
    }
   ],
   "source": [
    "%%bash\n",
    "source ~/.bashrc\n",
    "conda activate ipyrad\n",
    "cd /storage/group/ibb3/default/darpa/linkage_scaff/\n",
    "sambamba view -t 4 --sam-input \\\n",
    "    -F \"mapping_quality >= 3 and not (unmapped or secondary_alignment or supplementary or duplicate)\" \\\n",
    "    ./probes_aln_acer.sam > ./unique_mappings_apal_probes.sam"
   ]
  },
  {
   "cell_type": "code",
   "execution_count": 11,
   "id": "3c5fadd5",
   "metadata": {},
   "outputs": [],
   "source": [
    "%%bash\n",
    "cd /storage/group/ibb3/default/darpa/linkage_scaff/\n",
    "cut -f1,3,4,5,6,10,12 /storage/group/ibb3/default/darpa/linkage_scaff/unique_mappings_acer_probes.sam \\\n",
    "    > /storage/group/ibb3/default/darpa/linkage_scaff/unique_mappings_acer_probes.tab"
   ]
  },
  {
   "cell_type": "code",
   "execution_count": 30,
   "id": "f1635e1c",
   "metadata": {},
   "outputs": [],
   "source": [
    "probes = pd.read_csv(\"/storage/group/ibb3/default/darpa/linkage_scaff/unique_mappings_acer_probes.tab\", comment = \"@\", sep = \"\\t\", names = [\"probe\", \"contig\", \"start\", \"mapq\", \"cigar\", \"seq\", \"mismatch\"])"
   ]
  },
  {
   "cell_type": "code",
   "execution_count": 31,
   "id": "90e4734a",
   "metadata": {},
   "outputs": [
    {
     "name": "stderr",
     "output_type": "stream",
     "text": [
      "/tmp/ipykernel_2659982/435527431.py:4: SettingWithCopyWarning: \n",
      "A value is trying to be set on a copy of a slice from a DataFrame\n",
      "\n",
      "See the caveats in the documentation: https://pandas.pydata.org/pandas-docs/stable/user_guide/indexing.html#returning-a-view-versus-a-copy\n",
      "  probes[\"npos\"][i] = probes[\"seq\"][i].find(\"N\")\n"
     ]
    }
   ],
   "source": [
    "probes = probes[probes[\"mapq\"] > 20].reset_index(drop=True)\n",
    "probes[\"npos\"] = np.nan\n",
    "for i in range(len(probes)):\n",
    "    probes[\"npos\"][i] = probes[\"seq\"][i].find(\"N\")\n",
    "probes[\"new_snp_pos\"] = np.nan\n",
    "probes.loc[~probes[\"cigar\"].str.contains(\"I|D\"), \"new_snp_pos\"] = probes[\"npos\"]"
   ]
  },
  {
   "cell_type": "code",
   "execution_count": 32,
   "id": "a8bde02e",
   "metadata": {},
   "outputs": [
    {
     "name": "stderr",
     "output_type": "stream",
     "text": [
      "/tmp/ipykernel_2659982/1691801142.py:26: SettingWithCopyWarning: \n",
      "A value is trying to be set on a copy of a slice from a DataFrame\n",
      "\n",
      "See the caveats in the documentation: https://pandas.pydata.org/pandas-docs/stable/user_guide/indexing.html#returning-a-view-versus-a-copy\n",
      "  probes[\"new_snp_pos\"][i] = probes[\"seq\"][i].find(\"N\")\n",
      "/tmp/ipykernel_2659982/1691801142.py:20: SettingWithCopyWarning: \n",
      "A value is trying to be set on a copy of a slice from a DataFrame\n",
      "\n",
      "See the caveats in the documentation: https://pandas.pydata.org/pandas-docs/stable/user_guide/indexing.html#returning-a-view-versus-a-copy\n",
      "  probes[\"new_snp_pos\"][i] = probes[\"seq\"][i].find(\"N\") - int(cigar[1][0])\n",
      "/tmp/ipykernel_2659982/1691801142.py:9: SettingWithCopyWarning: \n",
      "A value is trying to be set on a copy of a slice from a DataFrame\n",
      "\n",
      "See the caveats in the documentation: https://pandas.pydata.org/pandas-docs/stable/user_guide/indexing.html#returning-a-view-versus-a-copy\n",
      "  probes[\"new_snp_pos\"][i] = probes[\"seq\"][i].find(\"N\")\n",
      "/tmp/ipykernel_2659982/1691801142.py:15: SettingWithCopyWarning: \n",
      "A value is trying to be set on a copy of a slice from a DataFrame\n",
      "\n",
      "See the caveats in the documentation: https://pandas.pydata.org/pandas-docs/stable/user_guide/indexing.html#returning-a-view-versus-a-copy\n",
      "  probes[\"new_snp_pos\"][i] = probes[\"seq\"][i].find(\"N\") + int(cigar[1][0])\n",
      "/tmp/ipykernel_2659982/1691801142.py:24: SettingWithCopyWarning: \n",
      "A value is trying to be set on a copy of a slice from a DataFrame\n",
      "\n",
      "See the caveats in the documentation: https://pandas.pydata.org/pandas-docs/stable/user_guide/indexing.html#returning-a-view-versus-a-copy\n",
      "  probes[\"new_snp_pos\"][i] = probes[\"seq\"][i].find(\"N\")\n"
     ]
    }
   ],
   "source": [
    "for i in range(len(probes)):\n",
    "    cigar = re.findall('(\\d+)?([A-Za-z])', probes[\"cigar\"][i])\n",
    "    length = len(cigar)\n",
    "    if (length < 4) and (length > 2):\n",
    "        if ( cigar[0][1] == \"S\" ) and ( cigar[1][1] == \"M\" ) and ( cigar[2][1] == \"S\" ):\n",
    "            print\n",
    "        elif ( cigar[0][1] == \"M\" ) and ( cigar[2][1] == \"M\" ):\n",
    "            if int(cigar[0][0]) > probes[\"seq\"][i].find(\"N\"):\n",
    "                probes[\"new_snp_pos\"][i] = probes[\"seq\"][i].find(\"N\")\n",
    "            elif int(cigar[0][0]) < probes[\"seq\"][i].find(\"N\"):\n",
    "                if cigar[1][1] == \"I\":\n",
    "                    if (int(cigar[0][0]) + int(cigar[1][0])) > probes[\"npos\"][i]:\n",
    "                        pass\n",
    "                    else:\n",
    "                        probes[\"new_snp_pos\"][i] = probes[\"seq\"][i].find(\"N\") + int(cigar[1][0])\n",
    "                elif cigar[1][1] == \"D\":\n",
    "                    if (int(cigar[0][0]) + int(cigar[1][0])) > probes[\"npos\"][i]:\n",
    "                        pass\n",
    "                    else:\n",
    "                        probes[\"new_snp_pos\"][i] = probes[\"seq\"][i].find(\"N\") - int(cigar[1][0])\n",
    "    if (length > 3):\n",
    "        if ( cigar[0][1] == \"S\" ) and ( cigar[1][1] == \"M\" ):\n",
    "            if (int(cigar[0][0]) + int(cigar[1][0])) >= probes[\"seq\"][i].find(\"N\"):\n",
    "                probes[\"new_snp_pos\"][i] = probes[\"seq\"][i].find(\"N\")\n",
    "    if ( cigar[0][1] == \"M\" ) and ( int(cigar[0][0]) >= probes[\"seq\"][i].find(\"N\") ):\n",
    "        probes[\"new_snp_pos\"][i] = probes[\"seq\"][i].find(\"N\")"
   ]
  },
  {
   "cell_type": "code",
   "execution_count": 33,
   "id": "3ea13c71",
   "metadata": {},
   "outputs": [],
   "source": [
    "probes[\"new_snp_pos\"] = probes[\"start\"] + probes[\"new_snp_pos\"]"
   ]
  },
  {
   "cell_type": "code",
   "execution_count": 34,
   "id": "2e2ac849",
   "metadata": {},
   "outputs": [],
   "source": [
    "probes = probes[probes[\"new_snp_pos\"].notna()].reset_index(drop=True)\n",
    "probes[\"new_snp_pos\"] = probes[\"new_snp_pos\"].astype(int)"
   ]
  },
  {
   "cell_type": "code",
   "execution_count": 35,
   "id": "4de852f1",
   "metadata": {},
   "outputs": [],
   "source": [
    "recommended = pd.read_csv(\"/storage/group/ibb3/default/acropora_linkage_maps/Apalm_linkage_Map/plate1-2/recommended.txt\", header = None)"
   ]
  },
  {
   "cell_type": "code",
   "execution_count": 36,
   "id": "ebd4e01f",
   "metadata": {},
   "outputs": [],
   "source": [
    "probes = probes[probes[\"probe\"].isin(recommended[0].tolist())].reset_index(drop=True)"
   ]
  },
  {
   "cell_type": "code",
   "execution_count": 37,
   "id": "58137749",
   "metadata": {},
   "outputs": [
    {
     "name": "stdout",
     "output_type": "stream",
     "text": [
      "rm: cannot remove '/storage/group/ibb3/default/darpa/linkage_scaff/probes_in_acer.txt': No such file or directory\r\n"
     ]
    }
   ],
   "source": [
    "!rm /storage/group/ibb3/default/darpa/linkage_scaff/probes_in_acer.txt"
   ]
  },
  {
   "cell_type": "code",
   "execution_count": 38,
   "id": "18c3f3aa",
   "metadata": {},
   "outputs": [],
   "source": [
    "file = open('/storage/group/ibb3/default/darpa/linkage_scaff/probes_in_acer.txt','w')\n",
    "for item in probes[\"probe\"].tolist():\n",
    "    file.write(item+\"\\n\")\n",
    "file.close()"
   ]
  },
  {
   "cell_type": "code",
   "execution_count": 39,
   "id": "75bea84c",
   "metadata": {},
   "outputs": [
    {
     "name": "stdout",
     "output_type": "stream",
     "text": [
      "ERROR: This cross-compiler package contains no program /storage/group/ibb3/default/.conda/envs/ipyrad/bin/x86_64-conda_cos6-linux-gnu-cc\n",
      "ERROR: activate-gcc_linux-64.sh failed, see above for details\n"
     ]
    },
    {
     "name": "stderr",
     "output_type": "stream",
     "text": [
      "\n",
      "VCFtools - 0.1.16\n",
      "(C) Adam Auton and Anthony Marcketta 2009\n",
      "\n",
      "Parameters as interpreted:\n",
      "\t--vcf /storage/group/ibb3/default/acropora_linkage_maps/Apalm_linkage_Map/plate1-2/Lep-MAP3/Apalm_link_rename.vcf\n",
      "\t--out ./conserved_probes_kate\n",
      "\t--recode\n",
      "\t--snps probes_in_acer.txt\n",
      "\n",
      "After filtering, kept 107 out of 107 Individuals\n",
      "Outputting VCF file...\n",
      "After filtering, kept 22437 out of a possible 26075 Sites\n",
      "Run Time = 5.00 seconds\n"
     ]
    }
   ],
   "source": [
    "%%bash\n",
    "source ~/.bashrc\n",
    "conda activate ipyrad\n",
    "cd /storage/group/ibb3/default/darpa/linkage_scaff/\n",
    "vcftools --vcf /storage/group/ibb3/default/acropora_linkage_maps/Apalm_linkage_Map/plate1-2/Lep-MAP3/Apalm_link_rename.vcf \\\n",
    "    --snps probes_in_acer.txt \\\n",
    "    --recode --out ./conserved_probes_kate"
   ]
  },
  {
   "cell_type": "code",
   "execution_count": 40,
   "id": "6b5ba26b",
   "metadata": {},
   "outputs": [],
   "source": [
    "reformat = probes[[\"contig\", \"start\", \"probe\"]]"
   ]
  },
  {
   "cell_type": "code",
   "execution_count": 41,
   "id": "601719ac",
   "metadata": {},
   "outputs": [],
   "source": [
    "reformat.columns = [\"contig\", \"start\", \"ID\"]"
   ]
  },
  {
   "cell_type": "code",
   "execution_count": 42,
   "id": "735a59f2",
   "metadata": {},
   "outputs": [],
   "source": [
    "%%bash\n",
    "cd /storage/group/ibb3/default/darpa/linkage_scaff/\n",
    "grep -v \"^##\" ./conserved_probes_kate.recode.vcf | cut -f1-3 \\\n",
    "    > ./original_coords_kate.tab"
   ]
  },
  {
   "cell_type": "code",
   "execution_count": 43,
   "id": "4cd5e956",
   "metadata": {},
   "outputs": [],
   "source": [
    "tmp = pd.read_csv(\"/storage/group/ibb3/default/darpa/linkage_scaff/original_coords_kate.tab\", sep = \"\\t\")"
   ]
  },
  {
   "cell_type": "code",
   "execution_count": 44,
   "id": "ef670458",
   "metadata": {},
   "outputs": [],
   "source": [
    "tmp = tmp.merge(reformat, how = \"left\", on = \"ID\")"
   ]
  },
  {
   "cell_type": "code",
   "execution_count": 45,
   "id": "7b120348",
   "metadata": {},
   "outputs": [],
   "source": [
    "reformatted_positions = tmp[[\"contig\", \"start\", \"ID\"]]\n",
    "reformatted_positions.columns = [\"#CHROM\", \"POS\", \"ID\"]"
   ]
  },
  {
   "cell_type": "code",
   "execution_count": 46,
   "id": "4361232a",
   "metadata": {},
   "outputs": [],
   "source": [
    "reformatted_positions.set_index(\"#CHROM\").to_csv(\"/storage/group/ibb3/default/darpa/linkage_scaff/remapped_coords_kate.tab\", sep = \"\\t\")"
   ]
  },
  {
   "cell_type": "code",
   "execution_count": 47,
   "id": "45200820",
   "metadata": {},
   "outputs": [],
   "source": [
    "%%bash\n",
    "cd /storage/group/ibb3/default/darpa/linkage_scaff/\n",
    "grep -e \"^##fileformat\" -e \"^##FORMAT\" -e \"^##INFO\" conserved_probes_kate.recode.vcf \\\n",
    "    > acer_snpchip_remapped_kate.vcf"
   ]
  },
  {
   "cell_type": "code",
   "execution_count": 48,
   "id": "7467f23d",
   "metadata": {},
   "outputs": [],
   "source": [
    "%%bash\n",
    "cd /storage/group/ibb3/default/darpa/linkage_scaff/\n",
    "paste /storage/group/ibb3/default/darpa/linkage_scaff/remapped_coords_kate.tab \\\n",
    "    <( grep -v \"^##\" conserved_probes_kate.recode.vcf | cut -f4- ) \\\n",
    "    >> acer_snpchip_remapped_kate.vcf"
   ]
  },
  {
   "cell_type": "code",
   "execution_count": 49,
   "id": "0ea71723",
   "metadata": {},
   "outputs": [],
   "source": [
    "%%bash\n",
    "cd /storage/group/ibb3/default/darpa/linkage_scaff/\n",
    "grep \"^#\" acer_snpchip_remapped_kate.vcf > acer_snpchip_remapped_kate_sorted.vcf\n",
    "grep -v \"^#\" acer_snpchip_remapped_kate.vcf | sort -k1,1V -k2,2g >> acer_snpchip_remapped_kate_sorted.vcf"
   ]
  },
  {
   "cell_type": "code",
   "execution_count": 50,
   "id": "a954098d",
   "metadata": {},
   "outputs": [
    {
     "name": "stdout",
     "output_type": "stream",
     "text": [
      "ERROR: This cross-compiler package contains no program /storage/group/ibb3/default/.conda/envs/ipyrad/bin/x86_64-conda_cos6-linux-gnu-cc\n",
      "ERROR: activate-gcc_linux-64.sh failed, see above for details\n"
     ]
    },
    {
     "name": "stderr",
     "output_type": "stream",
     "text": [
      "\n",
      "VCFtools - 0.1.16\n",
      "(C) Adam Auton and Anthony Marcketta 2009\n",
      "\n",
      "Parameters as interpreted:\n",
      "\t--vcf acer_snpchip_remapped_kate_sorted.vcf\n",
      "\t--maf 0.05\n",
      "\t--max-alleles 2\n",
      "\t--min-alleles 2\n",
      "\t--max-missing 0.75\n",
      "\t--out acer_snpchip_remapped_kate_sorted.vcf\n",
      "\t--recode\n",
      "\n",
      "After filtering, kept 107 out of 107 Individuals\n",
      "Outputting VCF file...\n",
      "After filtering, kept 4439 out of a possible 22437 Sites\n",
      "Run Time = 1.00 seconds\n"
     ]
    }
   ],
   "source": [
    "%%bash\n",
    "source ~/.bashrc\n",
    "conda activate ipyrad\n",
    "cd /storage/group/ibb3/default/darpa/linkage_scaff/\n",
    "\n",
    "for i in acer_snpchip_remapped_kate_sorted.vcf; do\n",
    "    vcftools --vcf ${i} \\\n",
    "        --max-missing 0.75 --min-alleles 2 --max-alleles 2 --maf 0.05 \\\n",
    "        --recode --out ${i}\n",
    "done"
   ]
  },
  {
   "cell_type": "code",
   "execution_count": 51,
   "id": "0410ce6f",
   "metadata": {},
   "outputs": [],
   "source": [
    "import pandas as pd\n",
    "import numpy as np\n",
    "import re"
   ]
  },
  {
   "cell_type": "code",
   "execution_count": 52,
   "id": "74e80158",
   "metadata": {},
   "outputs": [
    {
     "name": "stderr",
     "output_type": "stream",
     "text": [
      "/tmp/ipykernel_2659982/3485389430.py:1: ParserWarning: Falling back to the 'python' engine because the 'c' engine does not support regex separators (separators > 1 char and different from '\\s+' are interpreted as regex); you can avoid this warning by specifying engine='python'.\n",
      "  katelinkage = pd.read_csv(\"/storage/group/ibb3/default/darpa/linkage_scaff/linkage_maps_1.csv\",\n"
     ]
    }
   ],
   "source": [
    "katelinkage = pd.read_csv(\"/storage/group/ibb3/default/darpa/linkage_scaff/linkage_maps_1.csv\", \n",
    "            sep = \"\\s\", names = [\"LG\", \"probe\", \"genetic position\"])"
   ]
  },
  {
   "cell_type": "code",
   "execution_count": 53,
   "id": "5d441c06",
   "metadata": {},
   "outputs": [],
   "source": [
    "probes = pd.read_csv(\"/storage/group/ibb3/default/darpa/linkage_scaff/unique_mappings_acer_probes.tab\", comment = \"@\", sep = \"\\t\", names = [\"probe\", \"contig\", \"start\", \"mapq\", \"cigar\", \"seq\", \"mismatch\"])"
   ]
  },
  {
   "cell_type": "code",
   "execution_count": 54,
   "id": "5378169c",
   "metadata": {},
   "outputs": [
    {
     "name": "stderr",
     "output_type": "stream",
     "text": [
      "/tmp/ipykernel_2659982/435527431.py:4: SettingWithCopyWarning: \n",
      "A value is trying to be set on a copy of a slice from a DataFrame\n",
      "\n",
      "See the caveats in the documentation: https://pandas.pydata.org/pandas-docs/stable/user_guide/indexing.html#returning-a-view-versus-a-copy\n",
      "  probes[\"npos\"][i] = probes[\"seq\"][i].find(\"N\")\n"
     ]
    }
   ],
   "source": [
    "probes = probes[probes[\"mapq\"] > 20].reset_index(drop=True)\n",
    "probes[\"npos\"] = np.nan\n",
    "for i in range(len(probes)):\n",
    "    probes[\"npos\"][i] = probes[\"seq\"][i].find(\"N\")\n",
    "probes[\"new_snp_pos\"] = np.nan\n",
    "probes.loc[~probes[\"cigar\"].str.contains(\"I|D\"), \"new_snp_pos\"] = probes[\"npos\"]"
   ]
  },
  {
   "cell_type": "code",
   "execution_count": 55,
   "id": "2d60d708",
   "metadata": {},
   "outputs": [
    {
     "name": "stderr",
     "output_type": "stream",
     "text": [
      "/tmp/ipykernel_2659982/1691801142.py:26: SettingWithCopyWarning: \n",
      "A value is trying to be set on a copy of a slice from a DataFrame\n",
      "\n",
      "See the caveats in the documentation: https://pandas.pydata.org/pandas-docs/stable/user_guide/indexing.html#returning-a-view-versus-a-copy\n",
      "  probes[\"new_snp_pos\"][i] = probes[\"seq\"][i].find(\"N\")\n",
      "/tmp/ipykernel_2659982/1691801142.py:20: SettingWithCopyWarning: \n",
      "A value is trying to be set on a copy of a slice from a DataFrame\n",
      "\n",
      "See the caveats in the documentation: https://pandas.pydata.org/pandas-docs/stable/user_guide/indexing.html#returning-a-view-versus-a-copy\n",
      "  probes[\"new_snp_pos\"][i] = probes[\"seq\"][i].find(\"N\") - int(cigar[1][0])\n",
      "/tmp/ipykernel_2659982/1691801142.py:9: SettingWithCopyWarning: \n",
      "A value is trying to be set on a copy of a slice from a DataFrame\n",
      "\n",
      "See the caveats in the documentation: https://pandas.pydata.org/pandas-docs/stable/user_guide/indexing.html#returning-a-view-versus-a-copy\n",
      "  probes[\"new_snp_pos\"][i] = probes[\"seq\"][i].find(\"N\")\n",
      "/tmp/ipykernel_2659982/1691801142.py:15: SettingWithCopyWarning: \n",
      "A value is trying to be set on a copy of a slice from a DataFrame\n",
      "\n",
      "See the caveats in the documentation: https://pandas.pydata.org/pandas-docs/stable/user_guide/indexing.html#returning-a-view-versus-a-copy\n",
      "  probes[\"new_snp_pos\"][i] = probes[\"seq\"][i].find(\"N\") + int(cigar[1][0])\n",
      "/tmp/ipykernel_2659982/1691801142.py:24: SettingWithCopyWarning: \n",
      "A value is trying to be set on a copy of a slice from a DataFrame\n",
      "\n",
      "See the caveats in the documentation: https://pandas.pydata.org/pandas-docs/stable/user_guide/indexing.html#returning-a-view-versus-a-copy\n",
      "  probes[\"new_snp_pos\"][i] = probes[\"seq\"][i].find(\"N\")\n"
     ]
    }
   ],
   "source": [
    "for i in range(len(probes)):\n",
    "    cigar = re.findall('(\\d+)?([A-Za-z])', probes[\"cigar\"][i])\n",
    "    length = len(cigar)\n",
    "    if (length < 4) and (length > 2):\n",
    "        if ( cigar[0][1] == \"S\" ) and ( cigar[1][1] == \"M\" ) and ( cigar[2][1] == \"S\" ):\n",
    "            print\n",
    "        elif ( cigar[0][1] == \"M\" ) and ( cigar[2][1] == \"M\" ):\n",
    "            if int(cigar[0][0]) > probes[\"seq\"][i].find(\"N\"):\n",
    "                probes[\"new_snp_pos\"][i] = probes[\"seq\"][i].find(\"N\")\n",
    "            elif int(cigar[0][0]) < probes[\"seq\"][i].find(\"N\"):\n",
    "                if cigar[1][1] == \"I\":\n",
    "                    if (int(cigar[0][0]) + int(cigar[1][0])) > probes[\"npos\"][i]:\n",
    "                        pass\n",
    "                    else:\n",
    "                        probes[\"new_snp_pos\"][i] = probes[\"seq\"][i].find(\"N\") + int(cigar[1][0])\n",
    "                elif cigar[1][1] == \"D\":\n",
    "                    if (int(cigar[0][0]) + int(cigar[1][0])) > probes[\"npos\"][i]:\n",
    "                        pass\n",
    "                    else:\n",
    "                        probes[\"new_snp_pos\"][i] = probes[\"seq\"][i].find(\"N\") - int(cigar[1][0])\n",
    "    if (length > 3):\n",
    "        if ( cigar[0][1] == \"S\" ) and ( cigar[1][1] == \"M\" ):\n",
    "            if (int(cigar[0][0]) + int(cigar[1][0])) >= probes[\"seq\"][i].find(\"N\"):\n",
    "                probes[\"new_snp_pos\"][i] = probes[\"seq\"][i].find(\"N\")\n",
    "    if ( cigar[0][1] == \"M\" ) and ( int(cigar[0][0]) >= probes[\"seq\"][i].find(\"N\") ):\n",
    "        probes[\"new_snp_pos\"][i] = probes[\"seq\"][i].find(\"N\")"
   ]
  },
  {
   "cell_type": "code",
   "execution_count": 56,
   "id": "6918370c",
   "metadata": {},
   "outputs": [],
   "source": [
    "probes[\"new_snp_pos\"] = probes[\"start\"] + probes[\"new_snp_pos\"]"
   ]
  },
  {
   "cell_type": "code",
   "execution_count": 57,
   "id": "de297176",
   "metadata": {},
   "outputs": [],
   "source": [
    "probes = probes[probes[\"new_snp_pos\"].notna()].reset_index(drop=True)\n",
    "probes[\"new_snp_pos\"] = probes[\"new_snp_pos\"].astype(int)"
   ]
  },
  {
   "cell_type": "code",
   "execution_count": 58,
   "id": "df352d49",
   "metadata": {},
   "outputs": [],
   "source": [
    "recommended = pd.read_csv(\"/storage/group/ibb3/default/acropora_linkage_maps/Apalm_linkage_Map/plate1-2/recommended.txt\", header = None)"
   ]
  },
  {
   "cell_type": "code",
   "execution_count": 59,
   "id": "883f36f4",
   "metadata": {},
   "outputs": [],
   "source": [
    "probes = probes[probes[\"probe\"].isin(recommended[0].tolist())].reset_index(drop=True)"
   ]
  },
  {
   "cell_type": "code",
   "execution_count": 60,
   "id": "6f896416",
   "metadata": {},
   "outputs": [],
   "source": [
    "probes = probes[[\"contig\", \"new_snp_pos\", \"probe\"]]\n",
    "probes.columns = [\"Scaffold ID\", \"scaffold position\", \"probe\"]\n",
    "\n",
    "katelinkage = katelinkage.merge(probes, how = \"left\", on = \"probe\")\n",
    "katelinkage.columns = [\"LinkageGroup\", \"probe\", \"GeneticPosition\", \"ScaffoldID\", \"ScaffoldPosition\"]\n",
    "katelinkage = katelinkage[[\"ScaffoldID\", \"ScaffoldPosition\", \"LinkageGroup\", \"GeneticPosition\"]]\n",
    "katelinkage = katelinkage[katelinkage[\"ScaffoldPosition\"].notna()].reset_index(drop=True)\n",
    "katelinkage[\"ScaffoldPosition\"] = katelinkage[\"ScaffoldPosition\"].astype(int)\n",
    "(katelinkage.set_index(\"ScaffoldID\")\n",
    " .to_csv(\"/storage/group/ibb3/default/darpa/linkage_scaff/linkage_map_1.csv\"))"
   ]
  },
  {
   "cell_type": "code",
   "execution_count": 63,
   "id": "74f9671b",
   "metadata": {},
   "outputs": [
    {
     "name": "stderr",
     "output_type": "stream",
     "text": [
      "[13:45:52] INFO     Set text.usetex=False. Font styles may be inconsistent.                                     base.py:402\n",
      "           DEBUG    A total of 1292 markers written to `linkage_merged.bed`.                                allmaps.py:1281\n",
      "           DEBUG    Weights file `weights.txt` found. Will not overwrite.                                   allmaps.py:1328\n"
     ]
    }
   ],
   "source": [
    "%%bash\n",
    "source ~/.bashrc\n",
    "conda activate allmaps\n",
    "cd /storage/group/ibb3/default/darpa/linkage_scaff/\n",
    "python -m jcvi.assembly.allmaps merge linkage_map_1.csv -o linkage_merged.bed"
   ]
  },
  {
   "cell_type": "code",
   "execution_count": 64,
   "id": "6f93c323",
   "metadata": {
    "scrolled": true
   },
   "outputs": [
    {
     "name": "stderr",
     "output_type": "stream",
     "text": [
      "[13:46:22] INFO     Set text.usetex=False. Font styles may be inconsistent.                                     base.py:402\n",
      "           INFO     Set text.usetex=False. Font styles may be inconsistent.                                     base.py:402\n",
      "           DEBUG    Load file `linkage_merged.bed`                                                               base.py:33\n",
      "           DEBUG    Map contains 1292 markers in 14 linkage groups.                                          allmaps.py:546\n",
      "[01:46:22 PM] DEBUG    Retained 1,282 of 1,292 (99.2%) clean markers.                                        allmaps.py:593\n",
      "              DEBUG    Load file `weights.txt`                                                                   base.py:33\n",
      "              DEBUG    Imported 1 records from `weights.txt`.                                                   base.py:102\n",
      "              DEBUG    Map weights: odict_items([('linkage_map_1', 1)])                                      allmaps.py:659\n",
      "              DEBUG    Linkage function: double-linkage                                                     allmaps.py:1502\n",
      "              DEBUG    Partition LGs based on linkage_map_1                                                 allmaps.py:1523\n",
      "              DEBUG    Load file `/storage/group/ibb3/default/darpa/linkage_scaff/sorted.fa`                     base.py:33\n",
      "[01:46:24 PM] DEBUG    Load file `sorted.fa.sizes`                                                               base.py:33\n",
      "              DEBUG    Working on linkage_map_1-1 ...                                                       allmaps.py:1581\n",
      "              DEBUG    Graph size: |V|=5, |E|=12                                                             allmaps.py:285\n",
      "              DEBUG    TSP rescale: max_x=104, min_x=-10000, inf=20000, factor=100                                tsp.py:48\n",
      "[01:46:29 PM] INFO     Objective: 6006150                                                                        tsp.py:113\n",
      "              INFO     Route distance: 0                                                                         tsp.py:121\n",
      "              DEBUG    Start EC round 0                                                                      allmaps.py:195\n",
      "              DEBUG    GA setup: ngen=500 npop=100 cpus=16 seed=666                                               ec.py:177\n"
     ]
    },
    {
     "name": "stdout",
     "output_type": "stream",
     "text": [
      "Current iteration 20: max_score=(78.0,)\n",
      "Current iteration 40: max_score=(78.0,)\n",
      "Current iteration 60: max_score=(78.0,)\n",
      "Current iteration 80: max_score=(78.0,)\n",
      "Current iteration 100: max_score=(78.0,)\n",
      "Current iteration 120: max_score=(78.0,)\n",
      "Current iteration 140: max_score=(78.0,)\n",
      "Current iteration 160: max_score=(78.0,)\n",
      "Current iteration 180: max_score=(78.0,)\n",
      "Current iteration 200: max_score=(78.0,)\n",
      "Current iteration 220: max_score=(78.0,)\n",
      "Current iteration 240: max_score=(78.0,)\n",
      "Current iteration 260: max_score=(78.0,)\n",
      "Current iteration 280: max_score=(78.0,)\n",
      "Current iteration 300: max_score=(78.0,)\n",
      "Current iteration 320: max_score=(78.0,)\n",
      "Current iteration 340: max_score=(78.0,)\n",
      "Current iteration 360: max_score=(78.0,)\n",
      "Current iteration 380: max_score=(78.0,)\n",
      "Current iteration 400: max_score=(78.0,)\n",
      "Current iteration 420: max_score=(78.0,)\n",
      "Current iteration 440: max_score=(78.0,)\n",
      "Current iteration 460: max_score=(78.0,)\n",
      "Current iteration 480: max_score=(78.0,)\n",
      "Current iteration 500: max_score=(78.0,)\n"
     ]
    },
    {
     "name": "stderr",
     "output_type": "stream",
     "text": [
      "[01:46:31 PM] DEBUG    Fixed orientations for 0 scaffolds.                                                   allmaps.py:469\n",
      "              DEBUG    Current best fitness: (78.0,)                                                         allmaps.py:215\n",
      "              DEBUG    Start EC round 1                                                                      allmaps.py:195\n",
      "              DEBUG    GA setup: ngen=500 npop=100 cpus=16 seed=666                                               ec.py:177\n"
     ]
    },
    {
     "name": "stdout",
     "output_type": "stream",
     "text": [
      "Current iteration 20: max_score=(78.0,)\n",
      "Current iteration 40: max_score=(78.0,)\n",
      "Current iteration 60: max_score=(78.0,)\n",
      "Current iteration 80: max_score=(78.0,)\n",
      "Current iteration 100: max_score=(78.0,)\n",
      "Current iteration 120: max_score=(78.0,)\n",
      "Current iteration 140: max_score=(78.0,)\n",
      "Current iteration 160: max_score=(78.0,)\n",
      "Current iteration 180: max_score=(78.0,)\n",
      "Current iteration 200: max_score=(78.0,)\n",
      "Current iteration 220: max_score=(78.0,)\n",
      "Current iteration 240: max_score=(78.0,)\n",
      "Current iteration 260: max_score=(78.0,)\n",
      "Current iteration 280: max_score=(78.0,)\n",
      "Current iteration 300: max_score=(78.0,)\n",
      "Current iteration 320: max_score=(78.0,)\n",
      "Current iteration 340: max_score=(78.0,)\n",
      "Current iteration 360: max_score=(78.0,)\n",
      "Current iteration 380: max_score=(78.0,)\n",
      "Current iteration 400: max_score=(78.0,)\n",
      "Current iteration 420: max_score=(78.0,)\n",
      "Current iteration 440: max_score=(78.0,)\n",
      "Current iteration 460: max_score=(78.0,)\n",
      "Current iteration 480: max_score=(78.0,)\n",
      "Current iteration 500: max_score=(78.0,)\n"
     ]
    },
    {
     "name": "stderr",
     "output_type": "stream",
     "text": [
      "[01:46:33 PM] DEBUG    No fitness improvement: (78.0,). Exit EC.                                             allmaps.py:206\n",
      "              DEBUG    Dropped 0 minor scaffolds                                                             allmaps.py:432\n",
      ">chr1 (linkage_map_1-1) FINAL\n",
      "scaffold_1+ scaffold_35- scaffold_7-\n",
      "              DEBUG    Working on linkage_map_1-2 ...                                                       allmaps.py:1581\n",
      "              DEBUG    Graph size: |V|=6, |E|=20                                                             allmaps.py:285\n",
      "              DEBUG    TSP rescale: max_x=56, min_x=-10000, inf=20000, factor=100                                 tsp.py:48\n",
      "[01:46:38 PM] INFO     Objective: 7004550                                                                        tsp.py:113\n",
      "              INFO     Route distance: 1000100                                                                   tsp.py:121\n",
      "              DEBUG    Start EC round 0                                                                      allmaps.py:195\n",
      "              DEBUG    GA setup: ngen=500 npop=100 cpus=16 seed=666                                               ec.py:177\n"
     ]
    },
    {
     "name": "stdout",
     "output_type": "stream",
     "text": [
      "Current iteration 20: max_score=(39.0,)\n",
      "Current iteration 40: max_score=(39.0,)\n",
      "Current iteration 60: max_score=(39.0,)\n",
      "Current iteration 80: max_score=(39.0,)\n",
      "Current iteration 100: max_score=(39.0,)\n",
      "Current iteration 120: max_score=(39.0,)\n",
      "Current iteration 140: max_score=(39.0,)\n",
      "Current iteration 160: max_score=(39.0,)\n",
      "Current iteration 180: max_score=(39.0,)\n",
      "Current iteration 200: max_score=(39.0,)\n",
      "Current iteration 220: max_score=(39.0,)\n",
      "Current iteration 240: max_score=(39.0,)\n",
      "Current iteration 260: max_score=(39.0,)\n",
      "Current iteration 280: max_score=(39.0,)\n",
      "Current iteration 300: max_score=(39.0,)\n",
      "Current iteration 320: max_score=(39.0,)\n",
      "Current iteration 340: max_score=(39.0,)\n",
      "Current iteration 360: max_score=(39.0,)\n",
      "Current iteration 380: max_score=(39.0,)\n",
      "Current iteration 400: max_score=(39.0,)\n",
      "Current iteration 420: max_score=(39.0,)\n",
      "Current iteration 440: max_score=(39.0,)\n",
      "Current iteration 460: max_score=(39.0,)\n",
      "Current iteration 480: max_score=(39.0,)\n",
      "Current iteration 500: max_score=(39.0,)\n"
     ]
    },
    {
     "name": "stderr",
     "output_type": "stream",
     "text": [
      "[01:46:39 PM] DEBUG    Fixed orientations for 0 scaffolds.                                                   allmaps.py:469\n",
      "              DEBUG    Current best fitness: (39.0,)                                                         allmaps.py:215\n",
      "              DEBUG    Start EC round 1                                                                      allmaps.py:195\n",
      "              DEBUG    GA setup: ngen=500 npop=100 cpus=16 seed=666                                               ec.py:177\n"
     ]
    },
    {
     "name": "stdout",
     "output_type": "stream",
     "text": [
      "Current iteration 20: max_score=(39.0,)\n",
      "Current iteration 40: max_score=(39.0,)\n",
      "Current iteration 60: max_score=(39.0,)\n",
      "Current iteration 80: max_score=(39.0,)\n",
      "Current iteration 100: max_score=(39.0,)\n",
      "Current iteration 120: max_score=(39.0,)\n",
      "Current iteration 140: max_score=(39.0,)\n",
      "Current iteration 160: max_score=(39.0,)\n",
      "Current iteration 180: max_score=(39.0,)\n",
      "Current iteration 200: max_score=(39.0,)\n",
      "Current iteration 220: max_score=(39.0,)\n",
      "Current iteration 240: max_score=(39.0,)\n",
      "Current iteration 260: max_score=(39.0,)\n",
      "Current iteration 280: max_score=(39.0,)\n",
      "Current iteration 300: max_score=(39.0,)\n",
      "Current iteration 320: max_score=(39.0,)\n",
      "Current iteration 340: max_score=(39.0,)\n",
      "Current iteration 360: max_score=(39.0,)\n",
      "Current iteration 380: max_score=(39.0,)\n",
      "Current iteration 400: max_score=(39.0,)\n",
      "Current iteration 420: max_score=(39.0,)\n",
      "Current iteration 440: max_score=(39.0,)\n",
      "Current iteration 460: max_score=(39.0,)\n",
      "Current iteration 480: max_score=(39.0,)\n",
      "Current iteration 500: max_score=(39.0,)\n"
     ]
    },
    {
     "name": "stderr",
     "output_type": "stream",
     "text": [
      "[01:46:41 PM] DEBUG    No fitness improvement: (39.0,). Exit EC.                                             allmaps.py:206\n",
      "              DEBUG    Dropped 1 minor scaffolds                                                             allmaps.py:432\n",
      ">chr2 (linkage_map_1-2) FINAL\n",
      "scaffold_12- scaffold_153? scaffold_18-\n",
      "              DEBUG    Working on linkage_map_1-3 ...                                                       allmaps.py:1581\n",
      "              DEBUG    Graph size: |V|=13, |E|=132                                                           allmaps.py:285\n",
      "              DEBUG    TSP rescale: max_x=148, min_x=-10000, inf=20000, factor=100                                tsp.py:48\n",
      "[01:46:46 PM] INFO     Objective: 14004700                                                                       tsp.py:113\n",
      "              INFO     Route distance: 1000100                                                                   tsp.py:121\n",
      "              DEBUG    Start EC round 0                                                                      allmaps.py:195\n",
      "              DEBUG    GA setup: ngen=500 npop=100 cpus=16 seed=666                                               ec.py:177\n"
     ]
    },
    {
     "name": "stdout",
     "output_type": "stream",
     "text": [
      "Current iteration 20: max_score=(88.0,)\n",
      "Current iteration 40: max_score=(88.0,)\n",
      "Current iteration 60: max_score=(88.0,)\n",
      "Current iteration 80: max_score=(88.0,)\n",
      "Current iteration 100: max_score=(88.0,)\n",
      "Current iteration 120: max_score=(88.0,)\n",
      "Current iteration 140: max_score=(88.0,)\n",
      "Current iteration 160: max_score=(88.0,)\n",
      "Current iteration 180: max_score=(88.0,)\n",
      "Current iteration 200: max_score=(88.0,)\n",
      "Current iteration 220: max_score=(88.0,)\n",
      "Current iteration 240: max_score=(88.0,)\n",
      "Current iteration 260: max_score=(88.0,)\n",
      "Current iteration 280: max_score=(88.0,)\n",
      "Current iteration 300: max_score=(88.0,)\n",
      "Current iteration 320: max_score=(88.0,)\n",
      "Current iteration 340: max_score=(88.0,)\n",
      "Current iteration 360: max_score=(88.0,)\n",
      "Current iteration 380: max_score=(88.0,)\n",
      "Current iteration 400: max_score=(88.0,)\n",
      "Current iteration 420: max_score=(88.0,)\n",
      "Current iteration 440: max_score=(88.0,)\n",
      "Current iteration 460: max_score=(88.0,)\n",
      "Current iteration 480: max_score=(88.0,)\n",
      "Current iteration 500: max_score=(88.0,)\n"
     ]
    },
    {
     "name": "stderr",
     "output_type": "stream",
     "text": [
      "[01:46:48 PM] DEBUG    Fixed orientations for 1 scaffolds.                                                   allmaps.py:469\n",
      "              DEBUG    Current best fitness: (88.0,)                                                         allmaps.py:215\n",
      "              DEBUG    Start EC round 1                                                                      allmaps.py:195\n",
      "              DEBUG    GA setup: ngen=500 npop=100 cpus=16 seed=666                                               ec.py:177\n"
     ]
    },
    {
     "name": "stdout",
     "output_type": "stream",
     "text": [
      "Current iteration 20: max_score=(88.0,)\n",
      "Current iteration 40: max_score=(88.0,)\n",
      "Current iteration 60: max_score=(88.0,)\n",
      "Current iteration 80: max_score=(88.0,)\n",
      "Current iteration 100: max_score=(88.0,)\n",
      "Current iteration 120: max_score=(88.0,)\n",
      "Current iteration 140: max_score=(88.0,)\n",
      "Current iteration 160: max_score=(88.0,)\n",
      "Current iteration 180: max_score=(88.0,)\n",
      "Current iteration 200: max_score=(88.0,)\n",
      "Current iteration 220: max_score=(88.0,)\n",
      "Current iteration 240: max_score=(88.0,)\n",
      "Current iteration 260: max_score=(88.0,)\n",
      "Current iteration 280: max_score=(88.0,)\n",
      "Current iteration 300: max_score=(88.0,)\n",
      "Current iteration 320: max_score=(88.0,)\n",
      "Current iteration 340: max_score=(88.0,)\n",
      "Current iteration 360: max_score=(88.0,)\n",
      "Current iteration 380: max_score=(88.0,)\n",
      "Current iteration 400: max_score=(88.0,)\n",
      "Current iteration 420: max_score=(88.0,)\n",
      "Current iteration 440: max_score=(88.0,)\n",
      "Current iteration 460: max_score=(88.0,)\n",
      "Current iteration 480: max_score=(88.0,)\n",
      "Current iteration 500: max_score=(88.0,)\n"
     ]
    },
    {
     "name": "stderr",
     "output_type": "stream",
     "text": [
      "[01:46:50 PM] DEBUG    No fitness improvement: (88.0,). Exit EC.                                             allmaps.py:206\n",
      "              DEBUG    Dropped 3 minor scaffolds                                                             allmaps.py:432\n",
      ">chr3 (linkage_map_1-3) FINAL\n",
      "scaffold_51- scaffold_98? scaffold_100? scaffold_2+ scaffold_52+ scaffold_236? scaffold_32- scaffold_9-\n",
      "              DEBUG    Working on linkage_map_1-4 ...                                                       allmaps.py:1581\n",
      "              DEBUG    Graph size: |V|=8, |E|=42                                                             allmaps.py:285\n",
      "              DEBUG    TSP rescale: max_x=85, min_x=-10000, inf=20000, factor=100                                 tsp.py:48\n",
      "[01:46:55 PM] INFO     Objective: 9006000                                                                        tsp.py:113\n",
      "              INFO     Route distance: 1000100                                                                   tsp.py:121\n",
      "              DEBUG    Start EC round 0                                                                      allmaps.py:195\n",
      "              DEBUG    GA setup: ngen=500 npop=100 cpus=16 seed=666                                               ec.py:177\n"
     ]
    },
    {
     "name": "stdout",
     "output_type": "stream",
     "text": [
      "Current iteration 20: max_score=(66.0,)\n",
      "Current iteration 40: max_score=(66.0,)\n",
      "Current iteration 60: max_score=(66.0,)\n",
      "Current iteration 80: max_score=(66.0,)\n",
      "Current iteration 100: max_score=(66.0,)\n",
      "Current iteration 120: max_score=(66.0,)\n",
      "Current iteration 140: max_score=(66.0,)\n",
      "Current iteration 160: max_score=(66.0,)\n",
      "Current iteration 180: max_score=(66.0,)\n",
      "Current iteration 200: max_score=(66.0,)\n",
      "Current iteration 220: max_score=(66.0,)\n",
      "Current iteration 240: max_score=(66.0,)\n",
      "Current iteration 260: max_score=(66.0,)\n",
      "Current iteration 280: max_score=(66.0,)\n",
      "Current iteration 300: max_score=(66.0,)\n",
      "Current iteration 320: max_score=(66.0,)\n",
      "Current iteration 340: max_score=(66.0,)\n",
      "Current iteration 360: max_score=(66.0,)\n",
      "Current iteration 380: max_score=(66.0,)\n",
      "Current iteration 400: max_score=(66.0,)\n",
      "Current iteration 420: max_score=(66.0,)\n",
      "Current iteration 440: max_score=(66.0,)\n",
      "Current iteration 460: max_score=(66.0,)\n",
      "Current iteration 480: max_score=(66.0,)\n",
      "Current iteration 500: max_score=(66.0,)\n"
     ]
    },
    {
     "name": "stderr",
     "output_type": "stream",
     "text": [
      "[01:46:56 PM] DEBUG    Fixed orientations for 0 scaffolds.                                                   allmaps.py:469\n",
      "              DEBUG    Current best fitness: (66.0,)                                                         allmaps.py:215\n",
      "              DEBUG    Start EC round 1                                                                      allmaps.py:195\n",
      "              DEBUG    GA setup: ngen=500 npop=100 cpus=16 seed=666                                               ec.py:177\n"
     ]
    },
    {
     "name": "stdout",
     "output_type": "stream",
     "text": [
      "Current iteration 20: max_score=(66.0,)\n",
      "Current iteration 40: max_score=(66.0,)\n",
      "Current iteration 60: max_score=(66.0,)\n",
      "Current iteration 80: max_score=(66.0,)\n",
      "Current iteration 100: max_score=(66.0,)\n",
      "Current iteration 120: max_score=(66.0,)\n",
      "Current iteration 140: max_score=(66.0,)\n",
      "Current iteration 160: max_score=(66.0,)\n",
      "Current iteration 180: max_score=(66.0,)\n",
      "Current iteration 200: max_score=(66.0,)\n",
      "Current iteration 220: max_score=(66.0,)\n",
      "Current iteration 240: max_score=(66.0,)\n",
      "Current iteration 260: max_score=(66.0,)\n",
      "Current iteration 280: max_score=(66.0,)\n",
      "Current iteration 300: max_score=(66.0,)\n",
      "Current iteration 320: max_score=(66.0,)\n",
      "Current iteration 340: max_score=(66.0,)\n",
      "Current iteration 360: max_score=(66.0,)\n",
      "Current iteration 380: max_score=(66.0,)\n",
      "Current iteration 400: max_score=(66.0,)\n",
      "Current iteration 420: max_score=(66.0,)\n",
      "Current iteration 440: max_score=(66.0,)\n",
      "Current iteration 460: max_score=(66.0,)\n",
      "Current iteration 480: max_score=(66.0,)\n",
      "Current iteration 500: max_score=(66.0,)\n"
     ]
    },
    {
     "name": "stderr",
     "output_type": "stream",
     "text": [
      "[01:46:58 PM] DEBUG    No fitness improvement: (66.0,). Exit EC.                                             allmaps.py:206\n",
      "              DEBUG    Dropped 2 minor scaffolds                                                             allmaps.py:432\n",
      ">chr4 (linkage_map_1-4) FINAL\n",
      "scaffold_3+ scaffold_57- scaffold_198? scaffold_20-\n",
      "              DEBUG    Working on linkage_map_1-5 ...                                                       allmaps.py:1581\n",
      "              DEBUG    Graph size: |V|=6, |E|=20                                                             allmaps.py:285\n",
      "              DEBUG    TSP rescale: max_x=83, min_x=-10000, inf=20000, factor=100                                 tsp.py:48\n",
      "[01:47:03 PM] INFO     Objective: 7001550                                                                        tsp.py:113\n",
      "              INFO     Route distance: 1000150                                                                   tsp.py:121\n",
      "              DEBUG    Start EC round 0                                                                      allmaps.py:195\n",
      "              DEBUG    GA setup: ngen=500 npop=100 cpus=16 seed=666                                               ec.py:177\n"
     ]
    },
    {
     "name": "stdout",
     "output_type": "stream",
     "text": [
      "Current iteration 20: max_score=(48.0,)\n",
      "Current iteration 40: max_score=(48.0,)\n",
      "Current iteration 60: max_score=(48.0,)\n",
      "Current iteration 80: max_score=(48.0,)\n",
      "Current iteration 100: max_score=(48.0,)\n",
      "Current iteration 120: max_score=(48.0,)\n",
      "Current iteration 140: max_score=(48.0,)\n",
      "Current iteration 160: max_score=(48.0,)\n",
      "Current iteration 180: max_score=(48.0,)\n",
      "Current iteration 200: max_score=(48.0,)\n",
      "Current iteration 220: max_score=(48.0,)\n",
      "Current iteration 240: max_score=(48.0,)\n",
      "Current iteration 260: max_score=(48.0,)\n",
      "Current iteration 280: max_score=(48.0,)\n",
      "Current iteration 300: max_score=(48.0,)\n",
      "Current iteration 320: max_score=(48.0,)\n",
      "Current iteration 340: max_score=(48.0,)\n",
      "Current iteration 360: max_score=(48.0,)\n",
      "Current iteration 380: max_score=(48.0,)\n",
      "Current iteration 400: max_score=(48.0,)\n",
      "Current iteration 420: max_score=(48.0,)\n",
      "Current iteration 440: max_score=(48.0,)\n",
      "Current iteration 460: max_score=(48.0,)\n",
      "Current iteration 480: max_score=(48.0,)\n",
      "Current iteration 500: max_score=(48.0,)\n"
     ]
    },
    {
     "name": "stderr",
     "output_type": "stream",
     "text": [
      "[01:47:04 PM] DEBUG    Fixed orientations for 0 scaffolds.                                                   allmaps.py:469\n",
      "              DEBUG    Current best fitness: (48.0,)                                                         allmaps.py:215\n",
      "              DEBUG    Start EC round 1                                                                      allmaps.py:195\n",
      "              DEBUG    GA setup: ngen=500 npop=100 cpus=16 seed=666                                               ec.py:177\n"
     ]
    },
    {
     "name": "stdout",
     "output_type": "stream",
     "text": [
      "Current iteration 20: max_score=(48.0,)\n",
      "Current iteration 40: max_score=(48.0,)\n",
      "Current iteration 60: max_score=(48.0,)\n",
      "Current iteration 80: max_score=(48.0,)\n",
      "Current iteration 100: max_score=(48.0,)\n",
      "Current iteration 120: max_score=(48.0,)\n",
      "Current iteration 140: max_score=(48.0,)\n",
      "Current iteration 160: max_score=(48.0,)\n",
      "Current iteration 180: max_score=(48.0,)\n",
      "Current iteration 200: max_score=(48.0,)\n",
      "Current iteration 220: max_score=(48.0,)\n",
      "Current iteration 240: max_score=(48.0,)\n",
      "Current iteration 260: max_score=(48.0,)\n",
      "Current iteration 280: max_score=(48.0,)\n",
      "Current iteration 300: max_score=(48.0,)\n",
      "Current iteration 320: max_score=(48.0,)\n",
      "Current iteration 340: max_score=(48.0,)\n",
      "Current iteration 360: max_score=(48.0,)\n",
      "Current iteration 380: max_score=(48.0,)\n",
      "Current iteration 400: max_score=(48.0,)\n",
      "Current iteration 420: max_score=(48.0,)\n",
      "Current iteration 440: max_score=(48.0,)\n",
      "Current iteration 460: max_score=(48.0,)\n",
      "Current iteration 480: max_score=(48.0,)\n",
      "Current iteration 500: max_score=(48.0,)\n"
     ]
    },
    {
     "name": "stderr",
     "output_type": "stream",
     "text": [
      "[01:47:06 PM] DEBUG    No fitness improvement: (48.0,). Exit EC.                                             allmaps.py:206\n",
      "              DEBUG    Dropped 0 minor scaffolds                                                             allmaps.py:432\n",
      ">chr5 (linkage_map_1-5) FINAL\n",
      "scaffold_73? scaffold_45- scaffold_4- scaffold_24+\n",
      "              DEBUG    Working on linkage_map_1-6 ...                                                       allmaps.py:1581\n",
      "              DEBUG    Graph size: |V|=9, |E|=56                                                             allmaps.py:285\n",
      "              DEBUG    TSP rescale: max_x=91, min_x=-10000, inf=20000, factor=100                                 tsp.py:48\n",
      "[01:47:11 PM] INFO     Objective: 10001950                                                                       tsp.py:113\n",
      "              INFO     Route distance: 1000300                                                                   tsp.py:121\n",
      "              DEBUG    Start EC round 0                                                                      allmaps.py:195\n",
      "              DEBUG    GA setup: ngen=500 npop=100 cpus=16 seed=666                                               ec.py:177\n"
     ]
    },
    {
     "name": "stdout",
     "output_type": "stream",
     "text": [
      "Current iteration 20: max_score=(57.0,)\n",
      "Current iteration 40: max_score=(57.0,)\n",
      "Current iteration 60: max_score=(57.0,)\n",
      "Current iteration 80: max_score=(57.0,)\n",
      "Current iteration 100: max_score=(57.0,)\n",
      "Current iteration 120: max_score=(57.0,)\n",
      "Current iteration 140: max_score=(57.0,)\n",
      "Current iteration 160: max_score=(57.0,)\n",
      "Current iteration 180: max_score=(57.0,)\n",
      "Current iteration 200: max_score=(57.0,)\n",
      "Current iteration 220: max_score=(57.0,)\n",
      "Current iteration 240: max_score=(57.0,)\n",
      "Current iteration 260: max_score=(57.0,)\n",
      "Current iteration 280: max_score=(57.0,)\n",
      "Current iteration 300: max_score=(57.0,)\n",
      "Current iteration 320: max_score=(57.0,)\n",
      "Current iteration 340: max_score=(57.0,)\n",
      "Current iteration 360: max_score=(57.0,)\n",
      "Current iteration 380: max_score=(57.0,)\n",
      "Current iteration 400: max_score=(57.0,)\n",
      "Current iteration 420: max_score=(57.0,)\n",
      "Current iteration 440: max_score=(57.0,)\n",
      "Current iteration 460: max_score=(57.0,)\n",
      "Current iteration 480: max_score=(57.0,)\n",
      "Current iteration 500: max_score=(57.0,)\n"
     ]
    },
    {
     "name": "stderr",
     "output_type": "stream",
     "text": [
      "[01:47:13 PM] DEBUG    Fixed orientations for 0 scaffolds.                                                   allmaps.py:469\n",
      "              DEBUG    Current best fitness: (57.0,)                                                         allmaps.py:215\n",
      "              DEBUG    Start EC round 1                                                                      allmaps.py:195\n",
      "              DEBUG    GA setup: ngen=500 npop=100 cpus=16 seed=666                                               ec.py:177\n"
     ]
    },
    {
     "name": "stdout",
     "output_type": "stream",
     "text": [
      "Current iteration 20: max_score=(57.0,)\n",
      "Current iteration 40: max_score=(57.0,)\n",
      "Current iteration 60: max_score=(57.0,)\n",
      "Current iteration 80: max_score=(57.0,)\n",
      "Current iteration 100: max_score=(57.0,)\n",
      "Current iteration 120: max_score=(57.0,)\n",
      "Current iteration 140: max_score=(57.0,)\n",
      "Current iteration 160: max_score=(57.0,)\n",
      "Current iteration 180: max_score=(57.0,)\n",
      "Current iteration 200: max_score=(57.0,)\n",
      "Current iteration 220: max_score=(57.0,)\n",
      "Current iteration 240: max_score=(57.0,)\n",
      "Current iteration 260: max_score=(57.0,)\n",
      "Current iteration 280: max_score=(57.0,)\n",
      "Current iteration 300: max_score=(57.0,)\n",
      "Current iteration 320: max_score=(57.0,)\n",
      "Current iteration 340: max_score=(57.0,)\n",
      "Current iteration 360: max_score=(57.0,)\n",
      "Current iteration 380: max_score=(57.0,)\n",
      "Current iteration 400: max_score=(57.0,)\n",
      "Current iteration 420: max_score=(57.0,)\n",
      "Current iteration 440: max_score=(57.0,)\n",
      "Current iteration 460: max_score=(57.0,)\n",
      "Current iteration 480: max_score=(57.0,)\n",
      "Current iteration 500: max_score=(57.0,)\n"
     ]
    },
    {
     "name": "stderr",
     "output_type": "stream",
     "text": [
      "[01:47:14 PM] DEBUG    No fitness improvement: (57.0,). Exit EC.                                             allmaps.py:206\n",
      "              DEBUG    Dropped 1 minor scaffolds                                                             allmaps.py:432\n",
      ">chr6 (linkage_map_1-6) FINAL\n",
      "scaffold_71- scaffold_23+ scaffold_42+ scaffold_5+ scaffold_192? scaffold_60?\n",
      "              DEBUG    Working on linkage_map_1-7 ...                                                       allmaps.py:1581\n",
      "              DEBUG    Graph size: |V|=5, |E|=12                                                             allmaps.py:285\n",
      "              DEBUG    TSP rescale: max_x=76, min_x=-10000, inf=20000, factor=100                                 tsp.py:48\n",
      "[01:47:19 PM] INFO     Objective: 6005400                                                                        tsp.py:113\n",
      "              INFO     Route distance: 1000100                                                                   tsp.py:121\n",
      "              DEBUG    Start EC round 0                                                                      allmaps.py:195\n",
      "              DEBUG    GA setup: ngen=500 npop=100 cpus=16 seed=666                                               ec.py:177\n"
     ]
    },
    {
     "name": "stdout",
     "output_type": "stream",
     "text": [
      "Current iteration 20: max_score=(54.0,)\n",
      "Current iteration 40: max_score=(54.0,)\n",
      "Current iteration 60: max_score=(54.0,)\n",
      "Current iteration 80: max_score=(54.0,)\n",
      "Current iteration 100: max_score=(54.0,)\n",
      "Current iteration 120: max_score=(54.0,)\n",
      "Current iteration 140: max_score=(54.0,)\n",
      "Current iteration 160: max_score=(54.0,)\n",
      "Current iteration 180: max_score=(54.0,)\n",
      "Current iteration 200: max_score=(54.0,)\n",
      "Current iteration 220: max_score=(54.0,)\n",
      "Current iteration 240: max_score=(54.0,)\n",
      "Current iteration 260: max_score=(54.0,)\n",
      "Current iteration 280: max_score=(54.0,)\n",
      "Current iteration 300: max_score=(54.0,)\n",
      "Current iteration 320: max_score=(54.0,)\n",
      "Current iteration 340: max_score=(54.0,)\n",
      "Current iteration 360: max_score=(54.0,)\n",
      "Current iteration 380: max_score=(54.0,)\n",
      "Current iteration 400: max_score=(54.0,)\n",
      "Current iteration 420: max_score=(54.0,)\n",
      "Current iteration 440: max_score=(54.0,)\n",
      "Current iteration 460: max_score=(54.0,)\n",
      "Current iteration 480: max_score=(54.0,)\n",
      "Current iteration 500: max_score=(54.0,)\n"
     ]
    },
    {
     "name": "stderr",
     "output_type": "stream",
     "text": [
      "[01:47:21 PM] DEBUG    Fixed orientations for 0 scaffolds.                                                   allmaps.py:469\n",
      "              DEBUG    Current best fitness: (54.0,)                                                         allmaps.py:215\n",
      "              DEBUG    Start EC round 1                                                                      allmaps.py:195\n",
      "              DEBUG    GA setup: ngen=500 npop=100 cpus=16 seed=666                                               ec.py:177\n"
     ]
    },
    {
     "name": "stdout",
     "output_type": "stream",
     "text": [
      "Current iteration 20: max_score=(54.0,)\n",
      "Current iteration 40: max_score=(54.0,)\n",
      "Current iteration 60: max_score=(54.0,)\n",
      "Current iteration 80: max_score=(54.0,)\n",
      "Current iteration 100: max_score=(54.0,)\n",
      "Current iteration 120: max_score=(54.0,)\n",
      "Current iteration 140: max_score=(54.0,)\n",
      "Current iteration 160: max_score=(54.0,)\n",
      "Current iteration 180: max_score=(54.0,)\n",
      "Current iteration 200: max_score=(54.0,)\n",
      "Current iteration 220: max_score=(54.0,)\n",
      "Current iteration 240: max_score=(54.0,)\n",
      "Current iteration 260: max_score=(54.0,)\n",
      "Current iteration 280: max_score=(54.0,)\n",
      "Current iteration 300: max_score=(54.0,)\n",
      "Current iteration 320: max_score=(54.0,)\n",
      "Current iteration 340: max_score=(54.0,)\n",
      "Current iteration 360: max_score=(54.0,)\n",
      "Current iteration 380: max_score=(54.0,)\n",
      "Current iteration 400: max_score=(54.0,)\n",
      "Current iteration 420: max_score=(54.0,)\n",
      "Current iteration 440: max_score=(54.0,)\n",
      "Current iteration 460: max_score=(54.0,)\n",
      "Current iteration 480: max_score=(54.0,)\n",
      "Current iteration 500: max_score=(54.0,)\n"
     ]
    },
    {
     "name": "stderr",
     "output_type": "stream",
     "text": [
      "[01:47:22 PM] DEBUG    No fitness improvement: (54.0,). Exit EC.                                             allmaps.py:206\n",
      "              DEBUG    Dropped 0 minor scaffolds                                                             allmaps.py:432\n",
      ">chr7 (linkage_map_1-7) FINAL\n",
      "scaffold_6- scaffold_38- scaffold_13+\n",
      "              DEBUG    Working on linkage_map_1-8 ...                                                       allmaps.py:1581\n",
      "              DEBUG    Graph size: |V|=9, |E|=56                                                             allmaps.py:285\n",
      "              DEBUG    TSP rescale: max_x=89, min_x=-10000, inf=20000, factor=100                                 tsp.py:48\n",
      "[01:47:27 PM] INFO     Objective: 10002900                                                                       tsp.py:113\n",
      "              INFO     Route distance: 1000400                                                                   tsp.py:121\n",
      "[01:47:28 PM] DEBUG    Start EC round 0                                                                      allmaps.py:195\n",
      "              DEBUG    GA setup: ngen=500 npop=100 cpus=16 seed=666                                               ec.py:177\n"
     ]
    },
    {
     "name": "stdout",
     "output_type": "stream",
     "text": [
      "Current iteration 20: max_score=(55.0,)\n",
      "Current iteration 40: max_score=(55.0,)\n",
      "Current iteration 60: max_score=(55.0,)\n",
      "Current iteration 80: max_score=(55.0,)\n",
      "Current iteration 100: max_score=(55.0,)\n",
      "Current iteration 120: max_score=(55.0,)\n",
      "Current iteration 140: max_score=(55.0,)\n",
      "Current iteration 160: max_score=(55.0,)\n",
      "Current iteration 180: max_score=(55.0,)\n",
      "Current iteration 200: max_score=(55.0,)\n",
      "Current iteration 220: max_score=(55.0,)\n",
      "Current iteration 240: max_score=(55.0,)\n",
      "Current iteration 260: max_score=(55.0,)\n",
      "Current iteration 280: max_score=(55.0,)\n",
      "Current iteration 300: max_score=(55.0,)\n",
      "Current iteration 320: max_score=(55.0,)\n",
      "Current iteration 340: max_score=(55.0,)\n",
      "Current iteration 360: max_score=(55.0,)\n",
      "Current iteration 380: max_score=(55.0,)\n",
      "Current iteration 400: max_score=(55.0,)\n",
      "Current iteration 420: max_score=(55.0,)\n",
      "Current iteration 440: max_score=(55.0,)\n",
      "Current iteration 460: max_score=(55.0,)\n",
      "Current iteration 480: max_score=(55.0,)\n",
      "Current iteration 500: max_score=(55.0,)\n"
     ]
    },
    {
     "name": "stderr",
     "output_type": "stream",
     "text": [
      "[01:47:29 PM] DEBUG    Fixed orientations for 0 scaffolds.                                                   allmaps.py:469\n",
      "              DEBUG    Current best fitness: (55.0,)                                                         allmaps.py:215\n",
      "              DEBUG    Start EC round 1                                                                      allmaps.py:195\n",
      "              DEBUG    GA setup: ngen=500 npop=100 cpus=16 seed=666                                               ec.py:177\n"
     ]
    },
    {
     "name": "stdout",
     "output_type": "stream",
     "text": [
      "Current iteration 20: max_score=(55.0,)\n",
      "Current iteration 40: max_score=(55.0,)\n",
      "Current iteration 60: max_score=(55.0,)\n",
      "Current iteration 80: max_score=(55.0,)\n",
      "Current iteration 100: max_score=(55.0,)\n",
      "Current iteration 120: max_score=(55.0,)\n",
      "Current iteration 140: max_score=(55.0,)\n",
      "Current iteration 160: max_score=(55.0,)\n",
      "Current iteration 180: max_score=(55.0,)\n",
      "Current iteration 200: max_score=(55.0,)\n",
      "Current iteration 220: max_score=(55.0,)\n",
      "Current iteration 240: max_score=(55.0,)\n",
      "Current iteration 260: max_score=(55.0,)\n",
      "Current iteration 280: max_score=(55.0,)\n",
      "Current iteration 300: max_score=(55.0,)\n",
      "Current iteration 320: max_score=(55.0,)\n",
      "Current iteration 340: max_score=(55.0,)\n",
      "Current iteration 360: max_score=(55.0,)\n",
      "Current iteration 380: max_score=(55.0,)\n",
      "Current iteration 400: max_score=(55.0,)\n",
      "Current iteration 420: max_score=(55.0,)\n",
      "Current iteration 440: max_score=(55.0,)\n",
      "Current iteration 460: max_score=(55.0,)\n",
      "Current iteration 480: max_score=(55.0,)\n",
      "Current iteration 500: max_score=(55.0,)\n"
     ]
    },
    {
     "name": "stderr",
     "output_type": "stream",
     "text": [
      "[01:47:31 PM] DEBUG    No fitness improvement: (55.0,). Exit EC.                                             allmaps.py:206\n",
      "              DEBUG    Dropped 4 minor scaffolds                                                             allmaps.py:432\n",
      ">chr8 (linkage_map_1-8) FINAL\n",
      "scaffold_16- scaffold_66? scaffold_8+\n",
      "              DEBUG    Working on linkage_map_1-9 ...                                                       allmaps.py:1581\n",
      "              DEBUG    Graph size: |V|=8, |E|=42                                                             allmaps.py:285\n",
      "              DEBUG    TSP rescale: max_x=85, min_x=-10000, inf=20000, factor=100                                 tsp.py:48\n",
      "[01:47:36 PM] INFO     Objective: 9004100                                                                        tsp.py:113\n",
      "              INFO     Route distance: 1000150                                                                   tsp.py:121\n",
      "              DEBUG    Start EC round 0                                                                      allmaps.py:195\n",
      "              DEBUG    GA setup: ngen=500 npop=100 cpus=16 seed=666                                               ec.py:177\n"
     ]
    },
    {
     "name": "stdout",
     "output_type": "stream",
     "text": [
      "Current iteration 20: max_score=(58.0,)\n",
      "Current iteration 40: max_score=(58.0,)\n",
      "Current iteration 60: max_score=(58.0,)\n",
      "Current iteration 80: max_score=(58.0,)\n",
      "Current iteration 100: max_score=(58.0,)\n",
      "Current iteration 120: max_score=(58.0,)\n",
      "Current iteration 140: max_score=(58.0,)\n",
      "Current iteration 160: max_score=(58.0,)\n",
      "Current iteration 180: max_score=(58.0,)\n",
      "Current iteration 200: max_score=(58.0,)\n",
      "Current iteration 220: max_score=(58.0,)\n",
      "Current iteration 240: max_score=(58.0,)\n",
      "Current iteration 260: max_score=(58.0,)\n",
      "Current iteration 280: max_score=(58.0,)\n",
      "Current iteration 300: max_score=(58.0,)\n",
      "Current iteration 320: max_score=(58.0,)\n",
      "Current iteration 340: max_score=(58.0,)\n",
      "Current iteration 360: max_score=(58.0,)\n",
      "Current iteration 380: max_score=(58.0,)\n",
      "Current iteration 400: max_score=(58.0,)\n",
      "Current iteration 420: max_score=(58.0,)\n",
      "Current iteration 440: max_score=(58.0,)\n",
      "Current iteration 460: max_score=(58.0,)\n",
      "Current iteration 480: max_score=(58.0,)\n",
      "Current iteration 500: max_score=(58.0,)\n"
     ]
    },
    {
     "name": "stderr",
     "output_type": "stream",
     "text": [
      "[01:47:37 PM] DEBUG    Fixed orientations for 0 scaffolds.                                                   allmaps.py:469\n",
      "              DEBUG    Current best fitness: (58.0,)                                                         allmaps.py:215\n",
      "              DEBUG    Start EC round 1                                                                      allmaps.py:195\n",
      "              DEBUG    GA setup: ngen=500 npop=100 cpus=16 seed=666                                               ec.py:177\n"
     ]
    },
    {
     "name": "stdout",
     "output_type": "stream",
     "text": [
      "Current iteration 20: max_score=(58.0,)\n",
      "Current iteration 40: max_score=(58.0,)\n",
      "Current iteration 60: max_score=(58.0,)\n",
      "Current iteration 80: max_score=(58.0,)\n",
      "Current iteration 100: max_score=(58.0,)\n",
      "Current iteration 120: max_score=(58.0,)\n",
      "Current iteration 140: max_score=(58.0,)\n",
      "Current iteration 160: max_score=(58.0,)\n",
      "Current iteration 180: max_score=(58.0,)\n",
      "Current iteration 200: max_score=(58.0,)\n",
      "Current iteration 220: max_score=(58.0,)\n",
      "Current iteration 240: max_score=(58.0,)\n",
      "Current iteration 260: max_score=(58.0,)\n",
      "Current iteration 280: max_score=(58.0,)\n",
      "Current iteration 300: max_score=(58.0,)\n",
      "Current iteration 320: max_score=(58.0,)\n",
      "Current iteration 340: max_score=(58.0,)\n",
      "Current iteration 360: max_score=(58.0,)\n",
      "Current iteration 380: max_score=(58.0,)\n",
      "Current iteration 400: max_score=(58.0,)\n",
      "Current iteration 420: max_score=(58.0,)\n",
      "Current iteration 440: max_score=(58.0,)\n",
      "Current iteration 460: max_score=(58.0,)\n",
      "Current iteration 480: max_score=(58.0,)\n",
      "Current iteration 500: max_score=(58.0,)\n"
     ]
    },
    {
     "name": "stderr",
     "output_type": "stream",
     "text": [
      "[01:47:39 PM] DEBUG    No fitness improvement: (58.0,). Exit EC.                                             allmaps.py:206\n",
      "              DEBUG    Dropped 2 minor scaffolds                                                             allmaps.py:432\n",
      ">chr9 (linkage_map_1-9) FINAL\n",
      "scaffold_10+ scaffold_27+ scaffold_33- scaffold_34-\n",
      "              DEBUG    Working on linkage_map_1-10 ...                                                      allmaps.py:1581\n",
      "              DEBUG    Graph size: |V|=7, |E|=30                                                             allmaps.py:285\n",
      "              DEBUG    TSP rescale: max_x=79, min_x=-10000, inf=20000, factor=100                                 tsp.py:48\n",
      "[01:47:44 PM] INFO     Objective: 8002650                                                                        tsp.py:113\n",
      "              INFO     Route distance: 1000000                                                                   tsp.py:121\n",
      "              DEBUG    Start EC round 0                                                                      allmaps.py:195\n",
      "              DEBUG    GA setup: ngen=500 npop=100 cpus=16 seed=666                                               ec.py:177\n"
     ]
    },
    {
     "name": "stdout",
     "output_type": "stream",
     "text": [
      "Current iteration 20: max_score=(37.0,)\n",
      "Current iteration 40: max_score=(37.0,)\n",
      "Current iteration 60: max_score=(37.0,)\n",
      "Current iteration 80: max_score=(37.0,)\n",
      "Current iteration 100: max_score=(37.0,)\n",
      "Current iteration 120: max_score=(37.0,)\n",
      "Current iteration 140: max_score=(37.0,)\n",
      "Current iteration 160: max_score=(37.0,)\n",
      "Current iteration 180: max_score=(37.0,)\n",
      "Current iteration 200: max_score=(37.0,)\n",
      "Current iteration 220: max_score=(37.0,)\n",
      "Current iteration 240: max_score=(37.0,)\n",
      "Current iteration 260: max_score=(37.0,)\n",
      "Current iteration 280: max_score=(37.0,)\n",
      "Current iteration 300: max_score=(37.0,)\n",
      "Current iteration 320: max_score=(37.0,)\n",
      "Current iteration 340: max_score=(37.0,)\n",
      "Current iteration 360: max_score=(37.0,)\n",
      "Current iteration 380: max_score=(37.0,)\n",
      "Current iteration 400: max_score=(37.0,)\n",
      "Current iteration 420: max_score=(37.0,)\n",
      "Current iteration 440: max_score=(37.0,)\n",
      "Current iteration 460: max_score=(37.0,)\n",
      "Current iteration 480: max_score=(37.0,)\n",
      "Current iteration 500: max_score=(37.0,)\n"
     ]
    },
    {
     "name": "stderr",
     "output_type": "stream",
     "text": [
      "[01:47:46 PM] DEBUG    Fixed orientations for 0 scaffolds.                                                   allmaps.py:469\n",
      "              DEBUG    Current best fitness: (37.0,)                                                         allmaps.py:215\n",
      "              DEBUG    Start EC round 1                                                                      allmaps.py:195\n",
      "              DEBUG    GA setup: ngen=500 npop=100 cpus=16 seed=666                                               ec.py:177\n"
     ]
    },
    {
     "name": "stdout",
     "output_type": "stream",
     "text": [
      "Current iteration 20: max_score=(37.0,)\n",
      "Current iteration 40: max_score=(37.0,)\n",
      "Current iteration 60: max_score=(37.0,)\n",
      "Current iteration 80: max_score=(37.0,)\n",
      "Current iteration 100: max_score=(37.0,)\n",
      "Current iteration 120: max_score=(37.0,)\n",
      "Current iteration 140: max_score=(37.0,)\n",
      "Current iteration 160: max_score=(37.0,)\n",
      "Current iteration 180: max_score=(37.0,)\n",
      "Current iteration 200: max_score=(37.0,)\n",
      "Current iteration 220: max_score=(37.0,)\n",
      "Current iteration 240: max_score=(37.0,)\n",
      "Current iteration 260: max_score=(37.0,)\n",
      "Current iteration 280: max_score=(37.0,)\n",
      "Current iteration 300: max_score=(37.0,)\n",
      "Current iteration 320: max_score=(37.0,)\n",
      "Current iteration 340: max_score=(37.0,)\n",
      "Current iteration 360: max_score=(37.0,)\n",
      "Current iteration 380: max_score=(37.0,)\n",
      "Current iteration 400: max_score=(37.0,)\n",
      "Current iteration 420: max_score=(37.0,)\n",
      "Current iteration 440: max_score=(37.0,)\n",
      "Current iteration 460: max_score=(37.0,)\n",
      "Current iteration 480: max_score=(37.0,)\n",
      "Current iteration 500: max_score=(37.0,)\n"
     ]
    },
    {
     "name": "stderr",
     "output_type": "stream",
     "text": [
      "[01:47:47 PM] DEBUG    No fitness improvement: (37.0,). Exit EC.                                             allmaps.py:206\n",
      "              DEBUG    Dropped 0 minor scaffolds                                                             allmaps.py:432\n",
      ">chr10 (linkage_map_1-10) FINAL\n",
      "scaffold_319? scaffold_11+ scaffold_53- scaffold_14- scaffold_29+\n",
      "              DEBUG    Working on linkage_map_1-11 ...                                                      allmaps.py:1581\n",
      "              DEBUG    Graph size: |V|=4, |E|=6                                                              allmaps.py:285\n",
      "              DEBUG    TSP rescale: max_x=48, min_x=-10000, inf=20000, factor=100                                 tsp.py:48\n",
      "[01:47:52 PM] INFO     Objective: 5003300                                                                        tsp.py:113\n",
      "              INFO     Route distance: 0                                                                         tsp.py:121\n",
      "              DEBUG    Start EC round 0                                                                      allmaps.py:195\n",
      "              DEBUG    GA setup: ngen=500 npop=100 cpus=16 seed=666                                               ec.py:177\n"
     ]
    },
    {
     "name": "stdout",
     "output_type": "stream",
     "text": [
      "Current iteration 20: max_score=(35.0,)\n",
      "Current iteration 40: max_score=(35.0,)\n",
      "Current iteration 60: max_score=(35.0,)\n",
      "Current iteration 80: max_score=(35.0,)\n",
      "Current iteration 100: max_score=(35.0,)\n",
      "Current iteration 120: max_score=(35.0,)\n",
      "Current iteration 140: max_score=(35.0,)\n",
      "Current iteration 160: max_score=(35.0,)\n",
      "Current iteration 180: max_score=(35.0,)\n",
      "Current iteration 200: max_score=(35.0,)\n",
      "Current iteration 220: max_score=(35.0,)\n",
      "Current iteration 240: max_score=(35.0,)\n",
      "Current iteration 260: max_score=(35.0,)\n",
      "Current iteration 280: max_score=(35.0,)\n",
      "Current iteration 300: max_score=(35.0,)\n",
      "Current iteration 320: max_score=(35.0,)\n",
      "Current iteration 340: max_score=(35.0,)\n",
      "Current iteration 360: max_score=(35.0,)\n",
      "Current iteration 380: max_score=(35.0,)\n",
      "Current iteration 400: max_score=(35.0,)\n",
      "Current iteration 420: max_score=(35.0,)\n",
      "Current iteration 440: max_score=(35.0,)\n",
      "Current iteration 460: max_score=(35.0,)\n",
      "Current iteration 480: max_score=(35.0,)\n",
      "Current iteration 500: max_score=(35.0,)\n"
     ]
    },
    {
     "name": "stderr",
     "output_type": "stream",
     "text": [
      "[01:47:54 PM] DEBUG    Fixed orientations for 0 scaffolds.                                                   allmaps.py:469\n",
      "              DEBUG    Current best fitness: (35.0,)                                                         allmaps.py:215\n",
      "              DEBUG    Start EC round 1                                                                      allmaps.py:195\n",
      "              DEBUG    GA setup: ngen=500 npop=100 cpus=16 seed=666                                               ec.py:177\n"
     ]
    },
    {
     "name": "stdout",
     "output_type": "stream",
     "text": [
      "Current iteration 20: max_score=(35.0,)\n",
      "Current iteration 40: max_score=(35.0,)\n",
      "Current iteration 60: max_score=(35.0,)\n",
      "Current iteration 80: max_score=(35.0,)\n",
      "Current iteration 100: max_score=(35.0,)\n",
      "Current iteration 120: max_score=(35.0,)\n",
      "Current iteration 140: max_score=(35.0,)\n",
      "Current iteration 160: max_score=(35.0,)\n",
      "Current iteration 180: max_score=(35.0,)\n",
      "Current iteration 200: max_score=(35.0,)\n",
      "Current iteration 220: max_score=(35.0,)\n",
      "Current iteration 240: max_score=(35.0,)\n",
      "Current iteration 260: max_score=(35.0,)\n",
      "Current iteration 280: max_score=(35.0,)\n",
      "Current iteration 300: max_score=(35.0,)\n",
      "Current iteration 320: max_score=(35.0,)\n",
      "Current iteration 340: max_score=(35.0,)\n",
      "Current iteration 360: max_score=(35.0,)\n",
      "Current iteration 380: max_score=(35.0,)\n",
      "Current iteration 400: max_score=(35.0,)\n",
      "Current iteration 420: max_score=(35.0,)\n",
      "Current iteration 440: max_score=(35.0,)\n",
      "Current iteration 460: max_score=(35.0,)\n",
      "Current iteration 480: max_score=(35.0,)\n",
      "Current iteration 500: max_score=(35.0,)\n"
     ]
    },
    {
     "name": "stderr",
     "output_type": "stream",
     "text": [
      "[01:47:55 PM] DEBUG    No fitness improvement: (35.0,). Exit EC.                                             allmaps.py:206\n",
      "              DEBUG    Dropped 0 minor scaffolds                                                             allmaps.py:432\n",
      ">chr11 (linkage_map_1-11) FINAL\n",
      "scaffold_15+ scaffold_19-\n",
      "              DEBUG    Working on linkage_map_1-12 ...                                                      allmaps.py:1581\n",
      "              DEBUG    Graph size: |V|=12, |E|=110                                                           allmaps.py:285\n",
      "              DEBUG    TSP rescale: max_x=54, min_x=-10000, inf=20000, factor=100                                 tsp.py:48\n",
      "[01:48:00 PM] INFO     Objective: 13003550                                                                       tsp.py:113\n",
      "              INFO     Route distance: 1000100                                                                   tsp.py:121\n",
      "              DEBUG    Start EC round 0                                                                      allmaps.py:195\n",
      "              DEBUG    GA setup: ngen=500 npop=100 cpus=16 seed=666                                               ec.py:177\n"
     ]
    },
    {
     "name": "stdout",
     "output_type": "stream",
     "text": [
      "Current iteration 20: max_score=(46.0,)\n",
      "Current iteration 40: max_score=(46.0,)\n",
      "Current iteration 60: max_score=(46.0,)\n",
      "Current iteration 80: max_score=(46.0,)\n",
      "Current iteration 100: max_score=(46.0,)\n",
      "Current iteration 120: max_score=(46.0,)\n",
      "Current iteration 140: max_score=(46.0,)\n",
      "Current iteration 160: max_score=(46.0,)\n",
      "Current iteration 180: max_score=(46.0,)\n",
      "Current iteration 200: max_score=(46.0,)\n",
      "Current iteration 220: max_score=(46.0,)\n",
      "Current iteration 240: max_score=(46.0,)\n",
      "Current iteration 260: max_score=(46.0,)\n",
      "Current iteration 280: max_score=(46.0,)\n",
      "Current iteration 300: max_score=(46.0,)\n",
      "Current iteration 320: max_score=(46.0,)\n",
      "Current iteration 340: max_score=(46.0,)\n",
      "Current iteration 360: max_score=(46.0,)\n",
      "Current iteration 380: max_score=(46.0,)\n",
      "Current iteration 400: max_score=(46.0,)\n",
      "Current iteration 420: max_score=(46.0,)\n",
      "Current iteration 440: max_score=(46.0,)\n",
      "Current iteration 460: max_score=(46.0,)\n",
      "Current iteration 480: max_score=(46.0,)\n",
      "Current iteration 500: max_score=(46.0,)\n"
     ]
    },
    {
     "name": "stderr",
     "output_type": "stream",
     "text": [
      "[01:48:01 PM] DEBUG    Fixed orientations for 0 scaffolds.                                                   allmaps.py:469\n",
      "              DEBUG    Current best fitness: (46.0,)                                                         allmaps.py:215\n",
      "              DEBUG    Start EC round 1                                                                      allmaps.py:195\n",
      "              DEBUG    GA setup: ngen=500 npop=100 cpus=16 seed=666                                               ec.py:177\n"
     ]
    },
    {
     "name": "stdout",
     "output_type": "stream",
     "text": [
      "Current iteration 20: max_score=(46.0,)\n",
      "Current iteration 40: max_score=(46.0,)\n",
      "Current iteration 60: max_score=(46.0,)\n",
      "Current iteration 80: max_score=(46.0,)\n",
      "Current iteration 100: max_score=(46.0,)\n",
      "Current iteration 120: max_score=(46.0,)\n",
      "Current iteration 140: max_score=(46.0,)\n",
      "Current iteration 160: max_score=(46.0,)\n",
      "Current iteration 180: max_score=(46.0,)\n",
      "Current iteration 200: max_score=(46.0,)\n",
      "Current iteration 220: max_score=(46.0,)\n",
      "Current iteration 240: max_score=(46.0,)\n",
      "Current iteration 260: max_score=(46.0,)\n",
      "Current iteration 280: max_score=(46.0,)\n",
      "Current iteration 300: max_score=(46.0,)\n",
      "Current iteration 320: max_score=(46.0,)\n",
      "Current iteration 340: max_score=(46.0,)\n",
      "Current iteration 360: max_score=(46.0,)\n",
      "Current iteration 380: max_score=(46.0,)\n",
      "Current iteration 400: max_score=(46.0,)\n",
      "Current iteration 420: max_score=(46.0,)\n",
      "Current iteration 440: max_score=(46.0,)\n",
      "Current iteration 460: max_score=(46.0,)\n",
      "Current iteration 480: max_score=(46.0,)\n",
      "Current iteration 500: max_score=(46.0,)\n"
     ]
    },
    {
     "name": "stderr",
     "output_type": "stream",
     "text": [
      "[01:48:03 PM] DEBUG    No fitness improvement: (46.0,). Exit EC.                                             allmaps.py:206\n",
      "              DEBUG    Dropped 0 minor scaffolds                                                             allmaps.py:432\n",
      ">chr12 (linkage_map_1-12) FINAL\n",
      "scaffold_17+ scaffold_143? scaffold_65+ scaffold_162? scaffold_48? scaffold_144? scaffold_62+ scaffold_43- scaffold_75- scaffold_31+\n",
      "              DEBUG    Working on linkage_map_1-13 ...                                                      allmaps.py:1581\n",
      "              DEBUG    Graph size: |V|=15, |E|=182                                                           allmaps.py:285\n",
      "              DEBUG    TSP rescale: max_x=112, min_x=-10000, inf=20000, factor=100                                tsp.py:48\n",
      "[01:48:08 PM] INFO     Objective: 16003400                                                                       tsp.py:113\n",
      "              INFO     Route distance: 1000150                                                                   tsp.py:121\n",
      "              DEBUG    Start EC round 0                                                                      allmaps.py:195\n",
      "              DEBUG    GA setup: ngen=500 npop=100 cpus=16 seed=666                                               ec.py:177\n"
     ]
    },
    {
     "name": "stdout",
     "output_type": "stream",
     "text": [
      "Current iteration 20: max_score=(62.0,)\n",
      "Current iteration 40: max_score=(62.0,)\n",
      "Current iteration 60: max_score=(62.0,)\n",
      "Current iteration 80: max_score=(62.0,)\n",
      "Current iteration 100: max_score=(62.0,)\n",
      "Current iteration 120: max_score=(62.0,)\n",
      "Current iteration 140: max_score=(62.0,)\n",
      "Current iteration 160: max_score=(62.0,)\n",
      "Current iteration 180: max_score=(62.0,)\n",
      "Current iteration 200: max_score=(62.0,)\n",
      "Current iteration 220: max_score=(62.0,)\n",
      "Current iteration 240: max_score=(62.0,)\n",
      "Current iteration 260: max_score=(62.0,)\n",
      "Current iteration 280: max_score=(62.0,)\n",
      "Current iteration 300: max_score=(62.0,)\n",
      "Current iteration 320: max_score=(62.0,)\n",
      "Current iteration 340: max_score=(62.0,)\n",
      "Current iteration 360: max_score=(62.0,)\n",
      "Current iteration 380: max_score=(62.0,)\n",
      "Current iteration 400: max_score=(62.0,)\n",
      "Current iteration 420: max_score=(62.0,)\n",
      "Current iteration 440: max_score=(62.0,)\n",
      "Current iteration 460: max_score=(62.0,)\n",
      "Current iteration 480: max_score=(62.0,)\n",
      "Current iteration 500: max_score=(62.0,)\n"
     ]
    },
    {
     "name": "stderr",
     "output_type": "stream",
     "text": [
      "[01:48:10 PM] DEBUG    Fixed orientations for 0 scaffolds.                                                   allmaps.py:469\n",
      "              DEBUG    Current best fitness: (62.0,)                                                         allmaps.py:215\n",
      "              DEBUG    Start EC round 1                                                                      allmaps.py:195\n",
      "              DEBUG    GA setup: ngen=500 npop=100 cpus=16 seed=666                                               ec.py:177\n"
     ]
    },
    {
     "name": "stdout",
     "output_type": "stream",
     "text": [
      "Current iteration 20: max_score=(62.0,)\n",
      "Current iteration 40: max_score=(62.0,)\n",
      "Current iteration 60: max_score=(62.0,)\n",
      "Current iteration 80: max_score=(62.0,)\n",
      "Current iteration 100: max_score=(62.0,)\n",
      "Current iteration 120: max_score=(62.0,)\n",
      "Current iteration 140: max_score=(62.0,)\n",
      "Current iteration 160: max_score=(62.0,)\n",
      "Current iteration 180: max_score=(62.0,)\n",
      "Current iteration 200: max_score=(62.0,)\n",
      "Current iteration 220: max_score=(62.0,)\n",
      "Current iteration 240: max_score=(62.0,)\n",
      "Current iteration 260: max_score=(62.0,)\n",
      "Current iteration 280: max_score=(62.0,)\n",
      "Current iteration 300: max_score=(62.0,)\n",
      "Current iteration 320: max_score=(62.0,)\n",
      "Current iteration 340: max_score=(62.0,)\n",
      "Current iteration 360: max_score=(62.0,)\n",
      "Current iteration 380: max_score=(62.0,)\n",
      "Current iteration 400: max_score=(62.0,)\n",
      "Current iteration 420: max_score=(62.0,)\n",
      "Current iteration 440: max_score=(62.0,)\n",
      "Current iteration 460: max_score=(62.0,)\n",
      "Current iteration 480: max_score=(62.0,)\n",
      "Current iteration 500: max_score=(62.0,)\n"
     ]
    },
    {
     "name": "stderr",
     "output_type": "stream",
     "text": [
      "[01:48:11 PM] DEBUG    No fitness improvement: (62.0,). Exit EC.                                             allmaps.py:206\n",
      "              DEBUG    Dropped 0 minor scaffolds                                                             allmaps.py:432\n",
      ">chr13 (linkage_map_1-13) FINAL\n",
      "scaffold_36+ scaffold_39+ scaffold_28- scaffold_76? scaffold_54? scaffold_173? scaffold_85- scaffold_22- scaffold_164+ scaffold_64+ scaffold_50? scaffold_25- scaffold_168?\n",
      "              DEBUG    Working on linkage_map_1-14 ...                                                      allmaps.py:1581\n",
      "              DEBUG    Graph size: |V|=6, |E|=20                                                             allmaps.py:285\n",
      "              DEBUG    TSP rescale: max_x=43, min_x=-10000, inf=20000, factor=100                                 tsp.py:48\n",
      "[01:48:16 PM] INFO     Objective: 7001900                                                                        tsp.py:113\n",
      "              INFO     Route distance: 1000150                                                                   tsp.py:121\n",
      "              DEBUG    Start EC round 0                                                                      allmaps.py:195\n",
      "              DEBUG    GA setup: ngen=500 npop=100 cpus=16 seed=666                                               ec.py:177\n"
     ]
    },
    {
     "name": "stdout",
     "output_type": "stream",
     "text": [
      "Current iteration 20: max_score=(33.0,)\n",
      "Current iteration 40: max_score=(33.0,)\n",
      "Current iteration 60: max_score=(33.0,)\n",
      "Current iteration 80: max_score=(33.0,)\n",
      "Current iteration 100: max_score=(33.0,)\n",
      "Current iteration 120: max_score=(33.0,)\n",
      "Current iteration 140: max_score=(33.0,)\n",
      "Current iteration 160: max_score=(33.0,)\n",
      "Current iteration 180: max_score=(33.0,)\n",
      "Current iteration 200: max_score=(33.0,)\n",
      "Current iteration 220: max_score=(33.0,)\n",
      "Current iteration 240: max_score=(33.0,)\n",
      "Current iteration 260: max_score=(33.0,)\n",
      "Current iteration 280: max_score=(33.0,)\n",
      "Current iteration 300: max_score=(33.0,)\n",
      "Current iteration 320: max_score=(33.0,)\n",
      "Current iteration 340: max_score=(33.0,)\n",
      "Current iteration 360: max_score=(33.0,)\n",
      "Current iteration 380: max_score=(33.0,)\n",
      "Current iteration 400: max_score=(33.0,)\n",
      "Current iteration 420: max_score=(33.0,)\n",
      "Current iteration 440: max_score=(33.0,)\n",
      "Current iteration 460: max_score=(33.0,)\n",
      "Current iteration 480: max_score=(33.0,)\n",
      "Current iteration 500: max_score=(33.0,)\n"
     ]
    },
    {
     "name": "stderr",
     "output_type": "stream",
     "text": [
      "[01:48:18 PM] DEBUG    Fixed orientations for 0 scaffolds.                                                   allmaps.py:469\n",
      "              DEBUG    Current best fitness: (33.0,)                                                         allmaps.py:215\n",
      "              DEBUG    Start EC round 1                                                                      allmaps.py:195\n",
      "              DEBUG    GA setup: ngen=500 npop=100 cpus=16 seed=666                                               ec.py:177\n"
     ]
    },
    {
     "name": "stdout",
     "output_type": "stream",
     "text": [
      "Current iteration 20: max_score=(33.0,)\n",
      "Current iteration 40: max_score=(33.0,)\n",
      "Current iteration 60: max_score=(33.0,)\n",
      "Current iteration 80: max_score=(33.0,)\n",
      "Current iteration 100: max_score=(33.0,)\n",
      "Current iteration 120: max_score=(33.0,)\n",
      "Current iteration 140: max_score=(33.0,)\n",
      "Current iteration 160: max_score=(33.0,)\n",
      "Current iteration 180: max_score=(33.0,)\n",
      "Current iteration 200: max_score=(33.0,)\n",
      "Current iteration 220: max_score=(33.0,)\n",
      "Current iteration 240: max_score=(33.0,)\n",
      "Current iteration 260: max_score=(33.0,)\n",
      "Current iteration 280: max_score=(33.0,)\n",
      "Current iteration 300: max_score=(33.0,)\n",
      "Current iteration 320: max_score=(33.0,)\n",
      "Current iteration 340: max_score=(33.0,)\n",
      "Current iteration 360: max_score=(33.0,)\n",
      "Current iteration 380: max_score=(33.0,)\n",
      "Current iteration 400: max_score=(33.0,)\n",
      "Current iteration 420: max_score=(33.0,)\n",
      "Current iteration 440: max_score=(33.0,)\n",
      "Current iteration 460: max_score=(33.0,)\n",
      "Current iteration 480: max_score=(33.0,)\n",
      "Current iteration 500: max_score=(33.0,)\n"
     ]
    },
    {
     "name": "stderr",
     "output_type": "stream",
     "text": [
      "[01:48:19 PM] DEBUG    No fitness improvement: (33.0,). Exit EC.                                             allmaps.py:206\n",
      "              DEBUG    Dropped 0 minor scaffolds                                                             allmaps.py:432\n",
      ">chr14 (linkage_map_1-14) FINAL\n",
      "scaffold_21+ scaffold_37- scaffold_26+ scaffold_30+\n",
      "              DEBUG    chr3: 26896549 => chr1                                                               allmaps.py:1612\n",
      "              DEBUG    chr1: 26287819 => chr2                                                               allmaps.py:1612\n",
      "              DEBUG    chr13: 22004312 => chr3                                                              allmaps.py:1612\n",
      "              DEBUG    chr7: 20360889 => chr4                                                               allmaps.py:1612\n",
      "              DEBUG    chr4: 19851497 => chr5                                                               allmaps.py:1612\n",
      "              DEBUG    chr6: 19608119 => chr6                                                               allmaps.py:1612\n",
      "              DEBUG    chr5: 19555099 => chr7                                                               allmaps.py:1612\n",
      "              DEBUG    chr10: 19289119 => chr8                                                              allmaps.py:1612\n",
      "              DEBUG    chr9: 19174153 => chr9                                                               allmaps.py:1612\n",
      "              DEBUG    chr14: 17129954 => chr10                                                             allmaps.py:1612\n",
      "              DEBUG    chr8: 16918660 => chr11                                                              allmaps.py:1612\n",
      "              DEBUG    chr2: 14214934 => chr12                                                              allmaps.py:1612\n",
      "              DEBUG    chr12: 13720057 => chr13                                                             allmaps.py:1612\n",
      "              DEBUG    chr11: 13702690 => chr14                                                             allmaps.py:1612\n",
      "              DEBUG    AGP file written to `linkage_merged.chr.agp`.                                        allmaps.py:1628\n",
      "              DEBUG    Tour file written to `linkage_merged.tour`.                                          allmaps.py:1629\n",
      "              DEBUG    Load file `linkage_merged.chr.agp`                                                        base.py:33\n",
      "              DEBUG    Load file `sorted.fa`                                                                     base.py:33\n",
      "[01:48:20 PM] DEBUG    Write object chr1 to `linkage_merged.chr.fasta`                                           agp.py:516\n",
      "              DEBUG    Write object chr2 to `linkage_merged.chr.fasta`                                           agp.py:516\n",
      "[01:48:21 PM] DEBUG    Write object chr3 to `linkage_merged.chr.fasta`                                           agp.py:516\n",
      "              DEBUG    Write object chr4 to `linkage_merged.chr.fasta`                                           agp.py:516\n",
      "              DEBUG    Write object chr5 to `linkage_merged.chr.fasta`                                           agp.py:516\n",
      "              DEBUG    Write object chr6 to `linkage_merged.chr.fasta`                                           agp.py:516\n",
      "              DEBUG    Write object chr7 to `linkage_merged.chr.fasta`                                           agp.py:516\n",
      "              DEBUG    Write object chr8 to `linkage_merged.chr.fasta`                                           agp.py:516\n",
      "              DEBUG    Write object chr9 to `linkage_merged.chr.fasta`                                           agp.py:516\n",
      "              DEBUG    Write object chr10 to `linkage_merged.chr.fasta`                                          agp.py:516\n",
      "              DEBUG    Write object chr11 to `linkage_merged.chr.fasta`                                          agp.py:516\n",
      "              DEBUG    Write object chr12 to `linkage_merged.chr.fasta`                                          agp.py:516\n",
      "[01:48:22 PM] DEBUG    Write object chr13 to `linkage_merged.chr.fasta`                                          agp.py:516\n",
      "              DEBUG    Write object chr14 to `linkage_merged.chr.fasta`                                          agp.py:516\n",
      "              DEBUG    Target fasta written to `linkage_merged.chr.fasta`.                                      agp.py:2132\n",
      "              DEBUG    Load file `linkage_merged.chr.agp`                                                        base.py:33\n",
      "              DEBUG    Load file `sorted.fa.sizes`                                                               base.py:33\n",
      "              DEBUG    Write unplaced AGP to `linkage_merged.unplaced.agp`                                  allmaps.py:1657\n",
      "              DEBUG    Load file `linkage_merged.unplaced.agp`                                                   base.py:33\n",
      "              DEBUG    Load file `sorted.fa`                                                                     base.py:33\n",
      "[01:48:23 PM] DEBUG    Write object scaffold_40 to `linkage_merged.unplaced.fasta`                               agp.py:516\n",
      "              DEBUG    Write object scaffold_41 to `linkage_merged.unplaced.fasta`                               agp.py:516\n",
      "              DEBUG    Write object scaffold_44 to `linkage_merged.unplaced.fasta`                               agp.py:516\n",
      "              DEBUG    Write object scaffold_46 to `linkage_merged.unplaced.fasta`                               agp.py:516\n",
      "              DEBUG    Target fasta written to `linkage_merged.unplaced.fasta`.                                 agp.py:2132\n",
      "              DEBUG    cat linkage_merged.chr.agp linkage_merged.unplaced.agp >linkage_merged.agp              base.py:1185\n",
      "              DEBUG    cat linkage_merged.chr.fasta linkage_merged.unplaced.fasta >linkage_merged.fasta        base.py:1185\n",
      "[01:48:24 PM] DEBUG    Load file `linkage_merged.agp`                                                            base.py:33\n",
      "              DEBUG    Load file `sorted.fa.sizes`                                                               base.py:33\n",
      "              DEBUG    Load file `/storage/group/ibb3/default/darpa/linkage_scaff/linkage_merged.fasta`          base.py:33\n",
      "[01:48:27 PM] DEBUG    Load file `linkage_merged.fasta.sizes`                                                    base.py:33\n",
      "              DEBUG    File written to `linkage_merged.chain`.                                                 chain.py:204\n",
      "              DEBUG    liftOver -minMatch=1 linkage_merged.bed linkage_merged.chain linkage_merged.lifted.bed  base.py:1185\n",
      "                       unmapped                                                                                            \n",
      "Reading liftover chains\n",
      "Mapping coordinates\n",
      "              DEBUG    sort -k1,1 -k2,2n -k3,3n -k4,4 linkage_merged.lifted.bed -o linkage_merged.lifted.bed   base.py:1185\n",
      "              DEBUG    Load file `linkage_merged.bed`                                                            base.py:33\n",
      "              DEBUG    Map contains 1292 markers in 14 linkage groups.                                       allmaps.py:546\n",
      "              DEBUG    Load file `sorted.fa.sizes`                                                               base.py:33\n",
      "              DEBUG    Load file `linkage_merged.chr.agp`                                                        base.py:33\n"
     ]
    }
   ],
   "source": [
    "%%bash\n",
    "source ~/.bashrc\n",
    "conda activate allmaps\n",
    "cd /storage/group/ibb3/default/darpa/linkage_scaff/\n",
    "python -m jcvi.assembly.allmaps path --renumber --noplot --notex --renumber linkage_merged.bed \\\n",
    "    sorted.fa"
   ]
  },
  {
   "cell_type": "code",
   "execution_count": 69,
   "id": "6f14649d",
   "metadata": {},
   "outputs": [
    {
     "name": "stdout",
     "output_type": "stream",
     "text": [
      "ERROR: This cross-compiler package contains no program /storage/group/ibb3/default/.conda/envs/ipyrad/bin/x86_64-conda_cos6-linux-gnu-cc\n",
      "ERROR: activate-gcc_linux-64.sh failed, see above for details\n",
      "A\tC\tG\tT\tN\tIUPAC\tOther\tGC\tGC_stdev\n",
      "0.3049\t0.1949\t0.1948\t0.3054\t0.0014\t0.0000\t0.0000\t0.3897\t0.0219\n",
      "\n",
      "Main genome scaffold total:         \t406\n",
      "Main genome contig total:           \t2347\n",
      "Main genome scaffold sequence total:\t287.592 MB\n",
      "Main genome contig sequence total:  \t287.197 MB  \t0.138% gap\n",
      "Main genome scaffold N/L50:         \t7/18.664 MB\n",
      "Main genome contig N/L50:           \t381/232.039 KB\n",
      "Main genome scaffold N/L90:         \t14/13.634 MB\n",
      "Main genome contig N/L90:           \t1289/60.422 KB\n",
      "Max scaffold length:                \t27.047 MB\n",
      "Max contig length:                  \t1.06 MB\n",
      "Number of scaffolds > 50 KB:        \t123\n",
      "% main genome in scaffolds > 50 KB: \t97.92%\n",
      "\n",
      "\n",
      "Minimum \tNumber        \tNumber        \tTotal         \tTotal         \tScaffold\n",
      "Scaffold\tof            \tof            \tScaffold      \tContig        \tContig  \n",
      "Length  \tScaffolds     \tContigs       \tLength        \tLength        \tCoverage\n",
      "--------\t--------------\t--------------\t--------------\t--------------\t--------\n",
      "    All \t           406\t         2,347\t   287,592,185\t   287,196,677\t  99.86%\n",
      "    500 \t           406\t         2,347\t   287,592,185\t   287,196,677\t  99.86%\n",
      "   1 KB \t           403\t         2,341\t   287,590,276\t   287,195,068\t  99.86%\n",
      " 2.5 KB \t           402\t         2,339\t   287,587,980\t   287,192,872\t  99.86%\n",
      "   5 KB \t           402\t         2,339\t   287,587,980\t   287,192,872\t  99.86%\n",
      "  10 KB \t           393\t         2,327\t   287,512,892\t   287,118,084\t  99.86%\n",
      "  25 KB \t           211\t         2,135\t   284,786,913\t   284,395,005\t  99.86%\n",
      "  50 KB \t           133\t         2,042\t   282,113,324\t   281,730,516\t  99.86%\n",
      " 100 KB \t            64\t         1,924\t   277,428,713\t   277,073,605\t  99.87%\n",
      " 250 KB \t            29\t         1,835\t   272,497,154\t   272,164,546\t  99.88%\n",
      " 500 KB \t            17\t         1,793\t   268,332,965\t   268,020,457\t  99.88%\n",
      "   1 MB \t            15\t         1,777\t   267,116,717\t   266,815,109\t  99.89%\n",
      " 2.5 MB \t            14\t         1,776\t   266,109,977\t   265,808,369\t  99.89%\n",
      "   5 MB \t            14\t         1,776\t   266,109,977\t   265,808,369\t  99.89%\n",
      "  10 MB \t            14\t         1,776\t   266,109,977\t   265,808,369\t  99.89%\n",
      "  25 MB \t             2\t           341\t    52,971,364\t    52,916,562\t  99.90%\n",
      "\n"
     ]
    }
   ],
   "source": [
    "%%bash\n",
    "source ~/.bashrc\n",
    "conda activate ipyrad\n",
    "stats.sh -Xmx4g /storage/group/ibb3/default/AP_AC_genome_seqs/dovetail_Apalm/HiC_improvement/Apalm_assembly_v3.1_200911.masked.fasta"
   ]
  },
  {
   "cell_type": "code",
   "execution_count": 66,
   "id": "4b9a2ad5",
   "metadata": {},
   "outputs": [
    {
     "name": "stdout",
     "output_type": "stream",
     "text": [
      "ERROR: This cross-compiler package contains no program /storage/group/ibb3/default/.conda/envs/ipyrad/bin/x86_64-conda_cos6-linux-gnu-cc\n",
      "ERROR: activate-gcc_linux-64.sh failed, see above for details\n",
      "A\tC\tG\tT\tN\tIUPAC\tOther\tGC\tGC_stdev\n",
      "0.3050\t0.1949\t0.1951\t0.3050\t0.0007\t0.0000\t0.0000\t0.3900\t0.0211\n",
      "\n",
      "Main genome scaffold total:         \t383\n",
      "Main genome contig total:           \t2366\n",
      "Main genome scaffold sequence total:\t304.258 MB\n",
      "Main genome contig sequence total:  \t304.060 MB  \t0.065% gap\n",
      "Main genome scaffold N/L50:         \t7/19.555 MB\n",
      "Main genome contig N/L50:           \t400/230.835 KB\n",
      "Main genome scaffold N/L90:         \t19/920.928 KB\n",
      "Main genome contig N/L90:           \t1366/62.198 KB\n",
      "Max scaffold length:                \t26.897 MB\n",
      "Max contig length:                  \t1.429 MB\n",
      "Number of scaffolds > 50 KB:        \t197\n",
      "% main genome in scaffolds > 50 KB: \t98.48%\n",
      "\n",
      "\n",
      "Minimum \tNumber        \tNumber        \tTotal         \tTotal         \tScaffold\n",
      "Scaffold\tof            \tof            \tScaffold      \tContig        \tContig  \n",
      "Length  \tScaffolds     \tContigs       \tLength        \tLength        \tCoverage\n",
      "--------\t--------------\t--------------\t--------------\t--------------\t--------\n",
      "    All \t           383\t         2,366\t   304,257,872\t   304,059,564\t  99.93%\n",
      "    500 \t           383\t         2,366\t   304,257,872\t   304,059,564\t  99.93%\n",
      "   1 KB \t           380\t         2,360\t   304,255,963\t   304,057,955\t  99.93%\n",
      " 2.5 KB \t           379\t         2,358\t   304,253,667\t   304,055,759\t  99.93%\n",
      "   5 KB \t           379\t         2,358\t   304,253,667\t   304,055,759\t  99.93%\n",
      "  10 KB \t           372\t         2,348\t   304,196,795\t   303,999,187\t  99.94%\n",
      "  25 KB \t           275\t         2,249\t   302,400,978\t   302,203,570\t  99.93%\n",
      "  50 KB \t           197\t         2,160\t   299,622,490\t   299,426,182\t  99.93%\n",
      " 100 KB \t           115\t         2,026\t   293,684,063\t   293,492,955\t  99.93%\n",
      " 250 KB \t            35\t         1,853\t   281,264,915\t   281,083,107\t  99.94%\n",
      " 500 KB \t            23\t         1,819\t   277,141,359\t   276,961,751\t  99.94%\n",
      "   1 MB \t            18\t         1,789\t   273,574,462\t   273,397,354\t  99.94%\n",
      " 2.5 MB \t            14\t         1,775\t   268,713,851\t   268,537,743\t  99.93%\n",
      "   5 MB \t            14\t         1,775\t   268,713,851\t   268,537,743\t  99.93%\n",
      "  10 MB \t            14\t         1,775\t   268,713,851\t   268,537,743\t  99.93%\n",
      "  25 MB \t             2\t           341\t    53,184,368\t    53,150,466\t  99.94%\n",
      "\n"
     ]
    }
   ],
   "source": [
    "%%bash\n",
    "source ~/.bashrc\n",
    "conda activate ipyrad\n",
    "stats.sh /storage/group/ibb3/default/darpa/linkage_scaff/linkage_merged.fasta"
   ]
  },
  {
   "cell_type": "code",
   "execution_count": 65,
   "id": "ed1e6ce2",
   "metadata": {},
   "outputs": [
    {
     "name": "stdout",
     "output_type": "stream",
     "text": [
      "*** Summary for each individual map ***\r\n",
      "=================================================\r\n",
      "                         o          linkage_map_1\r\n",
      "-------------------------------------------------\r\n",
      "            Linkage Groups                     14\r\n",
      "          Markers (unique)                  1,292\r\n",
      "            Markers per Mb                    4.7\r\n",
      "             N50 Scaffolds                     16\r\n",
      "                 Scaffolds                     85\r\n",
      "   Scaffolds with 1 marker                     29\r\n",
      "  Scaffolds with 2 markers                      5\r\n",
      "  Scaffolds with 3 markers                      5\r\n",
      "Scaffolds with >=4 markers                     46\r\n",
      "               Total bases    272,951,027 (89.7%)\r\n",
      "-------------------------------------------------\r\n",
      "*** Summary for consensus map ***\r\n",
      "==============================================================================================\r\n",
      "                         o               Anchored               Oriented              Unplaced\r\n",
      "----------------------------------------------------------------------------------------------\r\n",
      "          Markers (unique)                  1,276                  1,254                    16\r\n",
      "            Markers per Mb                    4.7                    4.8                   0.5\r\n",
      "             N50 Scaffolds                     16                     16                     0\r\n",
      "                 Scaffolds                     72                     53                   369\r\n",
      "   Scaffolds with 1 marker                     18                      0                    11\r\n",
      "  Scaffolds with 2 markers                      4                      4                     1\r\n",
      "  Scaffolds with 3 markers                      4                      4                     1\r\n",
      "Scaffolds with >=4 markers                     46                     45                     0\r\n",
      "               Total bases    268,708,051 (88.3%)    263,698,082 (86.7%)    35,544,021 (11.7%)\r\n",
      "----------------------------------------------------------------------------------------------\r\n"
     ]
    }
   ],
   "source": [
    "!cat /storage/group/ibb3/default/darpa/linkage_scaff/linkage_merged.summary.txt"
   ]
  },
  {
   "cell_type": "code",
   "execution_count": 70,
   "id": "d6df3d4d",
   "metadata": {},
   "outputs": [],
   "source": [
    "import pandas as pd\n",
    "import numpy as np\n",
    "import seaborn as sns\n",
    "import matplotlib.pyplot as plt"
   ]
  },
  {
   "cell_type": "code",
   "execution_count": 71,
   "id": "28727c4c",
   "metadata": {},
   "outputs": [],
   "source": [
    "%%bash\n",
    "cd /storage/group/ibb3/default/darpa/linkage_scaff/\n",
    "echo -e \"chromosome\\tphysical position\\tgenetic position\" > mareymap.csv\n",
    "paste <( cut -f1,2 ./linkage_merged.lifted.bed ) \\\n",
    "    <( cut -f4 ./linkage_merged.lifted.bed | cut -d\":\" -f2 ) \\\n",
    "        >> mareymap.csv"
   ]
  },
  {
   "cell_type": "code",
   "execution_count": 72,
   "id": "2a53c94b",
   "metadata": {},
   "outputs": [],
   "source": [
    "marey = pd.read_csv(\"/storage/group/ibb3/default/darpa/linkage_scaff/mareymap.csv\", \n",
    "                    sep = \"\\t\")"
   ]
  },
  {
   "cell_type": "code",
   "execution_count": 73,
   "id": "7736c665",
   "metadata": {},
   "outputs": [],
   "source": [
    "marey = marey.sort_values([\"chromosome\", \"physical position\"]).reset_index(drop=True)"
   ]
  },
  {
   "cell_type": "code",
   "execution_count": 74,
   "id": "f5fa216e",
   "metadata": {},
   "outputs": [
    {
     "data": {
      "image/png": "[encoded data removed]",
      "text/plain": [
       "<Figure size 640x480 with 1 Axes>"
      ]
     },
     "metadata": {},
     "output_type": "display_data"
    },
    {
     "data": {
      "image/png": "[encoded data removed]",
      "text/plain": [
       "<Figure size 640x480 with 1 Axes>"
      ]
     },
     "metadata": {},
     "output_type": "display_data"
    },
    {
     "data": {
      "image/png": "[encoded data removed]",
      "text/plain": [
       "<Figure size 640x480 with 1 Axes>"
      ]
     },
     "metadata": {},
     "output_type": "display_data"
    },
    {
     "data": {
      "image/png": "[encoded data removed]",
      "text/plain": [
       "<Figure size 640x480 with 1 Axes>"
      ]
     },
     "metadata": {},
     "output_type": "display_data"
    },
    {
     "data": {
      "image/png": "[encoded data removed]",
      "text/plain": [
       "<Figure size 640x480 with 1 Axes>"
      ]
     },
     "metadata": {},
     "output_type": "display_data"
    },
    {
     "data": {
      "image/png": "[encoded data removed]",
      "text/plain": [
       "<Figure size 640x480 with 1 Axes>"
      ]
     },
     "metadata": {},
     "output_type": "display_data"
    },
    {
     "data": {
      "image/png": "[encoded data removed]",
      "text/plain": [
       "<Figure size 640x480 with 1 Axes>"
      ]
     },
     "metadata": {},
     "output_type": "display_data"
    },
    {
     "data": {
      "image/png": "[encoded data removed]",
      "text/plain": [
       "<Figure size 640x480 with 1 Axes>"
      ]
     },
     "metadata": {},
     "output_type": "display_data"
    },
    {
     "data": {
      "image/png": "[encoded data removed]",
      "text/plain": [
       "<Figure size 640x480 with 1 Axes>"
      ]
     },
     "metadata": {},
     "output_type": "display_data"
    },
    {
     "data": {
      "image/png": "[encoded data removed]",
      "text/plain": [
       "<Figure size 640x480 with 1 Axes>"
      ]
     },
     "metadata": {},
     "output_type": "display_data"
    },
    {
     "data": {
      "image/png": "[encoded data removed]",
      "text/plain": [
       "<Figure size 640x480 with 1 Axes>"
      ]
     },
     "metadata": {},
     "output_type": "display_data"
    },
    {
     "data": {
      "image/png": "[encoded data removed]",
      "text/plain": [
       "<Figure size 640x480 with 1 Axes>"
      ]
     },
     "metadata": {},
     "output_type": "display_data"
    },
    {
     "data": {
      "image/png": "[encoded data removed]",
      "text/plain": [
       "<Figure size 640x480 with 1 Axes>"
      ]
     },
     "metadata": {},
     "output_type": "display_data"
    },
    {
     "data": {
      "image/png": "[encoded data removed]",
      "text/plain": [
       "<Figure size 640x480 with 1 Axes>"
      ]
     },
     "metadata": {},
     "output_type": "display_data"
    }
   ],
   "source": [
    "for i in [1,2,3,4,5,6,7,8,9,10,11,12,13,14]:\n",
    "    plt.figure()\n",
    "    sns.scatterplot(data = marey[marey[\"chromosome\"] == \"chr\" + str(i)], x = \"physical position\", y = \"genetic position\")"
   ]
  }
 ],
 "metadata": {
  "kernelspec": {
   "display_name": "NetworkX",
   "language": "python",
   "name": "networkx"
  },
  "language_info": {
   "codemirror_mode": {
    "name": "ipython",
    "version": 3
   },
   "file_extension": ".py",
   "mimetype": "text/x-python",
   "name": "python",
   "nbconvert_exporter": "python",
   "pygments_lexer": "ipython3",
   "version": "3.11.0"
  }
 },
 "nbformat": 4,
 "nbformat_minor": 5
}
