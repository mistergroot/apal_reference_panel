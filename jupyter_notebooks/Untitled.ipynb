{
 "cells": [
  {
   "cell_type": "code",
   "execution_count": 5,
   "id": "36c03dd7",
   "metadata": {},
   "outputs": [],
   "source": [
    "import pandas as pd\n",
    "import numpy as np"
   ]
  },
  {
   "cell_type": "code",
   "execution_count": 47,
   "id": "65b0f8a6",
   "metadata": {},
   "outputs": [
    {
     "name": "stdout",
     "output_type": "stream",
     "text": [
      "ERROR: This cross-compiler package contains no program /storage/group/ibb3/default/.conda/envs/ipyrad/bin/x86_64-conda_cos6-linux-gnu-cc\n",
      "ERROR: activate-gcc_linux-64.sh failed, see above for details\n"
     ]
    },
    {
     "name": "stderr",
     "output_type": "stream",
     "text": [
      "[M::bwa_idx_load_from_disk] read 0 ALT contigs\n",
      "[M::process] read 53589 sequences (3803707 bp)...\n",
      "[M::mem_process_seqs] Processed 53589 reads in 3.243 CPU sec, 3.253 real sec\n",
      "[main] Version: 0.7.17-r1188\n",
      "[main] CMD: bwa mem /storage/group/ibb3/default/genome_annotation/Apalm_dovetail_assemblies/Apalm_assembly_v2.0_180910.softmasked.fa ../../convert_snpchip_coords/probes.fasta\n",
      "[main] Real time: 4.213 sec; CPU: 3.573 sec\n"
     ]
    }
   ],
   "source": [
    "%%bash\n",
    "source ~/.bashrc\n",
    "conda activate ipyrad\n",
    "mkdir -p /storage/group/ibb3/default/darpa/linkage_scaff\n",
    "cd /storage/group/ibb3/default/darpa/linkage_scaff\n",
    "bwa mem \\\n",
    "    /storage/group/ibb3/default/genome_annotation/Apalm_dovetail_assemblies/Apalm_assembly_v2.0_180910.softmasked.fa \\\n",
    "    ../../convert_snpchip_coords/probes.fasta \\\n",
    "    > ./probes_aln_apal.sam"
   ]
  },
  {
   "cell_type": "code",
   "execution_count": 48,
   "id": "1c3cc9b0",
   "metadata": {},
   "outputs": [],
   "source": [
    "%%bash\n",
    "cd /storage/group/ibb3/default/darpa/linkage_scaff\n",
    "cut -f1,3,4,5,6,10,12 probes_aln_apal.sam \\\n",
    "    > unique_mappings_apal_probes.tab"
   ]
  },
  {
   "cell_type": "code",
   "execution_count": 7,
   "id": "a71bd4db",
   "metadata": {},
   "outputs": [],
   "source": [
    "probes = pd.read_csv(\"/storage/group/ibb3/default/darpa/linkage_scaff/unique_mappings_apal_probes.tab\", comment = \"@\", sep = \"\\t\", names = [\"probe\", \"contig\", \"start\", \"mapq\", \"cigar\", \"seq\", \"mismatch\"])"
   ]
  },
  {
   "cell_type": "code",
   "execution_count": 9,
   "id": "e1e8cc1e",
   "metadata": {},
   "outputs": [],
   "source": [
    "probes = probes[~probes[\"cigar\"].str.contains(\"H\")].reset_index(drop=True)"
   ]
  },
  {
   "cell_type": "code",
   "execution_count": 10,
   "id": "15e9ae55",
   "metadata": {},
   "outputs": [],
   "source": [
    "probes[\"new_snp_pos\"] = np.nan"
   ]
  },
  {
   "cell_type": "code",
   "execution_count": 11,
   "id": "7d30ef82",
   "metadata": {},
   "outputs": [
    {
     "name": "stderr",
     "output_type": "stream",
     "text": [
      "/tmp/ipykernel_2024491/2714359173.py:2: SettingWithCopyWarning: \n",
      "A value is trying to be set on a copy of a slice from a DataFrame\n",
      "\n",
      "See the caveats in the documentation: https://pandas.pydata.org/pandas-docs/stable/user_guide/indexing.html#returning-a-view-versus-a-copy\n",
      "  probes[\"new_snp_pos\"][i] = probes[\"start\"][i] + probes[\"seq\"][i].find(\"N\")\n"
     ]
    }
   ],
   "source": [
    "for i in range(len(probes)):\n",
    "    probes[\"new_snp_pos\"][i] = probes[\"start\"][i] + probes[\"seq\"][i].find(\"N\")"
   ]
  },
  {
   "cell_type": "code",
   "execution_count": 12,
   "id": "0ce8be94",
   "metadata": {},
   "outputs": [
    {
     "name": "stderr",
     "output_type": "stream",
     "text": [
      "/tmp/ipykernel_2024491/1942152665.py:1: UserWarning: Boolean Series key will be reindexed to match DataFrame index.\n",
      "  probes = probes[~probes[\"cigar\"].str.contains(\"D\")][~probes[\"cigar\"].str.contains(\"I\")].reset_index(drop=True)\n"
     ]
    }
   ],
   "source": [
    "probes = probes[~probes[\"cigar\"].str.contains(\"D\")][~probes[\"cigar\"].str.contains(\"I\")].reset_index(drop=True)"
   ]
  },
  {
   "cell_type": "code",
   "execution_count": 13,
   "id": "280de5a0",
   "metadata": {},
   "outputs": [],
   "source": [
    "probes[\"new_snp_pos\"] = probes[\"new_snp_pos\"].astype(int)"
   ]
  },
  {
   "cell_type": "code",
   "execution_count": 15,
   "id": "5eebb890",
   "metadata": {},
   "outputs": [],
   "source": [
    "recommended = pd.read_csv(\"/storage/group/ibb3/default/acropora_linkage_maps/Apalm_linkage_Map/plate1-2/recommended.txt\", header = None)"
   ]
  },
  {
   "cell_type": "code",
   "execution_count": 17,
   "id": "0074d8ec",
   "metadata": {},
   "outputs": [],
   "source": [
    "probes = probes[probes[\"probe\"].isin(recommended[0].tolist())].reset_index(drop=True)"
   ]
  },
  {
   "cell_type": "code",
   "execution_count": 18,
   "id": "c21081a0",
   "metadata": {},
   "outputs": [],
   "source": [
    "file = open('/storage/group/ibb3/default/darpa/linkage_scaff/probes_in_apal.txt','w')\n",
    "for item in probes[\"probe\"].tolist():\n",
    "    file.write(item+\"\\n\")\n",
    "file.close()"
   ]
  },
  {
   "cell_type": "code",
   "execution_count": 19,
   "id": "cca3e181",
   "metadata": {},
   "outputs": [
    {
     "name": "stdout",
     "output_type": "stream",
     "text": [
      "ERROR: This cross-compiler package contains no program /storage/group/ibb3/default/.conda/envs/ipyrad/bin/x86_64-conda_cos6-linux-gnu-cc\n",
      "ERROR: activate-gcc_linux-64.sh failed, see above for details\n"
     ]
    },
    {
     "name": "stderr",
     "output_type": "stream",
     "text": [
      "\n",
      "VCFtools - 0.1.16\n",
      "(C) Adam Auton and Anthony Marcketta 2009\n",
      "\n",
      "Parameters as interpreted:\n",
      "\t--vcf /storage/group/ibb3/default/acropora_linkage_maps/Apalm_linkage_Map/plate1-2/Lep-MAP3/Apalm_link_rename.vcf\n",
      "\t--out ./conserved_probes_kate\n",
      "\t--recode\n",
      "\t--snps probes_in_apal.txt\n",
      "\n",
      "After filtering, kept 107 out of 107 Individuals\n",
      "Outputting VCF file...\n",
      "After filtering, kept 23218 out of a possible 26075 Sites\n",
      "Run Time = 7.00 seconds\n"
     ]
    }
   ],
   "source": [
    "%%bash\n",
    "source ~/.bashrc\n",
    "conda activate ipyrad\n",
    "cd /storage/group/ibb3/default/darpa/linkage_scaff/\n",
    "vcftools --vcf /storage/group/ibb3/default/acropora_linkage_maps/Apalm_linkage_Map/plate1-2/Lep-MAP3/Apalm_link_rename.vcf \\\n",
    "    --snps probes_in_apal.txt \\\n",
    "    --recode --out ./conserved_probes_kate"
   ]
  },
  {
   "cell_type": "code",
   "execution_count": 21,
   "id": "1ad452c0",
   "metadata": {},
   "outputs": [],
   "source": [
    "reformat = probes[[\"contig\", \"start\", \"probe\"]]\n",
    "reformat.columns = [\"contig\", \"start\", \"ID\"]"
   ]
  },
  {
   "cell_type": "code",
   "execution_count": 22,
   "id": "aad84be6",
   "metadata": {},
   "outputs": [],
   "source": [
    "%%bash\n",
    "cd /storage/group/ibb3/default/darpa/linkage_scaff/\n",
    "grep -v \"^##\" ./conserved_probes_kate.recode.vcf | cut -f1-3 \\\n",
    "    > ./original_coords_kate.tab"
   ]
  },
  {
   "cell_type": "code",
   "execution_count": 23,
   "id": "eed588cc",
   "metadata": {},
   "outputs": [],
   "source": [
    "tmp = pd.read_csv(\"/storage/group/ibb3/default/darpa/linkage_scaff/original_coords_kate.tab\", sep = \"\\t\")"
   ]
  },
  {
   "cell_type": "code",
   "execution_count": 24,
   "id": "90c4b048",
   "metadata": {},
   "outputs": [],
   "source": [
    "tmp = tmp.merge(reformat, how = \"left\", on = \"ID\")"
   ]
  },
  {
   "cell_type": "code",
   "execution_count": 25,
   "id": "a5a8bfba",
   "metadata": {},
   "outputs": [],
   "source": [
    "reformatted_positions = tmp[[\"contig\", \"start\", \"ID\"]]\n",
    "reformatted_positions.columns = [\"#CHROM\", \"POS\", \"ID\"]"
   ]
  },
  {
   "cell_type": "code",
   "execution_count": 26,
   "id": "33349e5f",
   "metadata": {},
   "outputs": [],
   "source": [
    "reformatted_positions.set_index(\"#CHROM\").to_csv(\"/storage/group/ibb3/default/darpa/linkage_scaff/remapped_coords_kate.tab\", sep = \"\\t\")"
   ]
  },
  {
   "cell_type": "code",
   "execution_count": 27,
   "id": "adaf329c",
   "metadata": {},
   "outputs": [],
   "source": [
    "%%bash\n",
    "cd /storage/group/ibb3/default/darpa/linkage_scaff/\n",
    "grep -e \"^##fileformat\" -e \"^##FORMAT\" -e \"^##INFO\" conserved_probes_kate.recode.vcf \\\n",
    "    > acer_snpchip_remapped_kate.vcf"
   ]
  },
  {
   "cell_type": "code",
   "execution_count": 28,
   "id": "777446f9",
   "metadata": {},
   "outputs": [],
   "source": [
    "%%bash\n",
    "cd /storage/group/ibb3/default/darpa/linkage_scaff/\n",
    "paste /storage/group/ibb3/default/convert_snpchip_coords/remapped_coords_kate.tab \\\n",
    "    <( grep -v \"^##\" conserved_probes_kate.recode.vcf | cut -f4- ) \\\n",
    "    >> acer_snpchip_remapped_kate.vcf"
   ]
  },
  {
   "cell_type": "code",
   "execution_count": 36,
   "id": "179a7c79",
   "metadata": {},
   "outputs": [],
   "source": [
    "%%bash\n",
    "cd /storage/group/ibb3/default/darpa/linkage_scaff/\n",
    "grep \"^#\" acer_snpchip_remapped_kate.vcf > apal_snpchip_remapped_kate_sorted.vcf\n",
    "grep -v \"^#\" acer_snpchip_remapped_kate.vcf | sort -k1,1V -k2,2g >> apal_snpchip_remapped_kate_sorted.vcf"
   ]
  },
  {
   "cell_type": "code",
   "execution_count": 37,
   "id": "808abaf2",
   "metadata": {},
   "outputs": [
    {
     "name": "stdout",
     "output_type": "stream",
     "text": [
      "ERROR: This cross-compiler package contains no program /storage/group/ibb3/default/.conda/envs/ipyrad/bin/x86_64-conda_cos6-linux-gnu-cc\n",
      "ERROR: activate-gcc_linux-64.sh failed, see above for details\n"
     ]
    },
    {
     "name": "stderr",
     "output_type": "stream",
     "text": [
      "\n",
      "VCFtools - 0.1.16\n",
      "(C) Adam Auton and Anthony Marcketta 2009\n",
      "\n",
      "Parameters as interpreted:\n",
      "\t--vcf apal_snpchip_remapped_kate_sorted.vcf\n",
      "\t--maf 0.05\n",
      "\t--max-alleles 2\n",
      "\t--min-alleles 2\n",
      "\t--max-missing 0.5\n",
      "\t--out apal_snpchip_remapped_kate_sorted.vcf\n",
      "\t--recode\n",
      "\n",
      "After filtering, kept 107 out of 107 Individuals\n",
      "Outputting VCF file...\n",
      "After filtering, kept 4368 out of a possible 23218 Sites\n",
      "Run Time = 2.00 seconds\n"
     ]
    }
   ],
   "source": [
    "%%bash\n",
    "source ~/.bashrc\n",
    "conda activate ipyrad\n",
    "cd /storage/group/ibb3/default/darpa/linkage_scaff/\n",
    "\n",
    "for i in apal_snpchip_remapped_kate_sorted.vcf; do\n",
    "    vcftools --vcf ${i} \\\n",
    "        --max-missing 0.5 --min-alleles 2 --max-alleles 2 --maf 0.05 \\\n",
    "        --recode --out ${i}\n",
    "done"
   ]
  },
  {
   "cell_type": "code",
   "execution_count": 49,
   "id": "bdf4e6d2",
   "metadata": {},
   "outputs": [
    {
     "name": "stderr",
     "output_type": "stream",
     "text": [
      "/tmp/ipykernel_2024491/3639172915.py:1: ParserWarning: Falling back to the 'python' engine because the 'c' engine does not support regex separators (separators > 1 char and different from '\\s+' are interpreted as regex); you can avoid this warning by specifying engine='python'.\n",
      "  katelinkage = pd.read_csv(\"/storage/group/ibb3/default/darpa/linkage_scaff/apal_kate_link_samples.csv\",\n"
     ]
    }
   ],
   "source": [
    "katelinkage = pd.read_csv(\"/storage/group/ibb3/default/darpa/linkage_scaff/apal_kate_link_samples.csv\", \n",
    "            sep = \"\\s\", names = [\"LG\", \"probe\", \"genetic position\"])"
   ]
  },
  {
   "cell_type": "code",
   "execution_count": 50,
   "id": "9a6cc7ed",
   "metadata": {},
   "outputs": [],
   "source": [
    "probes = pd.read_csv(\"/storage/group/ibb3/default/darpa/linkage_scaff/unique_mappings_apal_probes.tab\", comment = \"@\", sep = \"\\t\", names = [\"probe\", \"contig\", \"start\", \"mapq\", \"cigar\", \"seq\", \"mismatch\"])"
   ]
  },
  {
   "cell_type": "code",
   "execution_count": 51,
   "id": "b6a92335",
   "metadata": {},
   "outputs": [
    {
     "name": "stderr",
     "output_type": "stream",
     "text": [
      "/tmp/ipykernel_2024491/2418261223.py:3: SettingWithCopyWarning: \n",
      "A value is trying to be set on a copy of a slice from a DataFrame\n",
      "\n",
      "See the caveats in the documentation: https://pandas.pydata.org/pandas-docs/stable/user_guide/indexing.html#returning-a-view-versus-a-copy\n",
      "  probes[\"new_snp_pos\"][i] = probes[\"start\"][i] + probes[\"seq\"][i].find(\"N\")\n",
      "/tmp/ipykernel_2024491/2418261223.py:4: UserWarning: Boolean Series key will be reindexed to match DataFrame index.\n",
      "  probes = probes[~probes[\"cigar\"].str.contains(\"D\")][~probes[\"cigar\"].str.contains(\"I\")].reset_index(drop=True)\n"
     ]
    }
   ],
   "source": [
    "probes[\"new_snp_pos\"] = np.nan\n",
    "for i in range(len(probes)):\n",
    "    probes[\"new_snp_pos\"][i] = probes[\"start\"][i] + probes[\"seq\"][i].find(\"N\")\n",
    "probes = probes[~probes[\"cigar\"].str.contains(\"D\")][~probes[\"cigar\"].str.contains(\"I\")].reset_index(drop=True)\n",
    "probes = probes[~probes[\"cigar\"].str.contains(\"H\")].reset_index(drop=True)\n",
    "probes[\"new_snp_pos\"] = probes[\"new_snp_pos\"].astype(int)\n",
    "probes = probes[[\"contig\", \"new_snp_pos\", \"probe\"]]\n",
    "probes.columns = [\"Scaffold ID\", \"scaffold position\", \"probe\"]\n",
    "katelinkage = katelinkage.merge(probes, how = \"left\", on = \"probe\")\n",
    "katelinkage.columns = [\"LinkageGroup\", \"probe\", \"GeneticPosition\", \"ScaffoldID\", \"ScaffoldPosition\"]\n",
    "katelinkage = katelinkage[[\"ScaffoldID\", \"ScaffoldPosition\", \"LinkageGroup\", \"GeneticPosition\"]]\n",
    "katelinkage = katelinkage[katelinkage[\"ScaffoldPosition\"].notna()].reset_index(drop=True)\n",
    "katelinkage = katelinkage[katelinkage[\"ScaffoldID\"] != \"*\"].reset_index(drop=True)\n",
    "katelinkage[\"ScaffoldPosition\"] = katelinkage[\"ScaffoldPosition\"].astype(int)\n",
    "(katelinkage.set_index(\"ScaffoldID\")\n",
    " .to_csv(\"/storage/group/ibb3/default/darpa/linkage_scaff/linkage_map_1.csv\"))"
   ]
  },
  {
   "cell_type": "code",
   "execution_count": 52,
   "id": "52b7d2c4",
   "metadata": {},
   "outputs": [
    {
     "name": "stderr",
     "output_type": "stream",
     "text": [
      "[22:45:09] INFO     Set text.usetex=False. Font styles may be inconsistent.                                     base.py:402\n",
      "           DEBUG    A total of 1199 markers written to `linkage_merged.bed`.                                allmaps.py:1281\n",
      "           DEBUG    Weights file written to `weights.txt`.                                                  allmaps.py:1337\n"
     ]
    }
   ],
   "source": [
    "%%bash\n",
    "source ~/.bashrc\n",
    "conda activate allmaps\n",
    "cd /storage/group/ibb3/default/darpa/linkage_scaff/\n",
    "python -m jcvi.assembly.allmaps merge linkage_map_1.csv -o linkage_merged.bed"
   ]
  },
  {
   "cell_type": "code",
   "execution_count": 53,
   "id": "79890c88",
   "metadata": {},
   "outputs": [
    {
     "name": "stderr",
     "output_type": "stream",
     "text": [
      "[22:45:12] INFO     Set text.usetex=False. Font styles may be inconsistent.                                     base.py:402\n",
      "           INFO     Set text.usetex=False. Font styles may be inconsistent.                                     base.py:402\n",
      "           DEBUG    Load file `linkage_merged.bed`                                                               base.py:33\n",
      "           DEBUG    Map contains 1199 markers in 14 linkage groups.                                          allmaps.py:546\n",
      "[10:45:12 PM] DEBUG    Retained 1,162 of 1,199 (96.9%) clean markers.                                        allmaps.py:593\n",
      "              DEBUG    Load file `weights.txt`                                                                   base.py:33\n",
      "              DEBUG    Imported 1 records from `weights.txt`.                                                   base.py:102\n",
      "              DEBUG    Map weights: odict_items([('linkage_map_1', 1)])                                      allmaps.py:659\n",
      "              DEBUG    Linkage function: double-linkage                                                     allmaps.py:1502\n",
      "              DEBUG    Partition LGs based on linkage_map_1                                                 allmaps.py:1523\n",
      "AMBIGUOUS Sc0a5M3_10_HRSCAF_15 {('linkage_map_1-5',): 2, ('linkage_map_1-8',): 2, ('linkage_map_1-7',): 3, ('linkage_map_1-13',): 3, ('linkage_map_1-6',): 3, ('linkage_map_1-3',): 2, ('linkage_map_1-4',): 3, ('linkage_map_1-12',): 3, ('linkage_map_1-9',): 3, ('linkage_map_1-1',): 2, ('linkage_map_1-2',): 1, ('linkage_map_1-10',): 1}\n",
      "AMBIGUOUS Sc0a5M3_110_HRSCAF_200 {('linkage_map_1-14',): 1, ('linkage_map_1-2',): 1, ('linkage_map_1-4',): 1, ('linkage_map_1-8',): 1, ('linkage_map_1-7',): 1, ('linkage_map_1-9',): 1, ('linkage_map_1-1',): 1}\n",
      "AMBIGUOUS Sc0a5M3_12_HRSCAF_20 {('linkage_map_1-5',): 1, ('linkage_map_1-2',): 1}\n",
      "AMBIGUOUS Sc0a5M3_14_HRSCAF_24 {('linkage_map_1-8',): 2, ('linkage_map_1-4',): 4, ('linkage_map_1-3',): 2, ('linkage_map_1-10',): 3, ('linkage_map_1-7',): 2, ('linkage_map_1-5',): 4, ('linkage_map_1-12',): 3, ('linkage_map_1-2',): 1, ('linkage_map_1-6',): 3, ('linkage_map_1-9',): 2, ('linkage_map_1-14',): 1, ('linkage_map_1-13',): 1, ('linkage_map_1-1',): 1}\n",
      "AMBIGUOUS Sc0a5M3_161_HRSCAF_285 {('linkage_map_1-6',): 2, ('linkage_map_1-5',): 3, ('linkage_map_1-9',): 3, ('linkage_map_1-10',): 1, ('linkage_map_1-7',): 1, ('linkage_map_1-13',): 1, ('linkage_map_1-11',): 1, ('linkage_map_1-3',): 2, ('linkage_map_1-8',): 1, ('linkage_map_1-2',): 1, ('linkage_map_1-12',): 2}\n",
      "AMBIGUOUS Sc0a5M3_20_HRSCAF_34 {('linkage_map_1-5',): 2, ('linkage_map_1-1',): 1, ('linkage_map_1-8',): 1, ('linkage_map_1-12',): 2, ('linkage_map_1-3',): 1, ('linkage_map_1-10',): 2, ('linkage_map_1-11',): 2, ('linkage_map_1-13',): 1, ('linkage_map_1-4',): 2, ('linkage_map_1-7',): 1}\n",
      "AMBIGUOUS Sc0a5M3_23_HRSCAF_38 {('linkage_map_1-10',): 1, ('linkage_map_1-3',): 1, ('linkage_map_1-12',): 1}\n",
      "AMBIGUOUS Sc0a5M3_252_HRSCAF_417 {('linkage_map_1-7',): 1, ('linkage_map_1-12',): 1, ('linkage_map_1-6',): 1, ('linkage_map_1-4',): 1}\n",
      "AMBIGUOUS Sc0a5M3_271_HRSCAF_450 {('linkage_map_1-6',): 1, ('linkage_map_1-12',): 1}\n",
      "AMBIGUOUS Sc0a5M3_272_HRSCAF_451 {('linkage_map_1-6',): 3, ('linkage_map_1-14',): 2, ('linkage_map_1-5',): 2, ('linkage_map_1-11',): 2, ('linkage_map_1-12',): 3, ('linkage_map_1-3',): 1, ('linkage_map_1-1',): 1, ('linkage_map_1-7',): 2, ('linkage_map_1-4',): 1}\n",
      "AMBIGUOUS Sc0a5M3_278_HRSCAF_461 {('linkage_map_1-6',): 1, ('linkage_map_1-4',): 1}\n",
      "AMBIGUOUS Sc0a5M3_281_HRSCAF_464 {('linkage_map_1-12',): 7, ('linkage_map_1-3',): 5, ('linkage_map_1-10',): 6, ('linkage_map_1-7',): 7, ('linkage_map_1-4',): 2, ('linkage_map_1-5',): 5, ('linkage_map_1-13',): 3, ('linkage_map_1-2',): 3, ('linkage_map_1-9',): 3, ('linkage_map_1-6',): 6, ('linkage_map_1-11',): 5, ('linkage_map_1-14',): 3, ('linkage_map_1-8',): 5, ('linkage_map_1-1',): 2}\n",
      "AMBIGUOUS Sc0a5M3_286_HRSCAF_473 {('linkage_map_1-8',): 1, ('linkage_map_1-1',): 1}\n",
      "AMBIGUOUS Sc0a5M3_293_HRSCAF_484 {('linkage_map_1-13',): 1, ('linkage_map_1-11',): 1}\n",
      "AMBIGUOUS Sc0a5M3_313_HRSCAF_525 {('linkage_map_1-7',): 1, ('linkage_map_1-9',): 1, ('linkage_map_1-11',): 1}\n",
      "AMBIGUOUS Sc0a5M3_314_HRSCAF_527 {('linkage_map_1-4',): 6, ('linkage_map_1-5',): 4, ('linkage_map_1-6',): 5, ('linkage_map_1-13',): 4, ('linkage_map_1-14',): 3, ('linkage_map_1-2',): 3, ('linkage_map_1-11',): 3, ('linkage_map_1-7',): 6, ('linkage_map_1-9',): 4, ('linkage_map_1-3',): 5, ('linkage_map_1-8',): 3, ('linkage_map_1-12',): 3, ('linkage_map_1-10',): 1, ('linkage_map_1-1',): 2}\n",
      "AMBIGUOUS Sc0a5M3_322_HRSCAF_543 {('linkage_map_1-12',): 1, ('linkage_map_1-14',): 1}\n",
      "AMBIGUOUS Sc0a5M3_327_HRSCAF_556 {('linkage_map_1-10',): 1, ('linkage_map_1-13',): 1, ('linkage_map_1-2',): 1, ('linkage_map_1-11',): 1}\n",
      "AMBIGUOUS Sc0a5M3_369_HRSCAF_655 {('linkage_map_1-9',): 1, ('linkage_map_1-14',): 2, ('linkage_map_1-10',): 1, ('linkage_map_1-6',): 2, ('linkage_map_1-13',): 1, ('linkage_map_1-5',): 1, ('linkage_map_1-11',): 1, ('linkage_map_1-12',): 1, ('linkage_map_1-7',): 1}\n",
      "AMBIGUOUS Sc0a5M3_401_HRSCAF_746 {('linkage_map_1-3',): 3, ('linkage_map_1-13',): 6, ('linkage_map_1-2',): 4, ('linkage_map_1-8',): 5, ('linkage_map_1-5',): 8, ('linkage_map_1-14',): 8, ('linkage_map_1-9',): 5, ('linkage_map_1-7',): 5, ('linkage_map_1-4',): 4, ('linkage_map_1-10',): 1, ('linkage_map_1-6',): 7, ('linkage_map_1-12',): 3, ('linkage_map_1-11',): 2}\n",
      "AMBIGUOUS Sc0a5M3_426_HRSCAF_800 {('linkage_map_1-7',): 1, ('linkage_map_1-1',): 1}\n",
      "AMBIGUOUS Sc0a5M3_4_HRSCAF_4 {('linkage_map_1-6',): 2, ('linkage_map_1-8',): 2, ('linkage_map_1-1',): 2, ('linkage_map_1-14',): 1, ('linkage_map_1-3',): 1, ('linkage_map_1-5',): 2, ('linkage_map_1-7',): 1, ('linkage_map_1-2',): 1, ('linkage_map_1-12',): 1}\n",
      "AMBIGUOUS Sc0a5M3_53_HRSCAF_89 {('linkage_map_1-14',): 1, ('linkage_map_1-12',): 1}\n",
      "AMBIGUOUS Sc0a5M3_61_HRSCAF_106 {('linkage_map_1-7',): 1, ('linkage_map_1-10',): 2, ('linkage_map_1-12',): 1, ('linkage_map_1-13',): 2, ('linkage_map_1-11',): 1, ('linkage_map_1-5',): 2, ('linkage_map_1-3',): 1}\n",
      "AMBIGUOUS Sc0a5M3_84_HRSCAF_150 {('linkage_map_1-12',): 1, ('linkage_map_1-14',): 1, ('linkage_map_1-7',): 1, ('linkage_map_1-6',): 1, ('linkage_map_1-3',): 1}\n",
      "AMBIGUOUS Sc0a5M3_91_HRSCAF_167 {('linkage_map_1-6',): 3, ('linkage_map_1-1',): 2, ('linkage_map_1-7',): 3, ('linkage_map_1-12',): 3, ('linkage_map_1-10',): 3, ('linkage_map_1-9',): 2, ('linkage_map_1-14',): 1, ('linkage_map_1-3',): 2, ('linkage_map_1-5',): 3, ('linkage_map_1-2',): 1, ('linkage_map_1-8',): 1, ('linkage_map_1-11',): 1}\n",
      "AMBIGUOUS Sc0a5M3_9_HRSCAF_12 {('linkage_map_1-14',): 1, ('linkage_map_1-4',): 1, ('linkage_map_1-1',): 1}\n",
      "              DEBUG    Load file                                                                                 base.py:33\n",
      "                       `/storage/group/ibb3/default/genome_annotation/Apalm_dovetail_assemblies/Apalm_assembly_v           \n",
      "                       2.0_180910.softmasked.fa.sizes`                                                                     \n",
      "              DEBUG    Working on linkage_map_1-1 ...                                                       allmaps.py:1581\n",
      "              DEBUG    Graph size: |V|=3, |E|=2                                                              allmaps.py:285\n",
      "              DEBUG    TSP rescale: max_x=37, min_x=-10000, inf=20000, factor=100                                 tsp.py:48\n",
      "[10:45:17 PM] INFO     Objective: 4006300                                                                        tsp.py:113\n",
      "              INFO     Route distance: 1002600                                                                   tsp.py:121\n",
      "              DEBUG    Start EC round 0                                                                      allmaps.py:195\n",
      "              DEBUG    GA setup: ngen=500 npop=100 cpus=16 seed=666                                               ec.py:177\n"
     ]
    },
    {
     "name": "stdout",
     "output_type": "stream",
     "text": [
      "Current iteration 20: max_score=(1.0,)\n",
      "Current iteration 40: max_score=(1.0,)\n",
      "Current iteration 60: max_score=(1.0,)\n",
      "Current iteration 80: max_score=(1.0,)\n",
      "Current iteration 100: max_score=(1.0,)\n",
      "Current iteration 120: max_score=(1.0,)\n",
      "Current iteration 140: max_score=(1.0,)\n",
      "Current iteration 160: max_score=(1.0,)\n",
      "Current iteration 180: max_score=(1.0,)\n",
      "Current iteration 200: max_score=(1.0,)\n",
      "Current iteration 220: max_score=(1.0,)\n",
      "Current iteration 240: max_score=(1.0,)\n",
      "Current iteration 260: max_score=(1.0,)\n",
      "Current iteration 280: max_score=(1.0,)\n",
      "Current iteration 300: max_score=(1.0,)\n",
      "Current iteration 320: max_score=(1.0,)\n",
      "Current iteration 340: max_score=(1.0,)\n",
      "Current iteration 360: max_score=(1.0,)\n",
      "Current iteration 380: max_score=(1.0,)\n",
      "Current iteration 400: max_score=(1.0,)\n",
      "Current iteration 420: max_score=(1.0,)\n",
      "Current iteration 440: max_score=(1.0,)\n",
      "Current iteration 460: max_score=(1.0,)\n",
      "Current iteration 480: max_score=(1.0,)\n",
      "Current iteration 500: max_score=(1.0,)\n"
     ]
    },
    {
     "name": "stderr",
     "output_type": "stream",
     "text": [
      "[10:45:19 PM] DEBUG    Fixed orientations for 0 scaffolds.                                                   allmaps.py:469\n",
      "              DEBUG    Current best fitness: (1.0,)                                                          allmaps.py:215\n",
      "              DEBUG    Start EC round 1                                                                      allmaps.py:195\n",
      "              DEBUG    GA setup: ngen=500 npop=100 cpus=16 seed=666                                               ec.py:177\n"
     ]
    },
    {
     "name": "stdout",
     "output_type": "stream",
     "text": [
      "Current iteration 20: max_score=(1.0,)\n",
      "Current iteration 40: max_score=(1.0,)\n",
      "Current iteration 60: max_score=(1.0,)\n",
      "Current iteration 80: max_score=(1.0,)\n",
      "Current iteration 100: max_score=(1.0,)\n",
      "Current iteration 120: max_score=(1.0,)\n",
      "Current iteration 140: max_score=(1.0,)\n",
      "Current iteration 160: max_score=(1.0,)\n",
      "Current iteration 180: max_score=(1.0,)\n",
      "Current iteration 200: max_score=(1.0,)\n",
      "Current iteration 220: max_score=(1.0,)\n",
      "Current iteration 240: max_score=(1.0,)\n",
      "Current iteration 260: max_score=(1.0,)\n",
      "Current iteration 280: max_score=(1.0,)\n",
      "Current iteration 300: max_score=(1.0,)\n",
      "Current iteration 320: max_score=(1.0,)\n",
      "Current iteration 340: max_score=(1.0,)\n",
      "Current iteration 360: max_score=(1.0,)\n",
      "Current iteration 380: max_score=(1.0,)\n",
      "Current iteration 400: max_score=(1.0,)\n",
      "Current iteration 420: max_score=(1.0,)\n",
      "Current iteration 440: max_score=(1.0,)\n",
      "Current iteration 460: max_score=(1.0,)\n",
      "Current iteration 480: max_score=(1.0,)\n",
      "Current iteration 500: max_score=(1.0,)\n"
     ]
    },
    {
     "name": "stderr",
     "output_type": "stream",
     "text": [
      "[10:45:20 PM] DEBUG    No fitness improvement: (1.0,). Exit EC.                                              allmaps.py:206\n",
      "              DEBUG    Dropped 0 minor scaffolds                                                             allmaps.py:432\n",
      ">chr1 (linkage_map_1-1) FINAL\n",
      "Sc0a5M3_343_HRSCAF_597+\n",
      "              DEBUG    Working on linkage_map_1-2 ...                                                       allmaps.py:1581\n",
      "              DEBUG    Graph size: |V|=3, |E|=2                                                              allmaps.py:285\n",
      "              DEBUG    TSP rescale: max_x=42, min_x=-10000, inf=20000, factor=100                                 tsp.py:48\n",
      "[10:45:25 PM] INFO     Objective: 4004800                                                                        tsp.py:113\n",
      "              INFO     Route distance: 1000600                                                                   tsp.py:121\n",
      "              DEBUG    Start EC round 0                                                                      allmaps.py:195\n",
      "              DEBUG    GA setup: ngen=500 npop=100 cpus=16 seed=666                                               ec.py:177\n"
     ]
    },
    {
     "name": "stdout",
     "output_type": "stream",
     "text": [
      "Current iteration 20: max_score=(1.0,)\n",
      "Current iteration 40: max_score=(1.0,)\n",
      "Current iteration 60: max_score=(1.0,)\n",
      "Current iteration 80: max_score=(1.0,)\n",
      "Current iteration 100: max_score=(1.0,)\n",
      "Current iteration 120: max_score=(1.0,)\n",
      "Current iteration 140: max_score=(1.0,)\n",
      "Current iteration 160: max_score=(1.0,)\n",
      "Current iteration 180: max_score=(1.0,)\n",
      "Current iteration 200: max_score=(1.0,)\n",
      "Current iteration 220: max_score=(1.0,)\n",
      "Current iteration 240: max_score=(1.0,)\n",
      "Current iteration 260: max_score=(1.0,)\n",
      "Current iteration 280: max_score=(1.0,)\n",
      "Current iteration 300: max_score=(1.0,)\n",
      "Current iteration 320: max_score=(1.0,)\n",
      "Current iteration 340: max_score=(1.0,)\n",
      "Current iteration 360: max_score=(1.0,)\n",
      "Current iteration 380: max_score=(1.0,)\n",
      "Current iteration 400: max_score=(1.0,)\n",
      "Current iteration 420: max_score=(1.0,)\n",
      "Current iteration 440: max_score=(1.0,)\n",
      "Current iteration 460: max_score=(1.0,)\n",
      "Current iteration 480: max_score=(1.0,)\n",
      "Current iteration 500: max_score=(1.0,)\n"
     ]
    },
    {
     "name": "stderr",
     "output_type": "stream",
     "text": [
      "[10:45:27 PM] DEBUG    Fixed orientations for 0 scaffolds.                                                   allmaps.py:469\n",
      "              DEBUG    Current best fitness: (1.0,)                                                          allmaps.py:215\n",
      "              DEBUG    Start EC round 1                                                                      allmaps.py:195\n",
      "              DEBUG    GA setup: ngen=500 npop=100 cpus=16 seed=666                                               ec.py:177\n"
     ]
    },
    {
     "name": "stdout",
     "output_type": "stream",
     "text": [
      "Current iteration 20: max_score=(1.0,)\n",
      "Current iteration 40: max_score=(1.0,)\n",
      "Current iteration 60: max_score=(1.0,)\n",
      "Current iteration 80: max_score=(1.0,)\n",
      "Current iteration 100: max_score=(1.0,)\n",
      "Current iteration 120: max_score=(1.0,)\n",
      "Current iteration 140: max_score=(1.0,)\n",
      "Current iteration 160: max_score=(1.0,)\n",
      "Current iteration 180: max_score=(1.0,)\n",
      "Current iteration 200: max_score=(1.0,)\n",
      "Current iteration 220: max_score=(1.0,)\n",
      "Current iteration 240: max_score=(1.0,)\n",
      "Current iteration 260: max_score=(1.0,)\n",
      "Current iteration 280: max_score=(1.0,)\n",
      "Current iteration 300: max_score=(1.0,)\n",
      "Current iteration 320: max_score=(1.0,)\n",
      "Current iteration 340: max_score=(1.0,)\n",
      "Current iteration 360: max_score=(1.0,)\n",
      "Current iteration 380: max_score=(1.0,)\n",
      "Current iteration 400: max_score=(1.0,)\n",
      "Current iteration 420: max_score=(1.0,)\n",
      "Current iteration 440: max_score=(1.0,)\n",
      "Current iteration 460: max_score=(1.0,)\n",
      "Current iteration 480: max_score=(1.0,)\n",
      "Current iteration 500: max_score=(1.0,)\n"
     ]
    },
    {
     "name": "stderr",
     "output_type": "stream",
     "text": [
      "[10:45:28 PM] DEBUG    No fitness improvement: (1.0,). Exit EC.                                              allmaps.py:206\n",
      "              DEBUG    Dropped 0 minor scaffolds                                                             allmaps.py:432\n",
      ">chr2 (linkage_map_1-2) FINAL\n",
      "Sc0a5M3_162_HRSCAF_287+\n",
      "              DEBUG    Working on linkage_map_1-3 ...                                                       allmaps.py:1581\n",
      "              DEBUG    Graph size: |V|=3, |E|=2                                                              allmaps.py:285\n",
      "              DEBUG    TSP rescale: max_x=79, min_x=-10000, inf=20000, factor=100                                 tsp.py:48\n",
      "[10:45:33 PM] INFO     Objective: 4008000                                                                        tsp.py:113\n",
      "              INFO     Route distance: 1000100                                                                   tsp.py:121\n",
      "              DEBUG    Start EC round 0                                                                      allmaps.py:195\n",
      "              DEBUG    GA setup: ngen=500 npop=100 cpus=16 seed=666                                               ec.py:177\n"
     ]
    },
    {
     "name": "stdout",
     "output_type": "stream",
     "text": [
      "Current iteration 20: max_score=(2.0,)\n",
      "Current iteration 40: max_score=(2.0,)\n",
      "Current iteration 60: max_score=(2.0,)\n",
      "Current iteration 80: max_score=(2.0,)\n",
      "Current iteration 100: max_score=(2.0,)\n",
      "Current iteration 120: max_score=(2.0,)\n",
      "Current iteration 140: max_score=(2.0,)\n",
      "Current iteration 160: max_score=(2.0,)\n",
      "Current iteration 180: max_score=(2.0,)\n",
      "Current iteration 200: max_score=(2.0,)\n",
      "Current iteration 220: max_score=(2.0,)\n",
      "Current iteration 240: max_score=(2.0,)\n",
      "Current iteration 260: max_score=(2.0,)\n",
      "Current iteration 280: max_score=(2.0,)\n",
      "Current iteration 300: max_score=(2.0,)\n",
      "Current iteration 320: max_score=(2.0,)\n",
      "Current iteration 340: max_score=(2.0,)\n",
      "Current iteration 360: max_score=(2.0,)\n",
      "Current iteration 380: max_score=(2.0,)\n",
      "Current iteration 400: max_score=(2.0,)\n",
      "Current iteration 420: max_score=(2.0,)\n",
      "Current iteration 440: max_score=(2.0,)\n",
      "Current iteration 460: max_score=(2.0,)\n",
      "Current iteration 480: max_score=(2.0,)\n",
      "Current iteration 500: max_score=(2.0,)\n"
     ]
    },
    {
     "name": "stderr",
     "output_type": "stream",
     "text": [
      "[10:45:35 PM] DEBUG    Fixed orientations for 0 scaffolds.                                                   allmaps.py:469\n",
      "              DEBUG    Current best fitness: (2.0,)                                                          allmaps.py:215\n",
      "              DEBUG    Start EC round 1                                                                      allmaps.py:195\n",
      "              DEBUG    GA setup: ngen=500 npop=100 cpus=16 seed=666                                               ec.py:177\n"
     ]
    },
    {
     "name": "stdout",
     "output_type": "stream",
     "text": [
      "Current iteration 20: max_score=(2.0,)\n",
      "Current iteration 40: max_score=(2.0,)\n",
      "Current iteration 60: max_score=(2.0,)\n",
      "Current iteration 80: max_score=(2.0,)\n",
      "Current iteration 100: max_score=(2.0,)\n",
      "Current iteration 120: max_score=(2.0,)\n",
      "Current iteration 140: max_score=(2.0,)\n",
      "Current iteration 160: max_score=(2.0,)\n",
      "Current iteration 180: max_score=(2.0,)\n",
      "Current iteration 200: max_score=(2.0,)\n",
      "Current iteration 220: max_score=(2.0,)\n",
      "Current iteration 240: max_score=(2.0,)\n",
      "Current iteration 260: max_score=(2.0,)\n",
      "Current iteration 280: max_score=(2.0,)\n",
      "Current iteration 300: max_score=(2.0,)\n",
      "Current iteration 320: max_score=(2.0,)\n",
      "Current iteration 340: max_score=(2.0,)\n",
      "Current iteration 360: max_score=(2.0,)\n",
      "Current iteration 380: max_score=(2.0,)\n",
      "Current iteration 400: max_score=(2.0,)\n",
      "Current iteration 420: max_score=(2.0,)\n",
      "Current iteration 440: max_score=(2.0,)\n",
      "Current iteration 460: max_score=(2.0,)\n",
      "Current iteration 480: max_score=(2.0,)\n",
      "Current iteration 500: max_score=(2.0,)\n"
     ]
    },
    {
     "name": "stderr",
     "output_type": "stream",
     "text": [
      "[10:45:36 PM] DEBUG    No fitness improvement: (2.0,). Exit EC.                                              allmaps.py:206\n",
      "              DEBUG    Dropped 0 minor scaffolds                                                             allmaps.py:432\n",
      ">chr3 (linkage_map_1-3) FINAL\n",
      "Sc0a5M3_389_HRSCAF_706-\n",
      "              DEBUG    Working on linkage_map_1-4 ...                                                       allmaps.py:1581\n",
      "              DEBUG    Graph size: |V|=6, |E|=20                                                             allmaps.py:285\n",
      "              DEBUG    TSP rescale: max_x=70, min_x=-10000, inf=20000, factor=100                                 tsp.py:48\n",
      "[10:45:41 PM] INFO     Objective: 7006750                                                                        tsp.py:113\n",
      "              INFO     Route distance: 1000350                                                                   tsp.py:121\n",
      "              DEBUG    Start EC round 0                                                                      allmaps.py:195\n",
      "              DEBUG    GA setup: ngen=500 npop=100 cpus=16 seed=666                                               ec.py:177\n"
     ]
    },
    {
     "name": "stdout",
     "output_type": "stream",
     "text": [
      "Current iteration 20: max_score=(8.0,)\n",
      "Current iteration 40: max_score=(8.0,)\n",
      "Current iteration 60: max_score=(8.0,)\n",
      "Current iteration 80: max_score=(8.0,)\n",
      "Current iteration 100: max_score=(8.0,)\n",
      "Current iteration 120: max_score=(8.0,)\n",
      "Current iteration 140: max_score=(8.0,)\n",
      "Current iteration 160: max_score=(8.0,)\n",
      "Current iteration 180: max_score=(8.0,)\n",
      "Current iteration 200: max_score=(8.0,)\n",
      "Current iteration 220: max_score=(8.0,)\n",
      "Current iteration 240: max_score=(8.0,)\n",
      "Current iteration 260: max_score=(8.0,)\n",
      "Current iteration 280: max_score=(8.0,)\n",
      "Current iteration 300: max_score=(8.0,)\n",
      "Current iteration 320: max_score=(8.0,)\n",
      "Current iteration 340: max_score=(8.0,)\n",
      "Current iteration 360: max_score=(8.0,)\n",
      "Current iteration 380: max_score=(8.0,)\n",
      "Current iteration 400: max_score=(8.0,)\n",
      "Current iteration 420: max_score=(8.0,)\n",
      "Current iteration 440: max_score=(8.0,)\n",
      "Current iteration 460: max_score=(8.0,)\n",
      "Current iteration 480: max_score=(8.0,)\n",
      "Current iteration 500: max_score=(8.0,)\n"
     ]
    },
    {
     "name": "stderr",
     "output_type": "stream",
     "text": [
      "[10:45:43 PM] DEBUG    Fixed orientations for 0 scaffolds.                                                   allmaps.py:469\n",
      "              DEBUG    Current best fitness: (8.0,)                                                          allmaps.py:215\n",
      "              DEBUG    Start EC round 1                                                                      allmaps.py:195\n",
      "              DEBUG    GA setup: ngen=500 npop=100 cpus=16 seed=666                                               ec.py:177\n"
     ]
    },
    {
     "name": "stdout",
     "output_type": "stream",
     "text": [
      "Current iteration 20: max_score=(8.0,)\n",
      "Current iteration 40: max_score=(8.0,)\n",
      "Current iteration 60: max_score=(8.0,)\n",
      "Current iteration 80: max_score=(8.0,)\n",
      "Current iteration 100: max_score=(8.0,)\n",
      "Current iteration 120: max_score=(8.0,)\n",
      "Current iteration 140: max_score=(8.0,)\n",
      "Current iteration 160: max_score=(8.0,)\n",
      "Current iteration 180: max_score=(8.0,)\n",
      "Current iteration 200: max_score=(8.0,)\n",
      "Current iteration 220: max_score=(8.0,)\n",
      "Current iteration 240: max_score=(8.0,)\n",
      "Current iteration 260: max_score=(8.0,)\n",
      "Current iteration 280: max_score=(8.0,)\n",
      "Current iteration 300: max_score=(8.0,)\n",
      "Current iteration 320: max_score=(8.0,)\n",
      "Current iteration 340: max_score=(8.0,)\n",
      "Current iteration 360: max_score=(8.0,)\n",
      "Current iteration 380: max_score=(8.0,)\n",
      "Current iteration 400: max_score=(8.0,)\n",
      "Current iteration 420: max_score=(8.0,)\n",
      "Current iteration 440: max_score=(8.0,)\n",
      "Current iteration 460: max_score=(8.0,)\n",
      "Current iteration 480: max_score=(8.0,)\n",
      "Current iteration 500: max_score=(8.0,)\n"
     ]
    },
    {
     "name": "stderr",
     "output_type": "stream",
     "text": [
      "[10:45:44 PM] DEBUG    No fitness improvement: (8.0,). Exit EC.                                              allmaps.py:206\n",
      "              DEBUG    Dropped 1 minor scaffolds                                                             allmaps.py:432\n",
      ">chr4 (linkage_map_1-4) FINAL\n",
      "Sc0a5M3_375_HRSCAF_671+ Sc0a5M3_83_HRSCAF_149+ Sc0a5M3_124_HRSCAF_222+\n",
      "              DEBUG    Working on linkage_map_1-5 ...                                                       allmaps.py:1581\n",
      "              DEBUG    Graph size: |V|=10, |E|=72                                                            allmaps.py:285\n",
      "              DEBUG    TSP rescale: max_x=113, min_x=-10000, inf=20000, factor=100                                tsp.py:48\n",
      "[10:45:49 PM] INFO     Objective: 11010600                                                                       tsp.py:113\n",
      "              INFO     Route distance: 1000250                                                                   tsp.py:121\n",
      "              DEBUG    Start EC round 0                                                                      allmaps.py:195\n",
      "              DEBUG    GA setup: ngen=500 npop=100 cpus=16 seed=666                                               ec.py:177\n"
     ]
    },
    {
     "name": "stdout",
     "output_type": "stream",
     "text": [
      "Current iteration 20: max_score=(17.0,)\n",
      "Current iteration 40: max_score=(17.0,)\n",
      "Current iteration 60: max_score=(17.0,)\n",
      "Current iteration 80: max_score=(17.0,)\n",
      "Current iteration 100: max_score=(17.0,)\n",
      "Current iteration 120: max_score=(17.0,)\n",
      "Current iteration 140: max_score=(17.0,)\n",
      "Current iteration 160: max_score=(17.0,)\n",
      "Current iteration 180: max_score=(17.0,)\n",
      "Current iteration 200: max_score=(17.0,)\n",
      "Current iteration 220: max_score=(17.0,)\n",
      "Current iteration 240: max_score=(17.0,)\n",
      "Current iteration 260: max_score=(17.0,)\n",
      "Current iteration 280: max_score=(17.0,)\n",
      "Current iteration 300: max_score=(17.0,)\n",
      "Current iteration 320: max_score=(17.0,)\n",
      "Current iteration 340: max_score=(17.0,)\n",
      "Current iteration 360: max_score=(17.0,)\n",
      "Current iteration 380: max_score=(17.0,)\n",
      "Current iteration 400: max_score=(17.0,)\n",
      "Current iteration 420: max_score=(17.0,)\n",
      "Current iteration 440: max_score=(17.0,)\n",
      "Current iteration 460: max_score=(17.0,)\n",
      "Current iteration 480: max_score=(17.0,)\n",
      "Current iteration 500: max_score=(17.0,)\n"
     ]
    },
    {
     "name": "stderr",
     "output_type": "stream",
     "text": [
      "[10:45:51 PM] DEBUG    Fixed orientations for 1 scaffolds.                                                   allmaps.py:469\n",
      "              DEBUG    Current best fitness: (17.0,)                                                         allmaps.py:215\n",
      "              DEBUG    Start EC round 1                                                                      allmaps.py:195\n",
      "              DEBUG    GA setup: ngen=500 npop=100 cpus=16 seed=666                                               ec.py:177\n"
     ]
    },
    {
     "name": "stdout",
     "output_type": "stream",
     "text": [
      "Current iteration 20: max_score=(18.0,)\n",
      "Current iteration 40: max_score=(18.0,)\n",
      "Current iteration 60: max_score=(18.0,)\n",
      "Current iteration 80: max_score=(18.0,)\n",
      "Current iteration 100: max_score=(18.0,)\n",
      "Current iteration 120: max_score=(18.0,)\n",
      "Current iteration 140: max_score=(18.0,)\n",
      "Current iteration 160: max_score=(18.0,)\n",
      "Current iteration 180: max_score=(18.0,)\n",
      "Current iteration 200: max_score=(18.0,)\n",
      "Current iteration 220: max_score=(18.0,)\n",
      "Current iteration 240: max_score=(18.0,)\n",
      "Current iteration 260: max_score=(18.0,)\n",
      "Current iteration 280: max_score=(18.0,)\n",
      "Current iteration 300: max_score=(18.0,)\n",
      "Current iteration 320: max_score=(18.0,)\n",
      "Current iteration 340: max_score=(18.0,)\n",
      "Current iteration 360: max_score=(18.0,)\n",
      "Current iteration 380: max_score=(18.0,)\n",
      "Current iteration 400: max_score=(18.0,)\n",
      "Current iteration 420: max_score=(18.0,)\n",
      "Current iteration 440: max_score=(18.0,)\n",
      "Current iteration 460: max_score=(18.0,)\n",
      "Current iteration 480: max_score=(18.0,)\n",
      "Current iteration 500: max_score=(18.0,)\n"
     ]
    },
    {
     "name": "stderr",
     "output_type": "stream",
     "text": [
      "[10:45:53 PM] DEBUG    Fixed orientations for 0 scaffolds.                                                   allmaps.py:469\n",
      "              DEBUG    Current best fitness: (18.0,)                                                         allmaps.py:215\n",
      "              DEBUG    Start EC round 2                                                                      allmaps.py:195\n",
      "              DEBUG    GA setup: ngen=500 npop=100 cpus=16 seed=666                                               ec.py:177\n"
     ]
    },
    {
     "name": "stdout",
     "output_type": "stream",
     "text": [
      "Current iteration 20: max_score=(18.0,)\n",
      "Current iteration 40: max_score=(18.0,)\n",
      "Current iteration 60: max_score=(18.0,)\n",
      "Current iteration 80: max_score=(18.0,)\n",
      "Current iteration 100: max_score=(18.0,)\n",
      "Current iteration 120: max_score=(18.0,)\n",
      "Current iteration 140: max_score=(18.0,)\n",
      "Current iteration 160: max_score=(18.0,)\n",
      "Current iteration 180: max_score=(18.0,)\n",
      "Current iteration 200: max_score=(18.0,)\n",
      "Current iteration 220: max_score=(18.0,)\n",
      "Current iteration 240: max_score=(18.0,)\n",
      "Current iteration 260: max_score=(18.0,)\n",
      "Current iteration 280: max_score=(18.0,)\n",
      "Current iteration 300: max_score=(18.0,)\n",
      "Current iteration 320: max_score=(18.0,)\n",
      "Current iteration 340: max_score=(18.0,)\n",
      "Current iteration 360: max_score=(18.0,)\n",
      "Current iteration 380: max_score=(18.0,)\n",
      "Current iteration 400: max_score=(18.0,)\n",
      "Current iteration 420: max_score=(18.0,)\n",
      "Current iteration 440: max_score=(18.0,)\n",
      "Current iteration 460: max_score=(18.0,)\n",
      "Current iteration 480: max_score=(18.0,)\n",
      "Current iteration 500: max_score=(18.0,)\n"
     ]
    },
    {
     "name": "stderr",
     "output_type": "stream",
     "text": [
      "[10:45:55 PM] DEBUG    No fitness improvement: (18.0,). Exit EC.                                             allmaps.py:206\n",
      "              DEBUG    Dropped 0 minor scaffolds                                                             allmaps.py:432\n",
      ">chr5 (linkage_map_1-5) FINAL\n",
      "Sc0a5M3_337_HRSCAF_586- Sc0a5M3_191_HRSCAF_332+ Sc0a5M3_390_HRSCAF_714+ Sc0a5M3_171_HRSCAF_300+ Sc0a5M3_361_HRSCAF_634+ Sc0a5M3_427_HRSCAF_802- Sc0a5M3_32_HRSCAF_58? Sc0a5M3_330_HRSCAF_560-\n",
      "              DEBUG    Working on linkage_map_1-6 ...                                                       allmaps.py:1581\n",
      "              DEBUG    Graph size: |V|=5, |E|=12                                                             allmaps.py:285\n",
      "              DEBUG    TSP rescale: max_x=95, min_x=-10000, inf=20000, factor=100                                 tsp.py:48\n",
      "[10:46:00 PM] INFO     Objective: 6010500                                                                        tsp.py:113\n",
      "              INFO     Route distance: 1000400                                                                   tsp.py:121\n",
      "              DEBUG    Start EC round 0                                                                      allmaps.py:195\n",
      "              DEBUG    GA setup: ngen=500 npop=100 cpus=16 seed=666                                               ec.py:177\n"
     ]
    },
    {
     "name": "stdout",
     "output_type": "stream",
     "text": [
      "Current iteration 20: max_score=(4.0,)\n",
      "Current iteration 40: max_score=(4.0,)\n",
      "Current iteration 60: max_score=(4.0,)\n",
      "Current iteration 80: max_score=(4.0,)\n",
      "Current iteration 100: max_score=(4.0,)\n",
      "Current iteration 120: max_score=(4.0,)\n",
      "Current iteration 140: max_score=(4.0,)\n",
      "Current iteration 160: max_score=(4.0,)\n",
      "Current iteration 180: max_score=(4.0,)\n",
      "Current iteration 200: max_score=(4.0,)\n",
      "Current iteration 220: max_score=(4.0,)\n",
      "Current iteration 240: max_score=(4.0,)\n",
      "Current iteration 260: max_score=(4.0,)\n",
      "Current iteration 280: max_score=(4.0,)\n",
      "Current iteration 300: max_score=(4.0,)\n",
      "Current iteration 320: max_score=(4.0,)\n",
      "Current iteration 340: max_score=(4.0,)\n",
      "Current iteration 360: max_score=(4.0,)\n",
      "Current iteration 380: max_score=(4.0,)\n",
      "Current iteration 400: max_score=(4.0,)\n",
      "Current iteration 420: max_score=(4.0,)\n",
      "Current iteration 440: max_score=(4.0,)\n",
      "Current iteration 460: max_score=(4.0,)\n",
      "Current iteration 480: max_score=(4.0,)\n",
      "Current iteration 500: max_score=(4.0,)\n"
     ]
    },
    {
     "name": "stderr",
     "output_type": "stream",
     "text": [
      "[10:46:01 PM] DEBUG    Fixed orientations for 0 scaffolds.                                                   allmaps.py:469\n",
      "              DEBUG    Current best fitness: (4.0,)                                                          allmaps.py:215\n",
      "              DEBUG    Start EC round 1                                                                      allmaps.py:195\n",
      "              DEBUG    GA setup: ngen=500 npop=100 cpus=16 seed=666                                               ec.py:177\n"
     ]
    },
    {
     "name": "stdout",
     "output_type": "stream",
     "text": [
      "Current iteration 20: max_score=(4.0,)\n",
      "Current iteration 40: max_score=(4.0,)\n",
      "Current iteration 60: max_score=(4.0,)\n",
      "Current iteration 80: max_score=(4.0,)\n",
      "Current iteration 100: max_score=(4.0,)\n",
      "Current iteration 120: max_score=(4.0,)\n",
      "Current iteration 140: max_score=(4.0,)\n",
      "Current iteration 160: max_score=(4.0,)\n",
      "Current iteration 180: max_score=(4.0,)\n",
      "Current iteration 200: max_score=(4.0,)\n",
      "Current iteration 220: max_score=(4.0,)\n",
      "Current iteration 240: max_score=(4.0,)\n",
      "Current iteration 260: max_score=(4.0,)\n",
      "Current iteration 280: max_score=(4.0,)\n",
      "Current iteration 300: max_score=(4.0,)\n",
      "Current iteration 320: max_score=(4.0,)\n",
      "Current iteration 340: max_score=(4.0,)\n",
      "Current iteration 360: max_score=(4.0,)\n",
      "Current iteration 380: max_score=(4.0,)\n",
      "Current iteration 400: max_score=(4.0,)\n",
      "Current iteration 420: max_score=(4.0,)\n",
      "Current iteration 440: max_score=(4.0,)\n",
      "Current iteration 460: max_score=(4.0,)\n",
      "Current iteration 480: max_score=(4.0,)\n",
      "Current iteration 500: max_score=(4.0,)\n"
     ]
    },
    {
     "name": "stderr",
     "output_type": "stream",
     "text": [
      "[10:46:03 PM] DEBUG    No fitness improvement: (4.0,). Exit EC.                                              allmaps.py:206\n",
      "              DEBUG    Dropped 0 minor scaffolds                                                             allmaps.py:432\n",
      ">chr6 (linkage_map_1-6) FINAL\n",
      "Sc0a5M3_302_HRSCAF_500? Sc0a5M3_370_HRSCAF_658? Sc0a5M3_13_HRSCAF_21+\n",
      "              DEBUG    Working on linkage_map_1-7 ...                                                       allmaps.py:1581\n",
      "              DEBUG    Graph size: |V|=6, |E|=20                                                             allmaps.py:285\n",
      "              DEBUG    TSP rescale: max_x=76, min_x=-10000, inf=20000, factor=100                                 tsp.py:48\n",
      "[10:46:08 PM] INFO     Objective: 7007500                                                                        tsp.py:113\n",
      "              INFO     Route distance: 1000150                                                                   tsp.py:121\n",
      "              DEBUG    Start EC round 0                                                                      allmaps.py:195\n",
      "              DEBUG    GA setup: ngen=500 npop=100 cpus=16 seed=666                                               ec.py:177\n"
     ]
    },
    {
     "name": "stdout",
     "output_type": "stream",
     "text": [
      "Current iteration 20: max_score=(9.0,)\n",
      "Current iteration 40: max_score=(9.0,)\n",
      "Current iteration 60: max_score=(9.0,)\n",
      "Current iteration 80: max_score=(9.0,)\n",
      "Current iteration 100: max_score=(9.0,)\n",
      "Current iteration 120: max_score=(9.0,)\n",
      "Current iteration 140: max_score=(9.0,)\n",
      "Current iteration 160: max_score=(9.0,)\n",
      "Current iteration 180: max_score=(9.0,)\n",
      "Current iteration 200: max_score=(9.0,)\n",
      "Current iteration 220: max_score=(9.0,)\n",
      "Current iteration 240: max_score=(9.0,)\n",
      "Current iteration 260: max_score=(9.0,)\n",
      "Current iteration 280: max_score=(9.0,)\n",
      "Current iteration 300: max_score=(9.0,)\n",
      "Current iteration 320: max_score=(9.0,)\n",
      "Current iteration 340: max_score=(9.0,)\n",
      "Current iteration 360: max_score=(9.0,)\n",
      "Current iteration 380: max_score=(9.0,)\n",
      "Current iteration 400: max_score=(9.0,)\n",
      "Current iteration 420: max_score=(9.0,)\n",
      "Current iteration 440: max_score=(9.0,)\n",
      "Current iteration 460: max_score=(9.0,)\n",
      "Current iteration 480: max_score=(9.0,)\n",
      "Current iteration 500: max_score=(9.0,)\n"
     ]
    },
    {
     "name": "stderr",
     "output_type": "stream",
     "text": [
      "[10:46:09 PM] DEBUG    Fixed orientations for 1 scaffolds.                                                   allmaps.py:469\n",
      "              DEBUG    Current best fitness: (9.0,)                                                          allmaps.py:215\n",
      "              DEBUG    Start EC round 1                                                                      allmaps.py:195\n",
      "              DEBUG    GA setup: ngen=500 npop=100 cpus=16 seed=666                                               ec.py:177\n"
     ]
    },
    {
     "name": "stdout",
     "output_type": "stream",
     "text": [
      "Current iteration 20: max_score=(9.0,)\n",
      "Current iteration 40: max_score=(9.0,)\n",
      "Current iteration 60: max_score=(9.0,)\n",
      "Current iteration 80: max_score=(9.0,)\n",
      "Current iteration 100: max_score=(9.0,)\n",
      "Current iteration 120: max_score=(9.0,)\n",
      "Current iteration 140: max_score=(9.0,)\n",
      "Current iteration 160: max_score=(9.0,)\n",
      "Current iteration 180: max_score=(9.0,)\n",
      "Current iteration 200: max_score=(9.0,)\n",
      "Current iteration 220: max_score=(9.0,)\n",
      "Current iteration 240: max_score=(9.0,)\n",
      "Current iteration 260: max_score=(9.0,)\n",
      "Current iteration 280: max_score=(9.0,)\n",
      "Current iteration 300: max_score=(9.0,)\n",
      "Current iteration 320: max_score=(9.0,)\n",
      "Current iteration 340: max_score=(9.0,)\n",
      "Current iteration 360: max_score=(9.0,)\n",
      "Current iteration 380: max_score=(9.0,)\n",
      "Current iteration 400: max_score=(9.0,)\n",
      "Current iteration 420: max_score=(9.0,)\n",
      "Current iteration 440: max_score=(9.0,)\n",
      "Current iteration 460: max_score=(9.0,)\n",
      "Current iteration 480: max_score=(9.0,)\n",
      "Current iteration 500: max_score=(9.0,)\n"
     ]
    },
    {
     "name": "stderr",
     "output_type": "stream",
     "text": [
      "[10:46:11 PM] DEBUG    No fitness improvement: (9.0,). Exit EC.                                              allmaps.py:206\n",
      "              DEBUG    Dropped 0 minor scaffolds                                                             allmaps.py:432\n",
      ">chr7 (linkage_map_1-7) FINAL\n",
      "Sc0a5M3_44_HRSCAF_77+ Sc0a5M3_8_HRSCAF_11+ Sc0a5M3_1_HRSCAF_1? Sc0a5M3_221_HRSCAF_370-\n",
      "              DEBUG    Working on linkage_map_1-8 ...                                                       allmaps.py:1581\n",
      "              DEBUG    Graph size: |V|=6, |E|=20                                                             allmaps.py:285\n",
      "              DEBUG    TSP rescale: max_x=66, min_x=-10000, inf=20000, factor=100                                 tsp.py:48\n",
      "[10:46:16 PM] INFO     Objective: 7008500                                                                        tsp.py:113\n",
      "              INFO     Route distance: 1000500                                                                   tsp.py:121\n",
      "              DEBUG    Start EC round 0                                                                      allmaps.py:195\n",
      "              DEBUG    GA setup: ngen=500 npop=100 cpus=16 seed=666                                               ec.py:177\n"
     ]
    },
    {
     "name": "stdout",
     "output_type": "stream",
     "text": [
      "Current iteration 20: max_score=(9.0,)\n",
      "Current iteration 40: max_score=(9.0,)\n",
      "Current iteration 60: max_score=(9.0,)\n",
      "Current iteration 80: max_score=(9.0,)\n",
      "Current iteration 100: max_score=(9.0,)\n",
      "Current iteration 120: max_score=(9.0,)\n",
      "Current iteration 140: max_score=(9.0,)\n",
      "Current iteration 160: max_score=(9.0,)\n",
      "Current iteration 180: max_score=(9.0,)\n",
      "Current iteration 200: max_score=(9.0,)\n",
      "Current iteration 220: max_score=(9.0,)\n",
      "Current iteration 240: max_score=(9.0,)\n",
      "Current iteration 260: max_score=(9.0,)\n",
      "Current iteration 280: max_score=(9.0,)\n",
      "Current iteration 300: max_score=(9.0,)\n",
      "Current iteration 320: max_score=(9.0,)\n",
      "Current iteration 340: max_score=(9.0,)\n",
      "Current iteration 360: max_score=(9.0,)\n",
      "Current iteration 380: max_score=(9.0,)\n",
      "Current iteration 400: max_score=(9.0,)\n",
      "Current iteration 420: max_score=(9.0,)\n",
      "Current iteration 440: max_score=(9.0,)\n",
      "Current iteration 460: max_score=(9.0,)\n",
      "Current iteration 480: max_score=(9.0,)\n",
      "Current iteration 500: max_score=(9.0,)\n"
     ]
    },
    {
     "name": "stderr",
     "output_type": "stream",
     "text": [
      "[10:46:17 PM] DEBUG    Fixed orientations for 0 scaffolds.                                                   allmaps.py:469\n",
      "              DEBUG    Current best fitness: (9.0,)                                                          allmaps.py:215\n",
      "              DEBUG    Start EC round 1                                                                      allmaps.py:195\n",
      "              DEBUG    GA setup: ngen=500 npop=100 cpus=16 seed=666                                               ec.py:177\n"
     ]
    },
    {
     "name": "stdout",
     "output_type": "stream",
     "text": [
      "Current iteration 20: max_score=(9.0,)\n",
      "Current iteration 40: max_score=(9.0,)\n",
      "Current iteration 60: max_score=(9.0,)\n",
      "Current iteration 80: max_score=(9.0,)\n",
      "Current iteration 100: max_score=(9.0,)\n",
      "Current iteration 120: max_score=(9.0,)\n",
      "Current iteration 140: max_score=(9.0,)\n",
      "Current iteration 160: max_score=(9.0,)\n",
      "Current iteration 180: max_score=(9.0,)\n",
      "Current iteration 200: max_score=(9.0,)\n",
      "Current iteration 220: max_score=(9.0,)\n",
      "Current iteration 240: max_score=(9.0,)\n",
      "Current iteration 260: max_score=(9.0,)\n",
      "Current iteration 280: max_score=(9.0,)\n",
      "Current iteration 300: max_score=(9.0,)\n",
      "Current iteration 320: max_score=(9.0,)\n",
      "Current iteration 340: max_score=(9.0,)\n",
      "Current iteration 360: max_score=(9.0,)\n",
      "Current iteration 380: max_score=(9.0,)\n",
      "Current iteration 400: max_score=(9.0,)\n",
      "Current iteration 420: max_score=(9.0,)\n",
      "Current iteration 440: max_score=(9.0,)\n",
      "Current iteration 460: max_score=(9.0,)\n",
      "Current iteration 480: max_score=(9.0,)\n",
      "Current iteration 500: max_score=(9.0,)\n"
     ]
    },
    {
     "name": "stderr",
     "output_type": "stream",
     "text": [
      "[10:46:19 PM] DEBUG    No fitness improvement: (9.0,). Exit EC.                                              allmaps.py:206\n",
      "              DEBUG    Dropped 1 minor scaffolds                                                             allmaps.py:432\n",
      ">chr8 (linkage_map_1-8) FINAL\n",
      "Sc0a5M3_151_HRSCAF_267- Sc0a5M3_24_HRSCAF_39? Sc0a5M3_382_HRSCAF_692+\n",
      "              DEBUG    Working on linkage_map_1-9 ...                                                       allmaps.py:1581\n",
      "              DEBUG    Graph size: |V|=5, |E|=12                                                             allmaps.py:285\n",
      "              DEBUG    TSP rescale: max_x=62, min_x=-10000, inf=20000, factor=100                                 tsp.py:48\n",
      "[10:46:24 PM] INFO     Objective: 6008450                                                                        tsp.py:113\n",
      "              INFO     Route distance: 1000200                                                                   tsp.py:121\n",
      "              DEBUG    Start EC round 0                                                                      allmaps.py:195\n",
      "              DEBUG    GA setup: ngen=500 npop=100 cpus=16 seed=666                                               ec.py:177\n"
     ]
    },
    {
     "name": "stdout",
     "output_type": "stream",
     "text": [
      "Current iteration 20: max_score=(9.0,)\n",
      "Current iteration 40: max_score=(9.0,)\n",
      "Current iteration 60: max_score=(9.0,)\n",
      "Current iteration 80: max_score=(9.0,)\n",
      "Current iteration 100: max_score=(9.0,)\n",
      "Current iteration 120: max_score=(9.0,)\n",
      "Current iteration 140: max_score=(9.0,)\n",
      "Current iteration 160: max_score=(9.0,)\n",
      "Current iteration 180: max_score=(9.0,)\n",
      "Current iteration 200: max_score=(9.0,)\n",
      "Current iteration 220: max_score=(9.0,)\n",
      "Current iteration 240: max_score=(9.0,)\n",
      "Current iteration 260: max_score=(9.0,)\n",
      "Current iteration 280: max_score=(9.0,)\n",
      "Current iteration 300: max_score=(9.0,)\n",
      "Current iteration 320: max_score=(9.0,)\n",
      "Current iteration 340: max_score=(9.0,)\n",
      "Current iteration 360: max_score=(9.0,)\n",
      "Current iteration 380: max_score=(9.0,)\n",
      "Current iteration 400: max_score=(9.0,)\n",
      "Current iteration 420: max_score=(9.0,)\n",
      "Current iteration 440: max_score=(9.0,)\n",
      "Current iteration 460: max_score=(9.0,)\n",
      "Current iteration 480: max_score=(9.0,)\n",
      "Current iteration 500: max_score=(9.0,)\n"
     ]
    },
    {
     "name": "stderr",
     "output_type": "stream",
     "text": [
      "[10:46:26 PM] DEBUG    Fixed orientations for 1 scaffolds.                                                   allmaps.py:469\n",
      "              DEBUG    Current best fitness: (9.0,)                                                          allmaps.py:215\n",
      "              DEBUG    Start EC round 1                                                                      allmaps.py:195\n",
      "              DEBUG    GA setup: ngen=500 npop=100 cpus=16 seed=666                                               ec.py:177\n"
     ]
    },
    {
     "name": "stdout",
     "output_type": "stream",
     "text": [
      "Current iteration 20: max_score=(9.0,)\n",
      "Current iteration 40: max_score=(9.0,)\n",
      "Current iteration 60: max_score=(9.0,)\n",
      "Current iteration 80: max_score=(9.0,)\n",
      "Current iteration 100: max_score=(9.0,)\n",
      "Current iteration 120: max_score=(9.0,)\n",
      "Current iteration 140: max_score=(9.0,)\n",
      "Current iteration 160: max_score=(9.0,)\n",
      "Current iteration 180: max_score=(9.0,)\n",
      "Current iteration 200: max_score=(9.0,)\n",
      "Current iteration 220: max_score=(9.0,)\n",
      "Current iteration 240: max_score=(9.0,)\n",
      "Current iteration 260: max_score=(9.0,)\n",
      "Current iteration 280: max_score=(9.0,)\n",
      "Current iteration 300: max_score=(9.0,)\n",
      "Current iteration 320: max_score=(9.0,)\n",
      "Current iteration 340: max_score=(9.0,)\n",
      "Current iteration 360: max_score=(9.0,)\n",
      "Current iteration 380: max_score=(9.0,)\n",
      "Current iteration 400: max_score=(9.0,)\n",
      "Current iteration 420: max_score=(9.0,)\n",
      "Current iteration 440: max_score=(9.0,)\n",
      "Current iteration 460: max_score=(9.0,)\n",
      "Current iteration 480: max_score=(9.0,)\n",
      "Current iteration 500: max_score=(9.0,)\n"
     ]
    },
    {
     "name": "stderr",
     "output_type": "stream",
     "text": [
      "[10:46:27 PM] DEBUG    No fitness improvement: (9.0,). Exit EC.                                              allmaps.py:206\n",
      "              DEBUG    Dropped 0 minor scaffolds                                                             allmaps.py:432\n",
      ">chr9 (linkage_map_1-9) FINAL\n",
      "Sc0a5M3_430_HRSCAF_812+ Sc0a5M3_307_HRSCAF_512- Sc0a5M3_331_HRSCAF_562?\n",
      "              DEBUG    Working on linkage_map_1-10 ...                                                      allmaps.py:1581\n",
      "              DEBUG    Graph size: |V|=4, |E|=6                                                              allmaps.py:285\n",
      "              DEBUG    TSP rescale: max_x=45, min_x=-10000, inf=20000, factor=100                                 tsp.py:48\n",
      "[10:46:32 PM] INFO     Objective: 5006600                                                                        tsp.py:113\n",
      "              INFO     Route distance: 1001900                                                                   tsp.py:121\n",
      "              DEBUG    Start EC round 0                                                                      allmaps.py:195\n",
      "              DEBUG    GA setup: ngen=500 npop=100 cpus=16 seed=666                                               ec.py:177\n"
     ]
    },
    {
     "name": "stdout",
     "output_type": "stream",
     "text": [
      "Current iteration 20: max_score=(2.0,)\n",
      "Current iteration 40: max_score=(2.0,)\n",
      "Current iteration 60: max_score=(2.0,)\n",
      "Current iteration 80: max_score=(2.0,)\n",
      "Current iteration 100: max_score=(2.0,)\n",
      "Current iteration 120: max_score=(2.0,)\n",
      "Current iteration 140: max_score=(2.0,)\n",
      "Current iteration 160: max_score=(2.0,)\n",
      "Current iteration 180: max_score=(2.0,)\n",
      "Current iteration 200: max_score=(2.0,)\n",
      "Current iteration 220: max_score=(2.0,)\n",
      "Current iteration 240: max_score=(2.0,)\n",
      "Current iteration 260: max_score=(2.0,)\n",
      "Current iteration 280: max_score=(2.0,)\n",
      "Current iteration 300: max_score=(2.0,)\n",
      "Current iteration 320: max_score=(2.0,)\n",
      "Current iteration 340: max_score=(2.0,)\n",
      "Current iteration 360: max_score=(2.0,)\n",
      "Current iteration 380: max_score=(2.0,)\n",
      "Current iteration 400: max_score=(2.0,)\n",
      "Current iteration 420: max_score=(2.0,)\n",
      "Current iteration 440: max_score=(2.0,)\n",
      "Current iteration 460: max_score=(2.0,)\n",
      "Current iteration 480: max_score=(2.0,)\n",
      "Current iteration 500: max_score=(2.0,)\n"
     ]
    },
    {
     "name": "stderr",
     "output_type": "stream",
     "text": [
      "[10:46:34 PM] DEBUG    Fixed orientations for 0 scaffolds.                                                   allmaps.py:469\n",
      "              DEBUG    Current best fitness: (2.0,)                                                          allmaps.py:215\n",
      "              DEBUG    Start EC round 1                                                                      allmaps.py:195\n",
      "              DEBUG    GA setup: ngen=500 npop=100 cpus=16 seed=666                                               ec.py:177\n"
     ]
    },
    {
     "name": "stdout",
     "output_type": "stream",
     "text": [
      "Current iteration 20: max_score=(2.0,)\n",
      "Current iteration 40: max_score=(2.0,)\n",
      "Current iteration 60: max_score=(2.0,)\n",
      "Current iteration 80: max_score=(2.0,)\n",
      "Current iteration 100: max_score=(2.0,)\n",
      "Current iteration 120: max_score=(2.0,)\n",
      "Current iteration 140: max_score=(2.0,)\n",
      "Current iteration 160: max_score=(2.0,)\n",
      "Current iteration 180: max_score=(2.0,)\n",
      "Current iteration 200: max_score=(2.0,)\n",
      "Current iteration 220: max_score=(2.0,)\n",
      "Current iteration 240: max_score=(2.0,)\n",
      "Current iteration 260: max_score=(2.0,)\n",
      "Current iteration 280: max_score=(2.0,)\n",
      "Current iteration 300: max_score=(2.0,)\n",
      "Current iteration 320: max_score=(2.0,)\n",
      "Current iteration 340: max_score=(2.0,)\n",
      "Current iteration 360: max_score=(2.0,)\n",
      "Current iteration 380: max_score=(2.0,)\n",
      "Current iteration 400: max_score=(2.0,)\n",
      "Current iteration 420: max_score=(2.0,)\n",
      "Current iteration 440: max_score=(2.0,)\n",
      "Current iteration 460: max_score=(2.0,)\n",
      "Current iteration 480: max_score=(2.0,)\n",
      "Current iteration 500: max_score=(2.0,)\n"
     ]
    },
    {
     "name": "stderr",
     "output_type": "stream",
     "text": [
      "[10:46:35 PM] DEBUG    No fitness improvement: (2.0,). Exit EC.                                              allmaps.py:206\n",
      "              DEBUG    Dropped 1 minor scaffolds                                                             allmaps.py:432\n",
      ">chr10 (linkage_map_1-10) FINAL\n",
      "Sc0a5M3_107_HRSCAF_194-\n",
      "              DEBUG    Working on linkage_map_1-11 ...                                                      allmaps.py:1581\n",
      "              DEBUG    Graph size: |V|=4, |E|=6                                                              allmaps.py:285\n",
      "              DEBUG    TSP rescale: max_x=63, min_x=-10000, inf=20000, factor=100                                 tsp.py:48\n",
      "[10:46:40 PM] INFO     Objective: 5007000                                                                        tsp.py:113\n",
      "              INFO     Route distance: 1002600                                                                   tsp.py:121\n",
      "              DEBUG    Start EC round 0                                                                      allmaps.py:195\n",
      "              DEBUG    GA setup: ngen=500 npop=100 cpus=16 seed=666                                               ec.py:177\n"
     ]
    },
    {
     "name": "stdout",
     "output_type": "stream",
     "text": [
      "Current iteration 20: max_score=(2.0,)\n",
      "Current iteration 40: max_score=(2.0,)\n",
      "Current iteration 60: max_score=(2.0,)\n",
      "Current iteration 80: max_score=(2.0,)\n",
      "Current iteration 100: max_score=(2.0,)\n",
      "Current iteration 120: max_score=(2.0,)\n",
      "Current iteration 140: max_score=(2.0,)\n",
      "Current iteration 160: max_score=(2.0,)\n",
      "Current iteration 180: max_score=(2.0,)\n",
      "Current iteration 200: max_score=(2.0,)\n",
      "Current iteration 220: max_score=(2.0,)\n",
      "Current iteration 240: max_score=(2.0,)\n",
      "Current iteration 260: max_score=(2.0,)\n",
      "Current iteration 280: max_score=(2.0,)\n",
      "Current iteration 300: max_score=(2.0,)\n",
      "Current iteration 320: max_score=(2.0,)\n",
      "Current iteration 340: max_score=(2.0,)\n",
      "Current iteration 360: max_score=(2.0,)\n",
      "Current iteration 380: max_score=(2.0,)\n",
      "Current iteration 400: max_score=(2.0,)\n",
      "Current iteration 420: max_score=(2.0,)\n",
      "Current iteration 440: max_score=(2.0,)\n",
      "Current iteration 460: max_score=(2.0,)\n",
      "Current iteration 480: max_score=(2.0,)\n",
      "Current iteration 500: max_score=(2.0,)\n"
     ]
    },
    {
     "name": "stderr",
     "output_type": "stream",
     "text": [
      "[10:46:42 PM] DEBUG    Fixed orientations for 0 scaffolds.                                                   allmaps.py:469\n",
      "              DEBUG    Current best fitness: (2.0,)                                                          allmaps.py:215\n",
      "              DEBUG    Start EC round 1                                                                      allmaps.py:195\n",
      "              DEBUG    GA setup: ngen=500 npop=100 cpus=16 seed=666                                               ec.py:177\n"
     ]
    },
    {
     "name": "stdout",
     "output_type": "stream",
     "text": [
      "Current iteration 20: max_score=(2.0,)\n",
      "Current iteration 40: max_score=(2.0,)\n",
      "Current iteration 60: max_score=(2.0,)\n",
      "Current iteration 80: max_score=(2.0,)\n",
      "Current iteration 100: max_score=(2.0,)\n",
      "Current iteration 120: max_score=(2.0,)\n",
      "Current iteration 140: max_score=(2.0,)\n",
      "Current iteration 160: max_score=(2.0,)\n",
      "Current iteration 180: max_score=(2.0,)\n",
      "Current iteration 200: max_score=(2.0,)\n",
      "Current iteration 220: max_score=(2.0,)\n",
      "Current iteration 240: max_score=(2.0,)\n",
      "Current iteration 260: max_score=(2.0,)\n",
      "Current iteration 280: max_score=(2.0,)\n",
      "Current iteration 300: max_score=(2.0,)\n",
      "Current iteration 320: max_score=(2.0,)\n",
      "Current iteration 340: max_score=(2.0,)\n",
      "Current iteration 360: max_score=(2.0,)\n",
      "Current iteration 380: max_score=(2.0,)\n",
      "Current iteration 400: max_score=(2.0,)\n",
      "Current iteration 420: max_score=(2.0,)\n",
      "Current iteration 440: max_score=(2.0,)\n",
      "Current iteration 460: max_score=(2.0,)\n",
      "Current iteration 480: max_score=(2.0,)\n",
      "Current iteration 500: max_score=(2.0,)\n"
     ]
    },
    {
     "name": "stderr",
     "output_type": "stream",
     "text": [
      "[10:46:43 PM] DEBUG    No fitness improvement: (2.0,). Exit EC.                                              allmaps.py:206\n",
      "              DEBUG    Dropped 0 minor scaffolds                                                             allmaps.py:432\n",
      ">chr11 (linkage_map_1-11) FINAL\n",
      "Sc0a5M3_438_HRSCAF_824? Sc0a5M3_321_HRSCAF_539+\n",
      "              DEBUG    Working on linkage_map_1-12 ...                                                      allmaps.py:1581\n",
      "              DEBUG    Graph size: |V|=6, |E|=20                                                             allmaps.py:285\n",
      "              DEBUG    TSP rescale: max_x=94, min_x=-10000, inf=20000, factor=100                                 tsp.py:48\n",
      "[10:46:48 PM] INFO     Objective: 7009800                                                                        tsp.py:113\n",
      "              INFO     Route distance: 1004100                                                                   tsp.py:121\n",
      "              DEBUG    Start EC round 0                                                                      allmaps.py:195\n",
      "              DEBUG    GA setup: ngen=500 npop=100 cpus=16 seed=666                                               ec.py:177\n"
     ]
    },
    {
     "name": "stdout",
     "output_type": "stream",
     "text": [
      "Current iteration 20: max_score=(6.0,)\n",
      "Current iteration 40: max_score=(6.0,)\n",
      "Current iteration 60: max_score=(6.0,)\n",
      "Current iteration 80: max_score=(6.0,)\n",
      "Current iteration 100: max_score=(6.0,)\n",
      "Current iteration 120: max_score=(6.0,)\n",
      "Current iteration 140: max_score=(6.0,)\n",
      "Current iteration 160: max_score=(6.0,)\n",
      "Current iteration 180: max_score=(6.0,)\n",
      "Current iteration 200: max_score=(6.0,)\n",
      "Current iteration 220: max_score=(6.0,)\n",
      "Current iteration 240: max_score=(6.0,)\n",
      "Current iteration 260: max_score=(6.0,)\n",
      "Current iteration 280: max_score=(6.0,)\n",
      "Current iteration 300: max_score=(6.0,)\n",
      "Current iteration 320: max_score=(6.0,)\n",
      "Current iteration 340: max_score=(6.0,)\n",
      "Current iteration 360: max_score=(6.0,)\n",
      "Current iteration 380: max_score=(6.0,)\n",
      "Current iteration 400: max_score=(6.0,)\n",
      "Current iteration 420: max_score=(6.0,)\n",
      "Current iteration 440: max_score=(6.0,)\n",
      "Current iteration 460: max_score=(6.0,)\n",
      "Current iteration 480: max_score=(6.0,)\n",
      "Current iteration 500: max_score=(6.0,)\n"
     ]
    },
    {
     "name": "stderr",
     "output_type": "stream",
     "text": [
      "[10:46:50 PM] DEBUG    Fixed orientations for 1 scaffolds.                                                   allmaps.py:469\n",
      "              DEBUG    Current best fitness: (6.0,)                                                          allmaps.py:215\n",
      "              DEBUG    Start EC round 1                                                                      allmaps.py:195\n",
      "              DEBUG    GA setup: ngen=500 npop=100 cpus=16 seed=666                                               ec.py:177\n"
     ]
    },
    {
     "name": "stdout",
     "output_type": "stream",
     "text": [
      "Current iteration 20: max_score=(6.0,)\n",
      "Current iteration 40: max_score=(6.0,)\n",
      "Current iteration 60: max_score=(6.0,)\n",
      "Current iteration 80: max_score=(6.0,)\n",
      "Current iteration 100: max_score=(6.0,)\n",
      "Current iteration 120: max_score=(6.0,)\n",
      "Current iteration 140: max_score=(6.0,)\n",
      "Current iteration 160: max_score=(6.0,)\n",
      "Current iteration 180: max_score=(6.0,)\n",
      "Current iteration 200: max_score=(6.0,)\n",
      "Current iteration 220: max_score=(6.0,)\n",
      "Current iteration 240: max_score=(6.0,)\n",
      "Current iteration 260: max_score=(6.0,)\n",
      "Current iteration 280: max_score=(6.0,)\n",
      "Current iteration 300: max_score=(6.0,)\n",
      "Current iteration 320: max_score=(6.0,)\n",
      "Current iteration 340: max_score=(6.0,)\n",
      "Current iteration 360: max_score=(6.0,)\n",
      "Current iteration 380: max_score=(6.0,)\n",
      "Current iteration 400: max_score=(6.0,)\n",
      "Current iteration 420: max_score=(6.0,)\n",
      "Current iteration 440: max_score=(6.0,)\n",
      "Current iteration 460: max_score=(6.0,)\n",
      "Current iteration 480: max_score=(6.0,)\n",
      "Current iteration 500: max_score=(6.0,)\n"
     ]
    },
    {
     "name": "stderr",
     "output_type": "stream",
     "text": [
      "[10:46:51 PM] DEBUG    No fitness improvement: (6.0,). Exit EC.                                              allmaps.py:206\n",
      "              DEBUG    Dropped 0 minor scaffolds                                                             allmaps.py:432\n",
      ">chr12 (linkage_map_1-12) FINAL\n",
      "Sc0a5M3_431_HRSCAF_813+ Sc0a5M3_424_HRSCAF_798? Sc0a5M3_324_HRSCAF_548+ Sc0a5M3_3_HRSCAF_3?\n",
      "              DEBUG    Working on linkage_map_1-13 ...                                                      allmaps.py:1581\n",
      "              DEBUG    Graph size: |V|=3, |E|=2                                                              allmaps.py:285\n",
      "              DEBUG    TSP rescale: max_x=46, min_x=-10000, inf=20000, factor=100                                 tsp.py:48\n",
      "[10:46:56 PM] INFO     Objective: 4008000                                                                        tsp.py:113\n",
      "              INFO     Route distance: 1003350                                                                   tsp.py:121\n",
      "              DEBUG    Start EC round 0                                                                      allmaps.py:195\n",
      "              DEBUG    GA setup: ngen=500 npop=100 cpus=16 seed=666                                               ec.py:177\n"
     ]
    },
    {
     "name": "stdout",
     "output_type": "stream",
     "text": [
      "Current iteration 20: max_score=(7.0,)\n",
      "Current iteration 40: max_score=(7.0,)\n",
      "Current iteration 60: max_score=(7.0,)\n",
      "Current iteration 80: max_score=(7.0,)\n",
      "Current iteration 100: max_score=(7.0,)\n",
      "Current iteration 120: max_score=(7.0,)\n",
      "Current iteration 140: max_score=(7.0,)\n",
      "Current iteration 160: max_score=(7.0,)\n",
      "Current iteration 180: max_score=(7.0,)\n",
      "Current iteration 200: max_score=(7.0,)\n",
      "Current iteration 220: max_score=(7.0,)\n",
      "Current iteration 240: max_score=(7.0,)\n",
      "Current iteration 260: max_score=(7.0,)\n",
      "Current iteration 280: max_score=(7.0,)\n",
      "Current iteration 300: max_score=(7.0,)\n",
      "Current iteration 320: max_score=(7.0,)\n",
      "Current iteration 340: max_score=(7.0,)\n",
      "Current iteration 360: max_score=(7.0,)\n",
      "Current iteration 380: max_score=(7.0,)\n",
      "Current iteration 400: max_score=(7.0,)\n",
      "Current iteration 420: max_score=(7.0,)\n",
      "Current iteration 440: max_score=(7.0,)\n",
      "Current iteration 460: max_score=(7.0,)\n",
      "Current iteration 480: max_score=(7.0,)\n",
      "Current iteration 500: max_score=(7.0,)\n"
     ]
    },
    {
     "name": "stderr",
     "output_type": "stream",
     "text": [
      "[10:46:58 PM] DEBUG    Fixed orientations for 0 scaffolds.                                                   allmaps.py:469\n",
      "              DEBUG    Current best fitness: (7.0,)                                                          allmaps.py:215\n",
      "              DEBUG    Start EC round 1                                                                      allmaps.py:195\n",
      "              DEBUG    GA setup: ngen=500 npop=100 cpus=16 seed=666                                               ec.py:177\n"
     ]
    },
    {
     "name": "stdout",
     "output_type": "stream",
     "text": [
      "Current iteration 20: max_score=(7.0,)\n",
      "Current iteration 40: max_score=(7.0,)\n",
      "Current iteration 60: max_score=(7.0,)\n",
      "Current iteration 80: max_score=(7.0,)\n",
      "Current iteration 100: max_score=(7.0,)\n",
      "Current iteration 120: max_score=(7.0,)\n",
      "Current iteration 140: max_score=(7.0,)\n",
      "Current iteration 160: max_score=(7.0,)\n",
      "Current iteration 180: max_score=(7.0,)\n",
      "Current iteration 200: max_score=(7.0,)\n",
      "Current iteration 220: max_score=(7.0,)\n",
      "Current iteration 240: max_score=(7.0,)\n",
      "Current iteration 260: max_score=(7.0,)\n",
      "Current iteration 280: max_score=(7.0,)\n",
      "Current iteration 300: max_score=(7.0,)\n",
      "Current iteration 320: max_score=(7.0,)\n",
      "Current iteration 340: max_score=(7.0,)\n",
      "Current iteration 360: max_score=(7.0,)\n",
      "Current iteration 380: max_score=(7.0,)\n",
      "Current iteration 400: max_score=(7.0,)\n",
      "Current iteration 420: max_score=(7.0,)\n",
      "Current iteration 440: max_score=(7.0,)\n",
      "Current iteration 460: max_score=(7.0,)\n",
      "Current iteration 480: max_score=(7.0,)\n",
      "Current iteration 500: max_score=(7.0,)\n"
     ]
    },
    {
     "name": "stderr",
     "output_type": "stream",
     "text": [
      "[10:47:00 PM] DEBUG    No fitness improvement: (7.0,). Exit EC.                                              allmaps.py:206\n",
      "              DEBUG    Dropped 0 minor scaffolds                                                             allmaps.py:432\n",
      ">chr13 (linkage_map_1-13) FINAL\n",
      "Sc0a5M3_79_HRSCAF_143+\n",
      "              DEBUG    Working on linkage_map_1-14 ...                                                      allmaps.py:1581\n",
      "              DEBUG    Graph size: |V|=4, |E|=6                                                              allmaps.py:285\n",
      "              DEBUG    TSP rescale: max_x=44, min_x=-10000, inf=20000, factor=100                                 tsp.py:48\n",
      "[10:47:05 PM] INFO     Objective: 5005900                                                                        tsp.py:113\n",
      "              INFO     Route distance: 1000500                                                                   tsp.py:121\n",
      "              DEBUG    Start EC round 0                                                                      allmaps.py:195\n",
      "              DEBUG    GA setup: ngen=500 npop=100 cpus=16 seed=666                                               ec.py:177\n"
     ]
    },
    {
     "name": "stdout",
     "output_type": "stream",
     "text": [
      "Current iteration 20: max_score=(2.0,)\n",
      "Current iteration 40: max_score=(2.0,)\n",
      "Current iteration 60: max_score=(2.0,)\n",
      "Current iteration 80: max_score=(2.0,)\n",
      "Current iteration 100: max_score=(2.0,)\n",
      "Current iteration 120: max_score=(2.0,)\n",
      "Current iteration 140: max_score=(2.0,)\n",
      "Current iteration 160: max_score=(2.0,)\n",
      "Current iteration 180: max_score=(2.0,)\n",
      "Current iteration 200: max_score=(2.0,)\n",
      "Current iteration 220: max_score=(2.0,)\n",
      "Current iteration 240: max_score=(2.0,)\n",
      "Current iteration 260: max_score=(2.0,)\n",
      "Current iteration 280: max_score=(2.0,)\n",
      "Current iteration 300: max_score=(2.0,)\n",
      "Current iteration 320: max_score=(2.0,)\n",
      "Current iteration 340: max_score=(2.0,)\n",
      "Current iteration 360: max_score=(2.0,)\n",
      "Current iteration 380: max_score=(2.0,)\n",
      "Current iteration 400: max_score=(2.0,)\n",
      "Current iteration 420: max_score=(2.0,)\n",
      "Current iteration 440: max_score=(2.0,)\n",
      "Current iteration 460: max_score=(2.0,)\n",
      "Current iteration 480: max_score=(2.0,)\n",
      "Current iteration 500: max_score=(2.0,)\n"
     ]
    },
    {
     "name": "stderr",
     "output_type": "stream",
     "text": [
      "[10:47:06 PM] DEBUG    Fixed orientations for 0 scaffolds.                                                   allmaps.py:469\n",
      "              DEBUG    Current best fitness: (2.0,)                                                          allmaps.py:215\n",
      "              DEBUG    Start EC round 1                                                                      allmaps.py:195\n",
      "              DEBUG    GA setup: ngen=500 npop=100 cpus=16 seed=666                                               ec.py:177\n"
     ]
    },
    {
     "name": "stdout",
     "output_type": "stream",
     "text": [
      "Current iteration 20: max_score=(2.0,)\n",
      "Current iteration 40: max_score=(2.0,)\n",
      "Current iteration 60: max_score=(2.0,)\n",
      "Current iteration 80: max_score=(2.0,)\n",
      "Current iteration 100: max_score=(2.0,)\n",
      "Current iteration 120: max_score=(2.0,)\n",
      "Current iteration 140: max_score=(2.0,)\n",
      "Current iteration 160: max_score=(2.0,)\n",
      "Current iteration 180: max_score=(2.0,)\n",
      "Current iteration 200: max_score=(2.0,)\n",
      "Current iteration 220: max_score=(2.0,)\n",
      "Current iteration 240: max_score=(2.0,)\n",
      "Current iteration 260: max_score=(2.0,)\n",
      "Current iteration 280: max_score=(2.0,)\n",
      "Current iteration 300: max_score=(2.0,)\n",
      "Current iteration 320: max_score=(2.0,)\n",
      "Current iteration 340: max_score=(2.0,)\n",
      "Current iteration 360: max_score=(2.0,)\n",
      "Current iteration 380: max_score=(2.0,)\n",
      "Current iteration 400: max_score=(2.0,)\n",
      "Current iteration 420: max_score=(2.0,)\n",
      "Current iteration 440: max_score=(2.0,)\n",
      "Current iteration 460: max_score=(2.0,)\n",
      "Current iteration 480: max_score=(2.0,)\n",
      "Current iteration 500: max_score=(2.0,)\n"
     ]
    },
    {
     "name": "stderr",
     "output_type": "stream",
     "text": [
      "[10:47:08 PM] DEBUG    No fitness improvement: (2.0,). Exit EC.                                              allmaps.py:206\n",
      "              DEBUG    Dropped 1 minor scaffolds                                                             allmaps.py:432\n",
      ">chr14 (linkage_map_1-14) FINAL\n",
      "Sc0a5M3_398_HRSCAF_736-\n",
      "              DEBUG    chr5: 36750254 => chr1                                                               allmaps.py:1612\n",
      "              DEBUG    chr9: 27236598 => chr2                                                               allmaps.py:1612\n",
      "              DEBUG    chr7: 23845084 => chr3                                                               allmaps.py:1612\n",
      "              DEBUG    chr12: 15610647 => chr4                                                              allmaps.py:1612\n",
      "              DEBUG    chr4: 14027495 => chr5                                                               allmaps.py:1612\n",
      "              DEBUG    chr8: 13085460 => chr6                                                               allmaps.py:1612\n",
      "              DEBUG    chr13: 12695043 => chr7                                                              allmaps.py:1612\n",
      "              DEBUG    chr6: 7686764 => chr8                                                                allmaps.py:1612\n",
      "              DEBUG    chr14: 4872434 => chr9                                                               allmaps.py:1612\n",
      "              DEBUG    chr3: 3482970 => chr10                                                               allmaps.py:1612\n",
      "              DEBUG    chr11: 1040286 => chr11                                                              allmaps.py:1612\n",
      "              DEBUG    chr1: 920928 => chr12                                                                allmaps.py:1612\n",
      "              DEBUG    chr10: 542891 => chr13                                                               allmaps.py:1612\n",
      "              DEBUG    chr2: 228510 => chr14                                                                allmaps.py:1612\n",
      "              DEBUG    AGP file written to `linkage_merged.chr.agp`.                                        allmaps.py:1628\n",
      "              DEBUG    Tour file written to `linkage_merged.tour`.                                          allmaps.py:1629\n",
      "              DEBUG    Load file `linkage_merged.chr.agp`                                                        base.py:33\n",
      "              DEBUG    Load file                                                                                 base.py:33\n",
      "                       `/storage/group/ibb3/default/genome_annotation/Apalm_dovetail_assemblies/Apalm_assembly_v           \n",
      "                       2.0_180910.softmasked.fa`                                                                           \n",
      "              DEBUG    Write object chr1 to `linkage_merged.chr.fasta`                                           agp.py:516\n",
      "[10:47:09 PM] DEBUG    Write object chr2 to `linkage_merged.chr.fasta`                                           agp.py:516\n",
      "              DEBUG    Write object chr3 to `linkage_merged.chr.fasta`                                           agp.py:516\n",
      "              DEBUG    Write object chr4 to `linkage_merged.chr.fasta`                                           agp.py:516\n",
      "              DEBUG    Write object chr5 to `linkage_merged.chr.fasta`                                           agp.py:516\n",
      "              DEBUG    Write object chr6 to `linkage_merged.chr.fasta`                                           agp.py:516\n",
      "              DEBUG    Write object chr7 to `linkage_merged.chr.fasta`                                           agp.py:516\n",
      "              DEBUG    Write object chr8 to `linkage_merged.chr.fasta`                                           agp.py:516\n",
      "              DEBUG    Write object chr9 to `linkage_merged.chr.fasta`                                           agp.py:516\n",
      "              DEBUG    Write object chr10 to `linkage_merged.chr.fasta`                                          agp.py:516\n",
      "              DEBUG    Write object chr11 to `linkage_merged.chr.fasta`                                          agp.py:516\n",
      "              DEBUG    Target fasta written to `linkage_merged.chr.fasta`.                                      agp.py:2132\n",
      "              DEBUG    Load file `linkage_merged.chr.agp`                                                        base.py:33\n",
      "              DEBUG    Load file                                                                                 base.py:33\n",
      "                       `/storage/group/ibb3/default/genome_annotation/Apalm_dovetail_assemblies/Apalm_assembly_v           \n",
      "                       2.0_180910.softmasked.fa.sizes`                                                                     \n",
      "              DEBUG    Write unplaced AGP to `linkage_merged.unplaced.agp`                                  allmaps.py:1657\n",
      "              DEBUG    Load file `linkage_merged.unplaced.agp`                                                   base.py:33\n",
      "              DEBUG    Load file                                                                                 base.py:33\n",
      "                       `/storage/group/ibb3/default/genome_annotation/Apalm_dovetail_assemblies/Apalm_assembly_v           \n",
      "                       2.0_180910.softmasked.fa`                                                                           \n",
      "[10:47:10 PM] DEBUG    Write object Sc0a5M3_4_HRSCAF_4 to `linkage_merged.unplaced.fasta`                        agp.py:516\n",
      "              DEBUG    Write object Sc0a5M3_9_HRSCAF_12 to `linkage_merged.unplaced.fasta`                       agp.py:516\n",
      "              DEBUG    Write object Sc0a5M3_10_HRSCAF_15 to `linkage_merged.unplaced.fasta`                      agp.py:516\n",
      "              DEBUG    Write object Sc0a5M3_14_HRSCAF_24 to `linkage_merged.unplaced.fasta`                      agp.py:516\n",
      "              DEBUG    Write object Sc0a5M3_20_HRSCAF_34 to `linkage_merged.unplaced.fasta`                      agp.py:516\n",
      "              DEBUG    Write object Sc0a5M3_61_HRSCAF_106 to `linkage_merged.unplaced.fasta`                     agp.py:516\n",
      "              DEBUG    Write object Sc0a5M3_84_HRSCAF_150 to `linkage_merged.unplaced.fasta`                     agp.py:516\n",
      "              DEBUG    Write object Sc0a5M3_91_HRSCAF_167 to `linkage_merged.unplaced.fasta`                     agp.py:516\n",
      "              DEBUG    Write object Sc0a5M3_110_HRSCAF_200 to `linkage_merged.unplaced.fasta`                    agp.py:516\n",
      "              DEBUG    Write object Sc0a5M3_161_HRSCAF_285 to `linkage_merged.unplaced.fasta`                    agp.py:516\n",
      "              DEBUG    Write object Sc0a5M3_169_HRSCAF_298 to `linkage_merged.unplaced.fasta`                    agp.py:516\n",
      "              DEBUG    Write object Sc0a5M3_252_HRSCAF_417 to `linkage_merged.unplaced.fasta`                    agp.py:516\n",
      "              DEBUG    Write object Sc0a5M3_271_HRSCAF_450 to `linkage_merged.unplaced.fasta`                    agp.py:516\n",
      "              DEBUG    Write object Sc0a5M3_272_HRSCAF_451 to `linkage_merged.unplaced.fasta`                    agp.py:516\n",
      "              DEBUG    Write object Sc0a5M3_281_HRSCAF_464 to `linkage_merged.unplaced.fasta`                    agp.py:516\n",
      "              DEBUG    Write object Sc0a5M3_293_HRSCAF_484 to `linkage_merged.unplaced.fasta`                    agp.py:516\n",
      "              DEBUG    Write object Sc0a5M3_314_HRSCAF_527 to `linkage_merged.unplaced.fasta`                    agp.py:516\n",
      "              DEBUG    Write object Sc0a5M3_322_HRSCAF_543 to `linkage_merged.unplaced.fasta`                    agp.py:516\n",
      "              DEBUG    Write object Sc0a5M3_327_HRSCAF_556 to `linkage_merged.unplaced.fasta`                    agp.py:516\n",
      "              DEBUG    Write object Sc0a5M3_338_HRSCAF_588 to `linkage_merged.unplaced.fasta`                    agp.py:516\n",
      "              DEBUG    Write object Sc0a5M3_369_HRSCAF_655 to `linkage_merged.unplaced.fasta`                    agp.py:516\n",
      "              DEBUG    Write object Sc0a5M3_401_HRSCAF_746 to `linkage_merged.unplaced.fasta`                    agp.py:516\n",
      "[10:47:11 PM] DEBUG    Target fasta written to `linkage_merged.unplaced.fasta`.                                 agp.py:2132\n"
     ]
    },
    {
     "name": "stderr",
     "output_type": "stream",
     "text": [
      "              DEBUG    cat linkage_merged.chr.agp linkage_merged.unplaced.agp >linkage_merged.agp              base.py:1185\n",
      "              DEBUG    cat linkage_merged.chr.fasta linkage_merged.unplaced.fasta >linkage_merged.fasta        base.py:1185\n",
      "[10:47:12 PM] DEBUG    Load file `linkage_merged.agp`                                                            base.py:33\n",
      "              DEBUG    Load file                                                                                 base.py:33\n",
      "                       `/storage/group/ibb3/default/genome_annotation/Apalm_dovetail_assemblies/Apalm_assembly_v           \n",
      "                       2.0_180910.softmasked.fa.sizes`                                                                     \n",
      "              DEBUG    Load file `/storage/group/ibb3/default/darpa/linkage_scaff/linkage_merged.fasta`          base.py:33\n",
      "[10:47:15 PM] DEBUG    Load file `linkage_merged.fasta.sizes`                                                    base.py:33\n",
      "              DEBUG    File written to `linkage_merged.chain`.                                                 chain.py:204\n",
      "              DEBUG    liftOver -minMatch=1 linkage_merged.bed linkage_merged.chain linkage_merged.lifted.bed  base.py:1185\n",
      "                       unmapped                                                                                            \n",
      "Reading liftover chains\n",
      "Mapping coordinates\n",
      "              DEBUG    sort -k1,1 -k2,2n -k3,3n -k4,4 linkage_merged.lifted.bed -o linkage_merged.lifted.bed   base.py:1185\n",
      "              DEBUG    Load file `linkage_merged.bed`                                                            base.py:33\n",
      "              DEBUG    Map contains 1199 markers in 14 linkage groups.                                       allmaps.py:546\n",
      "              DEBUG    Load file                                                                                 base.py:33\n",
      "                       `/storage/group/ibb3/default/genome_annotation/Apalm_dovetail_assemblies/Apalm_assembly_v           \n",
      "                       2.0_180910.softmasked.fa.sizes`                                                                     \n",
      "              DEBUG    Load file `linkage_merged.chr.agp`                                                        base.py:33\n",
      "              DEBUG    Load file `linkage_merged.chr.agp`                                                        base.py:33\n",
      "              DEBUG    Load file `linkage_merged.lifted.bed`                                                     base.py:33\n",
      "              DEBUG    Map contains 1199 markers in 14 linkage groups.                                       allmaps.py:546\n",
      "              DEBUG    Load file `weights.txt`                                                                   base.py:33\n",
      "              DEBUG    Imported 1 records from `weights.txt`.                                                   base.py:102\n",
      "              DEBUG    Map weights: odict_items([('linkage_map_1', 1)])                                      allmaps.py:659\n",
      "[10:47:16 PM] DEBUG    Load file `linkage_merged.agp`                                                            base.py:33\n",
      "[10:47:17 PM] INFO     savefig failed. Reset usetex to False.                                                   base.py:287\n",
      "                       Failed to process string with tex because latex could not be found                                  \n",
      "Traceback (most recent call last):\n",
      "  File \"/storage/group/ibb3/default/.conda/envs/allmaps/lib/python3.9/site-packages/matplotlib/texmanager.py\", line 255, in _run_checked_subprocess\n",
      "    report = subprocess.check_output(\n",
      "  File \"/storage/group/ibb3/default/.conda/envs/allmaps/lib/python3.9/subprocess.py\", line 424, in check_output\n",
      "    return run(*popenargs, stdout=PIPE, timeout=timeout, check=True,\n",
      "  File \"/storage/group/ibb3/default/.conda/envs/allmaps/lib/python3.9/subprocess.py\", line 505, in run\n",
      "    with Popen(*popenargs, **kwargs) as process:\n",
      "  File \"/storage/group/ibb3/default/.conda/envs/allmaps/lib/python3.9/subprocess.py\", line 951, in __init__\n",
      "    self._execute_child(args, executable, preexec_fn, close_fds,\n",
      "  File \"/storage/group/ibb3/default/.conda/envs/allmaps/lib/python3.9/subprocess.py\", line 1821, in _execute_child\n",
      "    raise child_exception_type(errno_num, err_msg, err_filename)\n",
      "FileNotFoundError: [Errno 2] No such file or directory: 'latex'\n",
      "\n",
      "The above exception was the direct cause of the following exception:\n",
      "\n",
      "Traceback (most recent call last):\n",
      "  File \"/storage/group/ibb3/default/.conda/envs/allmaps/lib/python3.9/site-packages/jcvi/graphics/base.py\", line 283, in savefig\n",
      "    plt.savefig(figname, dpi=dpi, format=format)\n",
      "  File \"/storage/group/ibb3/default/.conda/envs/allmaps/lib/python3.9/site-packages/matplotlib/pyplot.py\", line 1023, in savefig\n",
      "    res = fig.savefig(*args, **kwargs)\n",
      "  File \"/storage/group/ibb3/default/.conda/envs/allmaps/lib/python3.9/site-packages/matplotlib/figure.py\", line 3343, in savefig\n",
      "    self.canvas.print_figure(fname, **kwargs)\n",
      "  File \"/storage/group/ibb3/default/.conda/envs/allmaps/lib/python3.9/site-packages/matplotlib/backend_bases.py\", line 2366, in print_figure\n",
      "    result = print_method(\n",
      "  File \"/storage/group/ibb3/default/.conda/envs/allmaps/lib/python3.9/site-packages/matplotlib/backend_bases.py\", line 2232, in <lambda>\n",
      "    print_method = functools.wraps(meth)(lambda *args, **kwargs: meth(\n",
      "  File \"/storage/group/ibb3/default/.conda/envs/allmaps/lib/python3.9/site-packages/matplotlib/backends/backend_pdf.py\", line 2815, in print_pdf\n",
      "    self.figure.draw(renderer)\n",
      "  File \"/storage/group/ibb3/default/.conda/envs/allmaps/lib/python3.9/site-packages/matplotlib/artist.py\", line 95, in draw_wrapper\n",
      "    result = draw(artist, renderer, *args, **kwargs)\n",
      "  File \"/storage/group/ibb3/default/.conda/envs/allmaps/lib/python3.9/site-packages/matplotlib/artist.py\", line 72, in draw_wrapper\n",
      "    return draw(artist, renderer)\n",
      "  File \"/storage/group/ibb3/default/.conda/envs/allmaps/lib/python3.9/site-packages/matplotlib/figure.py\", line 3140, in draw\n",
      "    mimage._draw_list_compositing_images(\n",
      "  File \"/storage/group/ibb3/default/.conda/envs/allmaps/lib/python3.9/site-packages/matplotlib/image.py\", line 131, in _draw_list_compositing_images\n",
      "    a.draw(renderer)\n",
      "  File \"/storage/group/ibb3/default/.conda/envs/allmaps/lib/python3.9/site-packages/matplotlib/artist.py\", line 72, in draw_wrapper\n",
      "    return draw(artist, renderer)\n",
      "  File \"/storage/group/ibb3/default/.conda/envs/allmaps/lib/python3.9/site-packages/matplotlib/axes/_base.py\", line 3028, in draw\n",
      "    self._update_title_position(renderer)\n",
      "  File \"/storage/group/ibb3/default/.conda/envs/allmaps/lib/python3.9/site-packages/matplotlib/axes/_base.py\", line 2963, in _update_title_position\n",
      "    bb = ax.xaxis.get_tightbbox(renderer)\n",
      "  File \"/storage/group/ibb3/default/.conda/envs/allmaps/lib/python3.9/site-packages/matplotlib/axis.py\", line 1325, in get_tightbbox\n",
      "    self._update_label_position(renderer)\n",
      "  File \"/storage/group/ibb3/default/.conda/envs/allmaps/lib/python3.9/site-packages/matplotlib/axis.py\", line 2304, in _update_label_position\n",
      "    bboxes, bboxes2 = self._get_tick_boxes_siblings(renderer=renderer)\n",
      "  File \"/storage/group/ibb3/default/.conda/envs/allmaps/lib/python3.9/site-packages/matplotlib/axis.py\", line 2100, in _get_tick_boxes_siblings\n",
      "    tlb, tlb2 = axis._get_ticklabel_bboxes(ticks_to_draw, renderer)\n",
      "  File \"/storage/group/ibb3/default/.conda/envs/allmaps/lib/python3.9/site-packages/matplotlib/axis.py\", line 1304, in _get_ticklabel_bboxes\n",
      "    return ([tick.label1.get_window_extent(renderer)\n",
      "  File \"/storage/group/ibb3/default/.conda/envs/allmaps/lib/python3.9/site-packages/matplotlib/axis.py\", line 1304, in <listcomp>\n",
      "    return ([tick.label1.get_window_extent(renderer)\n",
      "  File \"/storage/group/ibb3/default/.conda/envs/allmaps/lib/python3.9/site-packages/matplotlib/text.py\", line 959, in get_window_extent\n",
      "    bbox, info, descent = self._get_layout(self._renderer)\n",
      "  File \"/storage/group/ibb3/default/.conda/envs/allmaps/lib/python3.9/site-packages/matplotlib/text.py\", line 378, in _get_layout\n",
      "    _, lp_h, lp_d = _get_text_metrics_with_cache(\n",
      "  File \"/storage/group/ibb3/default/.conda/envs/allmaps/lib/python3.9/site-packages/matplotlib/text.py\", line 97, in _get_text_metrics_with_cache\n"
     ]
    },
    {
     "name": "stderr",
     "output_type": "stream",
     "text": [
      "    return _get_text_metrics_with_cache_impl(\n",
      "  File \"/storage/group/ibb3/default/.conda/envs/allmaps/lib/python3.9/site-packages/matplotlib/text.py\", line 105, in _get_text_metrics_with_cache_impl\n",
      "    return renderer_ref().get_text_width_height_descent(text, fontprop, ismath)\n",
      "  File \"/storage/group/ibb3/default/.conda/envs/allmaps/lib/python3.9/site-packages/matplotlib/backends/_backend_pdf_ps.py\", line 107, in get_text_width_height_descent\n",
      "    return super().get_text_width_height_descent(s, prop, ismath)\n",
      "  File \"/storage/group/ibb3/default/.conda/envs/allmaps/lib/python3.9/site-packages/matplotlib/backend_bases.py\", line 645, in get_text_width_height_descent\n",
      "    return self.get_texmanager().get_text_width_height_descent(\n",
      "  File \"/storage/group/ibb3/default/.conda/envs/allmaps/lib/python3.9/site-packages/matplotlib/texmanager.py\", line 368, in get_text_width_height_descent\n",
      "    dvifile = cls.make_dvi(tex, fontsize)\n",
      "  File \"/storage/group/ibb3/default/.conda/envs/allmaps/lib/python3.9/site-packages/matplotlib/texmanager.py\", line 300, in make_dvi\n",
      "    cls._run_checked_subprocess(\n",
      "  File \"/storage/group/ibb3/default/.conda/envs/allmaps/lib/python3.9/site-packages/matplotlib/texmanager.py\", line 259, in _run_checked_subprocess\n",
      "    raise RuntimeError(\n",
      "RuntimeError: Failed to process string with tex because latex could not be found\n",
      "\n",
      "During handling of the above exception, another exception occurred:\n",
      "\n",
      "Traceback (most recent call last):\n",
      "  File \"/storage/group/ibb3/default/.conda/envs/allmaps/lib/python3.9/site-packages/matplotlib/texmanager.py\", line 255, in _run_checked_subprocess\n",
      "    report = subprocess.check_output(\n",
      "  File \"/storage/group/ibb3/default/.conda/envs/allmaps/lib/python3.9/subprocess.py\", line 424, in check_output\n",
      "    return run(*popenargs, stdout=PIPE, timeout=timeout, check=True,\n",
      "  File \"/storage/group/ibb3/default/.conda/envs/allmaps/lib/python3.9/subprocess.py\", line 505, in run\n",
      "    with Popen(*popenargs, **kwargs) as process:\n",
      "  File \"/storage/group/ibb3/default/.conda/envs/allmaps/lib/python3.9/subprocess.py\", line 951, in __init__\n",
      "    self._execute_child(args, executable, preexec_fn, close_fds,\n",
      "  File \"/storage/group/ibb3/default/.conda/envs/allmaps/lib/python3.9/subprocess.py\", line 1821, in _execute_child\n",
      "    raise child_exception_type(errno_num, err_msg, err_filename)\n",
      "FileNotFoundError: [Errno 2] No such file or directory: 'latex'\n",
      "\n",
      "The above exception was the direct cause of the following exception:\n",
      "\n",
      "Traceback (most recent call last):\n",
      "  File \"/storage/group/ibb3/default/.conda/envs/allmaps/lib/python3.9/runpy.py\", line 197, in _run_module_as_main\n",
      "    return _run_code(code, main_globals, None,\n",
      "  File \"/storage/group/ibb3/default/.conda/envs/allmaps/lib/python3.9/runpy.py\", line 87, in _run_code\n",
      "    exec(code, run_globals)\n",
      "  File \"/storage/group/ibb3/default/.conda/envs/allmaps/lib/python3.9/site-packages/jcvi/assembly/allmaps.py\", line 2034, in <module>\n",
      "    main()\n",
      "  File \"/storage/group/ibb3/default/.conda/envs/allmaps/lib/python3.9/site-packages/jcvi/assembly/allmaps.py\", line 861, in main\n",
      "    p.dispatch(globals())\n",
      "  File \"/storage/group/ibb3/default/.conda/envs/allmaps/lib/python3.9/site-packages/jcvi/apps/base.py\", line 110, in dispatch\n",
      "    globals[action](sys.argv[2:])\n",
      "  File \"/storage/group/ibb3/default/.conda/envs/allmaps/lib/python3.9/site-packages/jcvi/assembly/allmaps.py\", line 1637, in path\n",
      "    plotall(\n",
      "  File \"/storage/group/ibb3/default/.conda/envs/allmaps/lib/python3.9/site-packages/jcvi/assembly/allmaps.py\", line 2030, in plotall\n",
      "    plot(xargs + [seqid])\n",
      "  File \"/storage/group/ibb3/default/.conda/envs/allmaps/lib/python3.9/site-packages/jcvi/assembly/allmaps.py\", line 2005, in plot\n",
      "    savefig(image_name, dpi=iopts.dpi, iopts=iopts)\n",
      "  File \"/storage/group/ibb3/default/.conda/envs/allmaps/lib/python3.9/site-packages/jcvi/graphics/base.py\", line 289, in savefig\n",
      "    plt.savefig(figname, dpi=dpi)\n",
      "  File \"/storage/group/ibb3/default/.conda/envs/allmaps/lib/python3.9/site-packages/matplotlib/pyplot.py\", line 1023, in savefig\n",
      "    res = fig.savefig(*args, **kwargs)\n",
      "  File \"/storage/group/ibb3/default/.conda/envs/allmaps/lib/python3.9/site-packages/matplotlib/figure.py\", line 3343, in savefig\n",
      "    self.canvas.print_figure(fname, **kwargs)\n",
      "  File \"/storage/group/ibb3/default/.conda/envs/allmaps/lib/python3.9/site-packages/matplotlib/backend_bases.py\", line 2366, in print_figure\n",
      "    result = print_method(\n",
      "  File \"/storage/group/ibb3/default/.conda/envs/allmaps/lib/python3.9/site-packages/matplotlib/backend_bases.py\", line 2232, in <lambda>\n",
      "    print_method = functools.wraps(meth)(lambda *args, **kwargs: meth(\n",
      "  File \"/storage/group/ibb3/default/.conda/envs/allmaps/lib/python3.9/site-packages/matplotlib/backends/backend_pdf.py\", line 2815, in print_pdf\n",
      "    self.figure.draw(renderer)\n",
      "  File \"/storage/group/ibb3/default/.conda/envs/allmaps/lib/python3.9/site-packages/matplotlib/artist.py\", line 95, in draw_wrapper\n",
      "    result = draw(artist, renderer, *args, **kwargs)\n",
      "  File \"/storage/group/ibb3/default/.conda/envs/allmaps/lib/python3.9/site-packages/matplotlib/artist.py\", line 72, in draw_wrapper\n",
      "    return draw(artist, renderer)\n",
      "  File \"/storage/group/ibb3/default/.conda/envs/allmaps/lib/python3.9/site-packages/matplotlib/figure.py\", line 3140, in draw\n",
      "    mimage._draw_list_compositing_images(\n",
      "  File \"/storage/group/ibb3/default/.conda/envs/allmaps/lib/python3.9/site-packages/matplotlib/image.py\", line 131, in _draw_list_compositing_images\n",
      "    a.draw(renderer)\n",
      "  File \"/storage/group/ibb3/default/.conda/envs/allmaps/lib/python3.9/site-packages/matplotlib/artist.py\", line 72, in draw_wrapper\n",
      "    return draw(artist, renderer)\n",
      "  File \"/storage/group/ibb3/default/.conda/envs/allmaps/lib/python3.9/site-packages/matplotlib/axes/_base.py\", line 3028, in draw\n",
      "    self._update_title_position(renderer)\n",
      "  File \"/storage/group/ibb3/default/.conda/envs/allmaps/lib/python3.9/site-packages/matplotlib/axes/_base.py\", line 2963, in _update_title_position\n",
      "    bb = ax.xaxis.get_tightbbox(renderer)\n",
      "  File \"/storage/group/ibb3/default/.conda/envs/allmaps/lib/python3.9/site-packages/matplotlib/axis.py\", line 1325, in get_tightbbox\n",
      "    self._update_label_position(renderer)\n",
      "  File \"/storage/group/ibb3/default/.conda/envs/allmaps/lib/python3.9/site-packages/matplotlib/axis.py\", line 2304, in _update_label_position\n",
      "    bboxes, bboxes2 = self._get_tick_boxes_siblings(renderer=renderer)\n",
      "  File \"/storage/group/ibb3/default/.conda/envs/allmaps/lib/python3.9/site-packages/matplotlib/axis.py\", line 2100, in _get_tick_boxes_siblings\n",
      "    tlb, tlb2 = axis._get_ticklabel_bboxes(ticks_to_draw, renderer)\n",
      "  File \"/storage/group/ibb3/default/.conda/envs/allmaps/lib/python3.9/site-packages/matplotlib/axis.py\", line 1304, in _get_ticklabel_bboxes\n",
      "    return ([tick.label1.get_window_extent(renderer)\n",
      "  File \"/storage/group/ibb3/default/.conda/envs/allmaps/lib/python3.9/site-packages/matplotlib/axis.py\", line 1304, in <listcomp>\n",
      "    return ([tick.label1.get_window_extent(renderer)\n",
      "  File \"/storage/group/ibb3/default/.conda/envs/allmaps/lib/python3.9/site-packages/matplotlib/text.py\", line 959, in get_window_extent\n",
      "    bbox, info, descent = self._get_layout(self._renderer)\n",
      "  File \"/storage/group/ibb3/default/.conda/envs/allmaps/lib/python3.9/site-packages/matplotlib/text.py\", line 378, in _get_layout\n",
      "    _, lp_h, lp_d = _get_text_metrics_with_cache(\n",
      "  File \"/storage/group/ibb3/default/.conda/envs/allmaps/lib/python3.9/site-packages/matplotlib/text.py\", line 97, in _get_text_metrics_with_cache\n",
      "    return _get_text_metrics_with_cache_impl(\n",
      "  File \"/storage/group/ibb3/default/.conda/envs/allmaps/lib/python3.9/site-packages/matplotlib/text.py\", line 105, in _get_text_metrics_with_cache_impl\n",
      "    return renderer_ref().get_text_width_height_descent(text, fontprop, ismath)\n",
      "  File \"/storage/group/ibb3/default/.conda/envs/allmaps/lib/python3.9/site-packages/matplotlib/backends/_backend_pdf_ps.py\", line 107, in get_text_width_height_descent\n",
      "    return super().get_text_width_height_descent(s, prop, ismath)\n",
      "  File \"/storage/group/ibb3/default/.conda/envs/allmaps/lib/python3.9/site-packages/matplotlib/backend_bases.py\", line 645, in get_text_width_height_descent\n",
      "    return self.get_texmanager().get_text_width_height_descent(\n"
     ]
    },
    {
     "name": "stderr",
     "output_type": "stream",
     "text": [
      "  File \"/storage/group/ibb3/default/.conda/envs/allmaps/lib/python3.9/site-packages/matplotlib/texmanager.py\", line 368, in get_text_width_height_descent\n",
      "    dvifile = cls.make_dvi(tex, fontsize)\n",
      "  File \"/storage/group/ibb3/default/.conda/envs/allmaps/lib/python3.9/site-packages/matplotlib/texmanager.py\", line 300, in make_dvi\n",
      "    cls._run_checked_subprocess(\n",
      "  File \"/storage/group/ibb3/default/.conda/envs/allmaps/lib/python3.9/site-packages/matplotlib/texmanager.py\", line 259, in _run_checked_subprocess\n",
      "    raise RuntimeError(\n",
      "RuntimeError: Failed to process string with tex because latex could not be found\n"
     ]
    },
    {
     "ename": "CalledProcessError",
     "evalue": "Command 'b'source ~/.bashrc\\nconda activate allmaps\\ncd /storage/group/ibb3/default/darpa/linkage_scaff/\\npython -m jcvi.assembly.allmaps path --notex --renumber linkage_merged.bed \\\\\\n    /storage/group/ibb3/default/genome_annotation/Apalm_dovetail_assemblies/Apalm_assembly_v2.0_180910.softmasked.fa\\n'' returned non-zero exit status 1.",
     "output_type": "error",
     "traceback": [
      "\u001b[0;31m---------------------------------------------------------------------------\u001b[0m",
      "\u001b[0;31mCalledProcessError\u001b[0m                        Traceback (most recent call last)",
      "Cell \u001b[0;32mIn[53], line 1\u001b[0m\n\u001b[0;32m----> 1\u001b[0m \u001b[43mget_ipython\u001b[49m\u001b[43m(\u001b[49m\u001b[43m)\u001b[49m\u001b[38;5;241;43m.\u001b[39;49m\u001b[43mrun_cell_magic\u001b[49m\u001b[43m(\u001b[49m\u001b[38;5;124;43m'\u001b[39;49m\u001b[38;5;124;43mbash\u001b[39;49m\u001b[38;5;124;43m'\u001b[39;49m\u001b[43m,\u001b[49m\u001b[43m \u001b[49m\u001b[38;5;124;43m'\u001b[39;49m\u001b[38;5;124;43m'\u001b[39;49m\u001b[43m,\u001b[49m\u001b[43m \u001b[49m\u001b[38;5;124;43m'\u001b[39;49m\u001b[38;5;124;43msource ~/.bashrc\u001b[39;49m\u001b[38;5;130;43;01m\\n\u001b[39;49;00m\u001b[38;5;124;43mconda activate allmaps\u001b[39;49m\u001b[38;5;130;43;01m\\n\u001b[39;49;00m\u001b[38;5;124;43mcd /storage/group/ibb3/default/darpa/linkage_scaff/\u001b[39;49m\u001b[38;5;130;43;01m\\n\u001b[39;49;00m\u001b[38;5;124;43mpython -m jcvi.assembly.allmaps path --notex --renumber linkage_merged.bed \u001b[39;49m\u001b[38;5;130;43;01m\\\\\u001b[39;49;00m\u001b[38;5;130;43;01m\\n\u001b[39;49;00m\u001b[38;5;124;43m    /storage/group/ibb3/default/genome_annotation/Apalm_dovetail_assemblies/Apalm_assembly_v2.0_180910.softmasked.fa\u001b[39;49m\u001b[38;5;130;43;01m\\n\u001b[39;49;00m\u001b[38;5;124;43m'\u001b[39;49m\u001b[43m)\u001b[49m\n",
      "File \u001b[0;32m/storage/group/ibb3/default/.conda/envs/masters/lib/python3.10/site-packages/IPython/core/interactiveshell.py:2430\u001b[0m, in \u001b[0;36mInteractiveShell.run_cell_magic\u001b[0;34m(self, magic_name, line, cell)\u001b[0m\n\u001b[1;32m   2428\u001b[0m \u001b[38;5;28;01mwith\u001b[39;00m \u001b[38;5;28mself\u001b[39m\u001b[38;5;241m.\u001b[39mbuiltin_trap:\n\u001b[1;32m   2429\u001b[0m     args \u001b[38;5;241m=\u001b[39m (magic_arg_s, cell)\n\u001b[0;32m-> 2430\u001b[0m     result \u001b[38;5;241m=\u001b[39m \u001b[43mfn\u001b[49m\u001b[43m(\u001b[49m\u001b[38;5;241;43m*\u001b[39;49m\u001b[43margs\u001b[49m\u001b[43m,\u001b[49m\u001b[43m \u001b[49m\u001b[38;5;241;43m*\u001b[39;49m\u001b[38;5;241;43m*\u001b[39;49m\u001b[43mkwargs\u001b[49m\u001b[43m)\u001b[49m\n\u001b[1;32m   2432\u001b[0m \u001b[38;5;66;03m# The code below prevents the output from being displayed\u001b[39;00m\n\u001b[1;32m   2433\u001b[0m \u001b[38;5;66;03m# when using magics with decodator @output_can_be_silenced\u001b[39;00m\n\u001b[1;32m   2434\u001b[0m \u001b[38;5;66;03m# when the last Python token in the expression is a ';'.\u001b[39;00m\n\u001b[1;32m   2435\u001b[0m \u001b[38;5;28;01mif\u001b[39;00m \u001b[38;5;28mgetattr\u001b[39m(fn, magic\u001b[38;5;241m.\u001b[39mMAGIC_OUTPUT_CAN_BE_SILENCED, \u001b[38;5;28;01mFalse\u001b[39;00m):\n",
      "File \u001b[0;32m/storage/group/ibb3/default/.conda/envs/masters/lib/python3.10/site-packages/IPython/core/magics/script.py:153\u001b[0m, in \u001b[0;36mScriptMagics._make_script_magic.<locals>.named_script_magic\u001b[0;34m(line, cell)\u001b[0m\n\u001b[1;32m    151\u001b[0m \u001b[38;5;28;01melse\u001b[39;00m:\n\u001b[1;32m    152\u001b[0m     line \u001b[38;5;241m=\u001b[39m script\n\u001b[0;32m--> 153\u001b[0m \u001b[38;5;28;01mreturn\u001b[39;00m \u001b[38;5;28;43mself\u001b[39;49m\u001b[38;5;241;43m.\u001b[39;49m\u001b[43mshebang\u001b[49m\u001b[43m(\u001b[49m\u001b[43mline\u001b[49m\u001b[43m,\u001b[49m\u001b[43m \u001b[49m\u001b[43mcell\u001b[49m\u001b[43m)\u001b[49m\n",
      "File \u001b[0;32m/storage/group/ibb3/default/.conda/envs/masters/lib/python3.10/site-packages/IPython/core/magics/script.py:305\u001b[0m, in \u001b[0;36mScriptMagics.shebang\u001b[0;34m(self, line, cell)\u001b[0m\n\u001b[1;32m    300\u001b[0m \u001b[38;5;28;01mif\u001b[39;00m args\u001b[38;5;241m.\u001b[39mraise_error \u001b[38;5;129;01mand\u001b[39;00m p\u001b[38;5;241m.\u001b[39mreturncode \u001b[38;5;241m!=\u001b[39m \u001b[38;5;241m0\u001b[39m:\n\u001b[1;32m    301\u001b[0m     \u001b[38;5;66;03m# If we get here and p.returncode is still None, we must have\u001b[39;00m\n\u001b[1;32m    302\u001b[0m     \u001b[38;5;66;03m# killed it but not yet seen its return code. We don't wait for it,\u001b[39;00m\n\u001b[1;32m    303\u001b[0m     \u001b[38;5;66;03m# in case it's stuck in uninterruptible sleep. -9 = SIGKILL\u001b[39;00m\n\u001b[1;32m    304\u001b[0m     rc \u001b[38;5;241m=\u001b[39m p\u001b[38;5;241m.\u001b[39mreturncode \u001b[38;5;129;01mor\u001b[39;00m \u001b[38;5;241m-\u001b[39m\u001b[38;5;241m9\u001b[39m\n\u001b[0;32m--> 305\u001b[0m     \u001b[38;5;28;01mraise\u001b[39;00m CalledProcessError(rc, cell)\n",
      "\u001b[0;31mCalledProcessError\u001b[0m: Command 'b'source ~/.bashrc\\nconda activate allmaps\\ncd /storage/group/ibb3/default/darpa/linkage_scaff/\\npython -m jcvi.assembly.allmaps path --notex --renumber linkage_merged.bed \\\\\\n    /storage/group/ibb3/default/genome_annotation/Apalm_dovetail_assemblies/Apalm_assembly_v2.0_180910.softmasked.fa\\n'' returned non-zero exit status 1."
     ]
    }
   ],
   "source": [
    "%%bash\n",
    "source ~/.bashrc\n",
    "conda activate allmaps\n",
    "cd /storage/group/ibb3/default/darpa/linkage_scaff/\n",
    "python -m jcvi.assembly.allmaps path --notex --renumber linkage_merged.bed \\\n",
    "    /storage/group/ibb3/default/genome_annotation/Apalm_dovetail_assemblies/Apalm_assembly_v2.0_180910.softmasked.fa"
   ]
  },
  {
   "cell_type": "code",
   "execution_count": 55,
   "id": "03e0cbe3",
   "metadata": {},
   "outputs": [
    {
     "name": "stdout",
     "output_type": "stream",
     "text": [
      "*** Summary for each individual map ***\r\n",
      "=================================================\r\n",
      "                         o          linkage_map_1\r\n",
      "-------------------------------------------------\r\n",
      "            Linkage Groups                     14\r\n",
      "          Markers (unique)                  1,199\r\n",
      "            Markers per Mb                    4.4\r\n",
      "             N50 Scaffolds                     16\r\n",
      "                 Scaffolds                     67\r\n",
      "   Scaffolds with 1 marker                     14\r\n",
      "  Scaffolds with 2 markers                      8\r\n",
      "  Scaffolds with 3 markers                      6\r\n",
      "Scaffolds with >=4 markers                     39\r\n",
      "               Total bases    270,349,958 (88.9%)\r\n",
      "-------------------------------------------------\r\n",
      "*** Summary for consensus map ***\r\n",
      "===============================================================================================\r\n",
      "                         o               Anchored               Oriented               Unplaced\r\n",
      "-----------------------------------------------------------------------------------------------\r\n",
      "          Markers (unique)                    809                    734                    390\r\n",
      "            Markers per Mb                    5.0                    5.7                    2.7\r\n",
      "             N50 Scaffolds                     11                      8                      5\r\n",
      "                 Scaffolds                     36                     27                    405\r\n",
      "   Scaffolds with 1 marker                     10                      4                      4\r\n",
      "  Scaffolds with 2 markers                      0                      0                      8\r\n",
      "  Scaffolds with 3 markers                      3                      3                      3\r\n",
      "Scaffolds with >=4 markers                     23                     20                     16\r\n",
      "               Total bases    162,023,164 (53.3%)    127,915,056 (42.0%)    142,228,908 (46.7%)\r\n",
      "-----------------------------------------------------------------------------------------------\r\n"
     ]
    }
   ],
   "source": [
    "!cat /storage/group/ibb3/default/darpa/linkage_scaff/linkage_merged.summary.txt"
   ]
  },
  {
   "cell_type": "code",
   "execution_count": 54,
   "id": "f135a02d",
   "metadata": {},
   "outputs": [
    {
     "name": "stdout",
     "output_type": "stream",
     "text": [
      "ERROR: This cross-compiler package contains no program /storage/group/ibb3/default/.conda/envs/ipyrad/bin/x86_64-conda_cos6-linux-gnu-cc\n",
      "ERROR: activate-gcc_linux-64.sh failed, see above for details\n",
      "A\tC\tG\tT\tN\tIUPAC\tOther\tGC\tGC_stdev\n",
      "0.3051\t0.1950\t0.1950\t0.3049\t0.0006\t0.0000\t0.0000\t0.3900\t0.0203\n",
      "\n",
      "Main genome scaffold total:         \t419\n",
      "Main genome contig total:           \t2366\n",
      "Main genome scaffold sequence total:\t304.254 MB\n",
      "Main genome contig sequence total:  \t304.060 MB  \t0.064% gap\n",
      "Main genome scaffold N/L50:         \t8/12.984 MB\n",
      "Main genome contig N/L50:           \t400/230.835 KB\n",
      "Main genome scaffold N/L90:         \t42/542.891 KB\n",
      "Main genome contig N/L90:           \t1366/62.198 KB\n",
      "Max scaffold length:                \t36.75 MB\n",
      "Max contig length:                  \t1.429 MB\n",
      "Number of scaffolds > 50 KB:        \t232\n",
      "% main genome in scaffolds > 50 KB: \t98.47%\n",
      "\n",
      "\n",
      "Minimum \tNumber        \tNumber        \tTotal         \tTotal         \tScaffold\n",
      "Scaffold\tof            \tof            \tScaffold      \tContig        \tContig  \n",
      "Length  \tScaffolds     \tContigs       \tLength        \tLength        \tCoverage\n",
      "--------\t--------------\t--------------\t--------------\t--------------\t--------\n",
      "    All \t           419\t         2,366\t   304,254,272\t   304,059,564\t  99.94%\n",
      "    500 \t           419\t         2,366\t   304,254,272\t   304,059,564\t  99.94%\n",
      "   1 KB \t           416\t         2,360\t   304,252,363\t   304,057,955\t  99.94%\n",
      " 2.5 KB \t           415\t         2,358\t   304,250,067\t   304,055,759\t  99.94%\n",
      "   5 KB \t           415\t         2,358\t   304,250,067\t   304,055,759\t  99.94%\n",
      "  10 KB \t           408\t         2,348\t   304,193,195\t   303,999,187\t  99.94%\n",
      "  25 KB \t           311\t         2,249\t   302,397,378\t   302,203,570\t  99.94%\n",
      "  50 KB \t           232\t         2,159\t   299,590,402\t   299,397,694\t  99.94%\n",
      " 100 KB \t           146\t         2,019\t   293,337,954\t   293,150,646\t  99.94%\n",
      " 250 KB \t            59\t         1,831\t   280,001,734\t   279,824,526\t  99.94%\n",
      " 500 KB \t            42\t         1,790\t   274,202,086\t   274,027,278\t  99.94%\n",
      "   1 MB \t            33\t         1,745\t   268,123,457\t   267,952,249\t  99.94%\n",
      " 2.5 MB \t            23\t         1,678\t   255,277,557\t   255,112,049\t  99.94%\n",
      "   5 MB \t            18\t         1,556\t   236,568,329\t   236,414,523\t  99.93%\n",
      "  10 MB \t            10\t         1,149\t   181,937,315\t   181,823,409\t  99.94%\n",
      "  25 MB \t             2\t           415\t    63,986,852\t    63,945,551\t  99.94%\n",
      "\n"
     ]
    }
   ],
   "source": [
    "%%bash\n",
    "source ~/.bashrc\n",
    "conda activate ipyrad\n",
    "stats.sh /storage/group/ibb3/default/darpa/linkage_scaff/linkage_merged.fasta"
   ]
  },
  {
   "cell_type": "code",
   "execution_count": null,
   "id": "c07e1ccb",
   "metadata": {},
   "outputs": [],
   "source": []
  }
 ],
 "metadata": {
  "kernelspec": {
   "display_name": "Masters Env",
   "language": "python",
   "name": "masters"
  },
  "language_info": {
   "codemirror_mode": {
    "name": "ipython",
    "version": 3
   },
   "file_extension": ".py",
   "mimetype": "text/x-python",
   "name": "python",
   "nbconvert_exporter": "python",
   "pygments_lexer": "ipython3",
   "version": "3.10.8"
  }
 },
 "nbformat": 4,
 "nbformat_minor": 5
}
