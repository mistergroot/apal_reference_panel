{
 "cells": [
  {
   "cell_type": "code",
   "execution_count": 54,
   "id": "68cd0d02",
   "metadata": {},
   "outputs": [],
   "source": [
    "import numpy as np\n",
    "import pandas as pd\n",
    "import subprocess\n",
    "import re\n",
    "import seaborn as sns\n",
    "import matplotlib.pyplot as plt"
   ]
  },
  {
   "cell_type": "code",
   "execution_count": 6,
   "id": "c92ba48b",
   "metadata": {
    "scrolled": true
   },
   "outputs": [
    {
     "name": "stderr",
     "output_type": "stream",
     "text": [
      "Using GATK jar /storage/group/ibb3/default/.conda/envs/gatk4/share/gatk4-4.4.0.0-0/gatk-package-4.4.0.0-local.jar\n",
      "Running:\n",
      "    java -Dsamjdk.use_async_io_read_samtools=false -Dsamjdk.use_async_io_write_samtools=true -Dsamjdk.use_async_io_write_tribble=false -Dsamjdk.compression_level=2 -jar /storage/group/ibb3/default/.conda/envs/gatk4/share/gatk4-4.4.0.0-0/gatk-package-4.4.0.0-local.jar CreateSequenceDictionary R=/storage/group/ibb3/default/AP_AC_genome_seqs/dovetail_Apalm/HiC_improvement/Apalm_assembly_v3.1_200911.masked.fasta O=/storage/group/ibb3/default/AP_AC_genome_seqs/dovetail_Apalm/HiC_improvement/Apalm_assembly_v3.1_200911.masked.dict\n",
      "INFO\t2024-01-02 11:06:48\tCreateSequenceDictionary\t\n",
      "\n",
      "********** NOTE: Picard's command line syntax is changing.\n",
      "**********\n",
      "********** For more information, please see:\n",
      "********** \n",
      "https://github.com/broadinstitute/picard/wiki/Command-Line-Syntax-Transition-For-Users-(Pre-Transition)\n",
      "**********\n",
      "********** The command line looks like this in the new syntax:\n",
      "**********\n",
      "**********    CreateSequenceDictionary -R /storage/group/ibb3/default/AP_AC_genome_seqs/dovetail_Apalm/HiC_improvement/Apalm_assembly_v3.1_200911.masked.fasta -O /storage/group/ibb3/default/AP_AC_genome_seqs/dovetail_Apalm/HiC_improvement/Apalm_assembly_v3.1_200911.masked.dict\n",
      "**********\n",
      "\n",
      "\n",
      "11:06:48.910 INFO  NativeLibraryLoader - Loading libgkl_compression.so from jar:file:/storage/group/ibb3/default/.conda/envs/gatk4/share/gatk4-4.4.0.0-0/gatk-package-4.4.0.0-local.jar!/com/intel/gkl/native/libgkl_compression.so\n",
      "[Tue Jan 02 11:06:48 EST 2024] CreateSequenceDictionary OUTPUT=/storage/group/ibb3/default/AP_AC_genome_seqs/dovetail_Apalm/HiC_improvement/Apalm_assembly_v3.1_200911.masked.dict REFERENCE=/storage/group/ibb3/default/AP_AC_genome_seqs/dovetail_Apalm/HiC_improvement/Apalm_assembly_v3.1_200911.masked.fasta    TRUNCATE_NAMES_AT_WHITESPACE=true NUM_SEQUENCES=2147483647 VERBOSITY=INFO QUIET=false VALIDATION_STRINGENCY=STRICT COMPRESSION_LEVEL=2 MAX_RECORDS_IN_RAM=500000 CREATE_INDEX=false CREATE_MD5_FILE=false USE_JDK_DEFLATER=false USE_JDK_INFLATER=false\n",
      "[Tue Jan 02 11:06:48 EST 2024] Executing as nsl5160@p-bc-5038 on Linux 4.18.0-477.27.1.el8_8.x86_64 amd64; OpenJDK 64-Bit Server VM 17.0.9-internal+0-adhoc..src; Deflater: Intel; Inflater: Intel; Provider GCS is available; Picard version: 4.4.0.0\n",
      "[Tue Jan 02 11:06:50 EST 2024] picard.sam.CreateSequenceDictionary done. Elapsed time: 0.03 minutes.\n",
      "Runtime.totalMemory()=285212672\n"
     ]
    },
    {
     "name": "stdout",
     "output_type": "stream",
     "text": [
      "Tool returned:\n",
      "0\n"
     ]
    }
   ],
   "source": [
    "%%bash\n",
    "source ~/.bashrc\n",
    "conda activate gatk4\n",
    "gatk CreateSequenceDictionary \\\n",
    "    R=/storage/group/ibb3/default/AP_AC_genome_seqs/dovetail_Apalm/HiC_improvement/Apalm_assembly_v3.1_200911.masked.fasta \\\n",
    "    O=/storage/group/ibb3/default/AP_AC_genome_seqs/dovetail_Apalm/HiC_improvement/Apalm_assembly_v3.1_200911.masked.dict"
   ]
  },
  {
   "cell_type": "code",
   "execution_count": 11,
   "id": "18ee0230",
   "metadata": {},
   "outputs": [
    {
     "name": "stdout",
     "output_type": "stream",
     "text": [
      "sbatch: slurm_job_submit: No account set, using default acct: open\r\n",
      "Submitted batch job 8135022\r\n",
      "#!/bin/bash\r\n",
      "#SBATCH --nodes=1\r\n",
      "#SBATCH --ntasks=20\r\n",
      "#SBATCH --mem=128GB\r\n",
      "#SBATCH --time=48:00:00\r\n",
      "#SBATCH --job-name=lifto\r\n",
      "\r\n",
      "source ~/.bashrc\r\n",
      "conda activate gatk4\r\n",
      "gatk --java-options '-Xmx128G' LiftoverVcf \\\r\n",
      "    I=../snpchip.vcf \\\r\n",
      "    O=../lifted_over.vcf \\\r\n",
      "    CHAIN=../Adig_Apalm.liftover.chain \\\r\n",
      "    REJECT=../rejected_variants.vcf \\\r\n",
      "    R=/storage/group/ibb3/default/AP_AC_genome_seqs/dovetail_Apalm/HiC_improvement/Apalm_assembly_v3.1_200911.masked.fasta\r\n"
     ]
    }
   ],
   "source": [
    "!sbatch ../liftover.sh ; cat ../liftover.sh"
   ]
  },
  {
   "cell_type": "code",
   "execution_count": 64,
   "id": "869c2433",
   "metadata": {},
   "outputs": [],
   "source": [
    "%%bash\n",
    "grep \"^#\" ../lifted_over.vcf \\\n",
    "    | sed \"s/Sc0a5M3/Apal_Sc0a5M3/g\" \\\n",
    "    | sed \"s/hic_scaffold/Apal_hic_scaffold/g\" \\\n",
    "    > ../lifted_over_headerfix.vcf"
   ]
  },
  {
   "cell_type": "code",
   "execution_count": 62,
   "id": "5beaa1dc",
   "metadata": {},
   "outputs": [],
   "source": [
    "vcf = pd.read_csv(\"../lifted_over.vcf\", sep = \"\\t\", header = None, comment = \"#\")\n",
    "vcf[0] = \"Apal_\" + vcf[0]"
   ]
  },
  {
   "cell_type": "code",
   "execution_count": 63,
   "id": "d139c560",
   "metadata": {},
   "outputs": [],
   "source": [
    "vcf_original_columns = vcf.columns.tolist()"
   ]
  },
  {
   "cell_type": "code",
   "execution_count": 65,
   "id": "63ff6fb1",
   "metadata": {},
   "outputs": [],
   "source": [
    "vcf = vcf.drop_duplicates([0,1]).reset_index(drop=True)"
   ]
  },
  {
   "cell_type": "code",
   "execution_count": 66,
   "id": "f8770ce7",
   "metadata": {},
   "outputs": [],
   "source": [
    "bed = pd.read_csv(\"../references/apal_and_sym.bed\", sep = \"\\t\", header = None)\n",
    "bed = bed.reset_index(drop=False)"
   ]
  },
  {
   "cell_type": "code",
   "execution_count": 67,
   "id": "0832d8b8",
   "metadata": {
    "scrolled": true
   },
   "outputs": [],
   "source": [
    "vcf = vcf.merge(bed[[\"index\", 0]], how = \"left\", on = 0).sort_values([\"index\", 1]).reset_index(drop=True)\n",
    "vcf = vcf[vcf_original_columns]\n",
    "vcf[1] = vcf[1].astype(int)"
   ]
  },
  {
   "cell_type": "code",
   "execution_count": 68,
   "id": "5b96011f",
   "metadata": {},
   "outputs": [],
   "source": [
    "bed = pd.read_csv(\"../references/apal_and_sym.bed\", sep = \"\\t\", header = None)\n",
    "bed = bed.reset_index(drop=False)"
   ]
  },
  {
   "cell_type": "code",
   "execution_count": 69,
   "id": "bf4980b4",
   "metadata": {
    "scrolled": true
   },
   "outputs": [],
   "source": [
    "vcf = vcf.merge(bed[[\"index\", 0]], how = \"left\", on = 0).sort_values([\"index\", 1]).reset_index(drop=True)\n",
    "vcf = vcf[vcf_original_columns]\n",
    "vcf[1] = vcf[1].astype(int)"
   ]
  },
  {
   "cell_type": "code",
   "execution_count": 70,
   "id": "88303880",
   "metadata": {},
   "outputs": [],
   "source": [
    "vcf = vcf[vcf[0].isin(pd.DataFrame(vcf[0].value_counts().head(14)).index)]"
   ]
  },
  {
   "cell_type": "code",
   "execution_count": 71,
   "id": "8d315e6f",
   "metadata": {},
   "outputs": [],
   "source": [
    "vcf.set_index(0).to_csv(\"../lifted_over_headerfix.vcf\", \n",
    "                        mode=\"a\", header=False, sep = \"\\t\")"
   ]
  },
  {
   "cell_type": "code",
   "execution_count": 75,
   "id": "35b4915a",
   "metadata": {},
   "outputs": [
    {
     "name": "stdout",
     "output_type": "stream",
     "text": [
      "ERROR: This cross-compiler package contains no program /storage/group/ibb3/default/.conda/envs/ipyrad/bin/x86_64-conda_cos6-linux-gnu-cc\n",
      "ERROR: activate-gcc_linux-64.sh failed, see above for details\n"
     ]
    }
   ],
   "source": [
    "%%bash\n",
    "source ~/.bashrc\n",
    "conda activate ipyrad\n",
    "bgzip ../lifted_over_headerfix.vcf\n",
    "tabix ../lifted_over_headerfix.vcf.gz"
   ]
  },
  {
   "cell_type": "code",
   "execution_count": 76,
   "id": "76a82dc1",
   "metadata": {},
   "outputs": [
    {
     "name": "stdout",
     "output_type": "stream",
     "text": [
      "ERROR: This cross-compiler package contains no program /storage/group/ibb3/default/.conda/envs/ipyrad/bin/x86_64-conda_cos6-linux-gnu-cc\n",
      "ERROR: activate-gcc_linux-64.sh failed, see above for details\n",
      "Process is interrupted.\n"
     ]
    }
   ],
   "source": [
    "%%bash\n",
    "source ~/.bashrc\n",
    "conda activate ipyrad\n",
    "bcftools isec -p ../isec_output -Oz ../lifted_over_headerfix.vcf.gz ../shapeit_phase/all.phased_tagged.vcf.gz"
   ]
  },
  {
   "cell_type": "markdown",
   "id": "19521f3c",
   "metadata": {},
   "source": [
    "Now we'll test with the microarray data from our hold out individuals. Unfortunately for us, the first step for us is to liftover the coordinates from the microarray over to the Acropora palmata reference. There's probably a more elegant way but this works well. The coordinates from the microarray utilize A. digitifera genomic coordinates and REF/ALT alleles. So these all need to be adjusted if we want to impute the microarray data:"
   ]
  },
  {
   "cell_type": "code",
   "execution_count": 26,
   "id": "5d8d40f5",
   "metadata": {},
   "outputs": [
    {
     "name": "stdout",
     "output_type": "stream",
     "text": [
      "ERROR: This cross-compiler package contains no program /storage/group/ibb3/default/.conda/envs/ipyrad/bin/x86_64-conda_cos6-linux-gnu-cc\n",
      "ERROR: activate-gcc_linux-64.sh failed, see above for details\n"
     ]
    },
    {
     "name": "stderr",
     "output_type": "stream",
     "text": [
      "[M::bwa_idx_load_from_disk] read 0 ALT contigs\n",
      "[M::process] read 53589 sequences (3803707 bp)...\n",
      "[M::mem_process_seqs] Processed 53589 reads in 3.906 CPU sec, 3.919 real sec\n",
      "[main] Version: 0.7.17-r1188\n",
      "[main] CMD: bwa mem ../references/apal_and_sym.fa /storage/group/ibb3/default/convert_snpchip_coords/probes.fasta\n",
      "[main] Real time: 14.115 sec; CPU: 7.960 sec\n"
     ]
    }
   ],
   "source": [
    "%%bash\n",
    "source ~/.bashrc\n",
    "conda activate ipyrad\n",
    "bwa mem \\\n",
    "    ../references/apal_and_sym.fa \\\n",
    "    /storage/group/ibb3/default/convert_snpchip_coords/probes.fasta \\\n",
    "    > ../probes_aln_apal.sam"
   ]
  },
  {
   "cell_type": "code",
   "execution_count": 181,
   "id": "fceeaded",
   "metadata": {},
   "outputs": [
    {
     "name": "stdout",
     "output_type": "stream",
     "text": [
      "ERROR: This cross-compiler package contains no program /storage/group/ibb3/default/.conda/envs/ipyrad/bin/x86_64-conda_cos6-linux-gnu-cc\n",
      "ERROR: activate-gcc_linux-64.sh failed, see above for details\n"
     ]
    },
    {
     "name": "stderr",
     "output_type": "stream",
     "text": [
      "\n",
      "sambamba 0.7.1\n",
      " by Artem Tarasov and Pjotr Prins (C) 2012-2019\n",
      "    LDC 1.20.0 / DMD v2.090.1 / LLVM7.0.0 / bootstrap LDC - the LLVM D compiler (0.17.6)\n",
      "\n",
      "\n",
      "sambamba 0.7.1\n",
      " by Artem Tarasov and Pjotr Prins (C) 2012-2019\n",
      "    LDC 1.20.0 / DMD v2.090.1 / LLVM7.0.0 / bootstrap LDC - the LLVM D compiler (0.17.6)\n",
      "\n"
     ]
    }
   ],
   "source": [
    "%%bash\n",
    "source ~/.bashrc\n",
    "conda activate ipyrad\n",
    "sambamba view -S -F \"not unmapped and not secondary_alignment and not supplementary and not reverse_strand\" \\\n",
    "    ../probes_aln_apal.sam > ../probes_aln_apal_fw_strand.sam\n",
    "sambamba view -S -F \"not unmapped and not secondary_alignment and not supplementary and reverse_strand\" \\\n",
    "    ../probes_aln_apal.sam > ../probes_aln_apal_rv_strand.sam"
   ]
  },
  {
   "cell_type": "code",
   "execution_count": 73,
   "id": "d26895e7",
   "metadata": {},
   "outputs": [],
   "source": [
    "%%bash\n",
    "cut -f1,3,4,5,6,10,12 ../probes_aln_apal.sam \\\n",
    "    > ../probes_aln_apal.tab"
   ]
  },
  {
   "cell_type": "code",
   "execution_count": 184,
   "id": "56c35495",
   "metadata": {},
   "outputs": [],
   "source": [
    "%%bash\n",
    "cut -f1,3,4,5,6,10,12 ../probes_aln_apal_fw_strand.sam \\\n",
    "    > ../probes_aln_apal_fw.tab\n",
    "cut -f1,3,4,5,6,10,12 ../probes_aln_apal_rv_strand.sam \\\n",
    "    > ../probes_aln_apal_rv.tab"
   ]
  },
  {
   "cell_type": "code",
   "execution_count": 82,
   "id": "43a58e2d",
   "metadata": {},
   "outputs": [],
   "source": [
    "probes = pd.read_csv(\"../probes_aln_apal.tab\", \n",
    "                     comment = \"@\", sep = \"\\t\", \n",
    "                     names = [\"probe\", \"contig\", \"start\", \"mapq\", \"cigar\", \"seq\", \"mismatch\"])"
   ]
  },
  {
   "cell_type": "code",
   "execution_count": 83,
   "id": "c3e7f7b5",
   "metadata": {},
   "outputs": [
    {
     "name": "stderr",
     "output_type": "stream",
     "text": [
      "/tmp/ipykernel_17993/3945460045.py:5: SettingWithCopyWarning: \n",
      "A value is trying to be set on a copy of a slice from a DataFrame\n",
      "\n",
      "See the caveats in the documentation: https://pandas.pydata.org/pandas-docs/stable/user_guide/indexing.html#returning-a-view-versus-a-copy\n",
      "  probes[\"npos\"][i] = probes[\"seq\"][i].find(\"N\")\n"
     ]
    }
   ],
   "source": [
    "probes = probes[~probes[\"cigar\"].str.contains(\"H\")].reset_index(drop=True)\n",
    "probes = probes[probes[\"mapq\"] > 20].reset_index(drop=True)\n",
    "probes[\"npos\"] = np.nan\n",
    "for i in range(len(probes)):\n",
    "    probes[\"npos\"][i] = probes[\"seq\"][i].find(\"N\")"
   ]
  },
  {
   "cell_type": "code",
   "execution_count": 84,
   "id": "c0bb1cab",
   "metadata": {},
   "outputs": [],
   "source": [
    "probes[\"new_snp_pos\"] = np.nan"
   ]
  },
  {
   "cell_type": "code",
   "execution_count": 85,
   "id": "210e9b63",
   "metadata": {},
   "outputs": [],
   "source": [
    "probes.loc[~probes[\"cigar\"].str.contains(\"I|D\"), \"new_snp_pos\"] = probes[\"npos\"]"
   ]
  },
  {
   "cell_type": "code",
   "execution_count": 90,
   "id": "0c6e7e9f",
   "metadata": {},
   "outputs": [],
   "source": [
    "probes[\"new_snp_pos\"] = probes[\"start\"] + probes[\"npos\"]"
   ]
  },
  {
   "cell_type": "markdown",
   "id": "4ee53d43",
   "metadata": {},
   "source": [
    "for i in range(len(probes)):\n",
    "    cigar = re.findall('(\\d+)?([A-Za-z])', probes[\"cigar\"][i])\n",
    "    length = len(cigar)\n",
    "    if (length < 4) and (length > 2):\n",
    "        if ( cigar[0][1] == \"S\" ) and ( cigar[1][1] == \"M\" ) and ( cigar[2][1] == \"S\" ):\n",
    "            print\n",
    "        elif ( cigar[0][1] == \"M\" ) and ( cigar[2][1] == \"M\" ):\n",
    "            if int(cigar[0][0]) > probes[\"seq\"][i].find(\"N\"):\n",
    "                probes[\"new_snp_pos\"][i] = probes[\"seq\"][i].find(\"N\")\n",
    "            elif int(cigar[0][0]) < probes[\"seq\"][i].find(\"N\"):\n",
    "                if cigar[1][1] == \"I\":\n",
    "                    if (int(cigar[0][0]) + int(cigar[1][0])) > probes[\"npos\"][i]:\n",
    "                        pass\n",
    "                    else:\n",
    "                        probes[\"new_snp_pos\"][i] = probes[\"seq\"][i].find(\"N\") + int(cigar[1][0])\n",
    "                elif cigar[1][1] == \"D\":\n",
    "                    if (int(cigar[0][0]) + int(cigar[1][0])) > probes[\"npos\"][i]:\n",
    "                        pass\n",
    "                    else:\n",
    "                        probes[\"new_snp_pos\"][i] = probes[\"seq\"][i].find(\"N\") - int(cigar[1][0])\n",
    "    if (length > 3):\n",
    "        if ( cigar[0][1] == \"S\" ) and ( cigar[1][1] == \"M\" ):\n",
    "            if (int(cigar[0][0]) + int(cigar[1][0])) >= probes[\"seq\"][i].find(\"N\"):\n",
    "                probes[\"new_snp_pos\"][i] = probes[\"seq\"][i].find(\"N\")\n",
    "    if ( cigar[0][1] == \"M\" ) and ( int(cigar[0][0]) >= probes[\"seq\"][i].find(\"N\") ):\n",
    "        probes[\"new_snp_pos\"][i] = probes[\"seq\"][i].find(\"N\")"
   ]
  },
  {
   "cell_type": "code",
   "execution_count": 92,
   "id": "46690339",
   "metadata": {},
   "outputs": [],
   "source": [
    "probes = probes[probes[\"new_snp_pos\"].notna()].reset_index(drop=True)\n",
    "probes[\"new_snp_pos\"] = probes[\"new_snp_pos\"].astype(int)"
   ]
  },
  {
   "cell_type": "code",
   "execution_count": 93,
   "id": "f3aaf417",
   "metadata": {},
   "outputs": [],
   "source": [
    "!rm ../probes_in_apal.txt"
   ]
  },
  {
   "cell_type": "code",
   "execution_count": 94,
   "id": "ee20465c",
   "metadata": {},
   "outputs": [],
   "source": [
    "file = open('../probes_in_apal.txt','w')\n",
    "for item in probes[\"probe\"].tolist():\n",
    "    file.write(item+\"\\n\")\n",
    "file.close()"
   ]
  },
  {
   "cell_type": "code",
   "execution_count": 95,
   "id": "96807707",
   "metadata": {},
   "outputs": [
    {
     "name": "stdout",
     "output_type": "stream",
     "text": [
      "ERROR: This cross-compiler package contains no program /storage/group/ibb3/default/.conda/envs/ipyrad/bin/x86_64-conda_cos6-linux-gnu-cc\n",
      "ERROR: activate-gcc_linux-64.sh failed, see above for details\n"
     ]
    },
    {
     "name": "stderr",
     "output_type": "stream",
     "text": [
      "\n",
      "VCFtools - 0.1.16\n",
      "(C) Adam Auton and Anthony Marcketta 2009\n",
      "\n",
      "Parameters as interpreted:\n",
      "\t--vcf ../snpchip.vcf\n",
      "\t--out ../snpchip_conserved_probes\n",
      "\t--recode\n",
      "\t--snps ../probes_in_apal.txt\n",
      "\n",
      "Warning: Expected at least 2 parts in INFO entry: ID=PR,Number=0,Type=Flag,Description=\"Provisional reference allele, may not be based on real reference genome\">\n",
      "After filtering, kept 2077 out of 2077 Individuals\n",
      "Outputting VCF file...\n",
      "After filtering, kept 39463 out of a possible 53589 Sites\n",
      "Run Time = 328.00 seconds\n"
     ]
    }
   ],
   "source": [
    "%%bash\n",
    "source ~/.bashrc\n",
    "conda activate ipyrad\n",
    "vcftools --vcf ../snpchip.vcf \\\n",
    "    --snps ../probes_in_apal.txt \\\n",
    "    --recode --out ../snpchip_conserved_probes"
   ]
  },
  {
   "cell_type": "code",
   "execution_count": 130,
   "id": "d6fef729",
   "metadata": {},
   "outputs": [],
   "source": [
    "reformat = probes[[\"contig\", \"new_snp_pos\", \"probe\"]]\n",
    "reformat.columns = [\"contig\", \"start\", \"ID\"]\n",
    "reformat = reformat.drop_duplicates([\"contig\", \"start\"]).reset_index(drop=True)"
   ]
  },
  {
   "cell_type": "code",
   "execution_count": 131,
   "id": "c6354a39",
   "metadata": {},
   "outputs": [],
   "source": [
    "tmp = pd.read_csv(\"../original_coords_apal.tab\", sep = \"\\t\")\n",
    "tmp = tmp.merge(reformat, how = \"left\", on = \"ID\")\n",
    "tmp.columns = [0, 1, 2, \"contig\", \"start\"]"
   ]
  },
  {
   "cell_type": "code",
   "execution_count": 134,
   "id": "b70cffad",
   "metadata": {},
   "outputs": [
    {
     "name": "stderr",
     "output_type": "stream",
     "text": [
      "/tmp/ipykernel_17993/1794811467.py:1: UserWarning: Boolean Series key will be reindexed to match DataFrame index.\n",
      "  tmp = tmp[~tmp[\"contig\"].isna()][~tmp[\"start\"].isna()].reset_index(drop=True)\n"
     ]
    }
   ],
   "source": [
    "tmp = tmp[~tmp[\"contig\"].isna()][~tmp[\"start\"].isna()].reset_index(drop=True)"
   ]
  },
  {
   "cell_type": "code",
   "execution_count": 192,
   "id": "bb40ef45",
   "metadata": {},
   "outputs": [],
   "source": [
    "conserved = pd.read_csv(\"../snpchip_conserved_probes.recode.vcf\", sep = \"\\t\", comment = \"#\", header = None)"
   ]
  },
  {
   "cell_type": "code",
   "execution_count": 193,
   "id": "8e10f2e3",
   "metadata": {},
   "outputs": [],
   "source": [
    "conserved = conserved.merge(tmp, how = \"left\", on = [0,1,2])"
   ]
  },
  {
   "cell_type": "code",
   "execution_count": 194,
   "id": "c209569a",
   "metadata": {},
   "outputs": [
    {
     "name": "stderr",
     "output_type": "stream",
     "text": [
      "/tmp/ipykernel_17993/530618696.py:1: UserWarning: Boolean Series key will be reindexed to match DataFrame index.\n",
      "  conserved = conserved[~conserved[\"contig\"].isna()][~conserved[\"start\"].isna()].reset_index(drop=True)\n"
     ]
    }
   ],
   "source": [
    "conserved = conserved[~conserved[\"contig\"].isna()][~conserved[\"start\"].isna()].reset_index(drop=True)"
   ]
  },
  {
   "cell_type": "code",
   "execution_count": 196,
   "id": "e89ded68",
   "metadata": {},
   "outputs": [],
   "source": [
    "conserved = conserved[[\"contig\", \"start\"] + conserved.columns.tolist()[2:2086]]"
   ]
  },
  {
   "cell_type": "code",
   "execution_count": 198,
   "id": "60ede2c3",
   "metadata": {},
   "outputs": [],
   "source": [
    "%%bash\n",
    "grep \"^#\" ../snpchip_conserved_probes.recode.vcf \\\n",
    "    > ../snpchip_conserved_probes.remapped.vcf"
   ]
  },
  {
   "cell_type": "code",
   "execution_count": 199,
   "id": "d48a1eb3",
   "metadata": {},
   "outputs": [],
   "source": [
    "conserved.set_index(\"contig\").to_csv(\"../snpchip_conserved_probes.remapped.vcf\", \n",
    "                        mode=\"a\", header=False, sep = \"\\t\")"
   ]
  },
  {
   "cell_type": "code",
   "execution_count": 200,
   "id": "e616c1d7",
   "metadata": {},
   "outputs": [],
   "source": [
    "vcf = pd.read_csv(\"../snpchip_conserved_probes.remapped.vcf\", sep = \"\\t\", comment = \"#\", header = None)\n",
    "vcf[1] = vcf[1].astype(int)"
   ]
  },
  {
   "cell_type": "code",
   "execution_count": 201,
   "id": "ca0560aa",
   "metadata": {},
   "outputs": [],
   "source": [
    "vcf_original_columns = vcf.columns.tolist()"
   ]
  },
  {
   "cell_type": "code",
   "execution_count": 202,
   "id": "08a9c2d3",
   "metadata": {},
   "outputs": [],
   "source": [
    "vcf = vcf[vcf[0].notna()].reset_index(drop=True)"
   ]
  },
  {
   "cell_type": "code",
   "execution_count": 203,
   "id": "ef149b09",
   "metadata": {},
   "outputs": [],
   "source": [
    "vcf[\"true_ref\"] = np.nan"
   ]
  },
  {
   "cell_type": "code",
   "execution_count": 204,
   "id": "7ff679ae",
   "metadata": {},
   "outputs": [],
   "source": [
    "from Bio import SeqIO"
   ]
  },
  {
   "cell_type": "code",
   "execution_count": 205,
   "id": "3267501a",
   "metadata": {},
   "outputs": [],
   "source": [
    "SeqDict = SeqIO.to_dict(SeqIO.parse(\"../references/apal_and_sym.fa\", \"fasta\"))"
   ]
  },
  {
   "cell_type": "code",
   "execution_count": 206,
   "id": "5657eb7f",
   "metadata": {},
   "outputs": [
    {
     "name": "stderr",
     "output_type": "stream",
     "text": [
      "/tmp/ipykernel_17993/3329947683.py:2: SettingWithCopyWarning: \n",
      "A value is trying to be set on a copy of a slice from a DataFrame\n",
      "\n",
      "See the caveats in the documentation: https://pandas.pydata.org/pandas-docs/stable/user_guide/indexing.html#returning-a-view-versus-a-copy\n",
      "  vcf[\"true_ref\"][i] = SeqDict[vcf[0][i]].seq[vcf[1][i] - 1]\n"
     ]
    }
   ],
   "source": [
    "for i in range(len(vcf)):\n",
    "    vcf[\"true_ref\"][i] = SeqDict[vcf[0][i]].seq[vcf[1][i] - 1]\n",
    "vcf[\"true_ref\"] = vcf[\"true_ref\"].str.upper()"
   ]
  },
  {
   "cell_type": "code",
   "execution_count": 207,
   "id": "9b644df1",
   "metadata": {},
   "outputs": [],
   "source": [
    "rvs = pd.read_csv(\"../probes_aln_apal_rv.tab\", comment = \"@\", sep = \"\\t\", \n",
    "                     names = [\"probe\", \"contig\", \"start\", \"mapq\", \"cigar\", \"seq\", \"mismatch\"])"
   ]
  },
  {
   "cell_type": "code",
   "execution_count": 208,
   "id": "63336d55",
   "metadata": {},
   "outputs": [],
   "source": [
    "rvstrand = vcf.loc[vcf[2].isin(rvs[\"probe\"].tolist())].reset_index(drop=True)\n",
    "fwstrand = vcf.loc[~vcf[2].isin(rvs[\"probe\"].tolist())].reset_index(drop=True)"
   ]
  },
  {
   "cell_type": "code",
   "execution_count": 212,
   "id": "09c5b1b6",
   "metadata": {},
   "outputs": [],
   "source": [
    "for cols in [3, 4]:\n",
    "    rvstrand[cols] = rvstrand[cols].replace({ 'T' : 'A', 'A' : 'T', 'C' : 'G', 'G' : 'C' }, regex=True)"
   ]
  },
  {
   "cell_type": "code",
   "execution_count": 213,
   "id": "740e8faf",
   "metadata": {},
   "outputs": [],
   "source": [
    "vcf = pd.concat([fwstrand, rvstrand]).reset_index(drop=True)"
   ]
  },
  {
   "cell_type": "code",
   "execution_count": 217,
   "id": "697cacb5",
   "metadata": {},
   "outputs": [],
   "source": [
    "vcf = vcf.loc[(vcf[\"true_ref\"] == vcf[4] ) | (vcf[\"true_ref\"] == vcf[3] )].reset_index(drop=True)"
   ]
  },
  {
   "cell_type": "code",
   "execution_count": 219,
   "id": "3f9f334e",
   "metadata": {},
   "outputs": [],
   "source": [
    "vcf.update(vcf.loc[vcf[\"true_ref\"] != vcf[3]].replace({ '0/0' : '1/1', '1/1' : '0/0' }, regex=True))"
   ]
  },
  {
   "cell_type": "code",
   "execution_count": 220,
   "id": "068951c7",
   "metadata": {},
   "outputs": [],
   "source": [
    "vcf.loc[vcf[3] != vcf[\"true_ref\"], 4] = vcf[3]\n",
    "vcf.loc[vcf[3] != vcf[\"true_ref\"], 3] = vcf[\"true_ref\"]"
   ]
  },
  {
   "cell_type": "code",
   "execution_count": 222,
   "id": "5542b4ce",
   "metadata": {},
   "outputs": [],
   "source": [
    "bed = pd.read_csv(\"../references/apal_and_sym.bed\", sep = \"\\t\", header = None)\n",
    "bed = bed.reset_index(drop=False)"
   ]
  },
  {
   "cell_type": "code",
   "execution_count": 225,
   "id": "b2c86ed6",
   "metadata": {
    "scrolled": true
   },
   "outputs": [],
   "source": [
    "vcf = vcf.merge(bed[[\"index\", 0]], how = \"left\", on = 0).sort_values([\"index\", 1]).reset_index(drop=True)\n",
    "vcf = vcf[vcf_original_columns]\n",
    "vcf[1] = vcf[1].astype(int)"
   ]
  },
  {
   "cell_type": "code",
   "execution_count": 227,
   "id": "89bad890",
   "metadata": {},
   "outputs": [],
   "source": [
    "%%bash\n",
    "grep \"^#\" ../snpchip_conserved_probes.recode.vcf \\\n",
    "    > ../apal_coords_snpchip_conserved_probes.recode.vcf"
   ]
  },
  {
   "cell_type": "code",
   "execution_count": 228,
   "id": "aee64023",
   "metadata": {},
   "outputs": [],
   "source": [
    "vcf.set_index(0).to_csv(\"../apal_coords_snpchip_conserved_probes.recode.vcf\", \n",
    "                        mode=\"a\", header=False, sep = \"\\t\")"
   ]
  },
  {
   "cell_type": "code",
   "execution_count": 229,
   "id": "f35352ab",
   "metadata": {},
   "outputs": [
    {
     "name": "stdout",
     "output_type": "stream",
     "text": [
      "19622\r\n"
     ]
    }
   ],
   "source": [
    "!grep -v \"^#\" ../apal_coords_snpchip_conserved_probes.recode.vcf | wc -l"
   ]
  },
  {
   "cell_type": "markdown",
   "id": "3c415da0",
   "metadata": {},
   "source": [
    "#### With all that, we now have a lifted over VCF where the microarray data uses Apal coords and Apal REF/ALT alleles. Now we can proceed with imputation and with evaluation of microarray vs microarray imputed vs \"truth\" (seq data):"
   ]
  },
  {
   "cell_type": "code",
   "execution_count": 230,
   "id": "dd1386be",
   "metadata": {},
   "outputs": [
    {
     "name": "stdout",
     "output_type": "stream",
     "text": [
      "ERROR: This cross-compiler package contains no program /storage/group/ibb3/default/.conda/envs/ipyrad/bin/x86_64-conda_cos6-linux-gnu-cc\n",
      "ERROR: activate-gcc_linux-64.sh failed, see above for details\n"
     ]
    }
   ],
   "source": [
    "%%bash\n",
    "source ~/.bashrc\n",
    "conda activate ipyrad\n",
    "bgzip ../apal_coords_snpchip_conserved_probes.recode.vcf\n",
    "tabix ../apal_coords_snpchip_conserved_probes.recode.vcf.gz"
   ]
  },
  {
   "cell_type": "code",
   "execution_count": 235,
   "id": "8542ddb8",
   "metadata": {},
   "outputs": [
    {
     "name": "stdout",
     "output_type": "stream",
     "text": [
      "ERROR: This cross-compiler package contains no program /storage/group/ibb3/default/.conda/envs/ipyrad/bin/x86_64-conda_cos6-linux-gnu-cc\n",
      "ERROR: activate-gcc_linux-64.sh failed, see above for details\n"
     ]
    }
   ],
   "source": [
    "%%bash\n",
    "source ~/.bashrc\n",
    "conda activate ipyrad\n",
    "bcftools merge ../apal_coords_snpchip_conserved_probes.recode.vcf.gz \\\n",
    "    apal_imputation_panel_hifi_illumina.vcf.gz \\\n",
    "    --threads 8 \\\n",
    "    -O z > ~/scratch/apal_sr_and_microarray_joined.vcf.gz\n",
    "tabix ~/scratch/apal_sr_and_microarray_joined.vcf.gz"
   ]
  },
  {
   "cell_type": "code",
   "execution_count": 36,
   "id": "8aacf7e5",
   "metadata": {},
   "outputs": [],
   "source": [
    "!zcat ../apal_coords_snpchip_conserved_probes.recode.vcf.gz | grep -v \"^#\" | cut -f1-2 > ../microarray_positions.tsv"
   ]
  },
  {
   "cell_type": "markdown",
   "id": "e999756c",
   "metadata": {},
   "source": [
    "Since we've joined the microarray data with the WGS data, we can use microarray-specific SNPs to determine relatedness. In unpublished and published materials, it's been shown that the KING-robust values are well calibrated with true levels of relatedness in the SNPs designed on the coral-algae Axiom array. Here we'll do just that and exclude clones, parent-offspring, and parent-sibling relationships by preserving only one individual in the family groups:"
   ]
  },
  {
   "cell_type": "code",
   "execution_count": 9,
   "id": "a67556cb",
   "metadata": {},
   "outputs": [
    {
     "name": "stdout",
     "output_type": "stream",
     "text": [
      "ERROR: This cross-compiler package contains no program /storage/group/ibb3/default/.conda/envs/ipyrad/bin/x86_64-conda_cos6-linux-gnu-cc\n",
      "ERROR: activate-gcc_linux-64.sh failed, see above for details\n"
     ]
    }
   ],
   "source": [
    "%%bash\n",
    "source ~/.bashrc\n",
    "conda activate ipyrad\n",
    "bcftools query -l ../calls/apal_imputation_panel_hifi_illumina.vcf.gz \\\n",
    "    > ./wgs_samples.txt"
   ]
  },
  {
   "cell_type": "code",
   "execution_count": 40,
   "id": "fc038355",
   "metadata": {},
   "outputs": [],
   "source": [
    "%%bash\n",
    "source ~/.bashrc\n",
    "conda activate beagle\n",
    "bcftools view --targets-file ../microarray_positions.tsv \\\n",
    "    ~/scratch/apal_sr_and_microarray_joined.vcf.gz \\\n",
    "    -O z > ~/scratch/kin_sr_microarray.vcf.gz"
   ]
  },
  {
   "cell_type": "code",
   "execution_count": 43,
   "id": "bb5fee46",
   "metadata": {},
   "outputs": [
    {
     "name": "stdout",
     "output_type": "stream",
     "text": [
      "ERROR: This cross-compiler package contains no program /storage/group/ibb3/default/.conda/envs/ipyrad/bin/x86_64-conda_cos6-linux-gnu-cc\n",
      "ERROR: activate-gcc_linux-64.sh failed, see above for details\n",
      "PLINK v2.00a2.3LM 64-bit Intel (24 Jan 2020)   www.cog-genomics.org/plink/2.0/\n",
      "(C) 2005-2020 Shaun Purcell, Christopher Chang   GNU General Public License v3\n",
      "Logging to /storage/home/nsl5160/scratch/kin_sr_microarray.log.\n",
      "Options in effect:\n",
      "  --allow-extra-chr\n",
      "  --geno 0.9\n",
      "  --maf 0.1\n",
      "  --make-king-table\n",
      "  --out /storage/home/nsl5160/scratch/kin_sr_microarray\n",
      "  --threads 20\n",
      "  --vcf /storage/home/nsl5160/scratch/kin_sr_microarray.vcf.gz\n",
      "\n",
      "Start time: Wed Jan 24 18:08:33 2024\n",
      "257826 MiB RAM detected; reserving 128913 MiB for main workspace.\n",
      "Using up to 20 threads (change this with --threads).\n",
      "--vcf: 19723 variants scanned.\n",
      "--vcf: /storage/home/nsl5160/scratch/kin_sr_microarray-temporary.pgen +\n",
      "/storage/home/nsl5160/scratch/kin_sr_microarray-temporary.pvar +\n",
      "/storage/home/nsl5160/scratch/kin_sr_microarray-temporary.psam written.\n",
      "2259 samples (0 females, 0 males, 2259 ambiguous; 2259 founders) loaded from\n",
      "/storage/home/nsl5160/scratch/kin_sr_microarray-temporary.psam.\n",
      "19723 variants loaded from\n",
      "/storage/home/nsl5160/scratch/kin_sr_microarray-temporary.pvar.\n",
      "Note: No phenotype data present.\n",
      "Calculating allele frequencies... done.\n",
      "--geno: 101 variants removed due to missing genotype data.\n",
      "1543 variants removed due to allele frequency threshold(s)\n",
      "(--maf/--max-maf/--mac/--max-mac).\n",
      "18079 variants remaining after main filters.\n",
      "--make-king-table pass 1/1: Scanning for rare variants... done.\n",
      "0 variants handled by initial scan (18079 remaining).\n",
      "--make-king-table pass 1/1: Writing...                   done.\n",
      "--make-king-table: 18079 variants processed.\n",
      "Results written to /storage/home/nsl5160/scratch/kin_sr_microarray.kin0 .\n",
      "End time: Wed Jan 24 18:08:39 2024\n"
     ]
    }
   ],
   "source": [
    "%%bash\n",
    "source ~/.bashrc\n",
    "conda activate ipyrad\n",
    "plink2 --vcf ~/scratch/kin_sr_microarray.vcf.gz \\\n",
    "    --threads 20 \\\n",
    "    --maf 0.1 \\\n",
    "    --allow-extra-chr \\\n",
    "    --geno 0.9 \\\n",
    "    --make-king-table --out ~/scratch/kin_sr_microarray"
   ]
  },
  {
   "cell_type": "code",
   "execution_count": 99,
   "id": "b0c792d0",
   "metadata": {
    "scrolled": true
   },
   "outputs": [
    {
     "name": "stdout",
     "output_type": "stream",
     "text": [
      "ERROR: This cross-compiler package contains no program /storage/group/ibb3/default/.conda/envs/ipyrad/bin/x86_64-conda_cos6-linux-gnu-cc\n",
      "ERROR: activate-gcc_linux-64.sh failed, see above for details\n",
      "PLINK v2.00a2.3LM 64-bit Intel (24 Jan 2020)   www.cog-genomics.org/plink/2.0/\n",
      "(C) 2005-2020 Shaun Purcell, Christopher Chang   GNU General Public License v3\n",
      "Logging to /storage/home/nsl5160/scratch/kin_sr_only_wgs.log.\n",
      "Options in effect:\n",
      "  --allow-extra-chr\n",
      "  --geno 0.9\n",
      "  --keep ./wgs_samples.txt\n",
      "  --maf 0.1\n",
      "  --make-king-table\n",
      "  --out /storage/home/nsl5160/scratch/kin_sr_only_wgs\n",
      "  --threads 20\n",
      "  --vcf /storage/home/nsl5160/scratch/kin_sr_microarray.vcf.gz\n",
      "\n",
      "Start time: Wed Jan 24 19:07:42 2024\n",
      "257826 MiB RAM detected; reserving 128913 MiB for main workspace.\n",
      "Using up to 20 threads (change this with --threads).\n",
      "--vcf: 19723 variants scanned.\n",
      "--vcf: /storage/home/nsl5160/scratch/kin_sr_only_wgs-temporary.pgen +\n",
      "/storage/home/nsl5160/scratch/kin_sr_only_wgs-temporary.pvar +\n",
      "/storage/home/nsl5160/scratch/kin_sr_only_wgs-temporary.psam written.\n",
      "2259 samples (0 females, 0 males, 2259 ambiguous; 2259 founders) loaded from\n",
      "/storage/home/nsl5160/scratch/kin_sr_only_wgs-temporary.psam.\n",
      "19723 variants loaded from\n",
      "/storage/home/nsl5160/scratch/kin_sr_only_wgs-temporary.pvar.\n",
      "Note: No phenotype data present.\n",
      "--keep: 182 samples remaining.\n",
      "182 samples (0 females, 0 males, 182 ambiguous; 182 founders) remaining after\n",
      "main filters.\n",
      "Calculating allele frequencies... done.\n",
      "--geno: 9791 variants removed due to missing genotype data.\n",
      "3889 variants removed due to allele frequency threshold(s)\n",
      "(--maf/--max-maf/--mac/--max-mac).\n",
      "6043 variants remaining after main filters.\n",
      "--make-king-table pass 1/1: Scanning for rare variants... done.\n",
      "0 variants handled by initial scan (6043 remaining).\n",
      "--make-king-table pass 1/1: Writing...                   done.\n",
      "--make-king-table: 6043 variants processed.\n",
      "Results written to /storage/home/nsl5160/scratch/kin_sr_only_wgs.kin0 .\n",
      "End time: Wed Jan 24 19:07:49 2024\n",
      "PLINK v2.00a2.3LM 64-bit Intel (24 Jan 2020)   www.cog-genomics.org/plink/2.0/\n",
      "(C) 2005-2020 Shaun Purcell, Christopher Chang   GNU General Public License v3\n",
      "Logging to /storage/home/nsl5160/scratch/kin_sr_only_wgs_0.3536.log.\n",
      "Options in effect:\n",
      "  --allow-extra-chr\n",
      "  --geno 0.9\n",
      "  --keep ./wgs_samples.txt\n",
      "  --king-cutoff 0.3536\n",
      "  --maf 0.1\n",
      "  --out /storage/home/nsl5160/scratch/kin_sr_only_wgs_0.3536\n",
      "  --threads 20\n",
      "  --vcf /storage/home/nsl5160/scratch/kin_sr_microarray.vcf.gz\n",
      "\n",
      "Start time: Wed Jan 24 19:07:49 2024\n",
      "257826 MiB RAM detected; reserving 128913 MiB for main workspace.\n",
      "Using up to 20 threads (change this with --threads).\n",
      "--vcf: 19723 variants scanned.\n",
      "--vcf: /storage/home/nsl5160/scratch/kin_sr_only_wgs_0.3536-temporary.pgen +\n",
      "/storage/home/nsl5160/scratch/kin_sr_only_wgs_0.3536-temporary.pvar +\n",
      "/storage/home/nsl5160/scratch/kin_sr_only_wgs_0.3536-temporary.psam written.\n",
      "2259 samples (0 females, 0 males, 2259 ambiguous; 2259 founders) loaded from\n",
      "/storage/home/nsl5160/scratch/kin_sr_only_wgs_0.3536-temporary.psam.\n",
      "19723 variants loaded from\n",
      "/storage/home/nsl5160/scratch/kin_sr_only_wgs_0.3536-temporary.pvar.\n",
      "Note: No phenotype data present.\n",
      "--keep: 182 samples remaining.\n",
      "182 samples (0 females, 0 males, 182 ambiguous; 182 founders) remaining after\n",
      "main filters.\n",
      "Calculating allele frequencies... done.\n",
      "--geno: 9791 variants removed due to missing genotype data.\n",
      "3889 variants removed due to allele frequency threshold(s)\n",
      "(--maf/--max-maf/--mac/--max-mac).\n",
      "6043 variants remaining after main filters.\n",
      "--king-cutoff pass 1/1: Scanning for rare variants... done.\n",
      "0 variants handled by initial scan (6043 remaining).\n",
      "--king-cutoff pass 1/1: Condensing...               done.\n",
      "--king-cutoff: 6043 variants processed.\n",
      "--king-cutoff: Excluded sample IDs written to\n",
      "/storage/home/nsl5160/scratch/kin_sr_only_wgs_0.3536.king.cutoff.out.id , and\n",
      "162 remaining sample IDs written to\n",
      "/storage/home/nsl5160/scratch/kin_sr_only_wgs_0.3536.king.cutoff.in.id .\n",
      "End time: Wed Jan 24 19:07:55 2024\n",
      "PLINK v2.00a2.3LM 64-bit Intel (24 Jan 2020)   www.cog-genomics.org/plink/2.0/\n",
      "(C) 2005-2020 Shaun Purcell, Christopher Chang   GNU General Public License v3\n",
      "Logging to /storage/home/nsl5160/scratch/kin_sr_only_wgs_0.1768.log.\n",
      "Options in effect:\n",
      "  --allow-extra-chr\n",
      "  --geno 0.9\n",
      "  --keep ./wgs_samples.txt\n",
      "  --king-cutoff 0.1768\n",
      "  --maf 0.1\n",
      "  --out /storage/home/nsl5160/scratch/kin_sr_only_wgs_0.1768\n",
      "  --threads 20\n",
      "  --vcf /storage/home/nsl5160/scratch/kin_sr_microarray.vcf.gz\n",
      "\n",
      "Start time: Wed Jan 24 19:07:55 2024\n",
      "257826 MiB RAM detected; reserving 128913 MiB for main workspace.\n",
      "Using up to 20 threads (change this with --threads).\n",
      "--vcf: 19723 variants scanned.\n",
      "--vcf: /storage/home/nsl5160/scratch/kin_sr_only_wgs_0.1768-temporary.pgen +\n",
      "/storage/home/nsl5160/scratch/kin_sr_only_wgs_0.1768-temporary.pvar +\n",
      "/storage/home/nsl5160/scratch/kin_sr_only_wgs_0.1768-temporary.psam written.\n",
      "2259 samples (0 females, 0 males, 2259 ambiguous; 2259 founders) loaded from\n",
      "/storage/home/nsl5160/scratch/kin_sr_only_wgs_0.1768-temporary.psam.\n",
      "19723 variants loaded from\n",
      "/storage/home/nsl5160/scratch/kin_sr_only_wgs_0.1768-temporary.pvar.\n",
      "Note: No phenotype data present.\n",
      "--keep: 182 samples remaining.\n",
      "182 samples (0 females, 0 males, 182 ambiguous; 182 founders) remaining after\n",
      "main filters.\n",
      "Calculating allele frequencies... done.\n",
      "--geno: 9791 variants removed due to missing genotype data.\n",
      "3889 variants removed due to allele frequency threshold(s)\n",
      "(--maf/--max-maf/--mac/--max-mac).\n",
      "6043 variants remaining after main filters.\n",
      "--king-cutoff pass 1/1: Scanning for rare variants... done.\n",
      "0 variants handled by initial scan (6043 remaining).\n",
      "--king-cutoff pass 1/1: Condensing...               done.\n",
      "--king-cutoff: 6043 variants processed.\n",
      "--king-cutoff: Excluded sample IDs written to\n",
      "/storage/home/nsl5160/scratch/kin_sr_only_wgs_0.1768.king.cutoff.out.id , and\n",
      "146 remaining sample IDs written to\n",
      "/storage/home/nsl5160/scratch/kin_sr_only_wgs_0.1768.king.cutoff.in.id .\n",
      "End time: Wed Jan 24 19:08:02 2024\n",
      "PLINK v2.00a2.3LM 64-bit Intel (24 Jan 2020)   www.cog-genomics.org/plink/2.0/\n",
      "(C) 2005-2020 Shaun Purcell, Christopher Chang   GNU General Public License v3\n",
      "Logging to /storage/home/nsl5160/scratch/kin_sr_only_wgs_0.0884.log.\n",
      "Options in effect:\n",
      "  --allow-extra-chr\n",
      "  --geno 0.9\n",
      "  --keep ./wgs_samples.txt\n",
      "  --king-cutoff 0.0884\n",
      "  --maf 0.1\n",
      "  --out /storage/home/nsl5160/scratch/kin_sr_only_wgs_0.0884\n",
      "  --threads 20\n",
      "  --vcf /storage/home/nsl5160/scratch/kin_sr_microarray.vcf.gz\n",
      "\n",
      "Start time: Wed Jan 24 19:08:02 2024\n",
      "257826 MiB RAM detected; reserving 128913 MiB for main workspace.\n",
      "Using up to 20 threads (change this with --threads).\n",
      "--vcf: 19723 variants scanned.\n",
      "--vcf: /storage/home/nsl5160/scratch/kin_sr_only_wgs_0.0884-temporary.pgen +\n",
      "/storage/home/nsl5160/scratch/kin_sr_only_wgs_0.0884-temporary.pvar +\n",
      "/storage/home/nsl5160/scratch/kin_sr_only_wgs_0.0884-temporary.psam written.\n",
      "2259 samples (0 females, 0 males, 2259 ambiguous; 2259 founders) loaded from\n",
      "/storage/home/nsl5160/scratch/kin_sr_only_wgs_0.0884-temporary.psam.\n",
      "19723 variants loaded from\n",
      "/storage/home/nsl5160/scratch/kin_sr_only_wgs_0.0884-temporary.pvar.\n",
      "Note: No phenotype data present.\n",
      "--keep: 182 samples remaining.\n",
      "182 samples (0 females, 0 males, 182 ambiguous; 182 founders) remaining after\n",
      "main filters.\n",
      "Calculating allele frequencies... done.\n",
      "--geno: 9791 variants removed due to missing genotype data.\n",
      "3889 variants removed due to allele frequency threshold(s)\n",
      "(--maf/--max-maf/--mac/--max-mac).\n",
      "6043 variants remaining after main filters.\n",
      "--king-cutoff pass 1/1: Scanning for rare variants... done.\n",
      "0 variants handled by initial scan (6043 remaining).\n",
      "--king-cutoff pass 1/1: Condensing...               done.\n",
      "--king-cutoff: 6043 variants processed.\n",
      "--king-cutoff: Excluded sample IDs written to\n",
      "/storage/home/nsl5160/scratch/kin_sr_only_wgs_0.0884.king.cutoff.out.id , and\n",
      "130 remaining sample IDs written to\n",
      "/storage/home/nsl5160/scratch/kin_sr_only_wgs_0.0884.king.cutoff.in.id .\n",
      "End time: Wed Jan 24 19:08:09 2024\n"
     ]
    }
   ],
   "source": [
    "%%bash\n",
    "source ~/.bashrc\n",
    "conda activate ipyrad\n",
    "plink2 --vcf ~/scratch/kin_sr_microarray.vcf.gz \\\n",
    "    --threads 20 \\\n",
    "    --maf 0.1 \\\n",
    "    --allow-extra-chr \\\n",
    "    --geno 0.9 \\\n",
    "    --make-king-table \\\n",
    "    --keep ./wgs_samples.txt \\\n",
    "    --out ~/scratch/kin_sr_only_wgs\n",
    "\n",
    "plink2 --vcf ~/scratch/kin_sr_microarray.vcf.gz \\\n",
    "    --threads 20 \\\n",
    "    --maf 0.1 \\\n",
    "    --allow-extra-chr \\\n",
    "    --geno 0.9 \\\n",
    "    --king-cutoff 0.3536 \\\n",
    "    --keep ./wgs_samples.txt \\\n",
    "    --out ~/scratch/kin_sr_only_wgs_0.3536\n",
    "\n",
    "plink2 --vcf ~/scratch/kin_sr_microarray.vcf.gz \\\n",
    "    --threads 20 \\\n",
    "    --maf 0.1 \\\n",
    "    --allow-extra-chr \\\n",
    "    --geno 0.9 \\\n",
    "    --king-cutoff 0.1768 \\\n",
    "    --keep ./wgs_samples.txt \\\n",
    "    --out ~/scratch/kin_sr_only_wgs_0.1768\n",
    "    \n",
    "plink2 --vcf ~/scratch/kin_sr_microarray.vcf.gz \\\n",
    "    --threads 20 \\\n",
    "    --maf 0.1 \\\n",
    "    --allow-extra-chr \\\n",
    "    --geno 0.9 \\\n",
    "    --king-cutoff 0.0884 \\\n",
    "    --keep ./wgs_samples.txt \\\n",
    "    --out ~/scratch/kin_sr_only_wgs_0.0884"
   ]
  },
  {
   "cell_type": "code",
   "execution_count": 46,
   "id": "6840f2bd",
   "metadata": {},
   "outputs": [],
   "source": [
    "relatedness = pd.read_csv(\"/storage/home/nsl5160/scratch/kin_sr_only_wgs.kin0\", sep = \"\\t\")"
   ]
  },
  {
   "cell_type": "markdown",
   "id": "233a8237",
   "metadata": {},
   "source": [
    "Just to confirm, here's a plot of the KINSHIP values. We should see most values ~0 and then tiny peaks at 0.25 and 0.5 (siblings and clones, respectively). We have known clones and known siblings in the dataset so this is good confirmation of this all working:"
   ]
  },
  {
   "cell_type": "code",
   "execution_count": 58,
   "id": "5d7a1e3a",
   "metadata": {},
   "outputs": [
    {
     "name": "stderr",
     "output_type": "stream",
     "text": [
      "/tmp/ipykernel_4088209/1254866713.py:1: UserWarning: \n",
      "\n",
      "`distplot` is a deprecated function and will be removed in seaborn v0.14.0.\n",
      "\n",
      "Please adapt your code to use either `displot` (a figure-level function with\n",
      "similar flexibility) or `histplot` (an axes-level function for histograms).\n",
      "\n",
      "For a guide to updating your code to use the new functions, please see\n",
      "https://gist.github.com/mwaskom/de44147ed2974457ad6372750bbe5751\n",
      "\n",
      "  sns.distplot(relatedness[\"KINSHIP\"][relatedness[\"#ID1\"].isin(wgssamples[\"Sample\"])][relatedness[\"ID2\"].isin(wgssamples[\"Sample\"])])\n"
     ]
    },
    {
     "data": {
      "text/plain": [
       "<Axes: xlabel='KINSHIP', ylabel='Density'>"
      ]
     },
     "execution_count": 58,
     "metadata": {},
     "output_type": "execute_result"
    },
    {
     "data": {
      "image/png": "[encoded data removed]",
      "text/plain": [
       "<Figure size 640x480 with 1 Axes>"
      ]
     },
     "metadata": {},
     "output_type": "display_data"
    }
   ],
   "source": [
    "sns.distplot(relatedness[\"KINSHIP\"][relatedness[\"#ID1\"].isin(wgssamples[\"Sample\"])][relatedness[\"ID2\"].isin(wgssamples[\"Sample\"])])"
   ]
  }
 ],
 "metadata": {
  "kernelspec": {
   "display_name": "Masters Env",
   "language": "python",
   "name": "masters"
  },
  "language_info": {
   "codemirror_mode": {
    "name": "ipython",
    "version": 3
   },
   "file_extension": ".py",
   "mimetype": "text/x-python",
   "name": "python",
   "nbconvert_exporter": "python",
   "pygments_lexer": "ipython3",
   "version": "3.10.8"
  }
 },
 "nbformat": 4,
 "nbformat_minor": 5
}
